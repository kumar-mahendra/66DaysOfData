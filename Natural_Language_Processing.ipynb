{
  "nbformat": 4,
  "nbformat_minor": 0,
  "metadata": {
    "colab": {
      "name": "Natural_Language_Processing.ipynb",
      "provenance": [],
      "collapsed_sections": [
        "4jO0ExFcRNTL",
        "ITtFAgCKDyqI"
      ],
      "toc_visible": true,
      "mount_file_id": "1Q-EeoMKf4CYQD6m1FJv6ZGz0uMthBNG8",
      "authorship_tag": "ABX9TyPoRRdVJxvxqsViw9mFbVbP",
      "include_colab_link": true
    },
    "kernelspec": {
      "display_name": "Python 3",
      "name": "python3"
    },
    "widgets": {
      "application/vnd.jupyter.widget-state+json": {
        "83e823ad2cee4f7eb8213119ff8935cc": {
          "model_module": "@jupyter-widgets/controls",
          "model_name": "HBoxModel",
          "state": {
            "_view_name": "HBoxView",
            "_dom_classes": [],
            "_model_name": "HBoxModel",
            "_view_module": "@jupyter-widgets/controls",
            "_model_module_version": "1.5.0",
            "_view_count": null,
            "_view_module_version": "1.5.0",
            "box_style": "",
            "layout": "IPY_MODEL_6e3ef544cbac4792a54d306004a16437",
            "_model_module": "@jupyter-widgets/controls",
            "children": [
              "IPY_MODEL_1b57bd61bed943fdb6cea92b75d6bf70",
              "IPY_MODEL_8806163a62c84a289888e841e298ff31"
            ]
          }
        },
        "6e3ef544cbac4792a54d306004a16437": {
          "model_module": "@jupyter-widgets/base",
          "model_name": "LayoutModel",
          "state": {
            "_view_name": "LayoutView",
            "grid_template_rows": null,
            "right": null,
            "justify_content": null,
            "_view_module": "@jupyter-widgets/base",
            "overflow": null,
            "_model_module_version": "1.2.0",
            "_view_count": null,
            "flex_flow": null,
            "width": null,
            "min_width": null,
            "border": null,
            "align_items": null,
            "bottom": null,
            "_model_module": "@jupyter-widgets/base",
            "top": null,
            "grid_column": null,
            "overflow_y": null,
            "overflow_x": null,
            "grid_auto_flow": null,
            "grid_area": null,
            "grid_template_columns": null,
            "flex": null,
            "_model_name": "LayoutModel",
            "justify_items": null,
            "grid_row": null,
            "max_height": null,
            "align_content": null,
            "visibility": null,
            "align_self": null,
            "height": null,
            "min_height": null,
            "padding": null,
            "grid_auto_rows": null,
            "grid_gap": null,
            "max_width": null,
            "order": null,
            "_view_module_version": "1.2.0",
            "grid_template_areas": null,
            "object_position": null,
            "object_fit": null,
            "grid_auto_columns": null,
            "margin": null,
            "display": null,
            "left": null
          }
        },
        "1b57bd61bed943fdb6cea92b75d6bf70": {
          "model_module": "@jupyter-widgets/controls",
          "model_name": "FloatProgressModel",
          "state": {
            "_view_name": "ProgressView",
            "style": "IPY_MODEL_04e5ea0b563f4181ab98c15fdd9049c7",
            "_dom_classes": [],
            "description": "Dl Completed...: 100%",
            "_model_name": "FloatProgressModel",
            "bar_style": "success",
            "max": 1,
            "_view_module": "@jupyter-widgets/controls",
            "_model_module_version": "1.5.0",
            "value": 1,
            "_view_count": null,
            "_view_module_version": "1.5.0",
            "orientation": "horizontal",
            "min": 0,
            "description_tooltip": null,
            "_model_module": "@jupyter-widgets/controls",
            "layout": "IPY_MODEL_9362bbf6f37e4ada8bbe1a13850b0f1d"
          }
        },
        "8806163a62c84a289888e841e298ff31": {
          "model_module": "@jupyter-widgets/controls",
          "model_name": "HTMLModel",
          "state": {
            "_view_name": "HTMLView",
            "style": "IPY_MODEL_dff5566309e34e92b7501ad9b6daba72",
            "_dom_classes": [],
            "description": "",
            "_model_name": "HTMLModel",
            "placeholder": "​",
            "_view_module": "@jupyter-widgets/controls",
            "_model_module_version": "1.5.0",
            "value": " 1/1 [00:01&lt;00:00,  1.86s/ url]",
            "_view_count": null,
            "_view_module_version": "1.5.0",
            "description_tooltip": null,
            "_model_module": "@jupyter-widgets/controls",
            "layout": "IPY_MODEL_b12ad8cf046f430687d8ee41bf64e5f1"
          }
        },
        "04e5ea0b563f4181ab98c15fdd9049c7": {
          "model_module": "@jupyter-widgets/controls",
          "model_name": "ProgressStyleModel",
          "state": {
            "_view_name": "StyleView",
            "_model_name": "ProgressStyleModel",
            "description_width": "initial",
            "_view_module": "@jupyter-widgets/base",
            "_model_module_version": "1.5.0",
            "_view_count": null,
            "_view_module_version": "1.2.0",
            "bar_color": null,
            "_model_module": "@jupyter-widgets/controls"
          }
        },
        "9362bbf6f37e4ada8bbe1a13850b0f1d": {
          "model_module": "@jupyter-widgets/base",
          "model_name": "LayoutModel",
          "state": {
            "_view_name": "LayoutView",
            "grid_template_rows": null,
            "right": null,
            "justify_content": null,
            "_view_module": "@jupyter-widgets/base",
            "overflow": null,
            "_model_module_version": "1.2.0",
            "_view_count": null,
            "flex_flow": null,
            "width": null,
            "min_width": null,
            "border": null,
            "align_items": null,
            "bottom": null,
            "_model_module": "@jupyter-widgets/base",
            "top": null,
            "grid_column": null,
            "overflow_y": null,
            "overflow_x": null,
            "grid_auto_flow": null,
            "grid_area": null,
            "grid_template_columns": null,
            "flex": null,
            "_model_name": "LayoutModel",
            "justify_items": null,
            "grid_row": null,
            "max_height": null,
            "align_content": null,
            "visibility": null,
            "align_self": null,
            "height": null,
            "min_height": null,
            "padding": null,
            "grid_auto_rows": null,
            "grid_gap": null,
            "max_width": null,
            "order": null,
            "_view_module_version": "1.2.0",
            "grid_template_areas": null,
            "object_position": null,
            "object_fit": null,
            "grid_auto_columns": null,
            "margin": null,
            "display": null,
            "left": null
          }
        },
        "dff5566309e34e92b7501ad9b6daba72": {
          "model_module": "@jupyter-widgets/controls",
          "model_name": "DescriptionStyleModel",
          "state": {
            "_view_name": "StyleView",
            "_model_name": "DescriptionStyleModel",
            "description_width": "",
            "_view_module": "@jupyter-widgets/base",
            "_model_module_version": "1.5.0",
            "_view_count": null,
            "_view_module_version": "1.2.0",
            "_model_module": "@jupyter-widgets/controls"
          }
        },
        "b12ad8cf046f430687d8ee41bf64e5f1": {
          "model_module": "@jupyter-widgets/base",
          "model_name": "LayoutModel",
          "state": {
            "_view_name": "LayoutView",
            "grid_template_rows": null,
            "right": null,
            "justify_content": null,
            "_view_module": "@jupyter-widgets/base",
            "overflow": null,
            "_model_module_version": "1.2.0",
            "_view_count": null,
            "flex_flow": null,
            "width": null,
            "min_width": null,
            "border": null,
            "align_items": null,
            "bottom": null,
            "_model_module": "@jupyter-widgets/base",
            "top": null,
            "grid_column": null,
            "overflow_y": null,
            "overflow_x": null,
            "grid_auto_flow": null,
            "grid_area": null,
            "grid_template_columns": null,
            "flex": null,
            "_model_name": "LayoutModel",
            "justify_items": null,
            "grid_row": null,
            "max_height": null,
            "align_content": null,
            "visibility": null,
            "align_self": null,
            "height": null,
            "min_height": null,
            "padding": null,
            "grid_auto_rows": null,
            "grid_gap": null,
            "max_width": null,
            "order": null,
            "_view_module_version": "1.2.0",
            "grid_template_areas": null,
            "object_position": null,
            "object_fit": null,
            "grid_auto_columns": null,
            "margin": null,
            "display": null,
            "left": null
          }
        },
        "1346fb93031641caa2f431bfe0a917af": {
          "model_module": "@jupyter-widgets/controls",
          "model_name": "HBoxModel",
          "state": {
            "_view_name": "HBoxView",
            "_dom_classes": [],
            "_model_name": "HBoxModel",
            "_view_module": "@jupyter-widgets/controls",
            "_model_module_version": "1.5.0",
            "_view_count": null,
            "_view_module_version": "1.5.0",
            "box_style": "",
            "layout": "IPY_MODEL_d1b911136861474098f54c17f3e9662a",
            "_model_module": "@jupyter-widgets/controls",
            "children": [
              "IPY_MODEL_f63492451c99453b86ea6f076407d15c",
              "IPY_MODEL_4a742f5f98bf454598de8feff84f0ac9"
            ]
          }
        },
        "d1b911136861474098f54c17f3e9662a": {
          "model_module": "@jupyter-widgets/base",
          "model_name": "LayoutModel",
          "state": {
            "_view_name": "LayoutView",
            "grid_template_rows": null,
            "right": null,
            "justify_content": null,
            "_view_module": "@jupyter-widgets/base",
            "overflow": null,
            "_model_module_version": "1.2.0",
            "_view_count": null,
            "flex_flow": null,
            "width": null,
            "min_width": null,
            "border": null,
            "align_items": null,
            "bottom": null,
            "_model_module": "@jupyter-widgets/base",
            "top": null,
            "grid_column": null,
            "overflow_y": null,
            "overflow_x": null,
            "grid_auto_flow": null,
            "grid_area": null,
            "grid_template_columns": null,
            "flex": null,
            "_model_name": "LayoutModel",
            "justify_items": null,
            "grid_row": null,
            "max_height": null,
            "align_content": null,
            "visibility": null,
            "align_self": null,
            "height": null,
            "min_height": null,
            "padding": null,
            "grid_auto_rows": null,
            "grid_gap": null,
            "max_width": null,
            "order": null,
            "_view_module_version": "1.2.0",
            "grid_template_areas": null,
            "object_position": null,
            "object_fit": null,
            "grid_auto_columns": null,
            "margin": null,
            "display": null,
            "left": null
          }
        },
        "f63492451c99453b86ea6f076407d15c": {
          "model_module": "@jupyter-widgets/controls",
          "model_name": "FloatProgressModel",
          "state": {
            "_view_name": "ProgressView",
            "style": "IPY_MODEL_ed9b029c7b14455fad762a5495b825f8",
            "_dom_classes": [],
            "description": "Dl Size...: 100%",
            "_model_name": "FloatProgressModel",
            "bar_style": "success",
            "max": 1,
            "_view_module": "@jupyter-widgets/controls",
            "_model_module_version": "1.5.0",
            "value": 1,
            "_view_count": null,
            "_view_module_version": "1.5.0",
            "orientation": "horizontal",
            "min": 0,
            "description_tooltip": null,
            "_model_module": "@jupyter-widgets/controls",
            "layout": "IPY_MODEL_ba760894693a4305afed941ce3e57af6"
          }
        },
        "4a742f5f98bf454598de8feff84f0ac9": {
          "model_module": "@jupyter-widgets/controls",
          "model_name": "HTMLModel",
          "state": {
            "_view_name": "HTMLView",
            "style": "IPY_MODEL_b51b953ec0d2457583d963d61d068d10",
            "_dom_classes": [],
            "description": "",
            "_model_name": "HTMLModel",
            "placeholder": "​",
            "_view_module": "@jupyter-widgets/controls",
            "_model_module_version": "1.5.0",
            "value": " 80/80 [00:01&lt;00:00, 43.52 MiB/s]",
            "_view_count": null,
            "_view_module_version": "1.5.0",
            "description_tooltip": null,
            "_model_module": "@jupyter-widgets/controls",
            "layout": "IPY_MODEL_7652632e91da467199720f9119f1bcd9"
          }
        },
        "ed9b029c7b14455fad762a5495b825f8": {
          "model_module": "@jupyter-widgets/controls",
          "model_name": "ProgressStyleModel",
          "state": {
            "_view_name": "StyleView",
            "_model_name": "ProgressStyleModel",
            "description_width": "initial",
            "_view_module": "@jupyter-widgets/base",
            "_model_module_version": "1.5.0",
            "_view_count": null,
            "_view_module_version": "1.2.0",
            "bar_color": null,
            "_model_module": "@jupyter-widgets/controls"
          }
        },
        "ba760894693a4305afed941ce3e57af6": {
          "model_module": "@jupyter-widgets/base",
          "model_name": "LayoutModel",
          "state": {
            "_view_name": "LayoutView",
            "grid_template_rows": null,
            "right": null,
            "justify_content": null,
            "_view_module": "@jupyter-widgets/base",
            "overflow": null,
            "_model_module_version": "1.2.0",
            "_view_count": null,
            "flex_flow": null,
            "width": null,
            "min_width": null,
            "border": null,
            "align_items": null,
            "bottom": null,
            "_model_module": "@jupyter-widgets/base",
            "top": null,
            "grid_column": null,
            "overflow_y": null,
            "overflow_x": null,
            "grid_auto_flow": null,
            "grid_area": null,
            "grid_template_columns": null,
            "flex": null,
            "_model_name": "LayoutModel",
            "justify_items": null,
            "grid_row": null,
            "max_height": null,
            "align_content": null,
            "visibility": null,
            "align_self": null,
            "height": null,
            "min_height": null,
            "padding": null,
            "grid_auto_rows": null,
            "grid_gap": null,
            "max_width": null,
            "order": null,
            "_view_module_version": "1.2.0",
            "grid_template_areas": null,
            "object_position": null,
            "object_fit": null,
            "grid_auto_columns": null,
            "margin": null,
            "display": null,
            "left": null
          }
        },
        "b51b953ec0d2457583d963d61d068d10": {
          "model_module": "@jupyter-widgets/controls",
          "model_name": "DescriptionStyleModel",
          "state": {
            "_view_name": "StyleView",
            "_model_name": "DescriptionStyleModel",
            "description_width": "",
            "_view_module": "@jupyter-widgets/base",
            "_model_module_version": "1.5.0",
            "_view_count": null,
            "_view_module_version": "1.2.0",
            "_model_module": "@jupyter-widgets/controls"
          }
        },
        "7652632e91da467199720f9119f1bcd9": {
          "model_module": "@jupyter-widgets/base",
          "model_name": "LayoutModel",
          "state": {
            "_view_name": "LayoutView",
            "grid_template_rows": null,
            "right": null,
            "justify_content": null,
            "_view_module": "@jupyter-widgets/base",
            "overflow": null,
            "_model_module_version": "1.2.0",
            "_view_count": null,
            "flex_flow": null,
            "width": null,
            "min_width": null,
            "border": null,
            "align_items": null,
            "bottom": null,
            "_model_module": "@jupyter-widgets/base",
            "top": null,
            "grid_column": null,
            "overflow_y": null,
            "overflow_x": null,
            "grid_auto_flow": null,
            "grid_area": null,
            "grid_template_columns": null,
            "flex": null,
            "_model_name": "LayoutModel",
            "justify_items": null,
            "grid_row": null,
            "max_height": null,
            "align_content": null,
            "visibility": null,
            "align_self": null,
            "height": null,
            "min_height": null,
            "padding": null,
            "grid_auto_rows": null,
            "grid_gap": null,
            "max_width": null,
            "order": null,
            "_view_module_version": "1.2.0",
            "grid_template_areas": null,
            "object_position": null,
            "object_fit": null,
            "grid_auto_columns": null,
            "margin": null,
            "display": null,
            "left": null
          }
        },
        "77935776f5624d57a4a58c5caede3861": {
          "model_module": "@jupyter-widgets/controls",
          "model_name": "HBoxModel",
          "state": {
            "_view_name": "HBoxView",
            "_dom_classes": [],
            "_model_name": "HBoxModel",
            "_view_module": "@jupyter-widgets/controls",
            "_model_module_version": "1.5.0",
            "_view_count": null,
            "_view_module_version": "1.5.0",
            "box_style": "",
            "layout": "IPY_MODEL_4a2cd1c65a564e02a4fbdcc981ecd252",
            "_model_module": "@jupyter-widgets/controls",
            "children": [
              "IPY_MODEL_ae18201bf99f4cf88fc2e8f7b2906a5c",
              "IPY_MODEL_e1f504bb867d449eb3d023896db1c19a"
            ]
          }
        },
        "4a2cd1c65a564e02a4fbdcc981ecd252": {
          "model_module": "@jupyter-widgets/base",
          "model_name": "LayoutModel",
          "state": {
            "_view_name": "LayoutView",
            "grid_template_rows": null,
            "right": null,
            "justify_content": null,
            "_view_module": "@jupyter-widgets/base",
            "overflow": null,
            "_model_module_version": "1.2.0",
            "_view_count": null,
            "flex_flow": null,
            "width": null,
            "min_width": null,
            "border": null,
            "align_items": null,
            "bottom": null,
            "_model_module": "@jupyter-widgets/base",
            "top": null,
            "grid_column": null,
            "overflow_y": null,
            "overflow_x": null,
            "grid_auto_flow": null,
            "grid_area": null,
            "grid_template_columns": null,
            "flex": null,
            "_model_name": "LayoutModel",
            "justify_items": null,
            "grid_row": null,
            "max_height": null,
            "align_content": null,
            "visibility": null,
            "align_self": null,
            "height": null,
            "min_height": null,
            "padding": null,
            "grid_auto_rows": null,
            "grid_gap": null,
            "max_width": null,
            "order": null,
            "_view_module_version": "1.2.0",
            "grid_template_areas": null,
            "object_position": null,
            "object_fit": null,
            "grid_auto_columns": null,
            "margin": null,
            "display": null,
            "left": null
          }
        },
        "ae18201bf99f4cf88fc2e8f7b2906a5c": {
          "model_module": "@jupyter-widgets/controls",
          "model_name": "FloatProgressModel",
          "state": {
            "_view_name": "ProgressView",
            "style": "IPY_MODEL_1f579e61c4ab46049852f468eaa73faa",
            "_dom_classes": [],
            "description": "",
            "_model_name": "FloatProgressModel",
            "bar_style": "info",
            "max": 1,
            "_view_module": "@jupyter-widgets/controls",
            "_model_module_version": "1.5.0",
            "value": 1,
            "_view_count": null,
            "_view_module_version": "1.5.0",
            "orientation": "horizontal",
            "min": 0,
            "description_tooltip": null,
            "_model_module": "@jupyter-widgets/controls",
            "layout": "IPY_MODEL_b2959c98998644b690b28b082f35d752"
          }
        },
        "e1f504bb867d449eb3d023896db1c19a": {
          "model_module": "@jupyter-widgets/controls",
          "model_name": "HTMLModel",
          "state": {
            "_view_name": "HTMLView",
            "style": "IPY_MODEL_d2e4758136544288be654a6526056c35",
            "_dom_classes": [],
            "description": "",
            "_model_name": "HTMLModel",
            "placeholder": "​",
            "_view_module": "@jupyter-widgets/controls",
            "_model_module_version": "1.5.0",
            "value": " 25000/0 [00:12&lt;00:00, 3511.86 examples/s]",
            "_view_count": null,
            "_view_module_version": "1.5.0",
            "description_tooltip": null,
            "_model_module": "@jupyter-widgets/controls",
            "layout": "IPY_MODEL_9cd5e07b666e4b9389069b8e2a962f13"
          }
        },
        "1f579e61c4ab46049852f468eaa73faa": {
          "model_module": "@jupyter-widgets/controls",
          "model_name": "ProgressStyleModel",
          "state": {
            "_view_name": "StyleView",
            "_model_name": "ProgressStyleModel",
            "description_width": "initial",
            "_view_module": "@jupyter-widgets/base",
            "_model_module_version": "1.5.0",
            "_view_count": null,
            "_view_module_version": "1.2.0",
            "bar_color": null,
            "_model_module": "@jupyter-widgets/controls"
          }
        },
        "b2959c98998644b690b28b082f35d752": {
          "model_module": "@jupyter-widgets/base",
          "model_name": "LayoutModel",
          "state": {
            "_view_name": "LayoutView",
            "grid_template_rows": null,
            "right": null,
            "justify_content": null,
            "_view_module": "@jupyter-widgets/base",
            "overflow": null,
            "_model_module_version": "1.2.0",
            "_view_count": null,
            "flex_flow": null,
            "width": null,
            "min_width": null,
            "border": null,
            "align_items": null,
            "bottom": null,
            "_model_module": "@jupyter-widgets/base",
            "top": null,
            "grid_column": null,
            "overflow_y": null,
            "overflow_x": null,
            "grid_auto_flow": null,
            "grid_area": null,
            "grid_template_columns": null,
            "flex": null,
            "_model_name": "LayoutModel",
            "justify_items": null,
            "grid_row": null,
            "max_height": null,
            "align_content": null,
            "visibility": null,
            "align_self": null,
            "height": null,
            "min_height": null,
            "padding": null,
            "grid_auto_rows": null,
            "grid_gap": null,
            "max_width": null,
            "order": null,
            "_view_module_version": "1.2.0",
            "grid_template_areas": null,
            "object_position": null,
            "object_fit": null,
            "grid_auto_columns": null,
            "margin": null,
            "display": null,
            "left": null
          }
        },
        "d2e4758136544288be654a6526056c35": {
          "model_module": "@jupyter-widgets/controls",
          "model_name": "DescriptionStyleModel",
          "state": {
            "_view_name": "StyleView",
            "_model_name": "DescriptionStyleModel",
            "description_width": "",
            "_view_module": "@jupyter-widgets/base",
            "_model_module_version": "1.5.0",
            "_view_count": null,
            "_view_module_version": "1.2.0",
            "_model_module": "@jupyter-widgets/controls"
          }
        },
        "9cd5e07b666e4b9389069b8e2a962f13": {
          "model_module": "@jupyter-widgets/base",
          "model_name": "LayoutModel",
          "state": {
            "_view_name": "LayoutView",
            "grid_template_rows": null,
            "right": null,
            "justify_content": null,
            "_view_module": "@jupyter-widgets/base",
            "overflow": null,
            "_model_module_version": "1.2.0",
            "_view_count": null,
            "flex_flow": null,
            "width": null,
            "min_width": null,
            "border": null,
            "align_items": null,
            "bottom": null,
            "_model_module": "@jupyter-widgets/base",
            "top": null,
            "grid_column": null,
            "overflow_y": null,
            "overflow_x": null,
            "grid_auto_flow": null,
            "grid_area": null,
            "grid_template_columns": null,
            "flex": null,
            "_model_name": "LayoutModel",
            "justify_items": null,
            "grid_row": null,
            "max_height": null,
            "align_content": null,
            "visibility": null,
            "align_self": null,
            "height": null,
            "min_height": null,
            "padding": null,
            "grid_auto_rows": null,
            "grid_gap": null,
            "max_width": null,
            "order": null,
            "_view_module_version": "1.2.0",
            "grid_template_areas": null,
            "object_position": null,
            "object_fit": null,
            "grid_auto_columns": null,
            "margin": null,
            "display": null,
            "left": null
          }
        },
        "de8f1975a46747d9b971d4bd95ede440": {
          "model_module": "@jupyter-widgets/controls",
          "model_name": "HBoxModel",
          "state": {
            "_view_name": "HBoxView",
            "_dom_classes": [],
            "_model_name": "HBoxModel",
            "_view_module": "@jupyter-widgets/controls",
            "_model_module_version": "1.5.0",
            "_view_count": null,
            "_view_module_version": "1.5.0",
            "box_style": "",
            "layout": "IPY_MODEL_88b34e63a3e34e398b2d9c8e406e919e",
            "_model_module": "@jupyter-widgets/controls",
            "children": [
              "IPY_MODEL_81b4abdcd9974e3aaf964128fb69d48b",
              "IPY_MODEL_4360290dd9f9497384ca14ee71ec95e2"
            ]
          }
        },
        "88b34e63a3e34e398b2d9c8e406e919e": {
          "model_module": "@jupyter-widgets/base",
          "model_name": "LayoutModel",
          "state": {
            "_view_name": "LayoutView",
            "grid_template_rows": null,
            "right": null,
            "justify_content": null,
            "_view_module": "@jupyter-widgets/base",
            "overflow": null,
            "_model_module_version": "1.2.0",
            "_view_count": null,
            "flex_flow": null,
            "width": null,
            "min_width": null,
            "border": null,
            "align_items": null,
            "bottom": null,
            "_model_module": "@jupyter-widgets/base",
            "top": null,
            "grid_column": null,
            "overflow_y": null,
            "overflow_x": null,
            "grid_auto_flow": null,
            "grid_area": null,
            "grid_template_columns": null,
            "flex": null,
            "_model_name": "LayoutModel",
            "justify_items": null,
            "grid_row": null,
            "max_height": null,
            "align_content": null,
            "visibility": null,
            "align_self": null,
            "height": null,
            "min_height": null,
            "padding": null,
            "grid_auto_rows": null,
            "grid_gap": null,
            "max_width": null,
            "order": null,
            "_view_module_version": "1.2.0",
            "grid_template_areas": null,
            "object_position": null,
            "object_fit": null,
            "grid_auto_columns": null,
            "margin": null,
            "display": null,
            "left": null
          }
        },
        "81b4abdcd9974e3aaf964128fb69d48b": {
          "model_module": "@jupyter-widgets/controls",
          "model_name": "FloatProgressModel",
          "state": {
            "_view_name": "ProgressView",
            "style": "IPY_MODEL_34cfafb2ae5146718ee04c3dc6489040",
            "_dom_classes": [],
            "description": " 30%",
            "_model_name": "FloatProgressModel",
            "bar_style": "danger",
            "max": 25000,
            "_view_module": "@jupyter-widgets/controls",
            "_model_module_version": "1.5.0",
            "value": 7591,
            "_view_count": null,
            "_view_module_version": "1.5.0",
            "orientation": "horizontal",
            "min": 0,
            "description_tooltip": null,
            "_model_module": "@jupyter-widgets/controls",
            "layout": "IPY_MODEL_e24b33ce559d461396e50d3bf39a8532"
          }
        },
        "4360290dd9f9497384ca14ee71ec95e2": {
          "model_module": "@jupyter-widgets/controls",
          "model_name": "HTMLModel",
          "state": {
            "_view_name": "HTMLView",
            "style": "IPY_MODEL_38268e811ae34c469e206d60e744afa9",
            "_dom_classes": [],
            "description": "",
            "_model_name": "HTMLModel",
            "placeholder": "​",
            "_view_module": "@jupyter-widgets/controls",
            "_model_module_version": "1.5.0",
            "value": " 7591/25000 [00:00&lt;00:00, 75907.54 examples/s]",
            "_view_count": null,
            "_view_module_version": "1.5.0",
            "description_tooltip": null,
            "_model_module": "@jupyter-widgets/controls",
            "layout": "IPY_MODEL_745b5fd460c24daaa1c7c15297ef0fc9"
          }
        },
        "34cfafb2ae5146718ee04c3dc6489040": {
          "model_module": "@jupyter-widgets/controls",
          "model_name": "ProgressStyleModel",
          "state": {
            "_view_name": "StyleView",
            "_model_name": "ProgressStyleModel",
            "description_width": "initial",
            "_view_module": "@jupyter-widgets/base",
            "_model_module_version": "1.5.0",
            "_view_count": null,
            "_view_module_version": "1.2.0",
            "bar_color": null,
            "_model_module": "@jupyter-widgets/controls"
          }
        },
        "e24b33ce559d461396e50d3bf39a8532": {
          "model_module": "@jupyter-widgets/base",
          "model_name": "LayoutModel",
          "state": {
            "_view_name": "LayoutView",
            "grid_template_rows": null,
            "right": null,
            "justify_content": null,
            "_view_module": "@jupyter-widgets/base",
            "overflow": null,
            "_model_module_version": "1.2.0",
            "_view_count": null,
            "flex_flow": null,
            "width": null,
            "min_width": null,
            "border": null,
            "align_items": null,
            "bottom": null,
            "_model_module": "@jupyter-widgets/base",
            "top": null,
            "grid_column": null,
            "overflow_y": null,
            "overflow_x": null,
            "grid_auto_flow": null,
            "grid_area": null,
            "grid_template_columns": null,
            "flex": null,
            "_model_name": "LayoutModel",
            "justify_items": null,
            "grid_row": null,
            "max_height": null,
            "align_content": null,
            "visibility": null,
            "align_self": null,
            "height": null,
            "min_height": null,
            "padding": null,
            "grid_auto_rows": null,
            "grid_gap": null,
            "max_width": null,
            "order": null,
            "_view_module_version": "1.2.0",
            "grid_template_areas": null,
            "object_position": null,
            "object_fit": null,
            "grid_auto_columns": null,
            "margin": null,
            "display": null,
            "left": null
          }
        },
        "38268e811ae34c469e206d60e744afa9": {
          "model_module": "@jupyter-widgets/controls",
          "model_name": "DescriptionStyleModel",
          "state": {
            "_view_name": "StyleView",
            "_model_name": "DescriptionStyleModel",
            "description_width": "",
            "_view_module": "@jupyter-widgets/base",
            "_model_module_version": "1.5.0",
            "_view_count": null,
            "_view_module_version": "1.2.0",
            "_model_module": "@jupyter-widgets/controls"
          }
        },
        "745b5fd460c24daaa1c7c15297ef0fc9": {
          "model_module": "@jupyter-widgets/base",
          "model_name": "LayoutModel",
          "state": {
            "_view_name": "LayoutView",
            "grid_template_rows": null,
            "right": null,
            "justify_content": null,
            "_view_module": "@jupyter-widgets/base",
            "overflow": null,
            "_model_module_version": "1.2.0",
            "_view_count": null,
            "flex_flow": null,
            "width": null,
            "min_width": null,
            "border": null,
            "align_items": null,
            "bottom": null,
            "_model_module": "@jupyter-widgets/base",
            "top": null,
            "grid_column": null,
            "overflow_y": null,
            "overflow_x": null,
            "grid_auto_flow": null,
            "grid_area": null,
            "grid_template_columns": null,
            "flex": null,
            "_model_name": "LayoutModel",
            "justify_items": null,
            "grid_row": null,
            "max_height": null,
            "align_content": null,
            "visibility": null,
            "align_self": null,
            "height": null,
            "min_height": null,
            "padding": null,
            "grid_auto_rows": null,
            "grid_gap": null,
            "max_width": null,
            "order": null,
            "_view_module_version": "1.2.0",
            "grid_template_areas": null,
            "object_position": null,
            "object_fit": null,
            "grid_auto_columns": null,
            "margin": null,
            "display": null,
            "left": null
          }
        },
        "3413f823af0c44ae87b9ff0465704279": {
          "model_module": "@jupyter-widgets/controls",
          "model_name": "HBoxModel",
          "state": {
            "_view_name": "HBoxView",
            "_dom_classes": [],
            "_model_name": "HBoxModel",
            "_view_module": "@jupyter-widgets/controls",
            "_model_module_version": "1.5.0",
            "_view_count": null,
            "_view_module_version": "1.5.0",
            "box_style": "",
            "layout": "IPY_MODEL_6978728d9edb4b8284113e43a9c4bf89",
            "_model_module": "@jupyter-widgets/controls",
            "children": [
              "IPY_MODEL_dd44c5a545df477c9952f93b1f222bd2",
              "IPY_MODEL_5cb95cd6002c4284b1a380bfe084bac1"
            ]
          }
        },
        "6978728d9edb4b8284113e43a9c4bf89": {
          "model_module": "@jupyter-widgets/base",
          "model_name": "LayoutModel",
          "state": {
            "_view_name": "LayoutView",
            "grid_template_rows": null,
            "right": null,
            "justify_content": null,
            "_view_module": "@jupyter-widgets/base",
            "overflow": null,
            "_model_module_version": "1.2.0",
            "_view_count": null,
            "flex_flow": null,
            "width": null,
            "min_width": null,
            "border": null,
            "align_items": null,
            "bottom": null,
            "_model_module": "@jupyter-widgets/base",
            "top": null,
            "grid_column": null,
            "overflow_y": null,
            "overflow_x": null,
            "grid_auto_flow": null,
            "grid_area": null,
            "grid_template_columns": null,
            "flex": null,
            "_model_name": "LayoutModel",
            "justify_items": null,
            "grid_row": null,
            "max_height": null,
            "align_content": null,
            "visibility": null,
            "align_self": null,
            "height": null,
            "min_height": null,
            "padding": null,
            "grid_auto_rows": null,
            "grid_gap": null,
            "max_width": null,
            "order": null,
            "_view_module_version": "1.2.0",
            "grid_template_areas": null,
            "object_position": null,
            "object_fit": null,
            "grid_auto_columns": null,
            "margin": null,
            "display": null,
            "left": null
          }
        },
        "dd44c5a545df477c9952f93b1f222bd2": {
          "model_module": "@jupyter-widgets/controls",
          "model_name": "FloatProgressModel",
          "state": {
            "_view_name": "ProgressView",
            "style": "IPY_MODEL_3e6fc90366c34c10bedfdcef1718be45",
            "_dom_classes": [],
            "description": "",
            "_model_name": "FloatProgressModel",
            "bar_style": "info",
            "max": 1,
            "_view_module": "@jupyter-widgets/controls",
            "_model_module_version": "1.5.0",
            "value": 1,
            "_view_count": null,
            "_view_module_version": "1.5.0",
            "orientation": "horizontal",
            "min": 0,
            "description_tooltip": null,
            "_model_module": "@jupyter-widgets/controls",
            "layout": "IPY_MODEL_47dfb0af1b524751b7d21a2252c42809"
          }
        },
        "5cb95cd6002c4284b1a380bfe084bac1": {
          "model_module": "@jupyter-widgets/controls",
          "model_name": "HTMLModel",
          "state": {
            "_view_name": "HTMLView",
            "style": "IPY_MODEL_b911c9a3669647dd94c30b6acb60775e",
            "_dom_classes": [],
            "description": "",
            "_model_name": "HTMLModel",
            "placeholder": "​",
            "_view_module": "@jupyter-widgets/controls",
            "_model_module_version": "1.5.0",
            "value": " 25000/0 [00:12&lt;00:00, 3768.54 examples/s]",
            "_view_count": null,
            "_view_module_version": "1.5.0",
            "description_tooltip": null,
            "_model_module": "@jupyter-widgets/controls",
            "layout": "IPY_MODEL_ab66051432084cae8e4312f7151c4d95"
          }
        },
        "3e6fc90366c34c10bedfdcef1718be45": {
          "model_module": "@jupyter-widgets/controls",
          "model_name": "ProgressStyleModel",
          "state": {
            "_view_name": "StyleView",
            "_model_name": "ProgressStyleModel",
            "description_width": "initial",
            "_view_module": "@jupyter-widgets/base",
            "_model_module_version": "1.5.0",
            "_view_count": null,
            "_view_module_version": "1.2.0",
            "bar_color": null,
            "_model_module": "@jupyter-widgets/controls"
          }
        },
        "47dfb0af1b524751b7d21a2252c42809": {
          "model_module": "@jupyter-widgets/base",
          "model_name": "LayoutModel",
          "state": {
            "_view_name": "LayoutView",
            "grid_template_rows": null,
            "right": null,
            "justify_content": null,
            "_view_module": "@jupyter-widgets/base",
            "overflow": null,
            "_model_module_version": "1.2.0",
            "_view_count": null,
            "flex_flow": null,
            "width": null,
            "min_width": null,
            "border": null,
            "align_items": null,
            "bottom": null,
            "_model_module": "@jupyter-widgets/base",
            "top": null,
            "grid_column": null,
            "overflow_y": null,
            "overflow_x": null,
            "grid_auto_flow": null,
            "grid_area": null,
            "grid_template_columns": null,
            "flex": null,
            "_model_name": "LayoutModel",
            "justify_items": null,
            "grid_row": null,
            "max_height": null,
            "align_content": null,
            "visibility": null,
            "align_self": null,
            "height": null,
            "min_height": null,
            "padding": null,
            "grid_auto_rows": null,
            "grid_gap": null,
            "max_width": null,
            "order": null,
            "_view_module_version": "1.2.0",
            "grid_template_areas": null,
            "object_position": null,
            "object_fit": null,
            "grid_auto_columns": null,
            "margin": null,
            "display": null,
            "left": null
          }
        },
        "b911c9a3669647dd94c30b6acb60775e": {
          "model_module": "@jupyter-widgets/controls",
          "model_name": "DescriptionStyleModel",
          "state": {
            "_view_name": "StyleView",
            "_model_name": "DescriptionStyleModel",
            "description_width": "",
            "_view_module": "@jupyter-widgets/base",
            "_model_module_version": "1.5.0",
            "_view_count": null,
            "_view_module_version": "1.2.0",
            "_model_module": "@jupyter-widgets/controls"
          }
        },
        "ab66051432084cae8e4312f7151c4d95": {
          "model_module": "@jupyter-widgets/base",
          "model_name": "LayoutModel",
          "state": {
            "_view_name": "LayoutView",
            "grid_template_rows": null,
            "right": null,
            "justify_content": null,
            "_view_module": "@jupyter-widgets/base",
            "overflow": null,
            "_model_module_version": "1.2.0",
            "_view_count": null,
            "flex_flow": null,
            "width": null,
            "min_width": null,
            "border": null,
            "align_items": null,
            "bottom": null,
            "_model_module": "@jupyter-widgets/base",
            "top": null,
            "grid_column": null,
            "overflow_y": null,
            "overflow_x": null,
            "grid_auto_flow": null,
            "grid_area": null,
            "grid_template_columns": null,
            "flex": null,
            "_model_name": "LayoutModel",
            "justify_items": null,
            "grid_row": null,
            "max_height": null,
            "align_content": null,
            "visibility": null,
            "align_self": null,
            "height": null,
            "min_height": null,
            "padding": null,
            "grid_auto_rows": null,
            "grid_gap": null,
            "max_width": null,
            "order": null,
            "_view_module_version": "1.2.0",
            "grid_template_areas": null,
            "object_position": null,
            "object_fit": null,
            "grid_auto_columns": null,
            "margin": null,
            "display": null,
            "left": null
          }
        },
        "f615da94820a487abaf908b8a3666909": {
          "model_module": "@jupyter-widgets/controls",
          "model_name": "HBoxModel",
          "state": {
            "_view_name": "HBoxView",
            "_dom_classes": [],
            "_model_name": "HBoxModel",
            "_view_module": "@jupyter-widgets/controls",
            "_model_module_version": "1.5.0",
            "_view_count": null,
            "_view_module_version": "1.5.0",
            "box_style": "",
            "layout": "IPY_MODEL_ecd922c3ca064b2380132722f33130e7",
            "_model_module": "@jupyter-widgets/controls",
            "children": [
              "IPY_MODEL_29314927ea89455d8586abe1b6e7f8d8",
              "IPY_MODEL_cfca60bd98074985ba8c5a86bb1cad82"
            ]
          }
        },
        "ecd922c3ca064b2380132722f33130e7": {
          "model_module": "@jupyter-widgets/base",
          "model_name": "LayoutModel",
          "state": {
            "_view_name": "LayoutView",
            "grid_template_rows": null,
            "right": null,
            "justify_content": null,
            "_view_module": "@jupyter-widgets/base",
            "overflow": null,
            "_model_module_version": "1.2.0",
            "_view_count": null,
            "flex_flow": null,
            "width": null,
            "min_width": null,
            "border": null,
            "align_items": null,
            "bottom": null,
            "_model_module": "@jupyter-widgets/base",
            "top": null,
            "grid_column": null,
            "overflow_y": null,
            "overflow_x": null,
            "grid_auto_flow": null,
            "grid_area": null,
            "grid_template_columns": null,
            "flex": null,
            "_model_name": "LayoutModel",
            "justify_items": null,
            "grid_row": null,
            "max_height": null,
            "align_content": null,
            "visibility": null,
            "align_self": null,
            "height": null,
            "min_height": null,
            "padding": null,
            "grid_auto_rows": null,
            "grid_gap": null,
            "max_width": null,
            "order": null,
            "_view_module_version": "1.2.0",
            "grid_template_areas": null,
            "object_position": null,
            "object_fit": null,
            "grid_auto_columns": null,
            "margin": null,
            "display": null,
            "left": null
          }
        },
        "29314927ea89455d8586abe1b6e7f8d8": {
          "model_module": "@jupyter-widgets/controls",
          "model_name": "FloatProgressModel",
          "state": {
            "_view_name": "ProgressView",
            "style": "IPY_MODEL_b2046e212f6f4b4287df6e6bb7976956",
            "_dom_classes": [],
            "description": " 48%",
            "_model_name": "FloatProgressModel",
            "bar_style": "danger",
            "max": 25000,
            "_view_module": "@jupyter-widgets/controls",
            "_model_module_version": "1.5.0",
            "value": 11905,
            "_view_count": null,
            "_view_module_version": "1.5.0",
            "orientation": "horizontal",
            "min": 0,
            "description_tooltip": null,
            "_model_module": "@jupyter-widgets/controls",
            "layout": "IPY_MODEL_6d73b1cd41f64bf5978650ab7674ac25"
          }
        },
        "cfca60bd98074985ba8c5a86bb1cad82": {
          "model_module": "@jupyter-widgets/controls",
          "model_name": "HTMLModel",
          "state": {
            "_view_name": "HTMLView",
            "style": "IPY_MODEL_fd713a572bb14b789c2cb70f9a388063",
            "_dom_classes": [],
            "description": "",
            "_model_name": "HTMLModel",
            "placeholder": "​",
            "_view_module": "@jupyter-widgets/controls",
            "_model_module_version": "1.5.0",
            "value": " 11905/25000 [00:00&lt;00:00, 119047.56 examples/s]",
            "_view_count": null,
            "_view_module_version": "1.5.0",
            "description_tooltip": null,
            "_model_module": "@jupyter-widgets/controls",
            "layout": "IPY_MODEL_3be4de1dfa2142bba595e4fe3badd6e5"
          }
        },
        "b2046e212f6f4b4287df6e6bb7976956": {
          "model_module": "@jupyter-widgets/controls",
          "model_name": "ProgressStyleModel",
          "state": {
            "_view_name": "StyleView",
            "_model_name": "ProgressStyleModel",
            "description_width": "initial",
            "_view_module": "@jupyter-widgets/base",
            "_model_module_version": "1.5.0",
            "_view_count": null,
            "_view_module_version": "1.2.0",
            "bar_color": null,
            "_model_module": "@jupyter-widgets/controls"
          }
        },
        "6d73b1cd41f64bf5978650ab7674ac25": {
          "model_module": "@jupyter-widgets/base",
          "model_name": "LayoutModel",
          "state": {
            "_view_name": "LayoutView",
            "grid_template_rows": null,
            "right": null,
            "justify_content": null,
            "_view_module": "@jupyter-widgets/base",
            "overflow": null,
            "_model_module_version": "1.2.0",
            "_view_count": null,
            "flex_flow": null,
            "width": null,
            "min_width": null,
            "border": null,
            "align_items": null,
            "bottom": null,
            "_model_module": "@jupyter-widgets/base",
            "top": null,
            "grid_column": null,
            "overflow_y": null,
            "overflow_x": null,
            "grid_auto_flow": null,
            "grid_area": null,
            "grid_template_columns": null,
            "flex": null,
            "_model_name": "LayoutModel",
            "justify_items": null,
            "grid_row": null,
            "max_height": null,
            "align_content": null,
            "visibility": null,
            "align_self": null,
            "height": null,
            "min_height": null,
            "padding": null,
            "grid_auto_rows": null,
            "grid_gap": null,
            "max_width": null,
            "order": null,
            "_view_module_version": "1.2.0",
            "grid_template_areas": null,
            "object_position": null,
            "object_fit": null,
            "grid_auto_columns": null,
            "margin": null,
            "display": null,
            "left": null
          }
        },
        "fd713a572bb14b789c2cb70f9a388063": {
          "model_module": "@jupyter-widgets/controls",
          "model_name": "DescriptionStyleModel",
          "state": {
            "_view_name": "StyleView",
            "_model_name": "DescriptionStyleModel",
            "description_width": "",
            "_view_module": "@jupyter-widgets/base",
            "_model_module_version": "1.5.0",
            "_view_count": null,
            "_view_module_version": "1.2.0",
            "_model_module": "@jupyter-widgets/controls"
          }
        },
        "3be4de1dfa2142bba595e4fe3badd6e5": {
          "model_module": "@jupyter-widgets/base",
          "model_name": "LayoutModel",
          "state": {
            "_view_name": "LayoutView",
            "grid_template_rows": null,
            "right": null,
            "justify_content": null,
            "_view_module": "@jupyter-widgets/base",
            "overflow": null,
            "_model_module_version": "1.2.0",
            "_view_count": null,
            "flex_flow": null,
            "width": null,
            "min_width": null,
            "border": null,
            "align_items": null,
            "bottom": null,
            "_model_module": "@jupyter-widgets/base",
            "top": null,
            "grid_column": null,
            "overflow_y": null,
            "overflow_x": null,
            "grid_auto_flow": null,
            "grid_area": null,
            "grid_template_columns": null,
            "flex": null,
            "_model_name": "LayoutModel",
            "justify_items": null,
            "grid_row": null,
            "max_height": null,
            "align_content": null,
            "visibility": null,
            "align_self": null,
            "height": null,
            "min_height": null,
            "padding": null,
            "grid_auto_rows": null,
            "grid_gap": null,
            "max_width": null,
            "order": null,
            "_view_module_version": "1.2.0",
            "grid_template_areas": null,
            "object_position": null,
            "object_fit": null,
            "grid_auto_columns": null,
            "margin": null,
            "display": null,
            "left": null
          }
        },
        "2b03dba3a9c94c3c8db320b52c271342": {
          "model_module": "@jupyter-widgets/controls",
          "model_name": "HBoxModel",
          "state": {
            "_view_name": "HBoxView",
            "_dom_classes": [],
            "_model_name": "HBoxModel",
            "_view_module": "@jupyter-widgets/controls",
            "_model_module_version": "1.5.0",
            "_view_count": null,
            "_view_module_version": "1.5.0",
            "box_style": "",
            "layout": "IPY_MODEL_a2c8aa029826422293e16a4aac678c51",
            "_model_module": "@jupyter-widgets/controls",
            "children": [
              "IPY_MODEL_aa514d4a118a4b04ac0cc8a44e54ff17",
              "IPY_MODEL_f0c4e112da804601a14e6bd68679623f"
            ]
          }
        },
        "a2c8aa029826422293e16a4aac678c51": {
          "model_module": "@jupyter-widgets/base",
          "model_name": "LayoutModel",
          "state": {
            "_view_name": "LayoutView",
            "grid_template_rows": null,
            "right": null,
            "justify_content": null,
            "_view_module": "@jupyter-widgets/base",
            "overflow": null,
            "_model_module_version": "1.2.0",
            "_view_count": null,
            "flex_flow": null,
            "width": null,
            "min_width": null,
            "border": null,
            "align_items": null,
            "bottom": null,
            "_model_module": "@jupyter-widgets/base",
            "top": null,
            "grid_column": null,
            "overflow_y": null,
            "overflow_x": null,
            "grid_auto_flow": null,
            "grid_area": null,
            "grid_template_columns": null,
            "flex": null,
            "_model_name": "LayoutModel",
            "justify_items": null,
            "grid_row": null,
            "max_height": null,
            "align_content": null,
            "visibility": null,
            "align_self": null,
            "height": null,
            "min_height": null,
            "padding": null,
            "grid_auto_rows": null,
            "grid_gap": null,
            "max_width": null,
            "order": null,
            "_view_module_version": "1.2.0",
            "grid_template_areas": null,
            "object_position": null,
            "object_fit": null,
            "grid_auto_columns": null,
            "margin": null,
            "display": null,
            "left": null
          }
        },
        "aa514d4a118a4b04ac0cc8a44e54ff17": {
          "model_module": "@jupyter-widgets/controls",
          "model_name": "FloatProgressModel",
          "state": {
            "_view_name": "ProgressView",
            "style": "IPY_MODEL_3668795973314872ba16f3e477d89888",
            "_dom_classes": [],
            "description": "",
            "_model_name": "FloatProgressModel",
            "bar_style": "info",
            "max": 1,
            "_view_module": "@jupyter-widgets/controls",
            "_model_module_version": "1.5.0",
            "value": 1,
            "_view_count": null,
            "_view_module_version": "1.5.0",
            "orientation": "horizontal",
            "min": 0,
            "description_tooltip": null,
            "_model_module": "@jupyter-widgets/controls",
            "layout": "IPY_MODEL_84c101a2c9444b268d19d4cdb9161a3e"
          }
        },
        "f0c4e112da804601a14e6bd68679623f": {
          "model_module": "@jupyter-widgets/controls",
          "model_name": "HTMLModel",
          "state": {
            "_view_name": "HTMLView",
            "style": "IPY_MODEL_ab00bd3b1d6f4693a239bc3674532888",
            "_dom_classes": [],
            "description": "",
            "_model_name": "HTMLModel",
            "placeholder": "​",
            "_view_module": "@jupyter-widgets/controls",
            "_model_module_version": "1.5.0",
            "value": " 50000/0 [00:17&lt;00:00, 3726.96 examples/s]",
            "_view_count": null,
            "_view_module_version": "1.5.0",
            "description_tooltip": null,
            "_model_module": "@jupyter-widgets/controls",
            "layout": "IPY_MODEL_044804f3e8da45ecb370d35b9397040e"
          }
        },
        "3668795973314872ba16f3e477d89888": {
          "model_module": "@jupyter-widgets/controls",
          "model_name": "ProgressStyleModel",
          "state": {
            "_view_name": "StyleView",
            "_model_name": "ProgressStyleModel",
            "description_width": "initial",
            "_view_module": "@jupyter-widgets/base",
            "_model_module_version": "1.5.0",
            "_view_count": null,
            "_view_module_version": "1.2.0",
            "bar_color": null,
            "_model_module": "@jupyter-widgets/controls"
          }
        },
        "84c101a2c9444b268d19d4cdb9161a3e": {
          "model_module": "@jupyter-widgets/base",
          "model_name": "LayoutModel",
          "state": {
            "_view_name": "LayoutView",
            "grid_template_rows": null,
            "right": null,
            "justify_content": null,
            "_view_module": "@jupyter-widgets/base",
            "overflow": null,
            "_model_module_version": "1.2.0",
            "_view_count": null,
            "flex_flow": null,
            "width": null,
            "min_width": null,
            "border": null,
            "align_items": null,
            "bottom": null,
            "_model_module": "@jupyter-widgets/base",
            "top": null,
            "grid_column": null,
            "overflow_y": null,
            "overflow_x": null,
            "grid_auto_flow": null,
            "grid_area": null,
            "grid_template_columns": null,
            "flex": null,
            "_model_name": "LayoutModel",
            "justify_items": null,
            "grid_row": null,
            "max_height": null,
            "align_content": null,
            "visibility": null,
            "align_self": null,
            "height": null,
            "min_height": null,
            "padding": null,
            "grid_auto_rows": null,
            "grid_gap": null,
            "max_width": null,
            "order": null,
            "_view_module_version": "1.2.0",
            "grid_template_areas": null,
            "object_position": null,
            "object_fit": null,
            "grid_auto_columns": null,
            "margin": null,
            "display": null,
            "left": null
          }
        },
        "ab00bd3b1d6f4693a239bc3674532888": {
          "model_module": "@jupyter-widgets/controls",
          "model_name": "DescriptionStyleModel",
          "state": {
            "_view_name": "StyleView",
            "_model_name": "DescriptionStyleModel",
            "description_width": "",
            "_view_module": "@jupyter-widgets/base",
            "_model_module_version": "1.5.0",
            "_view_count": null,
            "_view_module_version": "1.2.0",
            "_model_module": "@jupyter-widgets/controls"
          }
        },
        "044804f3e8da45ecb370d35b9397040e": {
          "model_module": "@jupyter-widgets/base",
          "model_name": "LayoutModel",
          "state": {
            "_view_name": "LayoutView",
            "grid_template_rows": null,
            "right": null,
            "justify_content": null,
            "_view_module": "@jupyter-widgets/base",
            "overflow": null,
            "_model_module_version": "1.2.0",
            "_view_count": null,
            "flex_flow": null,
            "width": null,
            "min_width": null,
            "border": null,
            "align_items": null,
            "bottom": null,
            "_model_module": "@jupyter-widgets/base",
            "top": null,
            "grid_column": null,
            "overflow_y": null,
            "overflow_x": null,
            "grid_auto_flow": null,
            "grid_area": null,
            "grid_template_columns": null,
            "flex": null,
            "_model_name": "LayoutModel",
            "justify_items": null,
            "grid_row": null,
            "max_height": null,
            "align_content": null,
            "visibility": null,
            "align_self": null,
            "height": null,
            "min_height": null,
            "padding": null,
            "grid_auto_rows": null,
            "grid_gap": null,
            "max_width": null,
            "order": null,
            "_view_module_version": "1.2.0",
            "grid_template_areas": null,
            "object_position": null,
            "object_fit": null,
            "grid_auto_columns": null,
            "margin": null,
            "display": null,
            "left": null
          }
        },
        "bc4762483fb7438aaf4324655e6cee2f": {
          "model_module": "@jupyter-widgets/controls",
          "model_name": "HBoxModel",
          "state": {
            "_view_name": "HBoxView",
            "_dom_classes": [],
            "_model_name": "HBoxModel",
            "_view_module": "@jupyter-widgets/controls",
            "_model_module_version": "1.5.0",
            "_view_count": null,
            "_view_module_version": "1.5.0",
            "box_style": "",
            "layout": "IPY_MODEL_b16e85dbe98141acb117908c6d991e7f",
            "_model_module": "@jupyter-widgets/controls",
            "children": [
              "IPY_MODEL_b031f017d819400d934bb3650a6b14db",
              "IPY_MODEL_07bd0eb1b0f149b38a5d0c990de970ac"
            ]
          }
        },
        "b16e85dbe98141acb117908c6d991e7f": {
          "model_module": "@jupyter-widgets/base",
          "model_name": "LayoutModel",
          "state": {
            "_view_name": "LayoutView",
            "grid_template_rows": null,
            "right": null,
            "justify_content": null,
            "_view_module": "@jupyter-widgets/base",
            "overflow": null,
            "_model_module_version": "1.2.0",
            "_view_count": null,
            "flex_flow": null,
            "width": null,
            "min_width": null,
            "border": null,
            "align_items": null,
            "bottom": null,
            "_model_module": "@jupyter-widgets/base",
            "top": null,
            "grid_column": null,
            "overflow_y": null,
            "overflow_x": null,
            "grid_auto_flow": null,
            "grid_area": null,
            "grid_template_columns": null,
            "flex": null,
            "_model_name": "LayoutModel",
            "justify_items": null,
            "grid_row": null,
            "max_height": null,
            "align_content": null,
            "visibility": null,
            "align_self": null,
            "height": null,
            "min_height": null,
            "padding": null,
            "grid_auto_rows": null,
            "grid_gap": null,
            "max_width": null,
            "order": null,
            "_view_module_version": "1.2.0",
            "grid_template_areas": null,
            "object_position": null,
            "object_fit": null,
            "grid_auto_columns": null,
            "margin": null,
            "display": null,
            "left": null
          }
        },
        "b031f017d819400d934bb3650a6b14db": {
          "model_module": "@jupyter-widgets/controls",
          "model_name": "FloatProgressModel",
          "state": {
            "_view_name": "ProgressView",
            "style": "IPY_MODEL_306632a7e684484ea8e54db49ce04d58",
            "_dom_classes": [],
            "description": " 64%",
            "_model_name": "FloatProgressModel",
            "bar_style": "danger",
            "max": 50000,
            "_view_module": "@jupyter-widgets/controls",
            "_model_module_version": "1.5.0",
            "value": 32077,
            "_view_count": null,
            "_view_module_version": "1.5.0",
            "orientation": "horizontal",
            "min": 0,
            "description_tooltip": null,
            "_model_module": "@jupyter-widgets/controls",
            "layout": "IPY_MODEL_af0573c7f10f4540b91c19be657989c5"
          }
        },
        "07bd0eb1b0f149b38a5d0c990de970ac": {
          "model_module": "@jupyter-widgets/controls",
          "model_name": "HTMLModel",
          "state": {
            "_view_name": "HTMLView",
            "style": "IPY_MODEL_26c2be1885c645ab843bc489c71bcd01",
            "_dom_classes": [],
            "description": "",
            "_model_name": "HTMLModel",
            "placeholder": "​",
            "_view_module": "@jupyter-widgets/controls",
            "_model_module_version": "1.5.0",
            "value": " 32077/50000 [00:00&lt;00:00, 65716.94 examples/s]",
            "_view_count": null,
            "_view_module_version": "1.5.0",
            "description_tooltip": null,
            "_model_module": "@jupyter-widgets/controls",
            "layout": "IPY_MODEL_ae13310fcf1c474dbe82485e57ca9163"
          }
        },
        "306632a7e684484ea8e54db49ce04d58": {
          "model_module": "@jupyter-widgets/controls",
          "model_name": "ProgressStyleModel",
          "state": {
            "_view_name": "StyleView",
            "_model_name": "ProgressStyleModel",
            "description_width": "initial",
            "_view_module": "@jupyter-widgets/base",
            "_model_module_version": "1.5.0",
            "_view_count": null,
            "_view_module_version": "1.2.0",
            "bar_color": null,
            "_model_module": "@jupyter-widgets/controls"
          }
        },
        "af0573c7f10f4540b91c19be657989c5": {
          "model_module": "@jupyter-widgets/base",
          "model_name": "LayoutModel",
          "state": {
            "_view_name": "LayoutView",
            "grid_template_rows": null,
            "right": null,
            "justify_content": null,
            "_view_module": "@jupyter-widgets/base",
            "overflow": null,
            "_model_module_version": "1.2.0",
            "_view_count": null,
            "flex_flow": null,
            "width": null,
            "min_width": null,
            "border": null,
            "align_items": null,
            "bottom": null,
            "_model_module": "@jupyter-widgets/base",
            "top": null,
            "grid_column": null,
            "overflow_y": null,
            "overflow_x": null,
            "grid_auto_flow": null,
            "grid_area": null,
            "grid_template_columns": null,
            "flex": null,
            "_model_name": "LayoutModel",
            "justify_items": null,
            "grid_row": null,
            "max_height": null,
            "align_content": null,
            "visibility": null,
            "align_self": null,
            "height": null,
            "min_height": null,
            "padding": null,
            "grid_auto_rows": null,
            "grid_gap": null,
            "max_width": null,
            "order": null,
            "_view_module_version": "1.2.0",
            "grid_template_areas": null,
            "object_position": null,
            "object_fit": null,
            "grid_auto_columns": null,
            "margin": null,
            "display": null,
            "left": null
          }
        },
        "26c2be1885c645ab843bc489c71bcd01": {
          "model_module": "@jupyter-widgets/controls",
          "model_name": "DescriptionStyleModel",
          "state": {
            "_view_name": "StyleView",
            "_model_name": "DescriptionStyleModel",
            "description_width": "",
            "_view_module": "@jupyter-widgets/base",
            "_model_module_version": "1.5.0",
            "_view_count": null,
            "_view_module_version": "1.2.0",
            "_model_module": "@jupyter-widgets/controls"
          }
        },
        "ae13310fcf1c474dbe82485e57ca9163": {
          "model_module": "@jupyter-widgets/base",
          "model_name": "LayoutModel",
          "state": {
            "_view_name": "LayoutView",
            "grid_template_rows": null,
            "right": null,
            "justify_content": null,
            "_view_module": "@jupyter-widgets/base",
            "overflow": null,
            "_model_module_version": "1.2.0",
            "_view_count": null,
            "flex_flow": null,
            "width": null,
            "min_width": null,
            "border": null,
            "align_items": null,
            "bottom": null,
            "_model_module": "@jupyter-widgets/base",
            "top": null,
            "grid_column": null,
            "overflow_y": null,
            "overflow_x": null,
            "grid_auto_flow": null,
            "grid_area": null,
            "grid_template_columns": null,
            "flex": null,
            "_model_name": "LayoutModel",
            "justify_items": null,
            "grid_row": null,
            "max_height": null,
            "align_content": null,
            "visibility": null,
            "align_self": null,
            "height": null,
            "min_height": null,
            "padding": null,
            "grid_auto_rows": null,
            "grid_gap": null,
            "max_width": null,
            "order": null,
            "_view_module_version": "1.2.0",
            "grid_template_areas": null,
            "object_position": null,
            "object_fit": null,
            "grid_auto_columns": null,
            "margin": null,
            "display": null,
            "left": null
          }
        }
      }
    }
  },
  "cells": [
    {
      "cell_type": "markdown",
      "metadata": {
        "id": "view-in-github",
        "colab_type": "text"
      },
      "source": [
        "<a href=\"https://colab.research.google.com/github/kumar-mahendra/66DaysOfData/blob/main/Natural_Language_Processing.ipynb\" target=\"_parent\"><img src=\"https://colab.research.google.com/assets/colab-badge.svg\" alt=\"Open In Colab\"/></a>"
      ]
    },
    {
      "cell_type": "markdown",
      "metadata": {
        "id": "9C-luwiHREbB"
      },
      "source": [
        "# Introduction to NLP"
      ]
    },
    {
      "cell_type": "markdown",
      "metadata": {
        "id": "4jO0ExFcRNTL"
      },
      "source": [
        "#### Dated : 26-01-2021 to 27-01-2021"
      ]
    },
    {
      "cell_type": "code",
      "metadata": {
        "id": "CQ9TISPNQYpm"
      },
      "source": [
        "\r\n",
        "import tensorflow as tf\r\n",
        "import numpy as np\r\n",
        "from tensorflow.keras.preprocessing.text import Tokenizer\r\n",
        "from tensorflow.keras.preprocessing.sequence import pad_sequences"
      ],
      "execution_count": null,
      "outputs": []
    },
    {
      "cell_type": "code",
      "metadata": {
        "colab": {
          "base_uri": "https://localhost:8080/"
        },
        "id": "cGRsiYRjQ1vQ",
        "outputId": "e755d2aa-6aa8-4862-d413-758b568fbf1f"
      },
      "source": [
        "\r\n",
        "tokenizer = Tokenizer(num_words=100,oov_token=\"<oov>\")  #oov means out_of_vocabulory text which will replace any irrelevent word or word which is new or not known to \r\n",
        "                                                        # model as \"<oov>\"(here you can take any string but make sure its not in your sequence)\r\n",
        "\r\n",
        "#sample input , a list of sentences \r\n",
        "sentences = ['I am Mahendra Kumar!!!', 'I am currently in my second year of study,at \"IIT Goa\".','My branch is maths & computing','Want to become a data scientist.','some random stuff xjksdj skdjfs skdjf']\r\n",
        "\r\n",
        "#Lets start \r\n",
        "tokenizer.fit_on_texts(sentences)  \r\n",
        "word_index = tokenizer.word_index\r\n",
        "print(word_index)"
      ],
      "execution_count": null,
      "outputs": [
        {
          "output_type": "stream",
          "text": [
            "{'<oov>': 1, 'i': 2, 'am': 3, 'my': 4, 'mahendra': 5, 'kumar': 6, 'currently': 7, 'in': 8, 'second': 9, 'year': 10, 'of': 11, 'study': 12, 'at': 13, 'iit': 14, 'goa': 15, 'branch': 16, 'is': 17, 'maths': 18, 'computing': 19, 'want': 20, 'to': 21, 'become': 22, 'a': 23, 'data': 24, 'scientist': 25, 'some': 26, 'random': 27, 'stuff': 28, 'xjksdj': 29, 'skdjfs': 30, 'skdjf': 31}\n"
          ],
          "name": "stdout"
        }
      ]
    },
    {
      "cell_type": "code",
      "metadata": {
        "colab": {
          "base_uri": "https://localhost:8080/"
        },
        "id": "r9TsLxFISuC-",
        "outputId": "1a14dca7-b78a-4465-db52-9ceb213254cc"
      },
      "source": [
        "#generate sequences corresponding to input \r\n",
        "sequences = tokenizer.texts_to_sequences(sentences)\r\n",
        "print(*sequences,sep='\\n')\r\n"
      ],
      "execution_count": null,
      "outputs": [
        {
          "output_type": "stream",
          "text": [
            "[2, 3, 5, 6]\n",
            "[2, 3, 7, 8, 4, 9, 10, 11, 12, 13, 14, 15]\n",
            "[4, 16, 17, 18, 19]\n",
            "[20, 21, 22, 23, 24, 25]\n",
            "[26, 27, 28, 29, 30, 31]\n"
          ],
          "name": "stdout"
        }
      ]
    },
    {
      "cell_type": "code",
      "metadata": {
        "colab": {
          "base_uri": "https://localhost:8080/"
        },
        "id": "1qLYCmSMUs7W",
        "outputId": "bd704265-8db2-4c6a-a3ee-a0b8f03d5840"
      },
      "source": [
        "\r\n",
        "#generally we fed data in model having same shapes which is not there so we use padding to achive that \r\n",
        "\r\n",
        "padded_sequences = pad_sequences(sequences)\r\n",
        "print(\"Padding with default settings :\")\r\n",
        "print(*padded_sequences,sep='\\n')\r\n",
        "\r\n",
        "padded_sequences = pad_sequences(sequences,maxlen=6)\r\n",
        "print(\"\\nPadding with maxlen parameter :\")\r\n",
        "print(*padded_sequences,sep='\\n')\r\n",
        "\r\n",
        "padded_sequences = pad_sequences(sequences,maxlen=6,padding='post')\r\n",
        "print(\"\\nPadding with maxlen & post_padding technique :\")\r\n",
        "print(*padded_sequences,sep='\\n')\r\n",
        "\r\n",
        "padded_sequences = pad_sequences(sequences,maxlen=6,padding='post',truncating='post')\r\n",
        "print(\"\\nPadding with above two + truncating settings :\")\r\n",
        "print(*padded_sequences,sep='\\n')\r\n"
      ],
      "execution_count": null,
      "outputs": [
        {
          "output_type": "stream",
          "text": [
            "Padding with default settings :\n",
            "[0 0 0 0 0 0 0 0 2 3 5 6]\n",
            "[ 2  3  7  8  4  9 10 11 12 13 14 15]\n",
            "[ 0  0  0  0  0  0  0  4 16 17 18 19]\n",
            "[ 0  0  0  0  0  0 20 21 22 23 24 25]\n",
            "[ 0  0  0  0  0  0 26 27 28 29 30 31]\n",
            "\n",
            "Padding with maxlen parameter :\n",
            "[0 0 2 3 5 6]\n",
            "[10 11 12 13 14 15]\n",
            "[ 0  4 16 17 18 19]\n",
            "[20 21 22 23 24 25]\n",
            "[26 27 28 29 30 31]\n",
            "\n",
            "Padding with maxlen & post_padding technique :\n",
            "[2 3 5 6 0 0]\n",
            "[10 11 12 13 14 15]\n",
            "[ 4 16 17 18 19  0]\n",
            "[20 21 22 23 24 25]\n",
            "[26 27 28 29 30 31]\n",
            "\n",
            "Padding with above two + truncating settings :\n",
            "[2 3 5 6 0 0]\n",
            "[2 3 7 8 4 9]\n",
            "[ 4 16 17 18 19  0]\n",
            "[20 21 22 23 24 25]\n",
            "[26 27 28 29 30 31]\n"
          ],
          "name": "stdout"
        }
      ]
    },
    {
      "cell_type": "code",
      "metadata": {
        "id": "cwInEIofjsCr"
      },
      "source": [
        "# Since Our word_index dictionary contains a lot of stopwords which have no meaning in themselves and hence not required while doing NLP \r\n",
        "\r\n",
        "#Here is list of commonly used stopwords Rest you know how to exclude this words from Sentence using python !! (In case you don't know don't worry I will be doing that in upcoming Real World Example below)\r\n",
        "Stopwords = ['a', 'about', 'above', 'after', 'again', 'against', 'all', 'am', 'an', 'and', 'any', 'are', 'aren', 'not', 'as', 'at', 'be', 'because', 'been', 'before', 'being',\\\r\n",
        "             'below', 'between', 'both', 'but', 'by', 'can', 'not', 'cannot', 'could', 'couldn', 'not', 'did', 'didn', 'not', 'do', 'does', 'doesn', 'not', 'doing', 'don', 'not',\\\r\n",
        "             'down', 'during', 'each', 'few', 'for', 'from', 'further', 'had', 'hadn', 'not', 'has', 'hasn', 'not', 'have', 'haven', 'not', 'having', 'he', 'he', 'had', 'he', 'will',\\\r\n",
        "             'he', 'is', 'her', 'here', 'here', 'is', 'hers', 'herself', 'him', 'himself', 'his', 'how', 'how', 'is', 'i', 'i', 'had', 'i', 'will', 'i', 'am', 'i', 'have', 'if', 'in', \\\r\n",
        "             'into', 'is', 'isn', 'not', 'it', 'it', 'is', 'its', 'itself', 'let', 'is', 'me', 'more', 'most', 'mustn', 'not', 'my', 'myself', 'no', 'nor', 'not', 'of', 'off', 'on', 'once',\\\r\n",
        "             'only', 'or', 'other', 'ought', 'our', 'ours', 'ourselves', 'out', 'over', 'own', 'same', 'shan', 'not', 'she', 'she', 'had', 'she', 'will', 'she', 'is', 'should', 'shouldn',\\\r\n",
        "             'not', 'so', 'some', 'such', 'than', 'that', 'that', 'is', 'the', 'their', 'theirs', 'them', 'themselves', 'then', 'there', 'there', 'is', 'these', 'they', 'they', 'had', \\\r\n",
        "             'they', 'will', 'they', 'are', 'they', 'have', 'this', 'those', 'through', 'to', 'too', 'under', 'until', 'up', 'very', 'was', 'wasn', 'not', 'we', 'we', 'had', 'we', 'will',\\\r\n",
        "             'we', 'are', 'we', 'have', 'were', 'weren', 'not', 'what', 'what', 'is', 'when', 'when', 'is', 'where', 'where', 'is', 'which', 'while', 'who', 'who', 'is', 'whom', 'why',\\\r\n",
        "             'why', 'is', 'with', 'won', 'not', 'would', 'wouldn', 'not', 'you', 'you', 'had', 'you', 'will', 'you', 'are', 'you', 'have', 'your', 'yours', 'yourself', 'yourselves', 'MySQL', 'Stopw']"
      ],
      "execution_count": null,
      "outputs": []
    },
    {
      "cell_type": "code",
      "metadata": {
        "id": "yLW_SoSbczeX"
      },
      "source": [
        "# Second Common thing we encounter is that in real life people use shorthands like I've, I'am, we'll etc. etc. and Also there \r\n",
        "#could be  puncutation mark which are of  not use at all . To handle that scenerios , I have written these two functions\r\n",
        "\r\n",
        "#To make shorhand like <I've> to their full form <I have > .These are some that I am familier with \r\n",
        "def clean_sentence(sentence):\r\n",
        "\r\n",
        "  # A little bit sentence cleaning first to handle scenerio like his-her (note if dash is removed then 'hisher' is a nonsense word) by adding comma before and after such symbols . \r\n",
        "  sentence = sentence.replace('-',' - ')\r\n",
        "  sentence = sentence.replace('.',' . ')\r\n",
        "  sentence = sentence.replace('/',' / ')\r\n",
        "  sentence = sentence.replace(',', ' , ')  # and so on.....as much as you like but these are a few common ones\r\n",
        "\r\n",
        "  Words=sentence.split()\r\n",
        "  sentence = ''\r\n",
        "  for word in Words:\r\n",
        "    word = word.replace(\"'s\",' is')\r\n",
        "    word = word.replace(\"'nt\",' not')\r\n",
        "    word = word.replace(\"n't\",' not')\r\n",
        "    word = word.replace(\"'d\", ' had')\r\n",
        "    word = word.replace(\"'ll\",' will')\r\n",
        "    word = word.replace(\"'m\",' am')\r\n",
        "    word = word.replace(\"'ve\",' have')\r\n",
        "    word = word.replace(\"'re\", ' are')\r\n",
        "    sentence = sentence + word + ' '\r\n",
        "  return sentence \r\n",
        "\r\n",
        "\r\n",
        "#To remove the punctuation marks (if any) in sentences\r\n",
        "def remove_punctuations(sentence):\r\n",
        "  import string\r\n",
        "  table = str.maketrans('','',string.punctuation)\r\n",
        "  Words = sentence.split()\r\n",
        "  sentence = ''\r\n",
        "  for word in Words : \r\n",
        "    word = word.translate(table)\r\n",
        "    sentence = sentence + word+ ' '\r\n",
        "  return sentence\r\n"
      ],
      "execution_count": null,
      "outputs": []
    },
    {
      "cell_type": "code",
      "metadata": {
        "colab": {
          "base_uri": "https://localhost:8080/"
        },
        "id": "Lar2aPKnjowL",
        "outputId": "22b69426-5d0d-4742-ddd1-da919871ff94"
      },
      "source": [
        "## One last scenerio which comes in my mind is web_scrapping. In HTML codes there are syntax like <h>, <div> etc. which are of no use. To remove those there is a something called Beautiful Soap. \r\n",
        "\r\n",
        "#For example :-\r\n",
        "\r\n",
        "html_code = \"\"\"\r\n",
        "            <!DOCTYPE html>\r\n",
        "            <html>\r\n",
        "            <body>\r\n",
        "\r\n",
        "            <h1>My First Heading</h1>\r\n",
        "\r\n",
        "            <p>My first paragraph.</p>\r\n",
        "\r\n",
        "            </body>\r\n",
        "            </html>\r\n",
        "\"\"\"\r\n",
        "\r\n",
        "from bs4 import BeautifulSoup\r\n",
        "soup = BeautifulSoup(html_code)\r\n",
        "sentence = soup.get_text()\r\n",
        "print(sentence)\r\n",
        "\r\n",
        "## With this we will now take up a Real World Data and Dirty our hands to make that data clean !! LETS GO---->"
      ],
      "execution_count": null,
      "outputs": [
        {
          "output_type": "stream",
          "text": [
            "\n",
            "\n",
            "My First Heading\n",
            "My first paragraph.\n",
            "\n",
            "\n",
            "\n"
          ],
          "name": "stdout"
        }
      ]
    },
    {
      "cell_type": "code",
      "metadata": {
        "id": "F5kXuNEEq2NU"
      },
      "source": [
        "#--------------------------------------------------------------------### A REAL WORLD EXMAPLE ####----------------------------------------------------------------------------------------------------------"
      ],
      "execution_count": null,
      "outputs": []
    },
    {
      "cell_type": "code",
      "metadata": {
        "colab": {
          "base_uri": "https://localhost:8080/",
          "height": 379,
          "referenced_widgets": [
            "83e823ad2cee4f7eb8213119ff8935cc",
            "6e3ef544cbac4792a54d306004a16437",
            "1b57bd61bed943fdb6cea92b75d6bf70",
            "8806163a62c84a289888e841e298ff31",
            "04e5ea0b563f4181ab98c15fdd9049c7",
            "9362bbf6f37e4ada8bbe1a13850b0f1d",
            "dff5566309e34e92b7501ad9b6daba72",
            "b12ad8cf046f430687d8ee41bf64e5f1",
            "1346fb93031641caa2f431bfe0a917af",
            "d1b911136861474098f54c17f3e9662a",
            "f63492451c99453b86ea6f076407d15c",
            "4a742f5f98bf454598de8feff84f0ac9",
            "ed9b029c7b14455fad762a5495b825f8",
            "ba760894693a4305afed941ce3e57af6",
            "b51b953ec0d2457583d963d61d068d10",
            "7652632e91da467199720f9119f1bcd9",
            "77935776f5624d57a4a58c5caede3861",
            "4a2cd1c65a564e02a4fbdcc981ecd252",
            "ae18201bf99f4cf88fc2e8f7b2906a5c",
            "e1f504bb867d449eb3d023896db1c19a",
            "1f579e61c4ab46049852f468eaa73faa",
            "b2959c98998644b690b28b082f35d752",
            "d2e4758136544288be654a6526056c35",
            "9cd5e07b666e4b9389069b8e2a962f13",
            "de8f1975a46747d9b971d4bd95ede440",
            "88b34e63a3e34e398b2d9c8e406e919e",
            "81b4abdcd9974e3aaf964128fb69d48b",
            "4360290dd9f9497384ca14ee71ec95e2",
            "34cfafb2ae5146718ee04c3dc6489040",
            "e24b33ce559d461396e50d3bf39a8532",
            "38268e811ae34c469e206d60e744afa9",
            "745b5fd460c24daaa1c7c15297ef0fc9",
            "3413f823af0c44ae87b9ff0465704279",
            "6978728d9edb4b8284113e43a9c4bf89",
            "dd44c5a545df477c9952f93b1f222bd2",
            "5cb95cd6002c4284b1a380bfe084bac1",
            "3e6fc90366c34c10bedfdcef1718be45",
            "47dfb0af1b524751b7d21a2252c42809",
            "b911c9a3669647dd94c30b6acb60775e",
            "ab66051432084cae8e4312f7151c4d95",
            "f615da94820a487abaf908b8a3666909",
            "ecd922c3ca064b2380132722f33130e7",
            "29314927ea89455d8586abe1b6e7f8d8",
            "cfca60bd98074985ba8c5a86bb1cad82",
            "b2046e212f6f4b4287df6e6bb7976956",
            "6d73b1cd41f64bf5978650ab7674ac25",
            "fd713a572bb14b789c2cb70f9a388063",
            "3be4de1dfa2142bba595e4fe3badd6e5",
            "2b03dba3a9c94c3c8db320b52c271342",
            "a2c8aa029826422293e16a4aac678c51",
            "aa514d4a118a4b04ac0cc8a44e54ff17",
            "f0c4e112da804601a14e6bd68679623f",
            "3668795973314872ba16f3e477d89888",
            "84c101a2c9444b268d19d4cdb9161a3e",
            "ab00bd3b1d6f4693a239bc3674532888",
            "044804f3e8da45ecb370d35b9397040e",
            "bc4762483fb7438aaf4324655e6cee2f",
            "b16e85dbe98141acb117908c6d991e7f",
            "b031f017d819400d934bb3650a6b14db",
            "07bd0eb1b0f149b38a5d0c990de970ac",
            "306632a7e684484ea8e54db49ce04d58",
            "af0573c7f10f4540b91c19be657989c5",
            "26c2be1885c645ab843bc489c71bcd01",
            "ae13310fcf1c474dbe82485e57ca9163"
          ]
        },
        "id": "hDaznlAhquhC",
        "outputId": "accc53ef-eac0-4781-f07a-a9f4a31c3058"
      },
      "source": [
        "#Here we will use a  dataset available in tensorflow_datasets which is \"IMDb\" (Internet Movies Databases) containing various movies reviews and corresponding sentiment 'Good/Bad'\r\n",
        "# We will only extract words which are present most frequently with some filtering techniques we know now\r\n",
        "#Importing the dataset IMDb \r\n",
        "\r\n",
        "import tensorflow_datasets as tfds \r\n",
        "data = tfds.as_numpy(tfds.load('imdb_reviews',split='train'))\r\n",
        "\r\n",
        "#In this dataset there are 50,000 reviews!!"
      ],
      "execution_count": null,
      "outputs": [
        {
          "output_type": "stream",
          "text": [
            "\u001b[1mDownloading and preparing dataset imdb_reviews/plain_text/1.0.0 (download: 80.23 MiB, generated: Unknown size, total: 80.23 MiB) to /root/tensorflow_datasets/imdb_reviews/plain_text/1.0.0...\u001b[0m\n"
          ],
          "name": "stdout"
        },
        {
          "output_type": "display_data",
          "data": {
            "application/vnd.jupyter.widget-view+json": {
              "model_id": "83e823ad2cee4f7eb8213119ff8935cc",
              "version_minor": 0,
              "version_major": 2
            },
            "text/plain": [
              "HBox(children=(FloatProgress(value=1.0, bar_style='info', description='Dl Completed...', max=1.0, style=Progre…"
            ]
          },
          "metadata": {
            "tags": []
          }
        },
        {
          "output_type": "display_data",
          "data": {
            "application/vnd.jupyter.widget-view+json": {
              "model_id": "1346fb93031641caa2f431bfe0a917af",
              "version_minor": 0,
              "version_major": 2
            },
            "text/plain": [
              "HBox(children=(FloatProgress(value=1.0, bar_style='info', description='Dl Size...', max=1.0, style=ProgressSty…"
            ]
          },
          "metadata": {
            "tags": []
          }
        },
        {
          "output_type": "stream",
          "text": [
            "\n",
            "\n",
            "\n",
            "\n"
          ],
          "name": "stdout"
        },
        {
          "output_type": "display_data",
          "data": {
            "application/vnd.jupyter.widget-view+json": {
              "model_id": "77935776f5624d57a4a58c5caede3861",
              "version_minor": 0,
              "version_major": 2
            },
            "text/plain": [
              "HBox(children=(FloatProgress(value=1.0, bar_style='info', max=1.0), HTML(value='')))"
            ]
          },
          "metadata": {
            "tags": []
          }
        },
        {
          "output_type": "stream",
          "text": [
            "\rShuffling and writing examples to /root/tensorflow_datasets/imdb_reviews/plain_text/1.0.0.incompleteMDXO25/imdb_reviews-train.tfrecord\n"
          ],
          "name": "stdout"
        },
        {
          "output_type": "display_data",
          "data": {
            "application/vnd.jupyter.widget-view+json": {
              "model_id": "de8f1975a46747d9b971d4bd95ede440",
              "version_minor": 0,
              "version_major": 2
            },
            "text/plain": [
              "HBox(children=(FloatProgress(value=0.0, max=25000.0), HTML(value='')))"
            ]
          },
          "metadata": {
            "tags": []
          }
        },
        {
          "output_type": "stream",
          "text": [
            "\r"
          ],
          "name": "stdout"
        },
        {
          "output_type": "display_data",
          "data": {
            "application/vnd.jupyter.widget-view+json": {
              "model_id": "3413f823af0c44ae87b9ff0465704279",
              "version_minor": 0,
              "version_major": 2
            },
            "text/plain": [
              "HBox(children=(FloatProgress(value=1.0, bar_style='info', max=1.0), HTML(value='')))"
            ]
          },
          "metadata": {
            "tags": []
          }
        },
        {
          "output_type": "stream",
          "text": [
            "\rShuffling and writing examples to /root/tensorflow_datasets/imdb_reviews/plain_text/1.0.0.incompleteMDXO25/imdb_reviews-test.tfrecord\n"
          ],
          "name": "stdout"
        },
        {
          "output_type": "display_data",
          "data": {
            "application/vnd.jupyter.widget-view+json": {
              "model_id": "f615da94820a487abaf908b8a3666909",
              "version_minor": 0,
              "version_major": 2
            },
            "text/plain": [
              "HBox(children=(FloatProgress(value=0.0, max=25000.0), HTML(value='')))"
            ]
          },
          "metadata": {
            "tags": []
          }
        },
        {
          "output_type": "stream",
          "text": [
            "\r"
          ],
          "name": "stdout"
        },
        {
          "output_type": "display_data",
          "data": {
            "application/vnd.jupyter.widget-view+json": {
              "model_id": "2b03dba3a9c94c3c8db320b52c271342",
              "version_minor": 0,
              "version_major": 2
            },
            "text/plain": [
              "HBox(children=(FloatProgress(value=1.0, bar_style='info', max=1.0), HTML(value='')))"
            ]
          },
          "metadata": {
            "tags": []
          }
        },
        {
          "output_type": "stream",
          "text": [
            "\rShuffling and writing examples to /root/tensorflow_datasets/imdb_reviews/plain_text/1.0.0.incompleteMDXO25/imdb_reviews-unsupervised.tfrecord\n"
          ],
          "name": "stdout"
        },
        {
          "output_type": "display_data",
          "data": {
            "application/vnd.jupyter.widget-view+json": {
              "model_id": "bc4762483fb7438aaf4324655e6cee2f",
              "version_minor": 0,
              "version_major": 2
            },
            "text/plain": [
              "HBox(children=(FloatProgress(value=0.0, max=50000.0), HTML(value='')))"
            ]
          },
          "metadata": {
            "tags": []
          }
        },
        {
          "output_type": "stream",
          "text": [
            "WARNING:absl:Dataset is using deprecated text encoder API which will be removed soon. Please use the plain_text version of the dataset and migrate to `tensorflow_text`.\n"
          ],
          "name": "stderr"
        },
        {
          "output_type": "stream",
          "text": [
            "\u001b[1mDataset imdb_reviews downloaded and prepared to /root/tensorflow_datasets/imdb_reviews/plain_text/1.0.0. Subsequent calls will reuse this data.\u001b[0m\n",
            "\r"
          ],
          "name": "stdout"
        }
      ]
    },
    {
      "cell_type": "code",
      "metadata": {
        "id": "-CkFNH18z-NT"
      },
      "source": [
        "movie_reviews = []\r\n",
        "for item in data : \r\n",
        "  review = str(item['text'].decode('UTF-8').lower())\r\n",
        "  soup = BeautifulSoup(review)\r\n",
        "  review = soup.get_text()\r\n",
        "  review = clean_sentence(review)\r\n",
        "  review = remove_punctuations(review)\r\n",
        "  movie_reviews.append(review)"
      ],
      "execution_count": null,
      "outputs": []
    },
    {
      "cell_type": "code",
      "metadata": {
        "colab": {
          "base_uri": "https://localhost:8080/",
          "height": 145
        },
        "id": "qYMLwxt16exb",
        "outputId": "ca706349-4583-46a1-980a-766bd371dad6"
      },
      "source": [
        "movie_reviews[0]"
      ],
      "execution_count": null,
      "outputs": [
        {
          "output_type": "execute_result",
          "data": {
            "application/vnd.google.colaboratory.intrinsic+json": {
              "type": "string"
            },
            "text/plain": [
              "'this was an absolutely terrible movie  do not be lured in by christopher walken or michael ironside  both are great actors  but this must simply be their worst role in history  even their great acting could not redeem this movie is ridiculous storyline  this movie is an early nineties us propaganda piece  the most pathetic scenes were those when the columbian rebels were making their cases for revolutions  maria conchita alonso appeared phony  and her pseudo  love affair with walken was nothing but a pathetic emotional plug in a movie that was devoid of any real meaning  i am disappointed that there are movies like this  ruining actor is like christopher walken is good name  i could barely sit through it  '"
            ]
          },
          "metadata": {
            "tags": []
          },
          "execution_count": 79
        }
      ]
    },
    {
      "cell_type": "code",
      "metadata": {
        "id": "3uZ1EoxxyWXe"
      },
      "source": [
        "# Now do some tokenization and remove the stopwords from these cleaned sentences :>\r\n",
        "\r\n",
        "# removing the stopwords from sentences \r\n",
        "updated = []\r\n",
        "for review in movie_reviews : \r\n",
        "  sentence = ''\r\n",
        "  review = review.split()\r\n",
        "  for word in review : \r\n",
        "    if word not in Stopwords :    #This has been defined initially at the start You can go back  and check if you don't remember \r\n",
        "      sentence = sentence + word + ' '\r\n",
        "  updated.append(sentence)\r\n",
        "movie_reviews = updated \r\n",
        "\r\n",
        "#Tokenization \r\n",
        "tokenizer = Tokenizer(num_words=5000,oov_token='<oov>')\r\n",
        "tokenizer.fit_on_texts(movie_reviews)\r\n",
        "word_index = tokenizer.word_index\r\n",
        "sequences = tokenizer.texts_to_sequences(movie_reviews)  # You can pass some other list of sentences here too to get their tokens. If some word in not present in word_index it will shows <oov>\r\n"
      ],
      "execution_count": null,
      "outputs": []
    },
    {
      "cell_type": "code",
      "metadata": {
        "colab": {
          "base_uri": "https://localhost:8080/",
          "height": 108
        },
        "id": "UO45xGVd7QuS",
        "outputId": "8867cc1a-1d5d-411e-839f-f4508effc544"
      },
      "source": [
        "movie_reviews[0]  ## See yourself how many stopwords were there ....phww "
      ],
      "execution_count": null,
      "outputs": [
        {
          "output_type": "execute_result",
          "data": {
            "application/vnd.google.colaboratory.intrinsic+json": {
              "type": "string"
            },
            "text/plain": [
              "'absolutely terrible movie lured christopher walken michael ironside great actors must simply worst role history even great acting redeem movie ridiculous storyline movie early nineties us propaganda piece pathetic scenes columbian rebels making cases revolutions maria conchita alonso appeared phony pseudo love affair walken nothing pathetic emotional plug movie devoid real meaning disappointed movies like ruining actor like christopher walken good name barely sit '"
            ]
          },
          "metadata": {
            "tags": []
          },
          "execution_count": 81
        }
      ]
    },
    {
      "cell_type": "code",
      "metadata": {
        "colab": {
          "base_uri": "https://localhost:8080/"
        },
        "id": "KgC3QOjR76dd",
        "outputId": "d1bd1327-cd51-49fb-d202-5cfac258248f"
      },
      "source": [
        "## Coverting sequences into rectangular matrix \r\n",
        "\r\n",
        "updated_sequences = pad_sequences(sequences,padding='post')\r\n",
        "print('Shape of Matrix which will be fed in model : ',len(updated_sequences),'x',len(updated_sequences[0]))\r\n",
        "\r\n",
        "\r\n",
        "#Note :\r\n",
        "## This model can be futhur imporved by removing the words which have no meaning and are some random text , That we will see later.. Till then bye!"
      ],
      "execution_count": null,
      "outputs": [
        {
          "output_type": "stream",
          "text": [
            "Shape of Matrix which will be fed in model :  25000 x 1422\n"
          ],
          "name": "stdout"
        }
      ]
    },
    {
      "cell_type": "code",
      "metadata": {
        "colab": {
          "base_uri": "https://localhost:8080/"
        },
        "id": "ToK7mQroAfVQ",
        "outputId": "01c98172-4c5c-4d04-f226-7b1e0362dd52"
      },
      "source": [
        "print('Some Top Words present in Reviews are :',list(word_index.keys())[1:20])  #IN decreasing order of frequency\r\n"
      ],
      "execution_count": null,
      "outputs": [
        {
          "output_type": "stream",
          "text": [
            "Some Top Words present in Reviews are : ['movie', 'film', 'one', 'like', 'just', 'good', 'time', 'even', 'story', 'really', 'see', 'well', 'much', 'get', 'bad', 'people', 'also', 'great', 'first']\n"
          ],
          "name": "stdout"
        }
      ]
    },
    {
      "cell_type": "code",
      "metadata": {
        "id": "FLEdcTJc-pyl"
      },
      "source": [
        "# Decoder can be used convert these sequences back to review given except the text which was not recognized\r\n",
        "Decoder = {}\r\n",
        "for key,value in word_index.items():\r\n",
        "  Decoder[value]=key\r\n"
      ],
      "execution_count": null,
      "outputs": []
    },
    {
      "cell_type": "code",
      "metadata": {
        "colab": {
          "base_uri": "https://localhost:8080/"
        },
        "id": "L8JI-ej89cmr",
        "outputId": "039f9217-0a4f-489b-b013-dc8866c2233d"
      },
      "source": [
        "## Lets give a review and see its sequence :\r\n",
        "review = 'I saw that movie yesterday and I find that very boring still I find other way which is NLP very interesting lets solve some problems in that'\r\n",
        "seq = tokenizer.texts_to_sequences([review])\r\n",
        "print(seq)"
      ],
      "execution_count": null,
      "outputs": [
        {
          "output_type": "stream",
          "text": [
            "[[1, 112, 1, 2, 3674, 1, 1, 71, 1, 1, 243, 46, 1, 71, 1, 22, 1, 1, 1, 1, 114, 1476, 3195, 1, 574, 1, 1]]\n"
          ],
          "name": "stdout"
        }
      ]
    },
    {
      "cell_type": "code",
      "metadata": {
        "colab": {
          "base_uri": "https://localhost:8080/"
        },
        "id": "9d55_s5h_Cs8",
        "outputId": "4cec3290-6f0b-44d7-eb35-c66156bc20f9"
      },
      "source": [
        "decoded_sentence = ''\r\n",
        "for x in seq[0] : \r\n",
        "  if x != 1:\r\n",
        "    decoded_sentence = decoded_sentence + Decoder[x]+ ' '\r\n",
        "print(decoded_sentence)"
      ],
      "execution_count": null,
      "outputs": [
        {
          "output_type": "stream",
          "text": [
            "saw movie yesterday find boring still find way interesting lets solve problems \n"
          ],
          "name": "stdout"
        }
      ]
    },
    {
      "cell_type": "code",
      "metadata": {
        "id": "8Y3GK9m1_J_d"
      },
      "source": [
        ""
      ],
      "execution_count": null,
      "outputs": []
    },
    {
      "cell_type": "markdown",
      "metadata": {
        "id": "ITtFAgCKDyqI"
      },
      "source": [
        "### Sarcastic News Headline or NOT : Sentiment Analysis using Tensorflow and NLP techniques"
      ]
    },
    {
      "cell_type": "code",
      "metadata": {
        "colab": {
          "base_uri": "https://localhost:8080/",
          "height": 198
        },
        "id": "fRKApZ2ID6CT",
        "outputId": "63b401b6-c4f9-4552-bbf8-3e0c1dd19669"
      },
      "source": [
        "#you can read csv files using pandas read_csv method . Simple isn't it? \r\n",
        "import pandas as pd \r\n",
        "data = pd.read_csv(r'ufo.csv')\r\n",
        "data.head()"
      ],
      "execution_count": null,
      "outputs": [
        {
          "output_type": "execute_result",
          "data": {
            "text/html": [
              "<div>\n",
              "<style scoped>\n",
              "    .dataframe tbody tr th:only-of-type {\n",
              "        vertical-align: middle;\n",
              "    }\n",
              "\n",
              "    .dataframe tbody tr th {\n",
              "        vertical-align: top;\n",
              "    }\n",
              "\n",
              "    .dataframe thead th {\n",
              "        text-align: right;\n",
              "    }\n",
              "</style>\n",
              "<table border=\"1\" class=\"dataframe\">\n",
              "  <thead>\n",
              "    <tr style=\"text-align: right;\">\n",
              "      <th></th>\n",
              "      <th>City</th>\n",
              "      <th>Colors Reported</th>\n",
              "      <th>Shape Reported</th>\n",
              "      <th>State</th>\n",
              "      <th>Time</th>\n",
              "    </tr>\n",
              "  </thead>\n",
              "  <tbody>\n",
              "    <tr>\n",
              "      <th>0</th>\n",
              "      <td>Ithaca</td>\n",
              "      <td>NaN</td>\n",
              "      <td>TRIANGLE</td>\n",
              "      <td>NY</td>\n",
              "      <td>6/1/1930 22:00</td>\n",
              "    </tr>\n",
              "    <tr>\n",
              "      <th>1</th>\n",
              "      <td>Willingboro</td>\n",
              "      <td>NaN</td>\n",
              "      <td>OTHER</td>\n",
              "      <td>NJ</td>\n",
              "      <td>6/30/1930 20:00</td>\n",
              "    </tr>\n",
              "    <tr>\n",
              "      <th>2</th>\n",
              "      <td>Holyoke</td>\n",
              "      <td>NaN</td>\n",
              "      <td>OVAL</td>\n",
              "      <td>CO</td>\n",
              "      <td>2/15/1931 14:00</td>\n",
              "    </tr>\n",
              "    <tr>\n",
              "      <th>3</th>\n",
              "      <td>Abilene</td>\n",
              "      <td>NaN</td>\n",
              "      <td>DISK</td>\n",
              "      <td>KS</td>\n",
              "      <td>6/1/1931 13:00</td>\n",
              "    </tr>\n",
              "    <tr>\n",
              "      <th>4</th>\n",
              "      <td>New York Worlds Fair</td>\n",
              "      <td>NaN</td>\n",
              "      <td>LIGHT</td>\n",
              "      <td>NY</td>\n",
              "      <td>4/18/1933 19:00</td>\n",
              "    </tr>\n",
              "  </tbody>\n",
              "</table>\n",
              "</div>"
            ],
            "text/plain": [
              "                   City Colors Reported Shape Reported State             Time\n",
              "0                Ithaca             NaN       TRIANGLE    NY   6/1/1930 22:00\n",
              "1           Willingboro             NaN          OTHER    NJ  6/30/1930 20:00\n",
              "2               Holyoke             NaN           OVAL    CO  2/15/1931 14:00\n",
              "3               Abilene             NaN           DISK    KS   6/1/1931 13:00\n",
              "4  New York Worlds Fair             NaN          LIGHT    NY  4/18/1933 19:00"
            ]
          },
          "metadata": {
            "tags": []
          },
          "execution_count": 88
        }
      ]
    },
    {
      "cell_type": "code",
      "metadata": {
        "colab": {
          "base_uri": "https://localhost:8080/"
        },
        "id": "50eTYZ-aIfTm",
        "outputId": "31e8dbc3-57b6-4d0b-9c8e-963ea5347c9e"
      },
      "source": [
        "#Now if you want any column as training column lets say City column here then just select it like this\r\n",
        "\r\n",
        "train = data['City'].tolist()\r\n",
        "print(train[:10])"
      ],
      "execution_count": null,
      "outputs": [
        {
          "output_type": "stream",
          "text": [
            "['Ithaca', 'Willingboro', 'Holyoke', 'Abilene', 'New York Worlds Fair', 'Valley City', 'Crater Lake', 'Alma', 'Eklutna', 'Hubbard']\n"
          ],
          "name": "stdout"
        }
      ]
    },
    {
      "cell_type": "code",
      "metadata": {
        "colab": {
          "base_uri": "https://localhost:8080/"
        },
        "id": "wFTVAMrWITUS",
        "outputId": "e5a1c13a-68b2-4676-a9cc-4f8ac9742c35"
      },
      "source": [
        "#loading json file \r\n",
        "!wget --no-check-certificate \\\r\n",
        "    https://storage.googleapis.com/laurencemoroney-blog.appspot.com/sarcasm.json \\\r\n",
        "    -O /tmp/sarcasm.json\r\n",
        "\r\n",
        "#Now we will see how to import JSON Files . pandas currently do not load JSON files directly . \r\n",
        "# for that we will use json library in python and make our life easier\r\n",
        "\r\n",
        "import json\r\n",
        "import numpy as np\r\n",
        "\r\n",
        "with open('/tmp/sarcasm.json','r') as f:\r\n",
        "  Data = json.load(f)\r\n",
        "\r\n",
        "#data[:5]\r\n"
      ],
      "execution_count": null,
      "outputs": [
        {
          "output_type": "stream",
          "text": [
            "--2021-01-27 17:54:33--  https://storage.googleapis.com/laurencemoroney-blog.appspot.com/sarcasm.json\n",
            "Resolving storage.googleapis.com (storage.googleapis.com)... 142.250.101.128, 74.125.137.128, 2607:f8b0:4023:c03::80, ...\n",
            "Connecting to storage.googleapis.com (storage.googleapis.com)|142.250.101.128|:443... connected.\n",
            "HTTP request sent, awaiting response... 200 OK\n",
            "Length: 5643545 (5.4M) [application/json]\n",
            "Saving to: ‘/tmp/sarcasm.json’\n",
            "\n",
            "\r/tmp/sarcasm.json     0%[                    ]       0  --.-KB/s               \r/tmp/sarcasm.json   100%[===================>]   5.38M  --.-KB/s    in 0.02s   \n",
            "\n",
            "2021-01-27 17:54:33 (292 MB/s) - ‘/tmp/sarcasm.json’ saved [5643545/5643545]\n",
            "\n"
          ],
          "name": "stdout"
        }
      ]
    },
    {
      "cell_type": "code",
      "metadata": {
        "id": "cPb8FE1tGxin"
      },
      "source": [
        "# Make list of headlines\r\n",
        "data = [x['headline'] for x in Data]\r\n"
      ],
      "execution_count": 233,
      "outputs": []
    },
    {
      "cell_type": "code",
      "metadata": {
        "id": "ZDAO1STUCBPm"
      },
      "source": [
        "\r\n",
        "# Data Cleaning and Removing Stopwords\r\n",
        "\r\n",
        "#data cleaning \r\n",
        "for i in range(len(data)) : \r\n",
        "  sentence = clean_sentence(data[i])\r\n",
        "  #print(sentence)\r\n",
        "  sentence = remove_punctuations(sentence)\r\n",
        "  #print(sentence)\r\n",
        "  data[i]=sentence\r\n",
        "\r\n",
        "# removing the stopwords from sentences \r\n",
        "updated = []\r\n",
        "for x in data : \r\n",
        "  sentence = ''\r\n",
        "  x = x.split()\r\n",
        "  for word in x : \r\n",
        "    if word not in Stopwords :    #This has been defined initially at the start You can go back  and check if you don't remember \r\n",
        "      sentence = sentence + word + ' '\r\n",
        "  updated.append(sentence) \r\n",
        "data = updated\r\n",
        "updated=[]\r\n",
        "\r\n",
        "\r\n",
        "#----------------------------------------------------------------------------------------------------------\r\n",
        "\r\n",
        "#Till now no hyperparameter tuning was involved but now we will need to do some tuning \r\n",
        "\r\n",
        "# Now lets check how acccrate our model is right now \r\n",
        "import matplotlib.pyplot as plt \r\n",
        "%matplotlib inline\r\n",
        "\r\n",
        "def draw_graphs(history,epoch):\r\n",
        "    print(history.history.keys())\r\n",
        "    epochs = [i for i in range(epoch)]\r\n",
        "    #Accuracy training vs Validation \r\n",
        "    plt.plot(epochs,history.history['accuracy'])\r\n",
        "    plt.plot(epochs,history.history['val_accuracy'])\r\n",
        "    plt.title(\"Accuracy : Training vs Validation\")\r\n",
        "    plt.xlabel(\"Epochs\")\r\n",
        "    plt.ylabel(\"Accuracy\")\r\n",
        "    plt.show()\r\n",
        "\r\n",
        "    #Loss Training vs Validation\r\n",
        "    plt.title(\"Loss : Training vs Validation\")\r\n",
        "    plt.xlabel(\"Epochs\")\r\n",
        "    plt.ylabel(\"Loss\")\r\n",
        "    plt.plot(epochs,history.history['loss'])\r\n",
        "    plt.plot(epochs,history.history['val_loss'])\r\n",
        "    plt.show()\r\n",
        "\r\n",
        "def training_model(vocab_size,embedding_size,epoch):\r\n",
        "\r\n",
        "    tokenizer = Tokenizer(num_words = vocab_size, oov_token= '<oov>')\r\n",
        "\r\n",
        "    #Training and testing split\r\n",
        "\r\n",
        "    training_heading = []\r\n",
        "    testing_heading = []\r\n",
        "\r\n",
        "    #size of data file ~27000 \r\n",
        "    #we take training size = 80% i.e 21000\r\n",
        "    training_size = 21000\r\n",
        "    for x in data[:training_size] : \r\n",
        "      training_heading.append(x)\r\n",
        "\r\n",
        "    for x in data[training_size:] : \r\n",
        "      testing_heading.append(x)\r\n",
        "\r\n",
        "    #Tokenization and padding\r\n",
        "    tokenizer.fit_on_texts(training_heading)\r\n",
        "    word_index_training = tokenizer.word_index\r\n",
        "    training_sequences = tokenizer.texts_to_sequences(training_heading)\r\n",
        "    training_padded = pad_sequences(training_sequences,padding= 'post',maxlen = 15,truncating='post')\r\n",
        "\r\n",
        "    testing_sequences = tokenizer.texts_to_sequences(testing_heading)\r\n",
        "    testing_padded = pad_sequences(testing_sequences,padding= 'post',maxlen = 15,truncating='post')\r\n",
        "\r\n",
        "    #Now we have cleaned training and testing data  so lets move to creating a model \r\n",
        "\r\n",
        "    #first convert list into numpy array as required in input\r\n",
        "    import numpy as np\r\n",
        "    training_padded = np.array(training_padded)\r\n",
        "    training_labels = np.array([x['is_sarcastic'] for x in Data[:training_size]])\r\n",
        "    testing_padded = np.array(testing_padded)\r\n",
        "    testing_labels = np.array([x['is_sarcastic'] for x in Data[training_size:]])\r\n",
        "\r\n",
        "    #Model Declaration\r\n",
        "    model = tf.keras.Sequential([\r\n",
        "    tf.keras.layers.Embedding(vocab_size, embedding_size),  #create array of 16 numbers for each word , here we have 10000 words in vocabulory \r\n",
        "                                            #check by print(len(word_index)==10000) \r\n",
        "    tf.keras.layers.GlobalAveragePooling1D(),\r\n",
        "    tf.keras.layers.Dense(24, activation='relu'),\r\n",
        "    tf.keras.layers.Dense(1, activation='sigmoid')\r\n",
        "    ])\r\n",
        "\r\n",
        "    model.compile(loss='binary_crossentropy',\r\n",
        "    optimizer='adam',metrics=['accuracy'])\r\n",
        "\r\n",
        "    print(model.summary())\r\n",
        "    history = model.fit(training_padded,training_labels,epochs=epoch,validation_data=(testing_padded,testing_labels),verbose=0)\r\n",
        "    \r\n",
        "    draw_graphs(history,epoch)"
      ],
      "execution_count": 253,
      "outputs": []
    },
    {
      "cell_type": "code",
      "metadata": {
        "id": "7HrX8PRlQAm_",
        "colab": {
          "base_uri": "https://localhost:8080/",
          "height": 875
        },
        "outputId": "e36303b8-2a24-4138-ebb7-3a9cd4d547bf"
      },
      "source": [
        "training_model(2000,7,30)"
      ],
      "execution_count": 254,
      "outputs": [
        {
          "output_type": "stream",
          "text": [
            "Model: \"sequential_18\"\n",
            "_________________________________________________________________\n",
            "Layer (type)                 Output Shape              Param #   \n",
            "=================================================================\n",
            "embedding_18 (Embedding)     (None, None, 7)           14000     \n",
            "_________________________________________________________________\n",
            "global_average_pooling1d_18  (None, 7)                 0         \n",
            "_________________________________________________________________\n",
            "dense_36 (Dense)             (None, 24)                192       \n",
            "_________________________________________________________________\n",
            "dense_37 (Dense)             (None, 1)                 25        \n",
            "=================================================================\n",
            "Total params: 14,217\n",
            "Trainable params: 14,217\n",
            "Non-trainable params: 0\n",
            "_________________________________________________________________\n",
            "None\n",
            "dict_keys(['loss', 'accuracy', 'val_loss', 'val_accuracy'])\n"
          ],
          "name": "stdout"
        },
        {
          "output_type": "display_data",
          "data": {
            "image/png": "[encoded data removed]",
            "text/plain": [
              "<Figure size 432x288 with 1 Axes>"
            ]
          },
          "metadata": {
            "tags": [],
            "needs_background": "light"
          }
        },
        {
          "output_type": "display_data",
          "data": {
            "image/png": "[encoded data removed]",
            "text/plain": [
              "<Figure size 432x288 with 1 Axes>"
            ]
          },
          "metadata": {
            "tags": [],
            "needs_background": "light"
          }
        }
      ]
    },
    {
      "cell_type": "code",
      "metadata": {
        "colab": {
          "base_uri": "https://localhost:8080/",
          "height": 610
        },
        "id": "P6R8ozyfJY8M",
        "outputId": "f5f823c2-4092-468b-e126-002ef2764943"
      },
      "source": [
        "# You can experiment with parameters and see result .\r\n",
        "\r\n",
        "#Reason : We have chosen embedded size to be 15 because around 80% words in tokenizer's word_index \r\n",
        "#         are having very low frequency (<20 times)\r\n",
        "\r\n",
        "#         Also you can see below graph that word after 2000 are of very low frequency thats why we keep \r\n",
        "#         vocab_size equal to 2000 \r\n",
        "\r\n",
        "wc = tokenizer.word_counts\r\n",
        "from collections import OrderedDict\r\n",
        "newlist = (OrderedDict(sorted(wc.items(), key=lambda t: t[1], reverse=True)))\r\n",
        "print(newlist)\r\n",
        "\r\n",
        "xs=[]\r\n",
        "ys=[]\r\n",
        "curr_x = 1\r\n",
        "for item in newlist:\r\n",
        " xs.append(curr_x)\r\n",
        " curr_x=curr_x+1\r\n",
        " ys.append(newlist[item])\r\n",
        "plt.title(\"Word frequency Graph\")\r\n",
        "plt.xlabel(\"Word Index \")\r\n",
        "plt.ylabel(\"frequency of word\")\r\n",
        "plt.plot(xs,ys)\r\n",
        "plt.axis([2000,10000,0,100])\r\n",
        "plt.show()\r\n",
        "\r\n",
        "\r\n",
        "lenghts = []\r\n",
        "yss = []\r\n",
        "l = len(xs)\r\n",
        "for x in newlist : \r\n",
        "  yss.append(len(x))\r\n",
        "yss = sorted(yss,reverse=True)\r\n",
        "plt.title(\"Word lenghts Graph\")\r\n",
        "plt.xlabel(\"Word Index \")\r\n",
        "plt.ylabel(\"lenght of word\")\r\n",
        "plt.plot(xs,yss)\r\n",
        "plt.show()\r\n"
      ],
      "execution_count": 255,
      "outputs": [
        {
          "output_type": "stream",
          "text": [
            "OrderedDict([('trump', 1319), ('new', 1205), ('man', 1103), ('just', 452), ('year', 434), ('one', 423), ('report', 394), ('area', 388), ('woman', 378), ('donald', 369), ('day', 364), ('u', 364), ('says', 352), ('time', 350), ('s', 345), ('first', 342), ('obama', 321), ('get', 319), ('like', 315), ('women', 312), ('old', 312), ('now', 301), ('people', 299), ('life', 298), ('world', 297), ('nation', 280), ('house', 270), ('clinton', 264), ('back', 260), ('white', 258), ('still', 252), ('make', 245), ('5', 232), ('americans', 229), ('family', 223), ('way', 220), ('gop', 212), ('black', 211), ('study', 208), ('president', 202), ('best', 198), ('show', 197), ('bill', 194), ('school', 193), ('3', 187), ('america', 187), ('years', 186), ('police', 185), ('watch', 185), ('american', 183), ('really', 180), ('know', 180), ('things', 179), ('going', 179), ('good', 179), ('hillary', 177), ('ca', 177), ('last', 177), ('video', 176), ('death', 175), ('love', 174), ('10', 173), ('state', 173), ('finds', 172), ('home', 170), ('mom', 167), ('health', 163), ('may', 161), ('parents', 160), ('need', 159), ('child', 159), ('right', 156), ('2', 156), ('work', 155), ('every', 155), ('000', 154), ('party', 154), ('campaign', 153), ('say', 153), ('take', 151), ('big', 150), ('gets', 150), ('little', 149), ('dead', 147), ('kids', 144), ('court', 144), ('getting', 143), ('john', 141), ('high', 141), ('go', 137), ('news', 137), ('calls', 136), ('makes', 136), ('7', 135), ('election', 135), ('gay', 133), ('never', 132), ('self', 132), ('takes', 132), ('local', 132), ('guy', 132), ('war', 130), ('real', 130), ('bush', 129), ('4', 128), ('baby', 128), ('college', 128), ('game', 127), ('dad', 127), ('want', 127), ('plan', 126), ('see', 125), ('week', 125), ('look', 124), ('stop', 123), ('6', 123), ('office', 122), ('change', 122), ('next', 121), ('around', 121), ('even', 121), ('dog', 119), ('sex', 118), ('another', 118), ('two', 117), ('got', 116), ('1', 116), ('live', 114), ('job', 113), ('ever', 113), ('made', 113), ('thing', 112), ('wants', 112), ('us', 111), ('children', 111), ('million', 111), ('north', 109), ('congress', 109), ('care', 109), ('city', 109), ('actually', 108), ('help', 108), ('couple', 108), ('long', 108), ('gun', 108), ('son', 107), ('much', 107), ('night', 105), ('debate', 105), ('national', 104), ('students', 104), ('season', 103), ('god', 103), ('men', 103), ('20', 102), ('without', 101), ('ways', 100), ('friend', 100), ('9', 100), ('better', 99), ('give', 99), ('free', 99), ('anti', 99), ('wo', 99), ('everyone', 98), ('star', 98), ('finally', 98), ('senate', 98), ('shows', 98), ('teen', 98), ('sexual', 98), ('tv', 97), ('climate', 97), ('paul', 97), ('media', 97), ('law', 97), ('trying', 96), ('history', 96), ('face', 96), ('making', 96), ('bad', 95), ('shooting', 94), ('entire', 94), ('girl', 94), ('8', 94), ('money', 93), ('away', 93), ('story', 93), ('mother', 93), ('tell', 93), ('top', 92), ('part', 92), ('end', 92), ('government', 92), ('york', 91), ('film', 90), ('friends', 90), ('business', 90), ('reveals', 90), ('attack', 89), ('pope', 89), ('movie', 89), ('supreme', 89), ('deal', 89), ('announces', 89), ('food', 88), ('body', 87), ('found', 87), ('enough', 87), ('come', 86), ('company', 86), ('facebook', 86), ('car', 86), ('introduces', 86), ('fight', 85), ('fire', 85), ('find', 84), ('james', 84), ('11', 84), ('think', 84), ('single', 83), ('power', 83), ('book', 83), ('wedding', 83), ('father', 82), ('sanders', 82), ('run', 82), ('republican', 82), ('former', 81), ('middle', 81), ('morning', 80), ('already', 80), ('looking', 80), ('call', 80), ('christmas', 79), ('line', 79), ('public', 79), ('photos', 79), ('second', 79), ('great', 79), ('must', 78), ('tax', 78), ('used', 78), ('thinks', 78), ('support', 77), ('future', 77), ('use', 77), ('keep', 77), ('pretty', 77), ('asks', 76), ('rights', 76), ('room', 76), ('speech', 76), ('talk', 76), ('behind', 75), ('student', 75), ('coming', 75), ('marriage', 75), ('wife', 74), ('email', 74), ('team', 74), ('boy', 74), ('security', 74), ('republicans', 74), ('2016', 74), ('claims', 73), ('vote', 73), ('human', 73), ('voters', 72), ('teacher', 72), ('california', 72), ('name', 72), ('presidential', 72), ('race', 72), ('democrats', 72), ('country', 72), ('political', 71), ('inside', 71), ('control', 71), ('perfect', 71), ('goes', 71), ('open', 71), ('department', 71), ('might', 71), ('judge', 71), ('violence', 71), ('ad', 71), ('12', 70), ('ban', 70), ('group', 70), ('obamacare', 70), ('case', 69), ('twitter', 69), ('something', 69), ('biden', 69), ('girls', 69), ('secret', 68), ('fans', 68), ('ryan', 68), ('releases', 68), ('killed', 68), ('full', 67), ('sure', 67), ('everything', 67), ('win', 67), ('russia', 67), ('person', 67), ('texas', 66), ('kim', 66), ('always', 66), ('female', 66), ('missing', 66), ('minutes', 66), ('poll', 66), ('art', 66), ('comes', 65), ('post', 65), ('three', 65), ('bernie', 65), ('shot', 65), ('record', 65), ('today', 65), ('days', 65), ('working', 64), ('korea', 64), ('reports', 64), ('living', 64), ('music', 64), ('scientists', 64), ('month', 64), ('meet', 64), ('photo', 64), ('word', 64), ('candidate', 64), ('wall', 64), ('put', 64), ('drug', 63), ('ready', 63), ('summer', 63), ('breaking', 63), ('unveils', 63), ('super', 63), ('15', 63), ('china', 63), ('director', 63), ('rock', 63), ('save', 62), ('lives', 62), ('mike', 62), ('states', 62), ('town', 62), ('gives', 62), ('heart', 62), ('lost', 61), ('head', 61), ('place', 61), ('fucking', 61), ('start', 61), ('thousands', 61), ('running', 61), ('many', 61), ('forced', 61), ('times', 60), ('pay', 60), ('water', 60), ('cancer', 60), ('class', 60), ('education', 60), ('looks', 60), ('employee', 60), ('iran', 60), ('leaves', 59), ('earth', 59), ('list', 59), ('red', 59), ('fan', 59), ('hollywood', 59), ('age', 59), ('taking', 59), ('believe', 59), ('king', 59), ('owner', 59), ('street', 59), ('eating', 58), ('daughter', 58), ('air', 58), ('restaurant', 58), ('letter', 58), ('yet', 58), ('isis', 58), ('social', 58), ('left', 58), ('plans', 58), ('romney', 58), ('hot', 58), ('cruz', 57), ('dream', 57), ('military', 57), ('tells', 57), ('admits', 57), ('probably', 57), ('beautiful', 57), ('administration', 57), ('needs', 57), ('nothing', 57), ('south', 57), ('fbi', 57), ('wins', 56), ('hard', 56), ('dies', 56), ('michael', 56), ('past', 56), ('set', 56), ('secretary', 56), ('guide', 56), ('talks', 56), ('30', 56), ('congressman', 55), ('march', 55), ('internet', 55), ('tips', 55), ('crisis', 55), ('officials', 55), ('personal', 55), ('half', 55), ('chris', 55), ('phone', 54), ('justice', 54), ('wrong', 54), ('excited', 54), ('service', 54), ('young', 54), ('together', 54), ('ceo', 53), ('nuclear', 53), ('ex', 53), ('thought', 53), ('questions', 53), ('assault', 53), ('kill', 53), ('50', 53), ('girlfriend', 53), ('holiday', 52), ('al', 52), ('lot', 52), ('shit', 52), ('florida', 52), ('wearing', 52), ('buy', 52), ('small', 52), ('ice', 52), ('warns', 52), ('latest', 52), ('idea', 52), ('birthday', 51), ('problem', 51), ('move', 51), ('george', 51), ('washington', 51), ('kid', 51), ('system', 51), ('knows', 51), ('someone', 51), ('sleep', 51), ('federal', 51), ('un', 50), ('late', 50), ('giving', 50), ('celebrates', 50), ('abortion', 50), ('special', 50), ('ask', 50), ('moment', 50), ('cover', 50), ('birth', 50), ('huffpost', 50), ('tweets', 50), ('cat', 50), ('happy', 49), ('bar', 49), ('muslim', 49), ('box', 49), ('chief', 49), ('percent', 49), ('fox', 49), ('fun', 49), ('message', 49), ('issues', 49), ('third', 49), ('response', 49), ('rise', 49), ('talking', 49), ('less', 49), ('weekend', 49), ('feel', 49), ('series', 48), ('ted', 48), ('hour', 48), ('following', 48), ('told', 48), ('2015', 48), ('outside', 48), ('mark', 48), ('stars', 48), ('career', 48), ('billion', 48), ('trip', 48), ('rules', 48), ('read', 48), ('russian', 48), ('meeting', 48), ('reason', 48), ('majority', 48), ('online', 48), ('break', 48), ('syrian', 47), ('play', 47), ('victims', 47), ('francis', 47), ('community', 47), ('using', 47), ('scott', 46), ('gift', 46), ('syria', 46), ('hours', 46), ('david', 46), ('hope', 46), ('taylor', 46), ('travel', 46), ('thinking', 46), ('favorite', 46), ('anything', 46), ('senator', 46), ('become', 46), ('order', 46), ('adorable', 46), ('watching', 46), ('pence', 46), ('months', 46), ('stephen', 46), ('hair', 46), ('fashion', 45), ('democratic', 45), ('union', 45), ('bus', 45), ('minute', 45), ('point', 45), ('offers', 45), ('front', 45), ('kind', 45), ('well', 45), ('reasons', 45), ('cop', 45), ('joe', 45), ('visit', 45), ('least', 44), ('different', 44), ('crash', 44), ('c', 44), ('date', 44), ('since', 44), ('dating', 44), ('true', 44), ('politics', 44), ('prince', 44), ('apple', 43), ('straight', 43), ('lessons', 43), ('prison', 43), ('workers', 43), ('trailer', 43), ('leader', 43), ('kardashian', 43), ('far', 43), ('conversation', 43), ('industry', 43), ('protest', 42), ('millions', 42), ('accused', 42), ('hate', 42), ('rubio', 42), ('global', 42), ('lead', 42), ('tom', 42), ('feels', 42), ('non', 42), ('spends', 42), ('magazine', 42), ('attacks', 42), ('artist', 41), ('oil', 41), ('t', 41), ('powerful', 41), ('sick', 41), ('100', 41), ('fighting', 41), ('leave', 41), ('voice', 41), ('united', 41), ('struggling', 41), ('fuck', 41), ('low', 41), ('discover', 41), ('west', 41), ('names', 41), ('weird', 41), ('key', 41), ('hit', 41), ('policy', 41), ('learned', 41), ('candidates', 41), ('amazon', 41), ('2017', 41), ('dinner', 41), ('huge', 40), ('sports', 40), ('wars', 40), ('die', 40), ('drunk', 40), ('worried', 40), ('surprise', 40), ('kills', 40), ('brings', 40), ('bring', 40), ('mass', 40), ('song', 40), ('act', 40), ('oscar', 40), ('opens', 40), ('employees', 40), ('return', 40), ('relationship', 40), ('general', 40), ('stage', 40), ('schools', 40), ('leaders', 40), ('stand', 40), ('returns', 40), ('store', 39), ('j', 39), ('vows', 39), ('jenner', 39), ('members', 39), ('breaks', 39), ('d', 39), ('near', 39), ('number', 39), ('reality', 39), ('google', 39), ('style', 39), ('walking', 39), ('anniversary', 39), ('test', 39), ('turns', 39), ('five', 39), ('waiting', 39), ('iowa', 39), ('sign', 39), ('host', 39), ('mind', 39), ('called', 39), ('trans', 39), ('totally', 39), ('suicide', 39), ('fear', 38), ('k', 38), ('reportedly', 38), ('lose', 38), ('killing', 38), ('massive', 38), ('40', 38), ('light', 38), ('2014', 38), ('queer', 38), ('major', 38), ('adds', 38), ('turn', 38), ('cops', 38), ('force', 38), ('weight', 38), ('worst', 38), ('hands', 38), ('coworker', 38), ('transgender', 38), ('spring', 38), ('nfl', 38), ('fall', 38), ('whole', 38), ('interview', 38), ('possible', 38), ('steve', 38), ('puts', 38), ('executive', 38), ('signs', 38), ('wait', 38), ('moms', 38), ('immigration', 38), ('cut', 38), ('close', 38), ('given', 38), ('tour', 38), ('early', 38), ('press', 38), ('side', 38), ('cnn', 37), ('decision', 37), ('hits', 37), ('planet', 37), ('michelle', 37), ('road', 37), ('iraq', 37), ('peace', 37), ('carolina', 37), ('chicago', 37), ('door', 37), ('poor', 37), ('chinese', 37), ('audience', 37), ('13', 37), ('moving', 37), ('lgbt', 37), ('important', 37), ('card', 37), ('governor', 37), ('eyes', 37), ('jr', 37), ('murder', 37), ('band', 37), ('ferguson', 37), ('friday', 36), ('christian', 36), ('abuse', 36), ('awards', 36), ('asking', 36), ('paris', 36), ('advice', 36), ('male', 36), ('swift', 36), ('eat', 36), ('space', 36), ('loses', 36), ('netflix', 36), ('planned', 36), ('investigation', 36), ('oscars', 36), ('park', 36), ('completely', 36), ('university', 36), ('sean', 36), ('suspect', 36), ('seen', 36), ('jimmy', 36), ('keeps', 36), ('chance', 36), ('users', 36), ('pizza', 36), ('feeling', 36), ('protesters', 36), ('n', 36), ('program', 35), ('almost', 35), ('green', 35), ('queen', 35), ('emotional', 35), ('longer', 35), ('responds', 35), ('driving', 35), ('push', 35), ('leaving', 35), ('bathroom', 35), ('final', 35), ('easy', 35), ('pro', 35), ('fails', 35), ('voter', 35), ('pick', 35), ('doctor', 35), ('humans', 35), ('spot', 35), ('defense', 35), ('ben', 35), ('words', 35), ('biggest', 35), ('official', 35), ('center', 35), ('ideas', 34), ('williams', 34), ('nasa', 34), ('coffee', 34), ('risk', 34), ('role', 34), ('whether', 34), ('building', 34), ('boys', 34), ('moore', 34), ('allegations', 34), ('comey', 34), ('o', 34), ('football', 34), ('repeal', 34), ('begins', 34), ('dance', 34), ('across', 34), ('homeless', 34), ('crime', 34), ('hoping', 34), ('hand', 34), ('harassment', 34), ('israel', 34), ('picture', 34), ('playing', 34), ('east', 34), ('cool', 34), ('action', 34), ('try', 34), ('shares', 34), ('amazing', 34), ('results', 34), ('hall', 34), ('chicken', 34), ('worse', 33), ('urges', 33), ('refugees', 33), ('problems', 33), ('check', 33), ('color', 33), ('18', 33), ('ebola', 33), ('celebrate', 33), ('racist', 33), ('arrested', 33), ('kelly', 33), ('healthy', 33), ('four', 33), ('supporters', 33), ('scandal', 33), ('fast', 33), ('remember', 33), ('bowl', 33), ('halloween', 33), ('happened', 33), ('louis', 33), ('shop', 33), ('bear', 33), ('manager', 33), ('hero', 33), ('success', 33), ('mental', 33), ('leading', 33), ('60', 33), ('older', 33), ('board', 33), ('happens', 33), ('vacation', 33), ('historical', 33), ('crowd', 33), ('suggests', 33), ('deep', 33), ('truth', 33), ('husband', 33), ('starting', 32), ('threat', 32), ('forward', 32), ('track', 32), ('economy', 32), ('clearly', 32), ('done', 32), ('clean', 32), ('worth', 32), ('documentary', 32), ('hurricane', 32), ('17', 32), ('album', 32), ('science', 32), ('deadly', 32), ('grandma', 32), ('kerry', 32), ('museum', 32), ('funding', 32), ('jobs', 32), ('reform', 32), ('website', 32), ('spend', 32), ('harvey', 32), ('reporter', 32), ('jones', 32), ('fda', 32), ('throws', 32), ('hilarious', 32), ('hear', 32), ('movement', 32), ('rally', 32), ('episode', 32), ('wishes', 31), ('opening', 31), ('reveal', 31), ('nearly', 31), ('mean', 31), ('said', 31), ('apologizes', 31), ('eric', 31), ('reminds', 31), ('boyfriend', 31), ('lgbtq', 31), ('hotel', 31), ('mayor', 31), ('beauty', 31), ('review', 31), ('fake', 31), ('rest', 31), ('receives', 31), ('despite', 31), ('chair', 31), ('finding', 31), ('depression', 31), ('movies', 31), ('officer', 31), ('blood', 31), ('uses', 31), ('apartment', 31), ('plane', 31), ('e', 31), ('gold', 31), ('likely', 31), ('celebrity', 31), ('holding', 31), ('demand', 31), ('14', 31), ('harry', 31), ('question', 31), ('seeing', 31), ('st', 31), ('slams', 31), ('pregnant', 31), ('dying', 31), ('anyone', 31), ('bank', 31), ('lady', 31), ('sales', 31), ('colbert', 31), ('apparently', 31), ('experience', 31), ('rape', 31), ('legal', 30), ('simple', 30), ('culture', 30), ('elizabeth', 30), ('driver', 30), ('dreams', 30), ('loss', 30), ('six', 30), ('spending', 30), ('matter', 30), ('senators', 30), ('club', 30), ('address', 30), ('prevent', 30), ('church', 30), ('incredible', 30), ('desperate', 30), ('teens', 30), ('realizes', 30), ('among', 30), ('quietly', 30), ('telling', 30), ('nice', 30), ('proud', 30), ('explains', 30), ('olympic', 30), ('residents', 30), ('foreign', 30), ('dress', 30), ('soon', 30), ('skin', 30), ('demands', 30), ('sound', 30), ('short', 30), ('istar', 29), ('orders', 29), ('robert', 29), ('lawsuit', 29), ('golden', 29), ('announce', 29), ('trade', 29), ('voting', 29), ('divorce', 29), ('release', 29), ('justin', 29), ('financial', 29), ('jeff', 29), ('killer', 29), ('families', 29), ('hell', 29), ('somehow', 29), ('rich', 29), ('helping', 29), ('ahead', 29), ('dark', 29), ('sad', 29), ('disney', 29), ('event', 29), ('leads', 29), ('search', 29), ('worker', 29), ('bag', 29), ('tweet', 29), ('hospital', 29), ('books', 29), ('avoid', 29), ('recalls', 29), ('puerto', 29), ('daily', 29), ('went', 29), ('25', 29), ('budget', 29), ('loved', 29), ('send', 28), ('giant', 28), ('level', 28), ('primary', 28), ('writing', 28), ('boss', 28), ('miss', 28), ('jennifer', 28), ('steps', 28), ('isnl', 28), ('performance', 28), ('moves', 28), ('amid', 28), ('epa', 28), ('reading', 28), ('tired', 28), ('staff', 28), ('protect', 28), ('christie', 28), ('promises', 28), ('mccain', 28), ('asked', 28), ('thrones', 28), ('probe', 28), ('jesus', 28), ('wild', 28), ('civil', 28), ('also', 28), ('london', 28), ('terrible', 28), ('co', 28), ('passes', 28), ('growing', 28), ('faces', 28), ('award', 28), ('turkey', 28), ('activists', 28), ('archives', 28), ('labor', 28), ('bob', 28), ('issue', 28), ('committee', 28), ('evidence', 28), ('lets', 28), ('trial', 28), ('died', 28), ('guys', 28), ('brown', 28), ('glass', 28), ('fired', 28), ('nyc', 27), ('flight', 27), ('beer', 27), ('theory', 27), ('guilty', 27), ('learn', 27), ('project', 27), ('putting', 27), ('cast', 27), ('stunning', 27), ('airlines', 27), ('immigrants', 27), ('retirement', 27), ('shut', 27), ('launches', 27), ('freedom', 27), ('blue', 27), ('planning', 27), ('learning', 27), ('launch', 27), ('sets', 27), ('refugee', 27), ('cia', 27), ('unable', 27), ('common', 27), ('floor', 27), ('festival', 27), ('data', 27), ('dozens', 27), ('san', 27), ('gave', 27), ('ohio', 27), ('piece', 27), ('table', 27), ('energy', 27), ('mueller', 27), ('ends', 27), ('royal', 27), ('mexico', 27), ('pass', 27), ('turning', 27), ('concerned', 27), ('refuses', 27), ('yes', 27), ('create', 27), ('medical', 27), ('attempt', 27), ('boehner', 26), ('lawyer', 26), ('market', 26), ('slowly', 26), ('forces', 26), ('teachers', 26), ('becomes', 26), ('lunch', 26), ('actor', 26), ('comments', 26), ('tries', 26), ('gender', 26), ('insurance', 26), ('votes', 26), ('inspired', 26), ('saying', 26), ('wanted', 26), ('private', 26), ('thanksgiving', 26), ('places', 26), ('dnc', 26), ('tree', 26), ('average', 26), ('afghanistan', 26), ('congressional', 26), ('terror', 26), ('marijuana', 26), ('commercial', 26), ('games', 26), ('claim', 26), ('hearing', 26), ('tech', 26), ('suddenly', 26), ('taken', 26), ('met', 26), ('nra', 26), ('toddler', 26), ('thanks', 26), ('allegedly', 26), ('extra', 26), ('character', 26), ('walk', 26), ('marketing', 26), ('popular', 26), ('roundup', 26), ('shirt', 26), ('paper', 26), ('cold', 26), ('sweet', 26), ('stuck', 26), ('suit', 26), ('magical', 25), ('cities', 25), ('came', 25), ('honor', 25), ('recommends', 25), ('airport', 25), ('player', 25), ('polls', 25), ('greatest', 25), ('fourth', 25), ('raise', 25), ('viral', 25), ('price', 25), ('released', 25), ('sea', 25), ('religious', 25), ('speak', 25), ('fifth', 25), ('course', 25), ('writer', 25), ('machine', 25), ('ground', 25), ('immediately', 25), ('network', 25), ('grader', 25), ('threatens', 25), ('confirms', 25), ('hundreds', 25), ('jeb', 25), ('station', 25), ('ride', 25), ('jong', 25), ('dangerous', 25), ('ceremony', 25), ('else', 25), ('rare', 25), ('step', 25), ('within', 25), ('speaks', 25), ('winter', 25), ('quick', 25), ('loves', 25), ('sees', 25), ('naked', 25), ('martin', 25), ('hold', 25), ('silence', 25), ('battle', 25), ('france', 25), ('train', 25), ('palestinian', 25), ('carpet', 25), ('scene', 25), ('breakfast', 25), ('pregnancy', 25), ('aid', 25), ('onto', 25), ('marco', 25), ('winning', 25), ('funniest', 25), ('elderly', 25), ('ago', 24), ('assures', 24), ('surprised', 24), ('uber', 24), ('toward', 24), ('complete', 24), ('santa', 24), ('heard', 24), ('drinking', 24), ('cause', 24), ('doctors', 24), ('parenting', 24), ('gas', 24), ('noah', 24), ('meal', 24), ('moon', 24), ('debuts', 24), ('customers', 24), ('roy', 24), ('virginia', 24), ('warning', 24), ('guest', 24), ('monday', 24), ('bed', 24), ('caught', 24), ('cost', 24), ('eye', 24), ('disease', 24), ('border', 24), ('wake', 24), ('ring', 24), ('named', 24), ('stories', 24), ('foot', 24), ('update', 24), ('youth', 24), ('muslims', 24), ('cars', 24), ('experts', 24), ('french', 24), ('enters', 24), ('sends', 24), ('citizens', 24), ('bee', 24), ('species', 24), ('fat', 24), ('seconds', 24), ('rick', 24), ('failure', 24), ('guns', 24), ('instagram', 24), ('others', 24), ('allows', 24), ('trevor', 24), ('fit', 24), ('saudi', 24), ('2018', 24), ('paid', 24), ('putin', 24), ('stay', 24), ('according', 24), ('bannon', 24), ('likes', 24), ('meat', 23), ('holds', 23), ('generation', 23), ('changing', 23), ('90', 23), ('international', 23), ('helped', 23), ('happen', 23), ('sarah', 23), ('asshole', 23), ('grandmother', 23), ('historic', 23), ('domestic', 23), ('alone', 23), ('perfectly', 23), ('choice', 23), ('brother', 23), ('fair', 23), ('rnc', 23), ('convention', 23), ('com', 23), ('army', 23), ('safe', 23), ('beat', 23), ('recipes', 23), ('screen', 23), ('stress', 23), ('burger', 23), ('ball', 23), ('numbers', 23), ('hopes', 23), ('accidentally', 23), ('block', 23), ('200', 23), ('discovered', 23), ('form', 23), ('brain', 23), ('training', 23), ('bird', 23), ('television', 23), ('falls', 23), ('points', 23), ('failed', 23), ('controversial', 23), ('increase', 23), ('drive', 23), ('shutdown', 23), ('century', 23), ('pre', 23), ('created', 23), ('technology', 23), ('dogs', 22), ('baseball', 22), ('drop', 22), ('concert', 22), ('crew', 22), ('fix', 22), ('continues', 22), ('please', 22), ('mouth', 22), ('hurt', 22), ('charged', 22), ('grade', 22), ('challenge', 22), ('thank', 22), ('re', 22), ('meets', 22), ('total', 22), ('spent', 22), ('beach', 22), ('kanye', 22), ('inauguration', 22), ('sitting', 22), ('crazy', 22), ('pool', 22), ('customer', 22), ('laws', 22), ('matt', 22), ('amy', 22), ('sentence', 22), ('nobody', 22), ('safety', 22), ('weeks', 22), ('trash', 22), ('works', 22), ('married', 22), ('era', 22), ('african', 22), ('jim', 22), ('desk', 22), ('attempts', 22), ('mexican', 22), ('focus', 22), ('mall', 22), ('mcconnell', 22), ('x', 22), ('israeli', 22), ('critics', 22), ('annual', 22), ('singer', 22), ('treatment', 22), ('emergency', 22), ('means', 22), ('anymore', 22), ('rico', 22), ('stuff', 22), ('losing', 22), ('cheese', 22), ('radio', 22), ('debt', 21), ('stock', 21), ('process', 21), ('foundation', 21), ('wish', 21), ('mcdonald', 21), ('helps', 21), ('warren', 21), ('vatican', 21), ('ass', 21), ('target', 21), ('credit', 21), ('india', 21), ('camera', 21), ('vs', 21), ('speed', 21), ('disaster', 21), ('inequality', 21), ('held', 21), ('artists', 21), ('ivanka', 21), ('prime', 21), ('becoming', 21), ('theater', 21), ('faith', 21), ('truck', 21), ('channel', 21), ('iphone', 21), ('bell', 21), ('journalists', 21), ('smith', 21), ('decides', 21), ('stewart', 21), ('blasts', 21), ('pop', 21), ('parking', 21), ('vice', 21), ('rescue', 21), ('animals', 21), ('veteran', 21), ('sense', 21), ('busy', 21), ('neighborhood', 21), ('pants', 21), ('classic', 21), ('kate', 21), ('sunday', 21), ('porn', 21), ('joke', 21), ('changes', 21), ('buying', 21), ('survivors', 21), ('economic', 21), ('diet', 21), ('corporate', 21), ('tonight', 21), ('declares', 21), ('absolutely', 21), ('missile', 21), ('gap', 21), ('premiere', 21), ('term', 21), ('note', 21), ('runs', 21), ('sandwich', 21), ('16', 21), ('nba', 21), ('member', 21), ('intelligence', 21), ('lifetime', 21), ('cabinet', 21), ('stops', 21), ('double', 21), ('listen', 20), ('healthcare', 20), ('beginning', 20), ('ocean', 20), ('soccer', 20), ('injured', 20), ('cash', 20), ('cup', 20), ('throw', 20), ('corden', 20), ('patient', 20), ('celebrities', 20), ('disappointed', 20), ('heads', 20), ('tiny', 20), ('nominee', 20), ('cake', 20), ('answer', 20), ('offering', 20), ('huffpollster', 20), ('defends', 20), ('couples', 20), ('400', 20), ('forever', 20), ('vegas', 20), ('wear', 20), ('gym', 20), ('nbc', 20), ('tim', 20), ('attention', 20), ('figure', 20), ('threats', 20), ('site', 20), ('bid', 20), ('epidemic', 20), ('w', 20), ('conference', 20), ('ruling', 20), ('hill', 20), ('pays', 20), ('groups', 20), ('democracy', 20), ('image', 20), ('cuba', 20), ('diversity', 20), ('stupid', 20), ('tears', 20), ('kansas', 20), ('korean', 20), ('kylie', 20), ('instead', 20), ('weinstein', 20), ('agent', 20), ('prepares', 20), ('victim', 20), ('camp', 20), ('parenthood', 20), ('wondering', 20), ('tuesday', 20), ('product', 20), ('fund', 20), ('mitch', 20), ('teach', 20), ('seek', 20), ('pull', 20), ('barack', 20), ('whatever', 20), ('research', 20), ('cheney', 20), ('misconduct', 20), ('nomination', 20), ('potential', 20), ('higher', 20), ('headquarters', 20), ('calling', 20), ('appearance', 20), ('johnson', 20), ('recent', 20), ('chuck', 20), ('protests', 20), ('legacy', 20), ('senior', 20), ('access', 20), ('standing', 20), ('jury', 20), ('musical', 19), ('build', 19), ('clear', 19), ('passing', 19), ('skills', 19), ('visiting', 19), ('feet', 19), ('drops', 19), ('valentine', 19), ('jewish', 19), ('modern', 19), ('model', 19), ('hado', 19), ('increasingly', 19), ('later', 19), ('proof', 19), ('write', 19), ('23', 19), ('explain', 19), ('perry', 19), ('throughout', 19), ('wolf', 19), ('comedy', 19), ('along', 19), ('pride', 19), ('flu', 19), ('largest', 19), ('rule', 19), ('universe', 19), ('asian', 19), ('field', 19), ('nude', 19), ('subway', 19), ('remains', 19), ('parent', 19), ('realize', 19), ('several', 19), ('studio', 19), ('bunch', 19), ('journalist', 19), ('campus', 19), ('onion', 19), ('per', 19), ('exactly', 19), ('memorial', 19), ('english', 19), ('famous', 19), ('cards', 19), ('wage', 19), ('welcome', 19), ('legend', 19), ('allow', 19), ('anxiety', 19), ('link', 19), ('lee', 19), ('accident', 19), ('alabama', 19), ('took', 19), ('able', 19), ('article', 19), ('agree', 19), ('adult', 19), ('weapons', 19), ('hampshire', 19), ('bizarre', 19), ('zoo', 19), ('horse', 19), ('drink', 19), ('sale', 19), ('large', 19), ('view', 19), ('researchers', 19), ('raises', 19), ('saves', 19), ('costs', 19), ('empty', 19), ('cream', 19), ('replace', 19), ('brand', 19), ('struggle', 19), ('jay', 19), ('schumer', 19), ('edge', 19), ('traveling', 19), ('mysterious', 19), ('effort', 19), ('ii', 19), ('share', 19), ('tried', 19), ('interest', 19), ('pet', 19), ('fires', 19), ('code', 18), ('huckabee', 18), ('bomb', 18), ('features', 18), ('visits', 18), ('changed', 18), ('spicer', 18), ('—', 18), ('africa', 18), ('behavior', 18), ('strikes', 18), ('vision', 18), ('shoots', 18), ('shooter', 18), ('sort', 18), ('fine', 18), ('sun', 18), ('joy', 18), ('journey', 18), ('controversy', 18), ('seems', 18), ('finish', 18), ('thomas', 18), ('proves', 18), ('creepy', 18), ('flying', 18), ('boat', 18), ('serious', 18), ('quiet', 18), ('awkward', 18), ('lawyers', 18), ('bible', 18), ('approves', 18), ('drag', 18), ('shocked', 18), ('frustrated', 18), ('b', 18), ('row', 18), ('author', 18), ('gifts', 18), ('blame', 18), ('violent', 18), ('players', 18), ('attend', 18), ('dear', 18), ('anger', 18), ('broken', 18), ('m', 18), ('officers', 18), ('window', 18), ('threatened', 18), ('holidays', 18), ('carson', 18), ('attorney', 18), ('charges', 18), ('defend', 18), ('dressed', 18), ('partner', 18), ('gone', 18), ('acting', 18), ('terrified', 18), ('themed', 18), ('cuts', 18), ('society', 18), ('pound', 18), ('terrifying', 18), ('continue', 18), ('previously', 18), ('digital', 18), ('olympics', 18), ('reaches', 18), ('rep', 18), ('sorry', 18), ('saved', 18), ('impression', 18), ('jon', 18), ('countries', 18), ('user', 18), ('princess', 18), ('strike', 18), ('neighbor', 18), ('minister', 18), ('grow', 18), ('dick', 18), ('saving', 18), ('lack', 18), ('lobby', 18), ('literally', 18), ('decades', 18), ('covered', 18), ('currently', 18), ('roll', 18), ('items', 18), ('filled', 18), ('conservative', 18), ('kick', 18), ('hawaii', 18), ('rolls', 18), ('ones', 18), ('escape', 18), ('victory', 18), ('picks', 18), ('drugs', 18), ('disgusting', 18), ('immigrant', 18), ('destroy', 18), ('jack', 18), ('sessions', 18), ('waste', 18), ('p', 18), ('pot', 18), ('island', 18), ('creative', 18), ('pounds', 18), ('cosby', 17), ('adam', 17), ('positive', 17), ('mars', 17), ('funeral', 17), ('childhood', 17), ('gps', 17), ('l', 17), ('plastic', 17), ('size', 17), ('creating', 17), ('guard', 17), ('scalia', 17), ('progressive', 17), ('friendly', 17), ('zuckerberg', 17), ('dr', 17), ('europe', 17), ('coworkers', 17), ('companies', 17), ('harder', 17), ('davis', 17), ('drone', 17), ('speaking', 17), ('exclusive', 17), ('tall', 17), ('devos', 17), ('information', 17), ('based', 17), ('mothers', 17), ('solar', 17), ('delivers', 17), ('sent', 17), ('orlando', 17), ('normal', 17), ('cook', 17), ('council', 17), ('businesses', 17), ('account', 17), ('plant', 17), ('tribute', 17), ('reminder', 17), ('christ', 17), ('statue', 17), ('honors', 17), ('rebels', 17), ('arizona', 17), ('presidency', 17), ('snow', 17), ('awesome', 17), ('recommend', 17), ('35', 17), ('promise', 17), ('seriously', 17), ('current', 17), ('owners', 17), ('weather', 17), ('emails', 17), ('leadership', 17), ('cute', 17), ('resigns', 17), ('charity', 17), ('angry', 17), ('yoga', 17), ('anthem', 17), ('bin', 17), ('richard', 17), ('latino', 17), ('cross', 17), ('hiv', 17), ('strategy', 17), ('jail', 17), ('loud', 17), ('sit', 17), ('tale', 17), ('roommate', 17), ('eyed', 17), ('urban', 17), ('depressed', 17), ('chrissy', 17), ('crying', 17), ('fish', 17), ('opinion', 17), ('blames', 17), ('fame', 17), ('hunger', 17), ('lies', 17), ('fully', 17), ('criminal', 17), ('tony', 17), ('trolls', 17), ('equal', 17), ('terrorism', 17), ('funny', 17), ('hitting', 17), ('kevin', 17), ('cases', 17), ('torture', 17), ('upcoming', 17), ('sources', 17), ('pack', 17), ('ray', 17), ('aims', 17), ('needed', 17), ('tank', 17), ('michigan', 17), ('grown', 16), ('de', 16), ('bit', 16), ('failing', 16), ('fail', 16), ('thursday', 16), ('19', 16), ('peter', 16), ('heroin', 16), ('g', 16), ('embarrassed', 16), ('heaven', 16), ('section', 16), ('practice', 16), ('characters', 16), ('tough', 16), ('joins', 16), ('storm', 16), ('offer', 16), ('flag', 16), ('prize', 16), ('relieved', 16), ('racism', 16), ('taco', 16), ('mr', 16), ('bombing', 16), ('ellen', 16), ('related', 16), ('equality', 16), ('misses', 16), ('outbreak', 16), ('conservatives', 16), ('toxic', 16), ('factory', 16), ('therapy', 16), ('ancient', 16), ('freak', 16), ('text', 16), ('matters', 16), ('honored', 16), ('costume', 16), ('inspires', 16), ('searching', 16), ('lie', 16), ('listening', 16), ('upset', 16), ('land', 16), ('songs', 16), ('value', 16), ('indian', 16), ('authorities', 16), ('portrait', 16), ('legislation', 16), ('incident', 16), ('newly', 16), ('confirm', 16), ('expected', 16), ('computer', 16), ('walker', 16), ('deliver', 16), ('figures', 16), ('laid', 16), ('add', 16), ('communities', 16), ('teigen', 16), ('catholic', 16), ('starts', 16), ('knew', 16), ('rose', 16), ('graham', 16), ('lucky', 16), ('shower', 16), ('weed', 16), ('transportation', 16), ('beyoncé', 16), ('z', 16), ('protecting', 16), ('sounds', 16), ('farm', 16), ('wednesday', 16), ('due', 16), ('remembers', 16), ('everywhere', 16), ('ford', 16), ('feature', 16), ('shape', 16), ('population', 16), ('georgia', 16), ('pulls', 16), ('larry', 16), ('creator', 16), ('speaker', 16), ('silver', 16), ('easter', 16), ('remove', 16), ('actual', 16), ('alive', 16), ('passengers', 15), ('considering', 15), ('trouble', 15), ('truly', 15), ('dakota', 15), ('conspiracy', 15), ('gunman', 15), ('italy', 15), ('turned', 15), ('believes', 15), ('miles', 15), ('staffers', 15), ('clothes', 15), ('newspaper', 15), ('magic', 15), ('lines', 15), ('lawmakers', 15), ('designer', 15), ('melania', 15), ('knowing', 15), ('officially', 15), ('content', 15), ('babies', 15), ('seth', 15), ('daughters', 15), ('happiness', 15), ('mentally', 15), ('barely', 15), ('mystery', 15), ('epic', 15), ('facts', 15), ('stone', 15), ('tiger', 15), ('enjoying', 15), ('original', 15), ('brothers', 15), ('routine', 15), ('inmates', 15), ('survivor', 15), ('mail', 15), ('charlottesville', 15), ('unexpected', 15), ('horrible', 15), ('details', 15), ('australia', 15), ('arrest', 15), ('tea', 15), ('professor', 15), ('secrets', 15), ('selling', 15), ('urge', 15), ('pennsylvania', 15), ('gross', 15), ('benefits', 15), ('missed', 15), ('successful', 15), ('dirty', 15), ('burning', 15), ('editor', 15), ('newborn', 15), ('receive', 15), ('meditation', 15), ('appear', 15), ('quickly', 15), ('strip', 15), ('prescription', 15), ('overweight', 15), ('exhausted', 15), ('guests', 15), ('threatening', 15), ('cheap', 15), ('discuss', 15), ('rush', 15), ('frozen', 15), ('las', 15), ('marine', 15), ('became', 15), ('alert', 15), ('glasses', 15), ('falling', 15), ('teenage', 15), ('comedian', 15), ('thoughts', 15), ('dads', 15), ('respect', 15), ('trapped', 15), ('conflict', 15), ('jackson', 15), ('gore', 15), ('adviser', 15), ('gov', 15), ('oregon', 15), ('app', 15), ('fraud', 15), ('cruise', 15), ('edition', 15), ('21', 15), ('amount', 15), ('miracle', 15), ('realizing', 15), ('memory', 15), ('soul', 15), ('mid', 15), ('strong', 15), ('plays', 15), ('kitchen', 15), ('ukraine', 15), ('looked', 15), ('capable', 15), ('maher', 15), ('detroit', 15), ('shoot', 15), ('banks', 15), ('taste', 15), ('elections', 15), ('relief', 15), ('dangers', 15), ('traffic', 15), ('begin', 15), ('unaware', 15), ('walks', 15), ('streets', 15), ('rather', 15), ('web', 14), ('electric', 14), ('source', 14), ('horror', 14), ('colorado', 14), ('taught', 14), ('breast', 14), ('round', 14), ('burns', 14), ('seattle', 14), ('globes', 14), ('jokes', 14), ('uk', 14), ('neil', 14), ('amendment', 14), ('sending', 14), ('bacon', 14), ('strangers', 14), ('affair', 14), ('match', 14), ('trust', 14), ('painful', 14), ('unless', 14), ('boston', 14), ('ed', 14), ('sen', 14), ('paying', 14), ('rescued', 14), ('betsy', 14), ('boost', 14), ('oklahoma', 14), ('directly', 14), ('anyway', 14), ('criticism', 14), ('trend', 14), ('meals', 14), ('deserve', 14), ('teaches', 14), ('jordan', 14), ('delicious', 14), ('serial', 14), ('novel', 14), ('defeat', 14), ('glad', 14), ('hide', 14), ('apology', 14), ('environment', 14), ('lawmaker', 14), ('45', 14), ('horrified', 14), ('panicked', 14), ('enjoys', 14), ('highway', 14), ('mississippi', 14), ('linked', 14), ('staying', 14), ('kimmel', 14), ('backed', 14), ('shift', 14), ('false', 14), ('lone', 14), ('known', 14), ('ultimate', 14), ('dancing', 14), ('puppy', 14), ('lying', 14), ('500', 14), ('entertainment', 14), ('proposal', 14), ('blows', 14), ('britney', 14), ('hannity', 14), ('handle', 14), ('income', 14), ('80', 14), ('genius', 14), ('laden', 14), ('founder', 14), ('join', 14), ('fears', 14), ('boring', 14), ('aged', 14), ('moments', 14), ('clock', 14), ('gather', 14), ('aging', 14), ('smart', 14), ('born', 14), ('clip', 14), ('bikini', 14), ('cleaning', 14), ('wine', 14), ('hates', 14), ('heat', 14), ('enjoy', 14), ('quit', 14), ('position', 14), ('dvd', 14), ('nursing', 14), ('creates', 14), ('duty', 14), ('jersey', 14), ('remain', 14), ('ties', 14), ('keeping', 14), ('approval', 14), ('laugh', 14), ('winner', 14), ('sister', 14), ('page', 14), ('milk', 14), ('winners', 14), ('contact', 14), ('resistance', 14), ('broke', 14), ('lower', 14), ('warn', 14), ('deeply', 14), ('pentagon', 14), ('neighbors', 14), ('natural', 14), ('graduates', 14), ('survive', 14), ('expect', 14), ('rips', 14), ('habits', 14), ('jerry', 14), ('abandoned', 14), ('lake', 14), ('religion', 14), ('navy', 14), ('direct', 14), ('v', 14), ('brought', 14), ('reach', 14), ('profile', 14), ('alternative', 13), ('veterans', 13), ('allies', 13), ('denies', 13), ('closet', 13), ('younger', 13), ('stolen', 13), ('inner', 13), ('assad', 13), ('removes', 13), ('sixth', 13), ('sentenced', 13), ('accept', 13), ('unemployed', 13), ('canada', 13), ('shelter', 13), ('70', 13), ('path', 13), ('nick', 13), ('bachelor', 13), ('sexist', 13), ('goodbye', 13), ('appears', 13), ('available', 13), ('grateful', 13), ('areal', 13), ('fcc', 13), ('title', 13), ('loving', 13), ('interior', 13), ('meyers', 13), ('net', 13), ('okay', 13), ('easier', 13), ('steven', 13), ('carrying', 13), ('knife', 13), ('surgery', 13), ('kasich', 13), ('brief', 13), ('forgotten', 13), ('setting', 13), ('shopping', 13), ('identity', 13), ('purchase', 13), ('lamar', 13), ('annoying', 13), ('checks', 13), ('difficult', 13), ('astronomers', 13), ('dreamers', 13), ('migrants', 13), ('drinks', 13), ('idiot', 13), ('buys', 13), ('warm', 13), ('fantasy', 13), ('miranda', 13), ('zone', 13), ('reunion', 13), ('patrick', 13), ('records', 13), ('pictures', 13), ('importance', 13), ('jared', 13), ('kushner', 13), ('broadway', 13), ('insists', 13), ('politicians', 13), ('mad', 13), ('production', 13), ('basketball', 13), ('exchange', 13), ('thankful', 13), ('alzheimer', 13), ('crack', 13), ('frantically', 13), ('seeks', 13), ('feminist', 13), ('anne', 13), ('engagement', 13), ('gorsuch', 13), ('racial', 13), ('actors', 13), ('photographer', 13), ('resign', 13), ('fruit', 13), ('conditions', 13), ('illinois', 13), ('glimpse', 13), ('tops', 13), ('impact', 13), ('qaeda', 13), ('parade', 13), ('loser', 13), ('apart', 13), ('stares', 13), ('updates', 13), ('unsure', 13), ('responsible', 13), ('r', 13), ('dropped', 13), ('quite', 13), ('worldwide', 13), ('liberty', 13), ('slightly', 13), ('addiction', 13), ('prayers', 13), ('nervous', 13), ('delivery', 13), ('palin', 13), ('split', 13), ('mess', 13), ('regular', 13), ('havery', 13), ('documents', 13), ('suspects', 13), ('neck', 13), ('eats', 13), ('attractive', 13), ('zero', 13), ('revolution', 13), ('inspiring', 13), ('supporting', 13), ('disorder', 13), ('hackers', 13), ('policies', 13), ('blow', 13), ('prove', 13), ('toll', 13), ('viewers', 13), ('sight', 13), ('poverty', 13), ('flavor', 13), ('virus', 13), ('24', 13), ('garden', 13), ('lights', 13), ('feelings', 13), ('shame', 13), ('raising', 13), ('gaga', 13), ('gorgeous', 13), ('suspended', 13), ('crimes', 13), ('ads', 13), ('aides', 13), ('argument', 13), ('earthquake', 13), ('la', 13), ('afghan', 13), ('seaworld', 13), ('rachel', 13), ('opportunity', 13), ('soda', 13), ('nature', 13), ('coach', 13), ('anderson', 13), ('afford', 13), ('homes', 13), ('brazil', 13), ('galaxy', 13), ('base', 13), ('humanity', 13), ('shootings', 13), ('charge', 13), ('coverage', 13), ('billionaire', 13), ('drake', 13), ('films', 13), ('bringing', 13), ('determined', 13), ('effects', 13), ('whose', 13), ('confidence', 13), ('tragedy', 13), ('committed', 13), ('images', 13), ('pulling', 13), ('los', 13), ('actress', 13), ('latinos', 13), ('exercise', 13), ('mistakes', 13), ('type', 13), ('seat', 13), ('italian', 13), ('ability', 13), ('shark', 13), ('ill', 13), ('agrees', 13), ('poster', 13), ('capital', 13), ('sues', 12), ('bigger', 12), ('drivers', 12), ('ending', 12), ('constitution', 12), ('van', 12), ('eve', 12), ('ghost', 12), ('curry', 12), ('cyrus', 12), ('lands', 12), ('ship', 12), ('slow', 12), ('philadelphia', 12), ('plus', 12), ('spirit', 12), ('july', 12), ('feminism', 12), ('worry', 12), ('meaning', 12), ('rising', 12), ('completes', 12), ('rice', 12), ('touching', 12), ('comfortable', 12), ('toilet', 12), ('holy', 12), ('circle', 12), ('started', 12), ('ordered', 12), ('demographic', 12), ('progress', 12), ('wonders', 12), ('lottery', 12), ('advocates', 12), ('solve', 12), ('footage', 12), ('discrimination', 12), ('profit', 12), ('neutrality', 12), ('status', 12), ('makeup', 12), ('inmate', 12), ('brad', 12), ('county', 12), ('alleged', 12), ('aside', 12), ('prosecutor', 12), ('sites', 12), ('fresh', 12), ('bieber', 12), ('heroic', 12), ('marks', 12), ('independence', 12), ('allen', 12), ('admit', 12), ('troops', 12), ('comic', 12), ('tattoo', 12), ('consumers', 12), ('kfc', 12), ('secretly', 12), ('jake', 12), ('february', 12), ('toy', 12), ('tourist', 12), ('golf', 12), ('follow', 12), ('adele', 12), ('personality', 12), ('nazi', 12), ('anchor', 12), ('australian', 12), ('census', 12), ('strength', 12), ('elected', 12), ('bored', 12), ('map', 12), ('lena', 12), ('wears', 12), ('summit', 12), ('grace', 12), ('shirts', 12), ('bans', 12), ('minimum', 12), ('beyond', 12), ('written', 12), ('carry', 12), ('carter', 12), ('shake', 12), ('worked', 12), ('frank', 12), ('pain', 12), ('areilly', 12), ('microsoft', 12), ('letting', 12), ('activist', 12), ('hamilton', 12), ('freshman', 12), ('rand', 12), ('aliens', 12), ('f', 12), ('estate', 12), ('tip', 12), ('hole', 12), ('mix', 12), ('bomber', 12), ('ally', 12), ('drives', 12), ('soldier', 12), ('coast', 12), ('settlement', 12), ('damage', 12), ('workplace', 12), ('japan', 12), ('illegal', 12), ('perspective', 12), ('academy', 12), ('jessica', 12), ('timberlake', 12), ('stays', 12), ('version', 12), ('kept', 12), ('surgeon', 12), ('marvel', 12), ('entirely', 12), ('blocks', 12), ('perform', 12), ('sue', 12), ('ditch', 12), ('parkland', 12), ('bike', 12), ('wings', 12), ('capture', 12), ('donation', 12), ('rudy', 12), ('giuliani', 12), ('foods', 12), ('benefit', 12), ('pledges', 12), ('calm', 12), ('beating', 12), ('sam', 12), ('remind', 12), ('dollar', 12), ('reduce', 12), ('samantha', 12), ('expert', 12), ('smoking', 12), ('crashes', 12), ('remaining', 12), ('grave', 12), ('slide', 12), ('armed', 12), ('friendship', 12), ('backlash', 12), ('catch', 12), ('stance', 12), ('300', 12), ('files', 12), ('retired', 12), ('knowledge', 12), ('extremely', 12), ('thrown', 12), ('lesbian', 12), ('scientific', 12), ('francisco', 12), ('shuts', 12), ('pulled', 12), ('kennedy', 12), ('exciting', 12), ('platform', 12), ('japanese', 12), ('mary', 12), ('ambassador', 12), ('led', 12), ('capitol', 12), ('nails', 12), ('trick', 12), ('bruce', 12), ('closer', 12), ('miami', 12), ('theme', 12), ('abc', 12), ('cooper', 12), ('sniper', 12), ('grieving', 12), ('assistant', 12), ('repeatedly', 12), ('links', 12), ('lawn', 12), ('spoof', 12), ('outraged', 12), ('penis', 12), ('billy', 12), ('bags', 12), ('couch', 12), ('arm', 12), ('april', 12), ('eu', 12), ('sons', 12), ('played', 12), ('rates', 12), ('finale', 12), ('animal', 12), ('either', 12), ('asleep', 12), ('causing', 12), ('rain', 12), ('minority', 11), ('mood', 11), ('lord', 11), ('kiss', 11), ('garbage', 11), ('monster', 11), ('longtime', 11), ('situation', 11), ('freaking', 11), ('chemical', 11), ('nypd', 11), ('150', 11), ('oliver', 11), ('crackdown', 11), ('grand', 11), ('miley', 11), ('parks', 11), ('whale', 11), ('pruitt', 11), ('pac', 11), ('eggs', 11), ('revealed', 11), ('youtube', 11), ('caitlyn', 11), ('plea', 11), ('fi', 11), ('exist', 11), ('jazz', 11), ('german', 11), ('cry', 11), ('silent', 11), ('affleck', 11), ('fundraising', 11), ('mostly', 11), ('podcast', 11), ('accepts', 11), ('butt', 11), ('contract', 11), ('evening', 11), ('ruin', 11), ('detail', 11), ('smartphone', 11), ('hunt', 11), ('civilians', 11), ('nurse', 11), ('pieces', 11), ('rant', 11), ('firing', 11), ('sing', 11), ('baldwin', 11), ('bold', 11), ('returning', 11), ('gaza', 11), ('rises', 11), ('raised', 11), ('blown', 11), ('intended', 11), ('cyber', 11), ('brexit', 11), ('charles', 11), ('jump', 11), ('involves', 11), ('captures', 11), ('weak', 11), ('awareness', 11), ('kendrick', 11), ('candy', 11), ('heroes', 11), ('smell', 11), ('british', 11), ('housing', 11), ('bodies', 11), ('confederate', 11), ('kentucky', 11), ('dave', 11), ('stands', 11), ('minor', 11), ('consider', 11), ('agents', 11), ('hilariously', 11), ('hbo', 11), ('products', 11), ('quality', 11), ('audio', 11), ('angel', 11), ('throwing', 11), ('britain', 11), ('shrimp', 11), ('understand', 11), ('muhammad', 11), ('ali', 11), ('disabled', 11), ('sleeping', 11), ('dunham', 11), ('graduation', 11), ('minnesota', 11), ('terrorists', 11), ('cell', 11), ('stressed', 11), ('evolution', 11), ('language', 11), ('moved', 11), ('bond', 11), ('patients', 11), ('present', 11), ('connection', 11), ('expensive', 11), ('decide', 11), ('attempting', 11), ('statement', 11), ('provides', 11), ('shitty', 11), ('chef', 11), ('spears', 11), ('palestinians', 11), ('taxes', 11), ('fate', 11), ('finger', 11), ('negative', 11), ('evil', 11), ('tape', 11), ('nsfw', 11), ('wide', 11), ('98', 11), ('considered', 11), ('zika', 11), ('involved', 11), ('brian', 11), ('lasting', 11), ('gates', 11), ('chase', 11), ('acquires', 11), ('remembering', 11), ('chocolate', 11), ('hiding', 11), ('orange', 11), ('daniels', 11), ('purchases', 11), ('cashier', 11), ('pathetic', 11), ('grandpa', 11), ('pipeline', 11), ('fly', 11), ('challenges', 11), ('mitt', 11), ('december', 11), ('hosts', 11), ('spider', 11), ('lesson', 11), ('testing', 11), ('river', 11), ('nationwide', 11), ('exit', 11), ('pissed', 11), ('league', 11), ('afraid', 11), ('passenger', 11), ('saw', 11), ('injury', 11), ('joan', 11), ('valley', 11), ('arrives', 11), ('undocumented', 11), ('registry', 11), ('testimony', 11), ('stick', 11), ('lebron', 11), ('houston', 11), ('remake', 11), ('yemen', 11), ('lindsey', 11), ('netanyahu', 11), ('fallon', 11), ('panel', 11), ('endorses', 11), ('anonymous', 11), ('somewhere', 11), ('pitch', 11), ('dishes', 11), ('beef', 11), ('plot', 11), ('tomorrow', 11), ('sexy', 11), ('multi', 11), ('85', 11), ('greece', 11), ('bride', 11), ('awful', 11), ('gala', 11), ('resolutions', 11), ('parody', 11), ('independent', 11), ('troubling', 11), ('grammys', 11), ('increases', 11), ('illness', 11), ('smiling', 11), ('26', 11), ('celebrating', 11), ('sold', 11), ('rate', 11), ('execution', 11), ('highly', 11), ('screaming', 11), ('blake', 11), ('respond', 11), ('proposed', 11), ('announcement', 11), ('determine', 11), ('iraqi', 11), ('reaction', 11), ('grief', 11), ('journal', 11), ('highlights', 11), ('stuffed', 11), ('gilmore', 11), ('oh', 11), ('scientist', 11), ('promised', 11), ('wisconsin', 11), ('relationships', 11), ('brutal', 11), ('atlanta', 11), ('mirror', 11), ('angeles', 11), ('ok', 11), ('treat', 11), ('starbucks', 11), ('design', 11), ('improve', 11), ('fact', 11), ('january', 11), ('aunt', 11), ('supporter', 11), ('0', 11), ('impossible', 11), ('irma', 11), ('approach', 11), ('furious', 11), ('solution', 11), ('21st', 11), ('organization', 11), ('effect', 11), ('causes', 11), ('transition', 11), ('insane', 11), ('hearts', 11), ('square', 11), ('stadium', 11), ('aide', 11), ('praises', 10), ('confused', 10), ('panic', 10), ('nonsense', 10), ('bacteria', 10), ('contains', 10), ('allowing', 10), ('ken', 10), ('meghan', 10), ('markle', 10), ('menu', 10), ('answers', 10), ('western', 10), ('flynn', 10), ('pure', 10), ('appeal', 10), ('whites', 10), ('remote', 10), ('memories', 10), ('champion', 10), ('watched', 10), ('patron', 10), ('voted', 10), ('dorm', 10), ('updated', 10), ('nasty', 10), ('destruction', 10), ('iconic', 10), ('traditional', 10), ('poses', 10), ('floods', 10), ('keys', 10), ('massacre', 10), ('commencement', 10), ('fed', 10), ('anthony', 10), ('affected', 10), ('spielberg', 10), ('pitt', 10), ('tracks', 10), ('library', 10), ('toys', 10), ('backyard', 10), ('goals', 10), ('egg', 10), ('wildfire', 10), ('roger', 10), ('underwear', 10), ('wet', 10), ('spanish', 10), ('excuse', 10), ('grammy', 10), ('provide', 10), ('billions', 10), ('programs', 10), ('deportation', 10), ('goddamn', 10), ('islamic', 10), ('accepting', 10), ('enter', 10), ('ai', 10), ('lin', 10), ('concern', 10), ('wildly', 10), ('jailed', 10), ('paint', 10), ('november', 10), ('discovers', 10), ('colleges', 10), ('bottom', 10), ('liberal', 10), ('grill', 10), ('ross', 10), ('corn', 10), ('gray', 10), ('drama', 10), ('surprising', 10), ('horses', 10), ('divorced', 10), ('services', 10), ('austin', 10), ('period', 10), ('deals', 10), ('johnny', 10), ('halfway', 10), ('jerusalem', 10), ('carbon', 10), ('showing', 10), ('populace', 10), ('pills', 10), ('blast', 10), ('professional', 10), ('turkish', 10), ('firm', 10), ('commercials', 10), ('rex', 10), ('tillerson', 10), ('recall', 10), ('debates', 10), ('missouri', 10), ('imagine', 10), ('h', 10), ('gear', 10), ('corruption', 10), ('600', 10), ('welcomes', 10), ('prepare', 10), ('developing', 10), ('sells', 10), ('collection', 10), ('christopher', 10), ('binge', 10), ('cigarettes', 10), ('jet', 10), ('turnout', 10), ('billboard', 10), ('newest', 10), ('oval', 10), ('sauce', 10), ('alan', 10), ('compares', 10), ('backs', 10), ('rihanna', 10), ('chelsea', 10), ('corner', 10), ('spotted', 10), ('affordable', 10), ('location', 10), ('siblings', 10), ('pushes', 10), ('built', 10), ('felt', 10), ('struggles', 10), ('conscious', 10), ('riding', 10), ('detective', 10), ('hires', 10), ('spread', 10), ('tied', 10), ('attendees', 10), ('rough', 10), ('ruined', 10), ('wakes', 10), ('flash', 10), ('opposition', 10), ('effective', 10), ('difference', 10), ('graphic', 10), ('openly', 10), ('cable', 10), ('bullying', 10), ('uncle', 10), ('generations', 10), ('alaska', 10), ('prisoners', 10), ('maybe', 10), ('briefing', 10), ('shaped', 10), ('virgin', 10), ('sterling', 10), ('wildlife', 10), ('millennials', 10), ('beloved', 10), ('growth', 10), ('wore', 10), ('contest', 10), ('shoes', 10), ('essay', 10), ('range', 10), ('87', 10), ('spouse', 10), ('everybody', 10), ('donors', 10), ('ups', 10), ('viewer', 10), ('praise', 10), ('streep', 10), ('owns', 10), ('singing', 10), ('arms', 10), ('birds', 10), ('rat', 10), ('kaine', 10), ('touch', 10), ('cancels', 10), ('ann', 10), ('option', 10), ('horrific', 10), ('horrifying', 10), ('condemns', 10), ('wheels', 10), ('resort', 10), ('pile', 10), ('farmers', 10), ('encourages', 10), ('colin', 10), ('ethics', 10), ('covers', 10), ('teeth', 10), ('ceiling', 10), ('views', 10), ('eaten', 10), ('luther', 10), ('decade', 10), ('sharing', 10), ('bastard', 10), ('taliban', 10), ('rolling', 10), ('obviously', 10), ('32', 10), ('larger', 10), ('rob', 10), ('captain', 10), ('pushed', 10), ('treats', 10), ('impressed', 10), ('22', 10), ('priest', 10), ('chain', 10), ('endangered', 10), ('sexually', 10), ('meant', 10), ('rebel', 10), ('nato', 10), ('iranian', 10), ('annoyed', 10), ('sat', 10), ('favor', 10), ('casually', 10), ('letters', 10), ('acceptance', 10), ('targets', 10), ('archaeologists', 10), ('hashtag', 10), ('curb', 10), ('unveil', 10), ('stranger', 10), ('obesity', 10), ('flip', 10), ('aids', 10), ('indiana', 10), ('extreme', 10), ('native', 10), ('politician', 10), ('seeking', 10), ('guitar', 10), ('90s', 10), ('twins', 10), ('criticized', 10), ('miller', 10), ('nostalgic', 10), ('presents', 10), ('seven', 10), ('vaccine', 10), ('levels', 10), ('simpson', 10), ('haunted', 10), ('andrew', 10), ('spots', 10), ('ignore', 10), ('bottle', 10), ('beyonce', 10), ('emma', 10), ('deaths', 10), ('scout', 10), ('clerk', 9), ('revival', 9), ('catches', 9), ('airline', 9), ('apps', 9), ('bloomberg', 9), ('indicted', 9), ('reported', 9), ('con', 9), ('robin', 9), ('device', 9), ('added', 9), ('rocky', 9), ('pledge', 9), ('weighs', 9), ('garner', 9), ('responsibility', 9), ('disturbing', 9), ('grandson', 9), ('hometown', 9), ('thompson', 9), ('loose', 9), ('hemsworth', 9), ('heartbreaking', 9), ('kris', 9), ('producers', 9), ('baltimore', 9), ('ron', 9), ('yo', 9), ('bully', 9), ('central', 9), ('custody', 9), ('village', 9), ('carly', 9), ('mountain', 9), ('lion', 9), ('plate', 9), ('flights', 9), ('reboot', 9), ('arctic', 9), ('refusing', 9), ('myths', 9), ('scouts', 9), ('legendary', 9), ('stream', 9), ('tourists', 9), ('scenes', 9), ('rohingya', 9), ('monitor', 9), ('wendy', 9), ('sky', 9), ('teaching', 9), ('bread', 9), ('obsessed', 9), ('khloe', 9), ('dustin', 9), ('readers', 9), ('depot', 9), ('breakthrough', 9), ('damon', 9), ('cleveland', 9), ('driven', 9), ('assure', 9), ('laser', 9), ('wonder', 9), ('quest', 9), ('911', 9), ('bills', 9), ('selfie', 9), ('exhibit', 9), ('regret', 9), ('woody', 9), ('cuomo', 9), ('restrictions', 9), ('confident', 9), ('manuel', 9), ('tower', 9), ('welfare', 9), ('drawing', 9), ('phrase', 9), ('pastor', 9), ('request', 9), ('resolution', 9), ('midnight', 9), ('opponents', 9), ('pan', 9), ('spray', 9), ('construction', 9), ('va', 9), ('drawer', 9), ('string', 9), ('holocaust', 9), ('whispers', 9), ('investigate', 9), ('rupaul', 9), ('habit', 9), ('smaller', 9), ('priebus', 9), ('ultra', 9), ('bridge', 9), ('lawrence', 9), ('jedi', 9), ('reid', 9), ('qa', 9), ('stamp', 9), ('blind', 9), ('expecting', 9), ('hints', 9), ('parliament', 9), ('objects', 9), ('caused', 9), ('surface', 9), ('rejects', 9), ('butter', 9), ('nervously', 9), ('poet', 9), ('cambridge', 9), ('instructor', 9), ('el', 9), ('canadian', 9), ('selves', 9), ('triple', 9), ('arab', 9), ('ugly', 9), ('uncomfortable', 9), ('jill', 9), ('investigating', 9), ('complex', 9), ('panda', 9), ('spill', 9), ('nobel', 9), ('80s', 9), ('depressing', 9), ('serena', 9), ('spills', 9), ('limits', 9), ('collapses', 9), ('conversations', 9), ('funds', 9), ('memo', 9), ('stormy', 9), ('valuable', 9), ('terrorist', 9), ('interests', 9), ('woods', 9), ('defiant', 9), ('forget', 9), ('conan', 9), ('steal', 9), ('alien', 9), ('banana', 9), ('willing', 9), ('maps', 9), ('shocking', 9), ('convinced', 9), ('swears', 9), ('medicaid', 9), ('supposed', 9), ('murray', 9), ('bears', 9), ('leg', 9), ('blowing', 9), ('briefly', 9), ('packed', 9), ('coat', 9), ('experiment', 9), ('deputy', 9), ('suspicious', 9), ('disabilities', 9), ('innocent', 9), ('retire', 9), ('sued', 9), ('endorsement', 9), ('honoring', 9), ('closed', 9), ('kit', 9), ('leslie', 9), ('cartoon', 9), ('bites', 9), ('43', 9), ('deserves', 9), ('brilliant', 9), ('polling', 9), ('separate', 9), ('sole', 9), ('weapon', 9), ('howard', 9), ('finished', 9), ('attraction', 9), ('cracks', 9), ('bull', 9), ('talent', 9), ('potter', 9), ('efforts', 9), ('medicine', 9), ('icon', 9), ('shifts', 9), ('suffering', 9), ('repeat', 9), ('agency', 9), ('arabia', 9), ('humiliating', 9), ('eight', 9), ('twist', 9), ('feed', 9), ('irish', 9), ('meryl', 9), ('fiorina', 9), ('basic', 9), ('rating', 9), ('fill', 9), ('notice', 9), ('sweat', 9), ('pink', 9), ('daddy', 9), ('salad', 9), ('slept', 9), ('consumer', 9), ('roller', 9), ('voices', 9), ('lazy', 9), ('sadly', 9), ('wealthy', 9), ('pen', 9), ('detained', 9), ('permission', 9), ('except', 9), ('soldiers', 9), ('combat', 9), ('lots', 9), ('nelson', 9), ('requires', 9), ('josh', 9), ('ten', 9), ('roommates', 9), ('pair', 9), ('embrace', 9), ('distance', 9), ('lived', 9), ('stunt', 9), ('designed', 9), ('cigarette', 9), ('experiences', 9), ('morgan', 9), ('fights', 9), ('events', 9), ('hotels', 9), ('display', 9), ('emerges', 9), ('informs', 9), ('folks', 9), ('wilson', 9), ('fitness', 9), ('dumb', 9), ('abroad', 9), ('34', 9), ('swimsuit', 9), ('dan', 9), ('discovery', 9), ('chaos', 9), ('fisher', 9), ('vladimir', 9), ('specifically', 9), ('pakistan', 9), ('islam', 9), ('ticket', 9), ('feds', 9), ('surprises', 9), ('flint', 9), ('greek', 9), ('athletes', 9), ('melt', 9), ('european', 9), ('marry', 9), ('democrat', 9), ('contain', 9), ('musk', 9), ('constantly', 9), ('gingrich', 9), ('mixed', 9), ('develop', 9), ('executives', 9), ('gina', 9), ('parts', 9), ('mission', 9), ('brady', 9), ('injuries', 9), ('twice', 9), ('brooklyn', 9), ('vulnerable', 9), ('autism', 9), ('memoir', 9), ('sudden', 9), ('dallas', 9), ('cooking', 9), ('recap', 9), ('damn', 9), ('touts', 9), ('removed', 9), ('mile', 9), ('hip', 9), ('hiring', 9), ('louisiana', 9), ('clooney', 9), ('bachelorette', 9), ('flooding', 9), ('masturbating', 9), ('opioid', 9), ('consecutive', 9), ('lab', 8), ('snake', 8), ('accusers', 8), ('carefully', 8), ('qatar', 8), ('button', 8), ('drilling', 8), ('surveillance', 8), ('breathing', 8), ('sikh', 8), ('stunned', 8), ('solutions', 8), ('restore', 8), ('grants', 8), ('regrets', 8), ('influence', 8), ('models', 8), ('inspire', 8), ('salesman', 8), ('facing', 8), ('passed', 8), ('placed', 8), ('windows', 8), ('cats', 8), ('supports', 8), ('lopez', 8), ('matthew', 8), ('oppose', 8), ('merkel', 8), ('andy', 8), ('myanmar', 8), ('doj', 8), ('chamber', 8), ('diagnosis', 8), ('rage', 8), ('sport', 8), ('bowie', 8), ('productive', 8), ('arkansas', 8), ('leather', 8), ('canceled', 8), ('stomach', 8), ('comics', 8), ('fiction', 8), ('inches', 8), ('fucked', 8), ('builds', 8), ('dole', 8), ('prom', 8), ('tests', 8), ('shirtless', 8), ('wielding', 8), ('nominations', 8), ('ruins', 8), ('volunteer', 8), ('forgot', 8), ('pushing', 8), ('waitress', 8), ('promote', 8), ('2008', 8), ('espn', 8), ('kellyanne', 8), ('conway', 8), ('feud', 8), ('association', 8), ('starving', 8), ('endorse', 8), ('lewis', 8), ('grotesque', 8), ('danny', 8), ('faster', 8), ('nominees', 8), ('soap', 8), ('gently', 8), ('signing', 8), ('neo', 8), ('cycle', 8), ('interviews', 8), ('bone', 8), ('barrier', 8), ('agriculture', 8), ('grab', 8), ('predator', 8), ('quiz', 8), ('castle', 8), ('garland', 8), ('preparing', 8), ('critical', 8), ('russians', 8), ('boomers', 8), ('therapist', 8), ('replacement', 8), ('advertising', 8), ('oath', 8), ('pardon', 8), ('filibuster', 8), ('pleads', 8), ('hook', 8), ('wheelchair', 8), ('wise', 8), ('laptop', 8), ('realized', 8), ('caucus', 8), ('tearfully', 8), ('ariana', 8), ('grande', 8), ('dolphins', 8), ('prefer', 8), ('goldman', 8), ('sachs', 8), ('cbs', 8), ('referred', 8), ('seasons', 8), ('cooler', 8), ('fatally', 8), ('publicist', 8), ('reagan', 8), ('rainbow', 8), ('gary', 8), ('wrote', 8), ('swimming', 8), ('laura', 8), ('object', 8), ('lethal', 8), ('injection', 8), ('daca', 8), ('june', 8), ('invitation', 8), ('selena', 8), ('gomez', 8), ('stopped', 8), ('scare', 8), ('obituary', 8), ('lover', 8), ('bleeding', 8), ('castro', 8), ('urged', 8), ('overcome', 8), ('ridiculous', 8), ('supremacist', 8), ('treated', 8), ('alcohol', 8), ('hug', 8), ('sell', 8), ('massachusetts', 8), ('russell', 8), ('chick', 8), ('pretend', 8), ('arrests', 8), ('upon', 8), ('mention', 8), ('deceased', 8), ('workout', 8), ('citizenship', 8), ('bedroom', 8), ('cousin', 8), ('raid', 8), ('alike', 8), ('document', 8), ('beats', 8), ('balcony', 8), ('firefighters', 8), ('clever', 8), ('abused', 8), ('gays', 8), ('northern', 8), ('consequences', 8), ('braces', 8), ('pistorius', 8), ('express', 8), ('montana', 8), ('casual', 8), ('barbara', 8), ('catching', 8), ('revealing', 8), ('robot', 8), ('mourns', 8), ('adding', 8), ('fortune', 8), ('disappointing', 8), ('jefferson', 8), ('charleston', 8), ('casino', 8), ('mentions', 8), ('hopeful', 8), ('squad', 8), ('lung', 8), ('agenda', 8), ('healing', 8), ('naacp', 8), ('extends', 8), ('chipotle', 8), ('print', 8), ('trumpcare', 8), ('beneath', 8), ('oldest', 8), ('99', 8), ('crawling', 8), ('options', 8), ('pacific', 8), ('score', 8), ('desperately', 8), ('panther', 8), ('trap', 8), ('mainstream', 8), ('usa', 8), ('protection', 8), ('picked', 8), ('96', 8), ('cheer', 8), ('dates', 8), ('corporation', 8), ('intimate', 8), ('allowed', 8), ('cups', 8), ('development', 8), ('makeover', 8), ('invited', 8), ('phase', 8), ('grey', 8), ('ruining', 8), ('regularly', 8), ('entering', 8), ('dropping', 8), ('strange', 8), ('seniors', 8), ('ivory', 8), ('greenspan', 8), ('lip', 8), ('kaepernick', 8), ('arpaio', 8), ('hat', 8), ('istranger', 8), ('transforms', 8), ('hypocrisy', 8), ('deny', 8), ('locker', 8), ('posts', 8), ('ignoring', 8), ('sparks', 8), ('katy', 8), ('corporations', 8), ('alarm', 8), ('cohen', 8), ('compete', 8), ('performing', 8), ('dems', 8), ('anxious', 8), ('firefighter', 8), ('lay', 8), ('condition', 8), ('inch', 8), ('disclose', 8), ('motion', 8), ('bet', 8), ('cd', 8), ('nsa', 8), ('daring', 8), ('aclu', 8), ('scores', 8), ('92', 8), ('trail', 8), ('lincoln', 8), ('statements', 8), ('pace', 8), ('regulations', 8), ('prep', 8), ('systems', 8), ('cheering', 8), ('cancel', 8), ('necessary', 8), ('math', 8), ('impeachment', 8), ('purpose', 8), ('executed', 8), ('intern', 8), ('annually', 8), ('nations', 8), ('commission', 8), ('threw', 8), ('solo', 8), ('hire', 8), ('hut', 8), ('grant', 8), ('initiative', 8), ('garage', 8), ('delays', 8), ('headed', 8), ('everyday', 8), ('seats', 8), ('elon', 8), ('millennial', 8), ('sxsw', 8), ('roof', 8), ('shots', 8), ('district', 8), ('gratitude', 8), ('quotes', 8), ('kicks', 8), ('rural', 8), ('lane', 8), ('reader', 8), ('treating', 8), ('gallery', 8), ('returned', 8), ('startup', 8), ('shelves', 8), ('sandwiches', 8), ('confusing', 8), ('denny', 8), ('jason', 8), ('flames', 8), ('aniston', 8), ('happening', 8), ('sugar', 8), ('lyrics', 8), ('classified', 8), ('ladies', 8), ('carey', 8), ('trips', 8), ('include', 8), ('npr', 8), ('rap', 8), ('doubt', 8), ('shadow', 8), ('costumes', 8), ('master', 8), ('rapper', 8), ('daniel', 8), ('nominated', 8), ('clown', 8), ('attacking', 8), ('benghazi', 8), ('grandparents', 8), ('franken', 8), ('cuban', 8), ('tackle', 7), ('sketch', 7), ('writers', 7), ('motorcycle', 7), ('often', 7), ('eighth', 7), ('retires', 7), ('throat', 7), ('trees', 7), ('caring', 7), ('tie', 7), ('container', 7), ('fuel', 7), ('require', 7), ('iso', 7), ('explosion', 7), ('southern', 7), ('comfort', 7), ('runway', 7), ('grandfather', 7), ('differences', 7), ('clarifies', 7), ('erupts', 7), ('sci', 7), ('taps', 7), ('reunited', 7), ('homicide', 7), ('encouraging', 7), ('patrons', 7), ('debut', 7), ('agreement', 7), ('breakup', 7), ('wasted', 7), ('goal', 7), ('instant', 7), ('recipe', 7), ('offered', 7), ('hottest', 7), ('focused', 7), ('seem', 7), ('experiencing', 7), ('alcoholic', 7), ('degrees', 7), ('powers', 7), ('behold', 7), ('posting', 7), ('isaturday', 7), ('metal', 7), ('compared', 7), ('hidden', 7), ('notes', 7), ('ratings', 7), ('gang', 7), ('invasion', 7), ('joint', 7), ('studies', 7), ('luke', 7), ('powered', 7), ('eddie', 7), ('assume', 7), ('cleans', 7), ('yorkers', 7), ('haul', 7), ('theaters', 7), ('unity', 7), ('pm', 7), ('nightmare', 7), ('swiss', 7), ('orleans', 7), ('considers', 7), ('genocide', 7), ('ordinary', 7), ('koch', 7), ('egypt', 7), ('mosque', 7), ('tales', 7), ('cannes', 7), ('assured', 7), ('recalled', 7), ('sunglasses', 7), ('hacks', 7), ('mama', 7), ('reads', 7), ('reviews', 7), ('aisle', 7), ('jews', 7), ('donuts', 7), ('stole', 7), ('prisoner', 7), ('distant', 7), ('vin', 7), ('diesel', 7), ('draws', 7), ('disgusted', 7), ('vehicle', 7), ('leaked', 7), ('unarmed', 7), ('wounded', 7), ('accepted', 7), ('scary', 7), ('shelf', 7), ('suspected', 7), ('fills', 7), ('nose', 7), ('wasting', 7), ('tennessee', 7), ('headline', 7), ('75', 7), ('bother', 7), ('chart', 7), ('obese', 7), ('awkwardly', 7), ('mask', 7), ('tickets', 7), ('camps', 7), ('reince', 7), ('cent', 7), ('touched', 7), ('peers', 7), ('professors', 7), ('kristen', 7), ('walmart', 7), ('treasury', 7), ('doll', 7), ('creek', 7), ('visible', 7), ('reporters', 7), ('endless', 7), ('staffer', 7), ('alex', 7), ('package', 7), ('tricks', 7), ('william', 7), ('portraits', 7), ('usher', 7), ('cow', 7), ('bitch', 7), ('tunnel', 7), ('captured', 7), ('shy', 7), ('measles', 7), ('presence', 7), ('blues', 7), ('quits', 7), ('27', 7), ('degree', 7), ('waits', 7), ('citizen', 7), ('cutting', 7), ('bartender', 7), ('kenya', 7), ('65', 7), ('discovering', 7), ('donut', 7), ('morris', 7), ('vacationing', 7), ('sustainable', 7), ('edwards', 7), ('scholarship', 7), ('ballot', 7), ('divided', 7), ('mocked', 7), ('concept', 7), ('doors', 7), ('grocery', 7), ('connecticut', 7), ('hanging', 7), ('balance', 7), ('random', 7), ('tested', 7), ('possibly', 7), ('trends', 7), ('relations', 7), ('cites', 7), ('rent', 7), ('unlikely', 7), ('seventh', 7), ('dry', 7), ('huffington', 7), ('lame', 7), ('fewer', 7), ('tearful', 7), ('iron', 7), ('sanctions', 7), ('ate', 7), ('germany', 7), ('count', 7), ('critic', 7), ('happiest', 7), ('beings', 7), ('musicians', 7), ('2009', 7), ('exposes', 7), ('paradise', 7), ('samsung', 7), ('38', 7), ('souls', 7), ('crossing', 7), ('recovering', 7), ('angela', 7), ('heavy', 7), ('mate', 7), ('incredibly', 7), ('physical', 7), ('aftermath', 7), ('interesting', 7), ('restaurants', 7), ('id', 7), ('eagles', 7), ('paintings', 7), ('2020', 7), ('charlotte', 7), ('individual', 7), ('hobby', 7), ('engaged', 7), ('haters', 7), ('recovery', 7), ('bars', 7), ('2012', 7), ('essential', 7), ('explaining', 7), ('stereotypes', 7), ('directions', 7), ('suffer', 7), ('casting', 7), ('struck', 7), ('spin', 7), ('chili', 7), ('spirits', 7), ('merger', 7), ('warner', 7), ('acres', 7), ('explained', 7), ('signature', 7), ('counselor', 7), ('rumsfeld', 7), ('produce', 7), ('graffiti', 7), ('stamps', 7), ('bite', 7), ('operator', 7), ('obamas', 7), ('rumors', 7), ('72', 7), ('embarrassing', 7), ('alton', 7), ('mac', 7), ('sake', 7), ('collapse', 7), ('pipe', 7), ('cheaper', 7), ('generous', 7), ('promotion', 7), ('gallup', 7), ('envelope', 7), ('mlb', 7), ('entry', 7), ('satisfying', 7), ('awakens', 7), ('crucial', 7), ('salt', 7), ('revenge', 7), ('piss', 7), ('sexism', 7), ('region', 7), ('actions', 7), ('seize', 7), ('narrowly', 7), ('trading', 7), ('37', 7), ('conversion', 7), ('method', 7), ('skip', 7), ('multiple', 7), ('libya', 7), ('mortgage', 7), ('decline', 7), ('bubble', 7), ('infant', 7), ('moral', 7), ('videos', 7), ('trillion', 7), ('kittens', 7), ('infrastructure', 7), ('rover', 7), ('smile', 7), ('healthier', 7), ('satellite', 7), ('blasted', 7), ('esteem', 7), ('moderator', 7), ('doug', 7), ('opinions', 7), ('giants', 7), ('locked', 7), ('rocks', 7), ('hired', 7), ('lisa', 7), ('spice', 7), ('bo', 7), ('gentrification', 7), ('copy', 7), ('stall', 7), ('coal', 7), ('vietnam', 7), ('unknown', 7), ('counts', 7), ('hudson', 7), ('lifelong', 7), ('cereal', 7), ('direction', 7), ('undecided', 7), ('microwave', 7), ('apply', 7), ('monologue', 7), ('checking', 7), ('emmy', 7), ('reforms', 7), ('superhero', 7), ('mistaken', 7), ('proudly', 7), ('beijing', 7), ('electoral', 7), ('nail', 7), ('trophy', 7), ('springsteen', 7), ('aol', 7), ('bursts', 7), ('cure', 7), ('loans', 7), ('rankings', 7), ('rivers', 7), ('opera', 7), ('concrete', 7), ('explores', 7), ('targeting', 7), ('honest', 7), ('reporting', 7), ('courage', 7), ('sometimes', 7), ('misleading', 7), ('jumps', 7), ('saturday', 7), ('28', 7), ('eco', 7), ('consumption', 7), ('surge', 7), ('delay', 7), ('egyptian', 7), ('loyal', 7), ('radical', 7), ('whatsoever', 7), ('streaming', 7), ('anywhere', 7), ('pressure', 7), ('conviction', 7), ('complain', 7), ('bias', 7), ('unclear', 7), ('looms', 7), ('supremacy', 7), ('greater', 7), ('jeans', 7), ('charlie', 7), ('exploring', 7), ('logo', 7), ('liberals', 7), ('pocket', 7), ('aziz', 7), ('ansari', 7), ('accusations', 7), ('irs', 7), ('carrie', 7), ('excellent', 7), ('urine', 7), ('migrant', 7), ('globe', 7), ('sympathy', 7), ('appeals', 7), ('plunge', 7), ('dude', 7), ('businessman', 7), ('monopoly', 7), ('cdc', 7), ('gene', 7), ('error', 7), ('file', 7), ('hairstyle', 7), ('sequel', 7), ('floating', 7), ('abusive', 7), ('nancy', 7), ('earn', 7), ('aleppo', 7), ('uninsured', 7), ('homeland', 7), ('privacy', 7), ('physically', 7), ('melissa', 7), ('draft', 7), ('pat', 7), ('reese', 7), ('limit', 7), ('preserve', 7), ('develops', 7), ('sasha', 7), ('organic', 7), ('wisdom', 7), ('arianna', 7), ('prices', 7), ('neither', 7), ('dj', 7), ('89', 7), ('emmys', 7), ('helicopter', 7), ('curious', 7), ('stealing', 7), ('sisters', 7), ('farewell', 7), ('protections', 7), ('ignored', 7), ('wind', 7), ('coaster', 7), ('choose', 7), ('philippine', 7), ('machines', 7), ('concerns', 7), ('mount', 7), ('surviving', 7), ('homosexuality', 7), ('backup', 7), ('intact', 7), ('islamophobia', 7), ('burn', 7), ('graduate', 7), ('wave', 7), ('sheriff', 7), ('bloody', 7), ('previous', 7), ('writes', 7), ('excitedly', 7), ('–', 7), ('obsession', 7), ('santorum', 7), ('properly', 7), ('accuses', 7), ('passage', 7), ('standard', 7), ('scale', 7), ('oxford', 7), ('kourtney', 7), ('teases', 7), ('exec', 7), ('nevada', 7), ('watches', 7), ('shared', 7), ('buried', 7), ('cameron', 7), ('zimmerman', 7), ('suffers', 7), ('buddy', 7), ('skeleton', 7), ('madness', 7), ('recession', 7), ('pilot', 7), ('riot', 7), ('leonardo', 7), ('dicaprio', 7), ('crap', 7), ('bare', 7), ('cannon', 7), ('mariah', 7), ('pep', 7), ('warming', 7), ('mario', 7), ('nazis', 7), ('whenever', 7), ('polar', 7), ('pumpkin', 7), ('tennis', 7), ('bureau', 7), ('destroyed', 7), ('stampede', 7), ('application', 7), ('rowling', 6), ('ages', 6), ('reject', 6), ('hicks', 6), ('houses', 6), ('heading', 6), ('diy', 6), ('analysis', 6), ('rio', 6), ('removing', 6), ('visual', 6), ('lays', 6), ('pole', 6), ('hunter', 6), ('flood', 6), ('outfits', 6), ('café', 6), ('drunken', 6), ('karaoke', 6), ('fell', 6), ('consuming', 6), ('dealer', 6), ('featured', 6), ('chooses', 6), ('del', 6), ('bashar', 6), ('megyn', 6), ('wire', 6), ('values', 6), ('harsh', 6), ('liars', 6), ('rae', 6), ('nightclub', 6), ('fries', 6), ('tpp', 6), ('gaps', 6), ('groping', 6), ('reference', 6), ('hangs', 6), ('foster', 6), ('devastating', 6), ('certain', 6), ('feared', 6), ('knicks', 6), ('tragic', 6), ('verizon', 6), ('finishes', 6), ('opened', 6), ('fatal', 6), ('outfit', 6), ('kicked', 6), ('worn', 6), ('tension', 6), ('mug', 6), ('poem', 6), ('blitzer', 6), ('cardboard', 6), ('slice', 6), ('headphones', 6), ('cotton', 6), ('judges', 6), ('utah', 6), ('haircut', 6), ('250', 6), ('jonathan', 6), ('ritual', 6), ('berlin', 6), ('ranger', 6), ('faa', 6), ('fool', 6), ('shoe', 6), ('turtle', 6), ('pixar', 6), ('holder', 6), ('bryan', 6), ('tapper', 6), ('addresses', 6), ('rumored', 6), ('theresa', 6), ('towards', 6), ('cruel', 6), ('accuse', 6), ('photograph', 6), ('clothing', 6), ('venus', 6), ('refuse', 6), ('nukes', 6), ('wonderful', 6), ('risks', 6), ('czar', 6), ('rehab', 6), ('gotten', 6), ('constant', 6), ('harm', 6), ('jazeera', 6), ('10th', 6), ('crashing', 6), ('hilton', 6), ('encounter', 6), ('traced', 6), ('freezer', 6), ('font', 6), ('usda', 6), ('salmon', 6), ('emotionally', 6), ('suspension', 6), ('ease', 6), ('lemon', 6), ('merrick', 6), ('emerge', 6), ('busted', 6), ('soft', 6), ('facility', 6), ('bombings', 6), ('brooks', 6), ('awake', 6), ('phones', 6), ('sanctuary', 6), ('locations', 6), ('script', 6), ('terms', 6), ('bitcoin', 6), ('chanting', 6), ('hugh', 6), ('rookie', 6), ('overnight', 6), ('surprisingly', 6), ('ceasefire', 6), ('repeated', 6), ('rated', 6), ('evangelical', 6), ('christians', 6), ('sandy', 6), ('reduces', 6), ('disability', 6), ('wing', 6), ('temporarily', 6), ('tools', 6), ('types', 6), ('definition', 6), ('pleasure', 6), ('yelp', 6), ('knocked', 6), ('sweeps', 6), ('elementary', 6), ('360', 6), ('weekly', 6), ('filter', 6), ('maine', 6), ('nuts', 6), ('militants', 6), ('profits', 6), ('directors', 6), ('scared', 6), ('sexiest', 6), ('managing', 6), ('easily', 6), ('serving', 6), ('philip', 6), ('stores', 6), ('explode', 6), ('recipients', 6), ('83', 6), ('punishment', 6), ('barrel', 6), ('amalley', 6), ('editors', 6), ('gown', 6), ('remark', 6), ('apologize', 6), ('unite', 6), ('expanding', 6), ('pfizer', 6), ('boo', 6), ('promotes', 6), ('mattress', 6), ('remarks', 6), ('thin', 6), ('arguments', 6), ('asylum', 6), ('pr', 6), ('simmons', 6), ('robbery', 6), ('communications', 6), ('connected', 6), ('unions', 6), ('convince', 6), ('mar', 6), ('lago', 6), ('tina', 6), ('pill', 6), ('celebs', 6), ('upside', 6), ('republic', 6), ('49', 6), ('nerd', 6), ('crush', 6), ('tragically', 6), ('teaser', 6), ('hammer', 6), ('tap', 6), ('hatred', 6), ('weary', 6), ('gaining', 6), ('purple', 6), ('hey', 6), ('shooters', 6), ('dhs', 6), ('producer', 6), ('balloon', 6), ('rhetoric', 6), ('storms', 6), ('rip', 6), ('dental', 6), ('islands', 6), ('lift', 6), ('dramatic', 6), ('pompeo', 6), ('pollution', 6), ('watermelon', 6), ('colleagues', 6), ('protester', 6), ('pakistani', 6), ('rings', 6), ('schoolers', 6), ('boxer', 6), ('breath', 6), ('duke', 6), ('simply', 6), ('context', 6), ('cvs', 6), ('dialogue', 6), ('pic', 6), ('reputation', 6), ('cynthia', 6), ('competition', 6), ('maker', 6), ('attendant', 6), ('postal', 6), ('fuels', 6), ('classmates', 6), ('mandatory', 6), ('exposure', 6), ('villain', 6), ('93', 6), ('jungle', 6), ('duff', 6), ('mock', 6), ('threaten', 6), ('curiosity', 6), ('strapped', 6), ('donated', 6), ('survival', 6), ('pepper', 6), ('forbidden', 6), ('deadline', 6), ('thrill', 6), ('spain', 6), ('amad', 6), ('travelers', 6), ('robots', 6), ('glorious', 6), ('vomit', 6), ('races', 6), ('activism', 6), ('wayne', 6), ('ambitious', 6), ('owned', 6), ('equally', 6), ('loan', 6), ('colombia', 6), ('marathon', 6), ('allergies', 6), ('listing', 6), ('bobby', 6), ('cole', 6), ('holmes', 6), ('wooden', 6), ('checked', 6), ('fest', 6), ('expressing', 6), ('feeding', 6), ('deaf', 6), ('killings', 6), ('wealth', 6), ('narrative', 6), ('fireworks', 6), ('donate', 6), ('hurting', 6), ('shades', 6), ('buffalo', 6), ('resignation', 6), ('settle', 6), ('worthy', 6), ('pete', 6), ('wallet', 6), ('defending', 6), ('christina', 6), ('plug', 6), ('mindfulness', 6), ('opposing', 6), ('ignores', 6), ('quarter', 6), ('beard', 6), ('september', 6), ('accent', 6), ('hong', 6), ('kong', 6), ('wrestling', 6), ('closes', 6), ('sinks', 6), ('towel', 6), ('bath', 6), ('closing', 6), ('acquaintance', 6), ('inform', 6), ('lobbyist', 6), ('homosexual', 6), ('selection', 6), ('drought', 6), ('approved', 6), ('comeback', 6), ('2000', 6), ('hogan', 6), ('blocking', 6), ('genetic', 6), ('operating', 6), ('prejudice', 6), ('flags', 6), ('bright', 6), ('delta', 6), ('procedure', 6), ('discusses', 6), ('crude', 6), ('resident', 6), ('humor', 6), ('jenna', 6), ('milo', 6), ('scotland', 6), ('hung', 6), ('breitbart', 6), ('monsanto', 6), ('addressing', 6), ('repealed', 6), ('nassar', 6), ('accounts', 6), ('lauer', 6), ('rid', 6), ('highest', 6), ('ear', 6), ('heartwarming', 6), ('impressive', 6), ('panicking', 6), ('disappear', 6), ('guinness', 6), ('staring', 6), ('olds', 6), ('landing', 6), ('tournament', 6), ('sitcom', 6), ('destroys', 6), ('guantanamo', 6), ('certificate', 6), ('reminded', 6), ('campaigns', 6), ('hamas', 6), ('crunch', 6), ('troubled', 6), ('offended', 6), ('pets', 6), ('mph', 6), ('inspiration', 6), ('graders', 6), ('shaking', 6), ('refuge', 6), ('dump', 6), ('documentaries', 6), ('wacky', 6), ('rome', 6), ('shave', 6), ('journalism', 6), ('gawker', 6), ('survey', 6), ('junk', 6), ('appoints', 6), ('authority', 6), ('informed', 6), ('princeton', 6), ('measure', 6), ('reproductive', 6), ('nine', 6), ('skull', 6), ('hungry', 6), ('medicare', 6), ('expand', 6), ('familiar', 6), ('abrams', 6), ('donates', 6), ('strongest', 6), ('iii', 6), ('bought', 6), ('paula', 6), ('increasing', 6), ('sweater', 6), ('asia', 6), ('breathe', 6), ('bernardino', 6), ('berkeley', 6), ('sept', 6), ('sheer', 6), ('borders', 6), ('proper', 6), ('answered', 6), ('taped', 6), ('pours', 6), ('mistake', 6), ('jose', 6), ('nate', 6), ('teary', 6), ('tesla', 6), ('wildfires', 6), ('mit', 6), ('deleted', 6), ('flat', 6), ('info', 6), ('cookie', 6), ('hang', 6), ('xbox', 6), ('pelosi', 6), ('chairman', 6), ('bean', 6), ('principal', 6), ('criminals', 6), ('randomly', 6), ('crushing', 6), ('requests', 6), ('decisions', 6), ('wash', 6), ('chapter', 6), ('empire', 6), ('snaps', 6), ('reverse', 6), ('explanation', 6), ('replaced', 6), ('absence', 6), ('churches', 6), ('accountable', 6), ('rocket', 6), ('introduce', 6), ('bay', 6), ('dept', 6), ('stuns', 6), ('iserial', 6), ('shed', 6), ('empower', 6), ('pens', 6), ('collar', 6), ('tsarnaev', 6), ('peanut', 6), ('affect', 6), ('8th', 6), ('devil', 6), ('jean', 6), ('mouse', 6), ('messages', 6), ('successfully', 6), ('grandkids', 6), ('poorly', 6), ('pit', 6), ('shaken', 6), ('jacket', 6), ('loyalty', 6), ('31', 6), ('management', 6), ('bolton', 6), ('drawn', 6), ('martial', 6), ('tampon', 6), ('overturn', 6), ('cultural', 6), ('lobster', 6), ('dignity', 6), ('tracking', 6), ('grows', 6), ('hostage', 6), ('unpopular', 6), ('bezos', 6), ('safer', 6), ('podium', 6), ('deploys', 6), ('tensions', 6), ('jam', 6), ('fossil', 6), ('airplane', 6), ('astronaut', 6), ('sneaks', 6), ('proved', 6), ('bucket', 6), ('jane', 6), ('whales', 6), ('doritos', 6), ('realistic', 6), ('dreading', 6), ('cds', 6), ('complaints', 6), ('bye', 6), ('adventures', 6), ('86', 6), ('cares', 6), ('roberts', 6), ('elaborate', 6), ('rejected', 6), ('vegetarian', 6), ('subject', 6), ('harrowing', 6), ('adorably', 6), ('ivy', 6), ('hungover', 6), ('areas', 6), ('hop', 6), ('wow', 6), ('preview', 6), ('cyclist', 6), ('improved', 6), ('hispanic', 6), ('sudan', 6), ('additional', 6), ('gum', 6), ('motherhood', 6), ('heritage', 6), ('fallen', 6), ('vow', 6), ('standards', 6), ('benedict', 6), ('mini', 6), ('ya', 6), ('seated', 6), ('elephant', 6), ('latin', 6), ('hateful', 6), ('fellow', 6), ('sums', 6), ('complicated', 6), ('fantastic', 6), ('sober', 6), ('adults', 6), ('standoff', 6), ('olivia', 6), ('jewelry', 6), ('described', 6), ('helmet', 6), ('forms', 6), ('manning', 6), ('snack', 6), ('liar', 6), ('teams', 6), ('duterte', 6), ('invisible', 6), ('ireland', 6), ('shock', 6), ('mentor', 6), ('funded', 6), ('acts', 6), ('closest', 5), ('rushes', 5), ('craig', 5), ('airstrikes', 5), ('raped', 5), ('circus', 5), ('task', 5), ('resistant', 5), ('nunes', 5), ('rescuers', 5), ('maternity', 5), ('finance', 5), ('mobile', 5), ('humanitarian', 5), ('outrage', 5), ('leftovers', 5), ('implants', 5), ('mice', 5), ('youths', 5), ('kitten', 5), ('tumor', 5), ('slave', 5), ('attacked', 5), ('bug', 5), ('demi', 5), ('lovato', 5), ('nye', 5), ('notices', 5), ('jealous', 5), ('cindy', 5), ('picking', 5), ('accuser', 5), ('comforts', 5), ('dare', 5), ('engineering', 5), ('gordon', 5), ('none', 5), ('rapping', 5), ('react', 5), ('toaster', 5), ('clue', 5), ('1989', 5), ('toe', 5), ('contempt', 5), ('lloyd', 5), ('accommodate', 5), ('feast', 5), ('issa', 5), ('forgets', 5), ('universal', 5), ('rebuild', 5), ('rapidly', 5), ('shorter', 5), ('kitsch', 5), ('haiti', 5), ('shuttle', 5), ('photography', 5), ('deemed', 5), ('41', 5), ('carcass', 5), ('pilgrimage', 5), ('negotiating', 5), ('extension', 5), ('boxing', 5), ('crave', 5), ('tomi', 5), ('lahren', 5), ('suing', 5), ('glenn', 5), ('describe', 5), ('suggest', 5), ('usual', 5), ('bullet', 5), ('ethical', 5), ('expectations', 5), ('stumbles', 5), ('gwyneth', 5), ('paltrow', 5), ('pigeon', 5), ('visibly', 5), ('dragging', 5), ('clad', 5), ('waist', 5), ('cutest', 5), ('hoffman', 5), ('uniform', 5), ('havoc', 5), ('advisers', 5), ('meetings', 5), ('sabotage', 5), ('silly', 5), ('crazed', 5), ('goodell', 5), ('borne', 5), ('bitter', 5), ('carnival', 5), ('fisherman', 5), ('fishing', 5), ('insufferable', 5), ('abortions', 5), ('hussein', 5), ('yahoo', 5), ('operation', 5), ('otherwise', 5), ('sears', 5), ('lovers', 5), ('mcconaughey', 5), ('alcoholism', 5), ('refer', 5), ('analyst', 5), ('agreed', 5), ('correspondents', 5), ('mindful', 5), ('rats', 5), ('junkie', 5), ('essentials', 5), ('shoulder', 5), ('scrambling', 5), ('freaked', 5), ('receiving', 5), ('compliments', 5), ('isex', 5), ('unfortunately', 5), ('telescope', 5), ('corpse', 5), ('guess', 5), ('burden', 5), ('libyan', 5), ('landscape', 5), ('helpful', 5), ('reminders', 5), ('petraeus', 5), ('74', 5), ('reunites', 5), ('smithsonian', 5), ('lauren', 5), ('homophobia', 5), ('creature', 5), ('highlight', 5), ('refused', 5), ('assaults', 5), ('tradition', 5), ('cocaine', 5), ('chewbacca', 5), ('fee', 5), ('filthy', 5), ('eleven', 5), ('excitement', 5), ('paints', 5), ('laying', 5), ('mat', 5), ('diseases', 5), ('complains', 5), ('amost', 5), ('tobacco', 5), ('fathers', 5), ('er', 5), ('mourn', 5), ('bathing', 5), ('shamed', 5), ('myth', 5), ('maryland', 5), ('spectrum', 5), ('30th', 5), ('landed', 5), ('sits', 5), ('quote', 5), ('located', 5), ('hurricanes', 5), ('serves', 5), ('packs', 5), ('precious', 5), ('sharks', 5), ('butterfly', 5), ('dish', 5), ('nyt', 5), ('badge', 5), ('ruth', 5), ('bader', 5), ('ginsburg', 5), ('bp', 5), ('fines', 5), ('gulf', 5), ('storage', 5), ('knocking', 5), ('pics', 5), ('waiter', 5), ('bedtime', 5), ('metallica', 5), ('brutality', 5), ('boomer', 5), ('4th', 5), ('katie', 5), ('fking', 5), ('influenced', 5), ('morrison', 5), ('worship', 5), ('hood', 5), ('smooth', 5), ('satan', 5), ('freddie', 5), ('enraged', 5), ('nightly', 5), ('powerball', 5), ('designers', 5), ('weddings', 5), ('newtown', 5), ('includes', 5), ('ambitions', 5), ('bust', 5), ('reluctantly', 5), ('hitler', 5), ('label', 5), ('elusive', 5), ('gm', 5), ('served', 5), ('crystal', 5), ('wikileaks', 5), ('cracked', 5), ('plants', 5), ('hawking', 5), ('chip', 5), ('responses', 5), ('pug', 5), ('tosses', 5), ('ahmed', 5), ('patiently', 5), ('exact', 5), ('bound', 5), ('crow', 5), ('wreck', 5), ('elephants', 5), ('engine', 5), ('pact', 5), ('brands', 5), ('battling', 5), ('ramadan', 5), ('pleased', 5), ('chest', 5), ('delusional', 5), ('tornado', 5), ('definitely', 5), ('pulitzer', 5), ('fairy', 5), ('trek', 5), ('investment', 5), ('seasonal', 5), ('chronic', 5), ('boxes', 5), ('ensure', 5), ('ridden', 5), ('vaccines', 5), ('ton', 5), ('delicate', 5), ('creeped', 5), ('filming', 5), ('nashville', 5), ('moron', 5), ('highways', 5), ('clark', 5), ('sandra', 5), ('bland', 5), ('hathaway', 5), ('overhead', 5), ('industrial', 5), ('dip', 5), ('jumping', 5), ('dressing', 5), ('nonprofit', 5), ('extremists', 5), ('ketchup', 5), ('paramount', 5), ('odom', 5), ('happily', 5), ('exxonmobil', 5), ('44', 5), ('somalia', 5), ('deficit', 5), ('busts', 5), ('workday', 5), ('cult', 5), ('pork', 5), ('extended', 5), ('curse', 5), ('weirdo', 5), ('diamond', 5), ('loaded', 5), ('cameras', 5), ('transparency', 5), ('ended', 5), ('simon', 5), ('hamill', 5), ('collaboration', 5), ('financially', 5), ('madonna', 5), ('knee', 5), ('84', 5), ('unhinged', 5), ('slaves', 5), ('dolphin', 5), ('august', 5), ('29', 5), ('obsessive', 5), ('yorker', 5), ('nickname', 5), ('blanket', 5), ('clarkson', 5), ('delivered', 5), ('pose', 5), ('chickens', 5), ('finances', 5), ('roads', 5), ('juice', 5), ('cinnamon', 5), ('syrians', 5), ('reopens', 5), ('hotline', 5), ('ape', 5), ('telephone', 5), ('smoke', 5), ('resources', 5), ('rabbit', 5), ('takeout', 5), ('informant', 5), ('enforcement', 5), ('hilary', 5), ('burgers', 5), ('possibility', 5), ('legalization', 5), ('identify', 5), ('remarkable', 5), ('450', 5), ('conduct', 5), ('pillow', 5), ('denied', 5), ('existing', 5), ('icy', 5), ('treasure', 5), ('heartfelt', 5), ('worrying', 5), ('disillusioned', 5), ('volcano', 5), ('active', 5), ('rallies', 5), ('pbs', 5), ('amr', 5), ('walkout', 5), ('lil', 5), ('mistakenly', 5), ('pie', 5), ('hockey', 5), ('cap', 5), ('gallons', 5), ('landmark', 5), ('activity', 5), ('crown', 5), ('acknowledge', 5), ('decided', 5), ('olive', 5), ('badass', 5), ('headlines', 5), ('splitting', 5), ('inclusion', 5), ('reflections', 5), ('planner', 5), ('harvard', 5), ('uncertainty', 5), ('spaces', 5), ('chappelle', 5), ('payment', 5), ('36', 5), ('taunts', 5), ('dean', 5), ('proposes', 5), ('barbecue', 5), ('nightlife', 5), ('displays', 5), ('leaks', 5), ('strict', 5), ('purchasing', 5), ('strongly', 5), ('da', 5), ('700', 5), ('inquiry', 5), ('presidents', 5), ('transform', 5), ('dwayne', 5), ('overdose', 5), ('hastily', 5), ('formed', 5), ('rushing', 5), ('keystone', 5), ('detailed', 5), ('salon', 5), ('tone', 5), ('applicant', 5), ('planes', 5), ('ripping', 5), ('scathing', 5), ('password', 5), ('nixon', 5), ('surrounded', 5), ('danger', 5), ('exists', 5), ('fifty', 5), ('bump', 5), ('signal', 5), ('sharply', 5), ('sewage', 5), ('doubles', 5), ('wrapped', 5), ('bronze', 5), ('78', 5), ('flies', 5), ('cruelty', 5), ('assisted', 5), ('sweating', 5), ('miserable', 5), ('snyder', 5), ('jaw', 5), ('lacks', 5), ('poisoned', 5), ('mogul', 5), ('ethnic', 5), ('sink', 5), ('posted', 5), ('hollow', 5), ('intel', 5), ('maddow', 5), ('cave', 5), ('penalty', 5), ('pour', 5), ('safely', 5), ('cubs', 5), ('hadark', 5), ('personally', 5), ('groped', 5), ('organizing', 5), ('chewing', 5), ('lynch', 5), ('advance', 5), ('breakdown', 5), ('impersonator', 5), ('michele', 5), ('queens', 5), ('berry', 5), ('collect', 5), ('ashley', 5), ('baron', 5), ('mediterranean', 5), ('inevitable', 5), ('layoffs', 5), ('smoothie', 5), ('pig', 5), ('instructions', 5), ('shout', 5), ('curt', 5), ('duchess', 5), ('vogue', 5), ('swing', 5), ('browser', 5), ('wardrobe', 5), ('slope', 5), ('cloud', 5), ('pamela', 5), ('hr', 5), ('replaces', 5), ('proclaims', 5), ('regulation', 5), ('route', 5), ('prepared', 5), ('toast', 5), ('targeted', 5), ('diagnosed', 5), ('haunting', 5), ('69', 5), ('bullied', 5), ('ny', 5), ('confirmation', 5), ('toronto', 5), ('renewable', 5), ('sworn', 5), ('tyson', 5), ('embracing', 5), ('redemption', 5), ('expose', 5), ('looming', 5), ('yard', 5), ('improving', 5), ('coulter', 5), ('indians', 5), ('middleton', 5), ('bile', 5), ('principles', 5), ('invasive', 5), ('keith', 5), ('ahmadinejad', 5), ('presentation', 5), ('reef', 5), ('goods', 5), ('dresses', 5), ('duck', 5), ('wolves', 5), ('upper', 5), ('keyboard', 5), ('disastrous', 5), ('broadcast', 5), ('revised', 5), ('cabin', 5), ('damaging', 5), ('especially', 5), ('sub', 5), ('utter', 5), ('cam', 5), ('franklin', 5), ('critically', 5), ('tag', 5), ('virtual', 5), ('stepping', 5), ('alarming', 5), ('airbnb', 5), ('panama', 5), ('anna', 5), ('woes', 5), ('harris', 5), ('yelling', 5), ('chancellor', 5), ('sigh', 5), ('slain', 5), ('productivity', 5), ('95', 5), ('acceptable', 5), ('cocktail', 5), ('joel', 5), ('nepal', 5), ('blog', 5), ('griffin', 5), ('manhattan', 5), ('styles', 5), ('nutritionists', 5), ('prosthetic', 5), ('promoting', 5), ('fifa', 5), ('anecdote', 5), ('blaming', 5), ('thick', 5), ('isolated', 5), ('handful', 5), ('waving', 5), ('forgive', 5), ('overworked', 5), ('chat', 5), ('bursting', 5), ('phelps', 5), ('murdered', 5), ('bridges', 5), ('fault', 5), ('bat', 5), ('elect', 5), ('broad', 5), ('motel', 5), ('homophobic', 5), ('obvious', 5), ('nordstrom', 5), ('reminding', 5), ('nighter', 5), ('hydraulic', 5), ('joaquin', 5), ('learns', 5), ('spacey', 5), ('farmer', 5), ('twisted', 5), ('empathy', 5), ('schedule', 5), ('criticizing', 5), ('dylan', 5), ('relatives', 5), ('savage', 5), ('figured', 5), ('badly', 5), ('offensive', 5), ('cease', 5), ('pursue', 5), ('hart', 5), ('october', 5), ('offices', 5), ('biting', 5), ('rodriguez', 5), ('unique', 5), ('hostile', 5), ('abandon', 5), ('correct', 5), ('ominously', 5), ('jan', 5), ('witherspoon', 5), ('markets', 5), ('kindness', 5), ('taraji', 5), ('henson', 5), ('reacts', 5), ('mills', 5), ('dreamed', 5), ('backpack', 5), ('correctly', 5), ('innovation', 5), ('brace', 5), ('palm', 5), ('stain', 5), ('forcing', 5), ('carries', 5), ('mocks', 5), ('steals', 5), ('tongue', 5), ('waves', 5), ('socks', 5), ('purchased', 5), ('susan', 5), ('charlize', 5), ('theron', 5), ('collecting', 5), ('hpv', 5), ('shameless', 5), ('aware', 5), ('minded', 5), ('skater', 5), ('hint', 5), ('lifting', 5), ('artificial', 5), ('lonely', 5), ('pine', 5), ('entrepreneur', 5), ('saint', 5), ('levine', 5), ('stations', 5), ('spreads', 5), ('photographs', 5), ('breach', 5), ('whatsapp', 5), ('ward', 5), ('fingers', 5), ('snapchat', 5), ('greyhound', 5), ('liked', 5), ('hedge', 5), ('baghdad', 5), ('dependence', 5), ('grills', 5), ('desire', 5), ('item', 5), ('dancers', 5), ('analytica', 5), ('stabbing', 5), ('papers', 5), ('gains', 5), ('pitbull', 5), ('beaten', 5), ('auto', 5), ('engineer', 5), ('painting', 5), ('sticks', 5), ('apologizing', 5), ('elevator', 5), ('horrors', 5), ('southwest', 5), ('celeb', 5), ('handing', 5), ('largely', 5), ('prescriptions', 5), ('martha', 5), ('environmental', 5), ('blacks', 5), ('amber', 5), ('ingredients', 5), ('spoilers', 5), ('victoria', 5), ('copies', 5), ('disick', 5), ('plain', 5), ('register', 5), ('losers', 5), ('hostess', 5), ('moderate', 5), ('banning', 5), ('accessible', 5), ('shield', 5), ('ridiculously', 5), ('subculture', 5), ('facial', 5), ('employers', 5), ('petition', 5), ('ismart', 5), ('barber', 5), ('ava', 5), ('duvernay', 5), ('legalizes', 5), ('arrive', 5), ('picnic', 5), ('fracking', 5), ('origin', 5), ('divide', 5), ('op', 5), ('q', 5), ('zip', 5), ('swastika', 5), ('comedians', 5), ('seals', 5), ('unusual', 5), ('explore', 5), ('reunite', 5), ('punk', 5), ('protesting', 5), ('solidarity', 5), ('mart', 5), ('arena', 5), ('psychology', 5), ('troll', 5), ('confirmed', 5), ('hippie', 5), ('33', 5), ('widow', 5), ('chilling', 5), ('steak', 5), ('overlooked', 5), ('witch', 5), ('approve', 5), ('cowboys', 5), ('creators', 5), ('gospel', 5), ('captivity', 5), ('knight', 5), ('troop', 5), ('patch', 5), ('cantor', 5), ('renamed', 5), ('employment', 5), ('motivational', 5), ('involve', 5), ('murderer', 5), ('2011', 5), ('leak', 5), ('arby', 5), ('trunk', 5), ('escaped', 5), ('spy', 5), ('increased', 5), ('received', 5), ('convincing', 5), ('choices', 5), ('historians', 5), ('offense', 5), ('reached', 5), ('peppers', 5), ('ham', 5), ('guardians', 5), ('hack', 5), ('em', 5), ('generic', 5), ('loudly', 5), ('discontinues', 5), ('bookstore', 5), ('investigator', 5), ('alumni', 5), ('locks', 5), ('88', 5), ('feinstein', 5), ('piano', 5), ('prayer', 5), ('aman', 5), ('pages', 5), ('explosive', 5), ('plenty', 5), ('harper', 5), ('concludes', 5), ('monthly', 5), ('antonin', 5), ('hacked', 5), ('wastes', 5), ('roast', 5), ('wives', 5), ('spotlight', 5), ('visitor', 5), ('charter', 5), ('aaron', 5), ('55', 5), ('universities', 5), ('assaulting', 5), ('blogger', 5), ('kardashians', 5), ('smoker', 5), ('gosling', 5), ('bang', 5), ('guidance', 5), ('conservation', 5), ('earlier', 5), ('shkreli', 5), ('nap', 5), ('penn', 5), ('leaning', 5), ('snacks', 5), ('peyton', 5), ('masks', 5), ('stirs', 5), ('fridge', 5), ('watchdog', 5), ('solitary', 5), ('forecast', 5), ('dubai', 5), ('brutally', 5), ('portland', 5), ('offshore', 5), ('disappears', 5), ('reflects', 5), ('dinosaur', 5), ('traveler', 5), ('intense', 5), ('plunges', 5), ('dreaming', 5), ('celebration', 5), ('doping', 5), ('sidewalk', 5), ('newt', 5), ('fey', 5), ('watergate', 5), ('constituents', 5), ('monument', 5), ('reduction', 4), ('boar', 4), ('influences', 4), ('cemetery', 4), ('careful', 4), ('consideration', 4), ('islamist', 4), ('heroically', 4), ('bale', 4), ('temple', 4), ('bats', 4), ('preparation', 4), ('claus', 4), ('recover', 4), ('tuning', 4), ('lochte', 4), ('vicious', 4), ('zen', 4), ('prevents', 4), ('vault', 4), ('barbra', 4), ('streisand', 4), ('crawford', 4), ('nets', 4), ('beckham', 4), ('chips', 4), ('58', 4), ('thieves', 4), ('shown', 4), ('edited', 4), ('apatow', 4), ('stephanie', 4), ('seymour', 4), ('labels', 4), ('paycheck', 4), ('biologists', 4), ('bragged', 4), ('ruled', 4), ('pharma', 4), ('cheeseburger', 4), ('thief', 4), ('jeopardy', 4), ('avoiding', 4), ('sized', 4), ('rewards', 4), ('pasta', 4), ('pin', 4), ('looney', 4), ('alliance', 4), ('ant', 4), ('avengers', 4), ('takei', 4), ('cookies', 4), ('improvement', 4), ('amanda', 4), ('inadvertently', 4), ('vince', 4), ('kirsten', 4), ('claiming', 4), ('kindergarten', 4), ('crop', 4), ('spells', 4), ('salads', 4), ('greg', 4), ('interested', 4), ('philippines', 4), ('elite', 4), ('administrator', 4), ('harassed', 4), ('craigslist', 4), ('nowhere', 4), ('unleashes', 4), ('lindsay', 4), ('swarm', 4), ('drones', 4), ('achieve', 4), ('checklist', 4), ('formally', 4), ('transfer', 4), ('destroying', 4), ('faked', 4), ('outdoor', 4), ('weirdest', 4), ('executes', 4), ('commander', 4), ('ceos', 4), ('patience', 4), ('robbins', 4), ('resume', 4), ('classmate', 4), ('electronic', 4), ('transphobic', 4), ('ronda', 4), ('rousey', 4), ('memphis', 4), ('drove', 4), ('kabul', 4), ('accurate', 4), ('recognition', 4), ('botched', 4), ('halts', 4), ('blunt', 4), ('publishing', 4), ('jupiter', 4), ('outline', 4), ('slight', 4), ('murders', 4), ('spinoff', 4), ('selects', 4), ('arrogant', 4), ('booker', 4), ('pals', 4), ('avid', 4), ('roe', 4), ('providers', 4), ('sculpture', 4), ('publicly', 4), ('maintain', 4), ('households', 4), ('required', 4), ('sides', 4), ('prefers', 4), ('bowling', 4), ('tokyo', 4), ('nina', 4), ('prank', 4), ('torn', 4), ('primaries', 4), ('volkswagen', 4), ('pollsters', 4), ('veto', 4), ('taiwan', 4), ('roots', 4), ('merge', 4), ('sensation', 4), ('masters', 4), ('nationalist', 4), ('punches', 4), ('unsettling', 4), ('binder', 4), ('franchise', 4), ('sleeps', 4), ('laughing', 4), ('ailes', 4), ('musician', 4), ('unconscious', 4), ('recognizes', 4), ('directed', 4), ('synagogue', 4), ('hbcu', 4), ('obnoxious', 4), ('solid', 4), ('client', 4), ('poignant', 4), ('teenagers', 4), ('polish', 4), ('pyramid', 4), ('delighted', 4), ('pumps', 4), ('000th', 4), ('dependent', 4), ('beast', 4), ('accidents', 4), ('symptoms', 4), ('dam', 4), ('escalates', 4), ('participate', 4), ('scotus', 4), ('advisors', 4), ('walgreens', 4), ('genuine', 4), ('absolute', 4), ('removal', 4), ('mlk', 4), ('complaining', 4), ('fulfills', 4), ('regretting', 4), ('trains', 4), ('collide', 4), ('chasing', 4), ('fred', 4), ('appalled', 4), ('laquan', 4), ('husbands', 4), ('uncertain', 4), ('battles', 4), ('ski', 4), ('titanic', 4), ('tool', 4), ('leftover', 4), ('clashes', 4), ('reward', 4), ('dirt', 4), ('identities', 4), ('stripper', 4), ('compromise', 4), ('category', 4), ('yearbook', 4), ('donations', 4), ('goldfish', 4), ('knees', 4), ('barred', 4), ('macy', 4), ('temperatures', 4), ('mosul', 4), ('skirt', 4), ('performs', 4), ('recruit', 4), ('fierce', 4), ('infants', 4), ('crawl', 4), ('regime', 4), ('legislators', 4), ('steam', 4), ('expression', 4), ('hipster', 4), ('survived', 4), ('pressing', 4), ('raw', 4), ('mashup', 4), ('tire', 4), ('immoral', 4), ('loft', 4), ('whiskey', 4), ('bergdahl', 4), ('marching', 4), ('formal', 4), ('nerve', 4), ('bounced', 4), ('boarding', 4), ('dawn', 4), ('camping', 4), ('mc', 4), ('picasso', 4), ('lowered', 4), ('mine', 4), ('illnesses', 4), ('lea', 4), ('confrontation', 4), ('debacle', 4), ('bankrupt', 4), ('earned', 4), ('outdoors', 4), ('assed', 4), ('churchill', 4), ('bangs', 4), ('coroner', 4), ('sunshine', 4), ('tyler', 4), ('fence', 4), ('controlled', 4), ('forgetting', 4), ('atheist', 4), ('stabbed', 4), ('olympian', 4), ('gate', 4), ('tuna', 4), ('supermarket', 4), ('entirety', 4), ('protected', 4), ('abandoning', 4), ('patio', 4), ('seemed', 4), ('tackling', 4), ('trainer', 4), ('lance', 4), ('sizes', 4), ('potato', 4), ('anthropologists', 4), ('rainforest', 4), ('continuing', 4), ('debilitating', 4), ('packing', 4), ('gearing', 4), ('knock', 4), ('coup', 4), ('screwing', 4), ('stockholm', 4), ('opponent', 4), ('challenging', 4), ('foiled', 4), ('landlord', 4), ('faced', 4), ('freed', 4), ('mayhem', 4), ('dollars', 4), ('undergo', 4), ('obrien', 4), ('included', 4), ('lennon', 4), ('masterpiece', 4), ('sector', 4), ('ebay', 4), ('slur', 4), ('gonna', 4), ('retreat', 4), ('coma', 4), ('forehead', 4), ('anatomy', 4), ('meteorologist', 4), ('homelessness', 4), ('hanes', 4), ('animated', 4), ('hoax', 4), ('delayed', 4), ('posing', 4), ('psa', 4), ('forgiveness', 4), ('designs', 4), ('grease', 4), ('periods', 4), ('wistfully', 4), ('hammers', 4), ('addict', 4), ('carrier', 4), ('staples', 4), ('deadliest', 4), ('reserve', 4), ('ricans', 4), ('bonding', 4), ('venezuela', 4), ('fk', 4), ('180', 4), ('responders', 4), ('declines', 4), ('granted', 4), ('dangling', 4), ('snl', 4), ('praised', 4), ('convert', 4), ('attended', 4), ('blaze', 4), ('height', 4), ('represent', 4), ('unicorn', 4), ('definitive', 4), ('acted', 4), ('mo', 4), ('paternity', 4), ('heston', 4), ('drawings', 4), ('deck', 4), ('thriller', 4), ('sierra', 4), ('leone', 4), ('duped', 4), ('disneyland', 4), ('afternoon', 4), ('duo', 4), ('invites', 4), ('scottish', 4), ('referendum', 4), ('harriet', 4), ('biopic', 4), ('washed', 4), ('hideous', 4), ('skipping', 4), ('suck', 4), ('thumb', 4), ('thumbs', 4), ('culinary', 4), ('plows', 4), ('hugging', 4), ('yellowstone', 4), ('controlling', 4), ('executions', 4), ('costing', 4), ('reynolds', 4), ('medal', 4), ('ame', 4), ('kicking', 4), ('protects', 4), ('hugs', 4), ('published', 4), ('printer', 4), ('ounce', 4), ('brush', 4), ('pairing', 4), ('violations', 4), ('admissions', 4), ('scrabble', 4), ('zones', 4), ('jeremy', 4), ('driverless', 4), ('dudes', 4), ('kesha', 4), ('praying', 4), ('victorious', 4), ('82', 4), ('bio', 4), ('ranked', 4), ('strategies', 4), ('hunters', 4), ('18th', 4), ('painter', 4), ('nudes', 4), ('professionals', 4), ('tribe', 4), ('doughnuts', 4), ('indefinitely', 4), ('colored', 4), ('boards', 4), ('understanding', 4), ('bouncer', 4), ('richie', 4), ('hatch', 4), ('cardi', 4), ('autistic', 4), ('kurds', 4), ('eva', 4), ('convicted', 4), ('numerous', 4), ('gesture', 4), ('dildo', 4), ('innovative', 4), ('yale', 4), ('pressured', 4), ('enormous', 4), ('screams', 4), ('molestation', 4), ('rides', 4), ('masturbated', 4), ('caribbean', 4), ('extraordinary', 4), ('marriages', 4), ('matched', 4), ('background', 4), ('firearms', 4), ('earliest', 4), ('justify', 4), ('retirees', 4), ('hawaiian', 4), ('iceberg', 4), ('unhealthy', 4), ('mayo', 4), ('kidney', 4), ('ferrera', 4), ('undercover', 4), ('richer', 4), ('shines', 4), ('darkness', 4), ('baffled', 4), ('47', 4), ('marital', 4), ('scrutiny', 4), ('nhl', 4), ('stem', 4), ('trucks', 4), ('household', 4), ('advanced', 4), ('reasonable', 4), ('boardroom', 4), ('lovely', 4), ('chilean', 4), ('rod', 4), ('counter', 4), ('wi', 4), ('identified', 4), ('bucks', 4), ('shred', 4), ('spicy', 4), ('stranded', 4), ('advertisers', 4), ('warnings', 4), ('ipod', 4), ('fancy', 4), ('pabst', 4), ('affects', 4), ('nikki', 4), ('aarp', 4), ('criticize', 4), ('christianity', 4), ('ishe', 4), ('bow', 4), ('anchors', 4), ('infuriating', 4), ('prominent', 4), ('supply', 4), ('kobe', 4), ('bryant', 4), ('employer', 4), ('razor', 4), ('zayn', 4), ('wanna', 4), ('insurers', 4), ('krugman', 4), ('unprecedented', 4), ('aguilera', 4), ('partying', 4), ('adopts', 4), ('cub', 4), ('cents', 4), ('phil', 4), ('stretching', 4), ('stroke', 4), ('antarctica', 4), ('caller', 4), ('stake', 4), ('incidents', 4), ('core', 4), ('airing', 4), ('grandchildren', 4), ('hears', 4), ('advocate', 4), ('warned', 4), ('regional', 4), ('le', 4), ('patrol', 4), ('carol', 4), ('unreal', 4), ('runner', 4), ('truman', 4), ('lounge', 4), ('frito', 4), ('mandela', 4), ('mrs', 4), ('boom', 4), ('caroline', 4), ('blamed', 4), ('sharon', 4), ('murphy', 4), ('halliburton', 4), ('abruptly', 4), ('wonderland', 4), ('sync', 4), ('collapsed', 4), ('compulsive', 4), ('alec', 4), ('vagina', 4), ('wiped', 4), ('upholds', 4), ('slays', 4), ('destiny', 4), ('wrecking', 4), ('tommy', 4), ('butts', 4), ('thai', 4), ('ashes', 4), ('olsen', 4), ('marines', 4), ('cope', 4), ('dc', 4), ('cage', 4), ('norwegian', 4), ('diana', 4), ('cpac', 4), ('vets', 4), ('terrain', 4), ('avoids', 4), ('believed', 4), ('dumps', 4), ('parallel', 4), ('confronts', 4), ('dismisses', 4), ('sony', 4), ('burned', 4), ('spiritual', 4), ('brick', 4), ('mtv', 4), ('guinea', 4), ('violating', 4), ('hearings', 4), ('sweeping', 4), ('spike', 4), ('extend', 4), ('attending', 4), ('burrito', 4), ('invaded', 4), ('mccarthy', 4), ('slippery', 4), ('towns', 4), ('jolie', 4), ('hopefuls', 4), ('groom', 4), ('byrne', 4), ('console', 4), ('peas', 4), ('canal', 4), ('tomato', 4), ('banner', 4), ('awe', 4), ('result', 4), ('tracy', 4), ('scanning', 4), ('fidel', 4), ('booth', 4), ('laughter', 4), ('habitat', 4), ('congresswoman', 4), ('boycott', 4), ('describes', 4), ('diner', 4), ('nicks', 4), ('spell', 4), ('exposing', 4), ('slap', 4), ('seeds', 4), ('offends', 4), ('brave', 4), ('asians', 4), ('beans', 4), ('downs', 4), ('monica', 4), ('unlimited', 4), ('midterm', 4), ('influential', 4), ('kinds', 4), ('syrup', 4), ('drain', 4), ('apocalypse', 4), ('neglected', 4), ('bloom', 4), ('assembly', 4), ('petty', 4), ('topic', 4), ('aggressive', 4), ('meme', 4), ('integrated', 4), ('weiner', 4), ('orca', 4), ('newsweek', 4), ('occasion', 4), ('broncos', 4), ('lingerie', 4), ('commit', 4), ('jcpenney', 4), ('darren', 4), ('angelina', 4), ('concedes', 4), ('stevens', 4), ('jihad', 4), ('lesbians', 4), ('psychological', 4), ('deputies', 4), ('define', 4), ('abs', 4), ('52', 4), ('syndrome', 4), ('preschool', 4), ('autopsy', 4), ('parrot', 4), ('rains', 4), ('warehouse', 4), ('coral', 4), ('bachmann', 4), ('ripped', 4), ('resumes', 4), ('outage', 4), ('compliment', 4), ('tate', 4), ('miners', 4), ('lifestyle', 4), ('thiel', 4), ('pussy', 4), ('shortage', 4), ('needle', 4), ('pastry', 4), ('genital', 4), ('maintains', 4), ('symbol', 4), ('scream', 4), ('mormon', 4), ('hummus', 4), ('wobbly', 4), ('guides', 4), ('optimistic', 4), ('organs', 4), ('citing', 4), ('pal', 4), ('injures', 4), ('ingredient', 4), ('pepsi', 4), ('questioning', 4), ('collective', 4), ('homage', 4), ('voyager', 4), ('ballistic', 4), ('nephew', 4), ('morale', 4), ('england', 4), ('emerging', 4), ('panics', 4), ('gruesome', 4), ('snowden', 4), ('spark', 4), ('turmoil', 4), ('ditches', 4), ('romantic', 4), ('cory', 4), ('units', 4), ('hazing', 4), ('louder', 4), ('chances', 4), ('switches', 4), ('macron', 4), ('nears', 4), ('ufo', 4), ('filing', 4), ('rapist', 4), ('fundraiser', 4), ('perverted', 4), ('abu', 4), ('servings', 4), ('shade', 4), ('kimye', 4), ('vending', 4), ('follows', 4), ('alpha', 4), ('pattern', 4), ('bette', 4), ('midler', 4), ('batman', 4), ('benefactor', 4), ('wows', 4), ('aurora', 4), ('chills', 4), ('drinkers', 4), ('rented', 4), ('visited', 4), ('survives', 4), ('versions', 4), ('birthplace', 4), ('decent', 4), ('oral', 4), ('traces', 4), ('peanuts', 4), ('wells', 4), ('groundbreaking', 4), ('blissfully', 4), ('lakers', 4), ('variety', 4), ('hijab', 4), ('remembered', 4), ('crosses', 4), ('suggesting', 4), ('complaint', 4), ('blair', 4), ('searches', 4), ('buzz', 4), ('suspends', 4), ('log', 4), ('proposals', 4), ('champagne', 4), ('parties', 4), ('philosophy', 4), ('au', 4), ('adopted', 4), ('bees', 4), ('constitutional', 4), ('grad', 4), ('spelling', 4), ('prompts', 4), ('prevention', 4), ('desert', 4), ('shakes', 4), ('reduced', 4), ('sexuality', 4), ('dysfunctional', 4), ('blasio', 4), ('gilbert', 4), ('77', 4), ('raving', 4), ('verdict', 4), ('interrupted', 4), ('cincinnati', 4), ('provider', 4), ('diverse', 4), ('crosshairs', 4), ('alito', 4), ('layer', 4), ('fetus', 4), ('performer', 4), ('ankle', 4), ('56', 4), ('pulse', 4), ('channels', 4), ('bigot', 4), ('unhappy', 4), ('recognize', 4), ('terri', 4), ('condemn', 4), ('46', 4), ('proving', 4), ('cargo', 4), ('skyscraper', 4), ('malia', 4), ('insults', 4), ('classroom', 4), ('laverne', 4), ('tackles', 4), ('oz', 4), ('ocd', 4), ('fry', 4), ('latina', 4), ('underground', 4), ('120', 4), ('dealing', 4), ('obsolete', 4), ('cheers', 4), ('arriving', 4), ('trigger', 4), ('honey', 4), ('gwen', 4), ('stefani', 4), ('breasts', 4), ('marries', 4), ('surfer', 4), ('maid', 4), ('seemingly', 4), ('teenager', 4), ('cockroach', 4), ('franco', 4), ('tearing', 4), ('jesse', 4), ('crocodile', 4), ('62', 4), ('malfunction', 4), ('rogue', 4), ('duties', 4), ('coping', 4), ('clintons', 4), ('janet', 4), ('silverman', 4), ('description', 4), ('centers', 4), ('inducted', 4), ('constitute', 4), ('emotions', 4), ('lately', 4), ('awarded', 4), ('confront', 4), ('rolled', 4), ('guacamole', 4), ('greatness', 4), ('keynote', 4), ('equity', 4), ('launched', 4), ('pockets', 4), ('eerie', 4), ('balls', 4), ('kits', 4), ('daylight', 4), ('lawsuits', 4), ('novelty', 4), ('ncaa', 4), ('curling', 4), ('vp', 4), ('mommy', 4), ('maria', 4), ('ashcroft', 4), ('communists', 4), ('departing', 4), ('hunk', 4), ('arts', 4), ('rupert', 4), ('murdoch', 4), ('bangladesh', 4), ('diabetes', 4), ('mutant', 4), ('ninja', 4), ('predicts', 4), ('smear', 4), ('kendall', 4), ('failures', 4), ('lucas', 4), ('dennis', 4), ('seating', 4), ('sorority', 4), ('behalf', 4), ('singapore', 4), ('buffett', 4), ('aquarium', 4), ('fashioned', 4), ('helpless', 4), ('weights', 4), ('baton', 4), ('underwater', 4), ('clinic', 4), ('showdown', 4), ('embassy', 4), ('carpool', 4), ('cupboard', 4), ('mounting', 4), ('internal', 4), ('metoo', 4), ('staggering', 4), ('impoverished', 4), ('handed', 4), ('reel', 4), ('lining', 4), ('gavin', 4), ('cox', 4), ('royals', 4), ('unearth', 4), ('galactic', 4), ('beg', 4), ('isecret', 4), ('owe', 4), ('elk', 4), ('purse', 4), ('hangover', 4), ('counting', 4), ('misery', 4), ('fried', 4), ('achievement', 4), ('salmonella', 4), ('useful', 4), ('seed', 4), ('patriots', 4), ('silicon', 4), ('ponytail', 4), ('joined', 4), ('saddam', 4), ('coasting', 4), ('indie', 4), ('dea', 4), ('owning', 4), ('flower', 4), ('hmo', 4), ('textbook', 4), ('diplomatic', 4), ('donor', 4), ('driveway', 4), ('ana', 4), ('pretending', 4), ('accidental', 4), ('residence', 4), ('advances', 4), ('halt', 4), ('associated', 4), ('comment', 4), ('toss', 4), ('encourage', 4), ('nearby', 4), ('insider', 4), ('justices', 4), ('till', 4), ('jerk', 4), ('leno', 4), ('ravaged', 4), ('tuition', 4), ('cheesecake', 4), ('bipartisan', 4), ('diaz', 4), ('substitute', 4), ('privately', 4), ('3d', 4), ('smells', 4), ('undermine', 4), ('alleges', 4), ('dye', 4), ('rove', 4), ('redefine', 4), ('overseas', 4), ('gathers', 4), ('philly', 4), ('wed', 4), ('lifts', 4), ('streak', 4), ('thrilled', 4), ('resist', 4), ('scams', 4), ('1998', 4), ('uninformed', 4), ('fantasize', 4), ('glowing', 4), ('napping', 4), ('napkin', 4), ('hides', 4), ('norman', 4), ('mega', 4), ('example', 4), ('humiliated', 4), ('sweatshirt', 4), ('weighing', 4), ('setback', 4), ('grasp', 4), ('rowdy', 4), ('shipment', 4), ('tear', 4), ('architect', 4), ('pokemon', 4), ('unexpectedly', 4), ('toddlers', 4), ('sacrifice', 4), ('partners', 4), ('dixon', 4), ('counterfeit', 4), ('20s', 4), ('investigated', 4), ('clearance', 4), ('discarded', 4), ('parental', 4), ('tai', 4), ('chi', 4), ('slam', 4), ('psychic', 4), ('siege', 4), ('rom', 4), ('campaigning', 4), ('sec', 4), ('cliff', 4), ('bragging', 4), ('wikipedia', 4), ('vast', 4), ('todd', 4), ('girlfriends', 4), ('partial', 4), ('91', 4), ('cube', 4), ('hippo', 4), ('mankind', 4), ('adjusting', 4), ('carl', 4), ('pudding', 4), ('casts', 4), ('scraps', 4), ('payments', 4), ('runaway', 4), ('wheat', 4), ('derek', 4), ('angels', 4), ('criticizes', 4), ('hacker', 4), ('quaker', 4), ('sting', 4), ('isuper', 4), ('1999', 4), ('nominate', 4), ('45th', 4), ('bench', 4), ('babysitter', 4), ('hacking', 4), ('flaws', 4), ('courts', 4), ('charms', 4), ('oreos', 4), ('visa', 4), ('deer', 4), ('imagining', 4), ('expands', 4), ('diego', 4), ('sparking', 4), ('tense', 4), ('nest', 4), ('bass', 4), ('changer', 4), ('gubernatorial', 4), ('bones', 4), ('algorithm', 4), ('urging', 4), ('20th', 4), ('signed', 4), ('2006', 4), ('penguins', 4), ('brandon', 4), ('colorful', 4), ('declared', 4), ('advisor', 4), ('explicitly', 4), ('advisory', 4), ('capitalism', 4), ('ballet', 4), ('whistle', 4), ('booed', 4), ('assholes', 4), ('detention', 4), ('dust', 4), ('nathan', 4), ('jogger', 4), ('fiancé', 4), ('interference', 4), ('fiona', 4), ('wsj', 4), ('flee', 4), ('editorial', 4), ('pearl', 4), ('dianne', 4), ('renews', 4), ('harrison', 4), ('deeper', 4), ('attitude', 4), ('stylish', 4), ('expansion', 4), ('hhs', 4), ('curvy', 4), ('alternate', 4), ('futures', 4), ('emoji', 4), ('bomer', 4), ('imagination', 4), ('abusing', 4), ('bombs', 4), ('notebook', 4), ('imagined', 4), ('pee', 4), ('sample', 4), ('mob', 4), ('cord', 4), ('fury', 4), ('checkout', 4), ('79', 4), ('beliefs', 4), ('acid', 4), ('weigh', 4), ('bananas', 4), ('serve', 4), ('nursery', 4), ('vikings', 4), ('refrigerator', 4), ('steel', 4), ('poetry', 4), ('consequence', 4), ('onstage', 4), ('confessions', 4), ('toothbrush', 4), ('prisons', 4), ('jonas', 4), ('recommendation', 4), ('backing', 4), ('pauses', 4), ('figuring', 4), ('pharmaceutical', 4), ('doubled', 4), ('heavily', 4), ('recently', 4), ('midterms', 4), ('craft', 4), ('squirrel', 4), ('glover', 4), ('colors', 4), ('gods', 4), ('getaway', 4), ('hearted', 4), ('defamation', 4), ('illusion', 4), ('bullshit', 4), ('styrofoam', 4), ('noticing', 4), ('condom', 4), ('raids', 4), ('advocacy', 4), ('reflection', 4), ('punched', 4), ('publisher', 4), ('semitism', 4), ('peak', 4), ('charging', 4), ('cardinals', 4), ('dive', 4), ('coveted', 4), ('alt', 4), ('screenwriter', 4), ('poison', 4), ('indoor', 4), ('lively', 4), ('slammed', 4), ('organize', 4), ('behaviors', 4), ('whistleblower', 4), ('lips', 4), ('spoon', 4), ('imitates', 4), ('candid', 4), ('grass', 4), ('retain', 4), ('chaplain', 4), ('wound', 4), ('projects', 4), ('haspel', 4), ('unfit', 4), ('column', 4), ('existence', 4), ('soar', 4), ('speeches', 4), ('detector', 4), ('kenny', 4), ('mentioning', 4), ('mourners', 4), ('founded', 4), ('sand', 4), ('abdul', 4), ('pinterest', 4), ('vandalized', 4), ('fastest', 4), ('paperwork', 4), ('introducing', 4), ('carlos', 4), ('crushes', 4), ('robber', 4), ('denying', 4), ('disturbingly', 4), ('inaugural', 4), ('backfires', 4), ('kissing', 4), ('millionaire', 4), ('differently', 4), ('rider', 4), ('darfur', 4), ('forest', 4), ('sings', 4), ('uneasy', 4), ('belt', 4), ('banking', 4), ('megan', 4), ('juicy', 4), ('lasts', 4), ('tucker', 4), ('retailers', 4), ('bonus', 4), ('mic', 4), ('eclipse', 4), ('salary', 4), ('fighter', 4), ('covering', 4), ('sucks', 4), ('taxpayers', 4), ('broth', 4), ('retro', 4), ('overtime', 4), ('tanks', 4), ('connect', 4), ('tweeted', 4), ('antibiotics', 4), ('legalize', 4), ('knocks', 4), ('rotating', 4), ('continued', 4), ('assuring', 4), ('ears', 4), ('testify', 4), ('breyer', 4), ('beware', 4), ('roseanne', 3), ('fascinating', 3), ('handler', 3), ('sinking', 3), ('cockpit', 3), ('analysts', 3), ('courtroom', 3), ('dutch', 3), ('remembrance', 3), ('repay', 3), ('devin', 3), ('beached', 3), ('northeast', 3), ('brita', 3), ('filters', 3), ('grisham', 3), ('authors', 3), ('adolescent', 3), ('isorry', 3), ('yesterday', 3), ('fucks', 3), ('fraternity', 3), ('retaliation', 3), ('networking', 3), ('bono', 3), ('cries', 3), ('productions', 3), ('insecurities', 3), ('inhofe', 3), ('natalie', 3), ('tours', 3), ('roasts', 3), ('poker', 3), ('audition', 3), ('urinal', 3), ('newman', 3), ('chews', 3), ('expertise', 3), ('swedish', 3), ('lana', 3), ('rey', 3), ('supermodel', 3), ('crusade', 3), ('slate', 3), ('deter', 3), ('breakroom', 3), ('outta', 3), ('amake', 3), ('noodle', 3), ('consume', 3), ('avocados', 3), ('progressives', 3), ('bogus', 3), ('fiasco', 3), ('sibling', 3), ('frontier', 3), ('casey', 3), ('libido', 3), ('juggler', 3), ('transforming', 3), ('conrad', 3), ('statistic', 3), ('hernandez', 3), ('soup', 3), ('inaccurate', 3), ('gillibrand', 3), ('paves', 3), ('portal', 3), ('hardy', 3), ('blond', 3), ('delaying', 3), ('psychologists', 3), ('graves', 3), ('lock', 3), ('massage', 3), ('entertaining', 3), ('buyers', 3), ('pioneer', 3), ('addicts', 3), ('sentences', 3), ('ceremonial', 3), ('elle', 3), ('symptom', 3), ('laundromat', 3), ('keg', 3), ('dig', 3), ('narcissist', 3), ('governing', 3), ('missiles', 3), ('sadder', 3), ('attic', 3), ('motivation', 3), ('housefly', 3), ('bounty', 3), ('brawny', 3), ('mutual', 3), ('canceling', 3), ('choir', 3), ('pageant', 3), ('waterboarding', 3), ('greeting', 3), ('reno', 3), ('fetish', 3), ('evolving', 3), ('incorrectly', 3), ('readies', 3), ('merry', 3), ('unstoppable', 3), ('kobach', 3), ('stray', 3), ('darwin', 3), ('brewing', 3), ('approaches', 3), ('interrogation', 3), ('guesses', 3), ('stern', 3), ('istupid', 3), ('moviegoer', 3), ('shakespeare', 3), ('interrupts', 3), ('hammered', 3), ('demonstrates', 3), ('weeknd', 3), ('flake', 3), ('mta', 3), ('grizzly', 3), ('entrepreneurial', 3), ('1997', 3), ('manufacturing', 3), ('physics', 3), ('predict', 3), ('assassination', 3), ('registers', 3), ('isleepy', 3), ('aspiring', 3), ('nemesis', 3), ('moscow', 3), ('cosmopolitan', 3), ('drummer', 3), ('sheet', 3), ('germans', 3), ('combination', 3), ('diaries', 3), ('scolds', 3), ('prosecutors', 3), ('tamir', 3), ('pointed', 3), ('molested', 3), ('dee', 3), ('soaked', 3), ('mauled', 3), ('flyer', 3), ('sprint', 3), ('fe', 3), ('vintage', 3), ('karen', 3), ('mason', 3), ('hybrid', 3), ('exclusively', 3), ('apartments', 3), ('meltdown', 3), ('license', 3), ('murdering', 3), ('milwaukee', 3), ('harrelson', 3), ('leaf', 3), ('touches', 3), ('areligious', 3), ('diplomat', 3), ('legends', 3), ('amelia', 3), ('burst', 3), ('outsider', 3), ('languages', 3), ('schooler', 3), ('interviewed', 3), ('elects', 3), ('purposes', 3), ('parlor', 3), ('cans', 3), ('alicia', 3), ('preachers', 3), ('resilient', 3), ('relaxes', 3), ('brett', 3), ('contractors', 3), ('tattoos', 3), ('7th', 3), ('libertarian', 3), ('terrier', 3), ('chapel', 3), ('remainder', 3), ('harmony', 3), ('exiting', 3), ('henderson', 3), ('rounds', 3), ('enact', 3), ('geography', 3), ('competent', 3), ('jfk', 3), ('avatar', 3), ('attract', 3), ('closure', 3), ('aircraft', 3), ('division', 3), ('stakes', 3), ('morbidly', 3), ('romp', 3), ('longevity', 3), ('healthiest', 3), ('outreach', 3), ('explosives', 3), ('divest', 3), ('avery', 3), ('floats', 3), ('rbg', 3), ('rewrite', 3), ('messing', 3), ('particularly', 3), ('lengthy', 3), ('spreading', 3), ('theories', 3), ('ounces', 3), ('fedex', 3), ('spying', 3), ('defibrillator', 3), ('ballots', 3), ('duncan', 3), ('exam', 3), ('vague', 3), ('notion', 3), ('sheeran', 3), ('sang', 3), ('overwhelming', 3), ('durst', 3), ('lice', 3), ('applause', 3), ('mint', 3), ('coin', 3), ('wiig', 3), ('longs', 3), ('compelling', 3), ('engage', 3), ('claire', 3), ('danes', 3), ('feig', 3), ('mute', 3), ('assigned', 3), ('blindsided', 3), ('knit', 3), ('initial', 3), ('detectives', 3), ('elevate', 3), ('dummy', 3), ('kremlin', 3), ('geek', 3), ('stark', 3), ('incarceration', 3), ('signals', 3), ('soulmate', 3), ('mm', 3), ('undergoes', 3), ('unconditional', 3), ('hails', 3), ('suspend', 3), ('juggling', 3), ('enroll', 3), ('seacrest', 3), ('corker', 3), ('veal', 3), ('calf', 3), ('steakhouse', 3), ('charts', 3), ('winding', 3), ('monsters', 3), ('periodic', 3), ('elements', 3), ('evolutionary', 3), ('craze', 3), ('swear', 3), ('interviewer', 3), ('vegan', 3), ('beginner', 3), ('arrangement', 3), ('cheat', 3), ('fitzgerald', 3), ('ruby', 3), ('stein', 3), ('diners', 3), ('permanently', 3), ('songwriter', 3), ('riff', 3), ('guided', 3), ('unsafe', 3), ('conor', 3), ('mcgregor', 3), ('freeway', 3), ('hefner', 3), ('unreleased', 3), ('jojo', 3), ('sir', 3), ('patton', 3), ('oswalt', 3), ('licking', 3), ('pier', 3), ('sweatshop', 3), ('fuzzy', 3), ('abramson', 3), ('experimental', 3), ('spencer', 3), ('duckworth', 3), ('selfies', 3), ('115', 3), ('calories', 3), ('hatchimals', 3), ('wrinkle', 3), ('crib', 3), ('privilege', 3), ('honk', 3), ('meg', 3), ('personalities', 3), ('contemplating', 3), ('texts', 3), ('pyeongchang', 3), ('hiroshima', 3), ('luxurious', 3), ('circular', 3), ('mckinnon', 3), ('hallmark', 3), ('twain', 3), ('robbers', 3), ('spooky', 3), ('reply', 3), ('rosie', 3), ('shapes', 3), ('pierce', 3), ('summers', 3), ('represents', 3), ('playground', 3), ('mohamed', 3), ('despondent', 3), ('glory', 3), ('airliner', 3), ('grounded', 3), ('amsterdam', 3), ('surveys', 3), ('institute', 3), ('sheryl', 3), ('expires', 3), ('walked', 3), ('measures', 3), ('topples', 3), ('confesses', 3), ('frustration', 3), ('coalition', 3), ('chill', 3), ('bisexual', 3), ('recruiter', 3), ('ikea', 3), ('rug', 3), ('militias', 3), ('raqqa', 3), ('possession', 3), ('swallowing', 3), ('londoners', 3), ('nuns', 3), ('addressed', 3), ('barrels', 3), ('filling', 3), ('grindr', 3), ('trembling', 3), ('firearm', 3), ('recording', 3), ('newborns', 3), ('bonds', 3), ('kingdom', 3), ('bash', 3), ('pocahontas', 3), ('frost', 3), ('750', 3), ('legs', 3), ('westminster', 3), ('transit', 3), ('pandering', 3), ('transplant', 3), ('bleary', 3), ('via', 3), ('booby', 3), ('analogy', 3), ('execute', 3), ('tastes', 3), ('newlyweds', 3), ('spanking', 3), ('humane', 3), ('renting', 3), ('il', 3), ('imported', 3), ('snoop', 3), ('dogg', 3), ('sizzling', 3), ('atheists', 3), ('corps', 3), ('judging', 3), ('warriors', 3), ('panthers', 3), ('advantage', 3), ('humble', 3), ('axelrod', 3), ('halls', 3), ('vine', 3), ('believing', 3), ('millennia', 3), ('ms', 3), ('geologists', 3), ('oatmeal', 3), ('protein', 3), ('receptionist', 3), ('pollster', 3), ('hated', 3), ('bloated', 3), ('austria', 3), ('registered', 3), ('offenders', 3), ('skit', 3), ('lowe', 3), ('gentle', 3), ('sweden', 3), ('stare', 3), ('wishing', 3), ('departure', 3), ('delegation', 3), ('bashes', 3), ('54', 3), ('pigs', 3), ('mortar', 3), ('charlton', 3), ('boulder', 3), ('fog', 3), ('gunfire', 3), ('cartoonist', 3), ('salsa', 3), ('apologies', 3), ('refutes', 3), ('areckless', 3), ('cybersecurity', 3), ('pros', 3), ('capsule', 3), ('unfair', 3), ('offender', 3), ('att', 3), ('wade', 3), ('opt', 3), ('strained', 3), ('scheme', 3), ('margins', 3), ('intellectual', 3), ('stood', 3), ('dorner', 3), ('simpler', 3), ('mobility', 3), ('scooter', 3), ('rages', 3), ('gunpoint', 3), ('exxon', 3), ('trudeau', 3), ('explodes', 3), ('landmarks', 3), ('males', 3), ('norms', 3), ('surrounding', 3), ('supplies', 3), ('tubman', 3), ('houseguest', 3), ('bots', 3), ('marred', 3), ('malaysia', 3), ('tossed', 3), ('reconciliation', 3), ('domino', 3), ('richest', 3), ('besieged', 3), ('volunteers', 3), ('resemblance', 3), ('judicial', 3), ('coward', 3), ('nascar', 3), ('newspapers', 3), ('damning', 3), ('disappearance', 3), ('lt', 3), ('fold', 3), ('buckingham', 3), ('fleeing', 3), ('conflicts', 3), ('earl', 3), ('martian', 3), ('exits', 3), ('hats', 3), ('particle', 3), ('tolerance', 3), ('hammering', 3), ('flowers', 3), ('applies', 3), ('starter', 3), ('thrilling', 3), ('douglas', 3), ('membership', 3), ('sweetest', 3), ('digs', 3), ('hose', 3), ('piven', 3), ('hype', 3), ('hubris', 3), ('dwight', 3), ('odd', 3), ('climbs', 3), ('musicals', 3), ('130', 3), ('trumpism', 3), ('nicole', 3), ('bulls', 3), ('bros', 3), ('sopranos', 3), ('reddit', 3), ('hosting', 3), ('ironclad', 3), ('nicely', 3), ('spoils', 3), ('athletic', 3), ('bi', 3), ('breed', 3), ('entertained', 3), ('postponed', 3), ('allan', 3), ('revenue', 3), ('57', 3), ('lionel', 3), ('fort', 3), ('trainee', 3), ('amtrak', 3), ('webpage', 3), ('impassioned', 3), ('soars', 3), ('churchgoer', 3), ('undo', 3), ('projected', 3), ('fema', 3), ('main', 3), ('truther', 3), ('crowded', 3), ('donna', 3), ('palace', 3), ('reaffirms', 3), ('walter', 3), ('2010', 3), ('outlets', 3), ('sequence', 3), ('monitors', 3), ('extensive', 3), ('revelations', 3), ('aboard', 3), ('marilyn', 3), ('glam', 3), ('glitter', 3), ('jindal', 3), ('accomplishments', 3), ('recovers', 3), ('mecca', 3), ('iranians', 3), ('slang', 3), ('brighten', 3), ('webster', 3), ('refund', 3), ('sleepover', 3), ('sucked', 3), ('abuses', 3), ('crashed', 3), ('2030', 3), ('barbie', 3), ('wynn', 3), ('protagonist', 3), ('recognizing', 3), ('diagram', 3), ('forum', 3), ('discussion', 3), ('placebo', 3), ('stayed', 3), ('blizzard', 3), ('simultaneously', 3), ('wealthiest', 3), ('insiders', 3), ('remix', 3), ('elton', 3), ('concussions', 3), ('shaving', 3), ('solved', 3), ('bullets', 3), ('genitals', 3), ('lynn', 3), ('voluntarily', 3), ('commuters', 3), ('slot', 3), ('pretzel', 3), ('reflecting', 3), ('yacht', 3), ('adversity', 3), ('including', 3), ('fueling', 3), ('blindness', 3), ('uncool', 3), ('feminists', 3), ('bands', 3), ('buffet', 3), ('swearing', 3), ('haley', 3), ('amnesty', 3), ('sunset', 3), ('screwed', 3), ('performers', 3), ('liver', 3), ('uganda', 3), ('speakers', 3), ('editing', 3), ('alter', 3), ('egos', 3), ('reuters', 3), ('candles', 3), ('botches', 3), ('enthusiasm', 3), ('solange', 3), ('versus', 3), ('ducks', 3), ('nash', 3), ('processed', 3), ('arabian', 3), ('endorsing', 3), ('wasteful', 3), ('metaphor', 3), ('punching', 3), ('rails', 3), ('baptist', 3), ('kidnapped', 3), ('backstage', 3), ('beheaded', 3), ('prediction', 3), ('slaughtering', 3), ('postmaster', 3), ('founding', 3), ('chairs', 3), ('technique', 3), ('finals', 3), ('suitcase', 3), ('heels', 3), ('weighed', 3), ('penguin', 3), ('investors', 3), ('manhood', 3), ('perez', 3), ('giddy', 3), ('dramas', 3), ('default', 3), ('overcrowded', 3), ('limiting', 3), ('automatically', 3), ('olympians', 3), ('bakery', 3), ('maturity', 3), ('vocal', 3), ('cords', 3), ('developed', 3), ('outdated', 3), ('oakland', 3), ('choking', 3), ('nutritional', 3), ('electricity', 3), ('expenses', 3), ('corpses', 3), ('farenthold', 3), ('resigned', 3), ('hurdles', 3), ('crimea', 3), ('partisan', 3), ('timothy', 3), ('separation', 3), ('assets', 3), ('disrupt', 3), ('inheritance', 3), ('gloves', 3), ('hyland', 3), ('chosen', 3), ('congressmen', 3), ('salvador', 3), ('surfaces', 3), ('cutout', 3), ('eccentric', 3), ('secretive', 3), ('stoked', 3), ('tons', 3), ('uproar', 3), ('alarmed', 3), ('baylor', 3), ('movements', 3), ('elfman', 3), ('patriarchy', 3), ('yiannopoulos', 3), ('roomba', 3), ('oasis', 3), ('slips', 3), ('click', 3), ('dragged', 3), ('immunity', 3), ('wood', 3), ('budweiser', 3), ('counterparts', 3), ('debbie', 3), ('mosquito', 3), ('incest', 3), ('manuscript', 3), ('slavery', 3), ('typing', 3), ('severed', 3), ('singles', 3), ('orgasm', 3), ('memorable', 3), ('cattrall', 3), ('omg', 3), ('representation', 3), ('potatoes', 3), ('inhumane', 3), ('occurs', 3), ('sufferer', 3), ('refusal', 3), ('unfinished', 3), ('longingly', 3), ('safari', 3), ('willow', 3), ('scam', 3), ('agencies', 3), ('intend', 3), ('geographic', 3), ('mel', 3), ('skateboard', 3), ('cherry', 3), ('prego', 3), ('refreshed', 3), ('watcher', 3), ('yeah', 3), ('hadeath', 3), ('anxiously', 3), ('angered', 3), ('ferrell', 3), ('sin', 3), ('frog', 3), ('alice', 3), ('resilience', 3), ('grassley', 3), ('platter', 3), ('complimentary', 3), ('posters', 3), ('stevie', 3), ('belly', 3), ('hypothetical', 3), ('résumé', 3), ('cravings', 3), ('yang', 3), ('promising', 3), ('excerpt', 3), ('defendant', 3), ('billing', 3), ('wearable', 3), ('vetoes', 3), ('produces', 3), ('decorative', 3), ('impose', 3), ('stoner', 3), ('stereotype', 3), ('heidi', 3), ('cheating', 3), ('pancakes', 3), ('soak', 3), ('episodes', 3), ('hanukkah', 3), ('stairs', 3), ('stun', 3), ('creation', 3), ('columnist', 3), ('loudest', 3), ('demise', 3), ('devoted', 3), ('browns', 3), ('dome', 3), ('kotter', 3), ('appearing', 3), ('borrowed', 3), ('tirade', 3), ('grads', 3), ('hulk', 3), ('deleting', 3), ('desktop', 3), ('besides', 3), ('shaping', 3), ('significant', 3), ('grid', 3), ('profiles', 3), ('unnoticed', 3), ('guatemalan', 3), ('fearful', 3), ('scratch', 3), ('hasbro', 3), ('suv', 3), ('reclaiming', 3), ('sacred', 3), ('focuses', 3), ('combating', 3), ('crushed', 3), ('stack', 3), ('idiots', 3), ('toby', 3), ('rooms', 3), ('amore', 3), ('scarborough', 3), ('porter', 3), ('hamm', 3), ('pave', 3), ('medications', 3), ('bathrooms', 3), ('branch', 3), ('recommended', 3), ('goodwill', 3), ('legally', 3), ('hopefully', 3), ('sought', 3), ('currency', 3), ('earns', 3), ('popularity', 3), ('listener', 3), ('vegetable', 3), ('chimpanzees', 3), ('investigators', 3), ('strokes', 3), ('unpublished', 3), ('conditioner', 3), ('manson', 3), ('giamatti', 3), ('manafort', 3), ('slumber', 3), ('prospective', 3), ('pressures', 3), ('intro', 3), ('clears', 3), ('completed', 3), ('tissue', 3), ('stirring', 3), ('clancy', 3), ('repeating', 3), ('relevant', 3), ('ongoing', 3), ('discernible', 3), ('foul', 3), ('margaret', 3), ('installs', 3), ('swayed', 3), ('milosevic', 3), ('immune', 3), ('aca', 3), ('silently', 3), ('breakfasts', 3), ('catchphrase', 3), ('procrastinating', 3), ('captive', 3), ('begging', 3), ('reaching', 3), ('hovering', 3), ('argue', 3), ('falafel', 3), ('starring', 3), ('incompetent', 3), ('stored', 3), ('farley', 3), ('costner', 3), ('lurking', 3), ('76', 3), ('lasagna', 3), ('rituals', 3), ('cloak', 3), ('dagger', 3), ('boundaries', 3), ('2024', 3), ('stepfather', 3), ('allowance', 3), ('chop', 3), ('eichner', 3), ('sailor', 3), ('elsewhere', 3), ('derails', 3), ('cornered', 3), ('vilsack', 3), ('anticipated', 3), ('pup', 3), ('venture', 3), ('entrepreneurs', 3), ('uptick', 3), ('dhabi', 3), ('impulses', 3), ('electing', 3), ('atm', 3), ('folly', 3), ('potentially', 3), ('dangerously', 3), ('retreats', 3), ('flooded', 3), ('inappropriate', 3), ('prequel', 3), ('boiling', 3), ('mountains', 3), ('superman', 3), ('educator', 3), ('unsustainable', 3), ('supported', 3), ('hoarder', 3), ('goats', 3), ('vacations', 3), ('rival', 3), ('deems', 3), ('rahm', 3), ('emanuel', 3), ('prays', 3), ('towels', 3), ('theorist', 3), ('wealthier', 3), ('obstruction', 3), ('recreates', 3), ('repair', 3), ('defective', 3), ('concealed', 3), ('andreas', 3), ('televised', 3), ('ghostbusters', 3), ('favors', 3), ('afro', 3), ('patriotic', 3), ('betrayal', 3), ('1960s', 3), ('plague', 3), ('asset', 3), ('nanny', 3), ('hadead', 3), ('naps', 3), ('decrease', 3), ('fargo', 3), ('cancellation', 3), ('vermont', 3), ('gain', 3), ('creativity', 3), ('likens', 3), ('neurotic', 3), ('handlers', 3), ('selma', 3), ('mixing', 3), ('promo', 3), ('diamonds', 3), ('edward', 3), ('sophie', 3), ('conforming', 3), ('mirrors', 3), ('cozy', 3), ('12th', 3), ('discussed', 3), ('channing', 3), ('followers', 3), ('wreckage', 3), ('privileged', 3), ('oceans', 3), ('pickup', 3), ('imagines', 3), ('mathematician', 3), ('blocked', 3), ('burglar', 3), ('caste', 3), ('sloppy', 3), ('flesh', 3), ('spree', 3), ('pleasantly', 3), ('liquor', 3), ('philando', 3), ('castile', 3), ('incapable', 3), ('whitney', 3), ('explorer', 3), ('doomed', 3), ('wax', 3), ('trailblazing', 3), ('scandals', 3), ('hindus', 3), ('sonoma', 3), ('partially', 3), ('pretends', 3), ('glitch', 3), ('tables', 3), ('pardons', 3), ('dipshits', 3), ('exhibits', 3), ('lid', 3), ('bribe', 3), ('sickly', 3), ('tight', 3), ('jenkins', 3), ('someday', 3), ('jamie', 3), ('mesmerizing', 3), ('gig', 3), ('amass', 3), ('parkinson', 3), ('enriched', 3), ('uranium', 3), ('porch', 3), ('comparing', 3), ('applications', 3), ('xi', 3), ('pedophilia', 3), ('fond', 3), ('apparent', 3), ('fundamentalists', 3), ('rethink', 3), ('mara', 3), ('axe', 3), ('rigged', 3), ('bend', 3), ('longest', 3), ('otto', 3), ('warmbier', 3), ('mahmoud', 3), ('kidnapping', 3), ('naturally', 3), ('argentina', 3), ('appropriate', 3), ('stances', 3), ('dancer', 3), ('charitable', 3), ('loner', 3), ('curly', 3), ('cousins', 3), ('railroad', 3), ('sporting', 3), ('graphics', 3), ('noticed', 3), ('mastectomy', 3), ('drew', 3), ('clash', 3), ('satisfy', 3), ('earnest', 3), ('tarantino', 3), ('lunches', 3), ('smug', 3), ('vmas', 3), ('rational', 3), ('eyebrows', 3), ('visas', 3), ('contestants', 3), ('showed', 3), ('heartbroken', 3), ('fec', 3), ('thanking', 3), ('absorbed', 3), ('palestine', 3), ('scientology', 3), ('glacier', 3), ('betrays', 3), ('playoff', 3), ('aerobics', 3), ('bra', 3), ('teddy', 3), ('colleague', 3), ('imaginary', 3), ('yosemite', 3), ('vegetables', 3), ('embraces', 3), ('renewal', 3), ('escaping', 3), ('biographer', 3), ('texting', 3), ('lashes', 3), ('manage', 3), ('zealand', 3), ('tortoise', 3), ('silvio', 3), ('berlusconi', 3), ('steamy', 3), ('patricia', 3), ('fought', 3), ('masturbates', 3), ('madison', 3), ('releasing', 3), ('63', 3), ('expects', 3), ('genetically', 3), ('modified', 3), ('dipping', 3), ('shady', 3), ('kisses', 3), ('atmosphere', 3), ('pundit', 3), ('convenience', 3), ('yields', 3), ('decreased', 3), ('abby', 3), ('defines', 3), ('lure', 3), ('crate', 3), ('tan', 3), ('roker', 3), ('jen', 3), ('boredom', 3), ('michelin', 3), ('simpsons', 3), ('disruption', 3), ('obstacles', 3), ('shrink', 3), ('bonkers', 3), ('laughs', 3), ('handled', 3), ('michelangelo', 3), ('shouts', 3), ('gotham', 3), ('laundry', 3), ('greet', 3), ('began', 3), ('vomits', 3), ('hardship', 3), ('momentum', 3), ('tupac', 3), ('witnesses', 3), ('popcorn', 3), ('snowflake', 3), ('sane', 3), ('fearless', 3), ('cuff', 3), ('mushrooms', 3), ('werewolf', 3), ('luck', 3), ('nun', 3), ('emily', 3), ('mercilessly', 3), ('rouge', 3), ('cher', 3), ('sandler', 3), ('paddleboarder', 3), ('issued', 3), ('pottery', 3), ('mayan', 3), ('declining', 3), ('1994', 3), ('attendee', 3), ('lear', 3), ('tsunami', 3), ('biblical', 3), ('disorders', 3), ('50s', 3), ('tucks', 3), ('surgeries', 3), ('macarthur', 3), ('recipient', 3), ('nike', 3), ('nuke', 3), ('huntsman', 3), ('newscast', 3), ('renew', 3), ('dismayed', 3), ('sinclair', 3), ('qualified', 3), ('tractor', 3), ('showering', 3), ('bradley', 3), ('trout', 3), ('polluted', 3), ('temp', 3), ('spoofs', 3), ('bashing', 3), ('tariffs', 3), ('jar', 3), ('noxious', 3), ('adams', 3), ('draw', 3), ('roadmap', 3), ('disappointment', 3), ('hoped', 3), ('limbo', 3), ('gisele', 3), ('ridley', 3), ('burton', 3), ('depp', 3), ('cue', 3), ('attempted', 3), ('responsibilities', 3), ('glee', 3), ('endanger', 3), ('5th', 3), ('tent', 3), ('osama', 3), ('lied', 3), ('buff', 3), ('heavenly', 3), ('mortal', 3), ('parked', 3), ('worthless', 3), ('stared', 3), ('worries', 3), ('comprehensive', 3), ('nabs', 3), ('postpartum', 3), ('ignorance', 3), ('affairs', 3), ('meatless', 3), ('bishop', 3), ('curtain', 3), ('dynasty', 3), ('sideways', 3), ('grip', 3), ('interns', 3), ('alison', 3), ('pharrell', 3), ('everest', 3), ('chess', 3), ('heartless', 3), ('curators', 3), ('premier', 3), ('congo', 3), ('gyllenhaal', 3), ('narrator', 3), ('pokes', 3), ('aly', 3), ('raisman', 3), ('suri', 3), ('drags', 3), ('doorstep', 3), ('reelection', 3), ('trusted', 3), ('adjusted', 3), ('fabric', 3), ('tweeters', 3), ('scrapped', 3), ('testament', 3), ('audiences', 3), ('fuller', 3), ('puppies', 3), ('hurry', 3), ('nudity', 3), ('peeing', 3), ('decker', 3), ('coloring', 3), ('assassin', 3), ('demonstrate', 3), ('nostalgia', 3), ('shovel', 3), ('lifeguard', 3), ('drowning', 3), ('unsolicited', 3), ('shields', 3), ('joining', 3), ('educating', 3), ('noble', 3), ('vomiting', 3), ('programming', 3), ('withholding', 3), ('somali', 3), ('messy', 3), ('neighborhoods', 3), ('equifax', 3), ('plaza', 3), ('ushers', 3), ('abuser', 3), ('nightmares', 3), ('degeneres', 3), ('powell', 3), ('advises', 3), ('span', 3), ('arrival', 3), ('classes', 3), ('briefcase', 3), ('skinny', 3), ('contributions', 3), ('archbishop', 3), ('load', 3), ('outrageous', 3), ('unexplained', 3), ('mode', 3), ('profound', 3), ('hanks', 3), ('embattled', 3), ('recognized', 3), ('ap', 3), ('kangaroo', 3), ('minds', 3), ('brock', 3), ('romance', 3), ('publishes', 3), ('uphold', 3), ('gymnast', 3), ('enchanted', 3), ('smoothly', 3), ('hulu', 3), ('recorded', 3), ('rave', 3), ('dozen', 3), ('violently', 3), ('rhino', 3), ('horn', 3), ('dumbest', 3), ('tide', 3), ('bullst', 3), ('swab', 3), ('travels', 3), ('soil', 3), ('commissioner', 3), ('cape', 3), ('hospitalization', 3), ('skyrockets', 3), ('consent', 3), ('3rd', 3), ('profiting', 3), ('midst', 3), ('circling', 3), ('judd', 3), ('consultant', 3), ('gehry', 3), ('19th', 3), ('idol', 3), ('separated', 3), ('narrow', 3), ('connections', 3), ('wal', 3), ('holes', 3), ('replacing', 3), ('persona', 3), ('embarks', 3), ('honeymoon', 3), ('peet', 3), ('screens', 3), ('chechen', 3), ('dixie', 3), ('jackpot', 3), ('launching', 3), ('prehistoric', 3), ('wrapping', 3), ('fever', 3), ('somebody', 3), ('pooh', 3), ('redefining', 3), ('ownership', 3), ('joking', 3), ('tenant', 3), ('minnie', 3), ('sheldon', 3), ('adelson', 3), ('amean', 3), ('drum', 3), ('raucous', 3), ('stages', 3), ('festivals', 3), ('catalan', 3), ('shithole', 3), ('belgium', 3), ('deposit', 3), ('recounts', 3), ('rely', 3), ('clone', 3), ('overturns', 3), ('evidently', 3), ('patent', 3), ('dementia', 3), ('pointing', 3), ('methane', 3), ('banned', 3), ('upgrade', 3), ('mercy', 3), ('pluto', 3), ('fucker', 3), ('applebee', 3), ('iself', 3), ('hadownton', 3), ('abbey', 3), ('felony', 3), ('honda', 3), ('shell', 3), ('coachella', 3), ('erases', 3), ('stable', 3), ('revolutionize', 3), ('guards', 3), ('gratification', 3), ('cleaner', 3), ('though', 3), ('routines', 3), ('invents', 3), ('gums', 3), ('classy', 3), ('hogging', 3), ('doomsday', 3), ('references', 3), ('selfless', 3), ('promposal', 3), ('evacuated', 3), ('relate', 3), ('vitamin', 3), ('lowers', 3), ('motorist', 3), ('junior', 3), ('titans', 3), ('assumed', 3), ('frame', 3), ('slated', 3), ('biological', 3), ('novelist', 3), ('unionize', 3), ('fur', 3), ('intricate', 3), ('fountain', 3), ('ness', 3), ('def', 3), ('educate', 3), ('attracting', 3), ('dryer', 3), ('participants', 3), ('subconscious', 3), ('translate', 3), ('rub', 3), ('pundits', 3), ('hassle', 3), ('vital', 3), ('heated', 3), ('lighting', 3), ('wanting', 3), ('balancing', 3), ('playlist', 3), ('melinda', 3), ('amaking', 3), ('subscription', 3), ('katrina', 3), ('conductor', 3), ('degrasse', 3), ('navarro', 3), ('luxury', 3), ('craving', 3), ('squandering', 3), ('eagle', 3), ('vessel', 3), ('historically', 3), ('placement', 3), ('stronger', 3), ('rifles', 3), ('misty', 3), ('isave', 3), ('contaminated', 3), ('waters', 3), ('elder', 3), ('neglects', 3), ('pony', 3), ('withdraws', 3), ('crossroads', 3), ('shrinking', 3), ('disc', 3), ('tightens', 3), ('takeover', 3), ('execs', 3), ('altogether', 3), ('mild', 3), ('investing', 3), ('upstairs', 3), ('ordering', 3), ('nurses', 3), ('seizes', 3), ('overwhelmed', 3), ('spite', 3), ('digging', 3), ('juror', 3), ('chopping', 3), ('hoover', 3), ('andrea', 3), ('spectacular', 3), ('allergic', 3), ('detached', 3), ('vandalism', 3), ('lapse', 3), ('recount', 3), ('faculty', 3), ('sentencing', 3), ('brightest', 3), ('cheerleader', 3), ('inn', 3), ('snowing', 3), ('donating', 3), ('nabisco', 3), ('tenants', 3), ('screw', 3), ('auction', 3), ('crab', 3), ('harmful', 3), ('thigh', 3), ('vincent', 3), ('flavored', 3), ('integrity', 3), ('boil', 3), ('ruffalo', 3), ('nacho', 3), ('visitors', 3), ('rican', 3), ('hairstylist', 3), ('planets', 3), ('relaxing', 3), ('entourage', 3), ('adaptation', 3), ('ugliest', 3), ('belief', 3), ('practicing', 3), ('pump', 3), ('enhance', 3), ('indonesia', 3), ('managed', 3), ('khan', 3), ('anarchy', 3), ('hermione', 3), ('lust', 3), ('mud', 3), ('mannequin', 3), ('hotshot', 3), ('eviscerates', 3), ('goosebumps', 3), ('marrying', 3), ('billionth', 3), ('wheel', 3), ('monks', 3), ('shack', 3), ('suitors', 3), ('wwi', 3), ('uncover', 3), ('vaxxers', 3), ('nativity', 3), ('amal', 3), ('resolves', 3), ('tabs', 3), ('theorize', 3), ('atom', 3), ('trauma', 3), ('cricket', 3), ('empowering', 3), ('lapierre', 3), ('studios', 3), ('chilly', 3), ('evades', 3), ('chained', 3), ('earning', 3), ('lapd', 3), ('mill', 3), ('publicity', 3), ('satisfied', 3), ('lander', 3), ('mainly', 3), ('virginity', 3), ('rotting', 3), ('shaky', 3), ('schedules', 3), ('engulfed', 3), ('congratulate', 3), ('homeowner', 3), ('fascinated', 3), ('airs', 3), ('colmes', 3), ('harold', 3), ('pension', 3), ('slaying', 3), ('certificates', 3), ('hawk', 3), ('revolutionary', 3), ('rack', 3), ('pirates', 3), ('dessert', 3), ('max', 3), ('rockets', 3), ('rodent', 3), ('explosions', 3), ('thriving', 3), ('institution', 3), ('gluten', 3), ('superstitious', 3), ('pad', 3), ('dairy', 3), ('blistering', 3), ('infinitely', 3), ('worthwhile', 3), ('goddess', 3), ('biography', 3), ('transphobia', 3), ('staten', 3), ('filipino', 3), ('deserved', 3), ('hastert', 3), ('lookalike', 3), ('scented', 3), ('peer', 3), ('melts', 3), ('throwback', 3), ('controls', 3), ('hello', 3), ('molesting', 3), ('snowstorm', 3), ('insult', 3), ('malcolm', 3), ('diabetic', 3), ('jackie', 3), ('assaulted', 3), ('marketers', 3), ('garcia', 3), ('ihop', 3), ('limbaugh', 3), ('malala', 3), ('hustler', 3), ('soulful', 3), ('dem', 3), ('fuming', 3), ('capacity', 3), ('ostracized', 3), ('terry', 3), ('birther', 3), ('briefings', 3), ('cancelled', 3), ('manufacturer', 3), ('couric', 3), ('cardinal', 3), ('unleash', 3), ('rocker', 3), ('shits', 3), ('pursuit', 3), ('unemployment', 3), ('73', 3), ('jeter', 3), ('mizzou', 3), ('software', 3), ('factors', 3), ('97', 3), ('cyclone', 3), ('overwhelmingly', 3), ('rampage', 3), ('extinction', 3), ('tinder', 3), ('frederick', 3), ('boosts', 3), ('tactics', 3), ('punch', 3), ('shrieking', 3), ('arch', 3), ('siri', 3), ('newton', 3), ('belong', 3), ('draining', 3), ('beaches', 3), ('hotter', 3), ('ugh', 3), ('hyundai', 3), ('digestive', 3), ('emotion', 3), ('settlements', 3), ('burma', 3), ('puzzle', 3), ('eulogy', 3), ('handling', 3), ('tee', 3), ('mosques', 3), ('ho', 3), ('confinement', 3), ('ref', 3), ('commute', 3), ('invest', 3), ('bruno', 3), ('venice', 3), ('unsuspecting', 3), ('cleared', 3), ('stanford', 3), ('intervention', 3), ('slamming', 3), ('element', 3), ('starr', 3), ('travis', 3), ('lol', 3), ('attached', 3), ('wilds', 3), ('creep', 3), ('retrospective', 3), ('humors', 3), ('bel', 3), ('eliminates', 3), ('savings', 3), ('redford', 3), ('campuses', 3), ('trooper', 3), ('entitled', 3), ('heartbreak', 3), ('evolve', 3), ('capitalizing', 3), ('drifting', 3), ('buddha', 3), ('doodle', 3), ('apes', 3), ('manly', 3), ('basically', 3), ('paddle', 3), ('interpretation', 3), ('swimmer', 3), ('westworld', 3), ('folded', 3), ('literary', 3), ('supremacists', 3), ('discipline', 3), ('iowan', 3), ('schwarzenegger', 3), ('descend', 3), ('surrogate', 3), ('naomi', 3), ('janice', 3), ('chokes', 3), ('compassion', 3), ('2013', 3), ('cheddar', 3), ('julian', 3), ('assange', 3), ('foe', 3), ('accomplish', 3), ('basilica', 3), ('conducting', 3), ('swim', 3), ('widower', 3), ('meek', 3), ('begs', 3), ('bastards', 3), ('illustrations', 3), ('maintenance', 3), ('disgruntled', 3), ('reinvent', 3), ('yoko', 3), ('ono', 3), ('salute', 3), ('bereavement', 3), ('tract', 3), ('clinging', 3), ('sooner', 3), ('immediate', 3), ('blinds', 3), ('orbit', 3), ('smiles', 3), ('tidal', 3), ('withstand', 3), ('appetizers', 3), ('frat', 3), ('bollywood', 3), ('stopping', 3), ('airports', 3), ('filmed', 3), ('karate', 3), ('42', 3), ('cerebral', 3), ('palsy', 3), ('lowest', 3), ('gated', 3), ('provision', 3), ('henry', 3), ('unsung', 3), ('spotify', 3), ('prose', 3), ('wary', 3), ('spinning', 3), ('manic', 3), ('lunatic', 3), ('planted', 3), ('cakes', 3), ('crane', 3), ('excuses', 3), ('halftime', 3), ('brie', 3), ('recycling', 3), ('bottles', 3), ('adderall', 3), ('unconstitutional', 3), ('scramble', 3), ('unthinkable', 3), ('supervisor', 3), ('defund', 3), ('piling', 3), ('magnet', 3), ('symbolic', 3), ('enrolled', 3), ('mcbeal', 3), ('erika', 3), ('mishap', 3), ('bipolar', 3), ('carried', 3), ('surfing', 3), ('chaffetz', 3), ('―', 3), ('filmmakers', 3), ('dominates', 3), ('implores', 3), ('shadows', 3), ('switched', 3), ('yelled', 3), ('rescues', 3), ('paterno', 3), ('ominous', 3), ('flop', 3), ('legislature', 3), ('database', 3), ('copycat', 3), ('destination', 3), ('frontman', 3), ('carlson', 3), ('wiretapping', 3), ('unread', 3), ('unbelievable', 3), ('opts', 3), ('mature', 3), ('artistic', 3), ('insist', 3), ('appreciation', 3), ('discriminated', 3), ('transformation', 3), ('hadiversity', 3), ('glows', 3), ('urgent', 3), ('problematic', 3), ('internship', 3), ('acquitted', 3), ('depth', 3), ('willie', 3), ('wipers', 3), ('walls', 3), ('malik', 3), ('delights', 3), ('pinned', 3), ('teller', 3), ('cannabis', 3), ('colossal', 3), ('isolo', 3), ('dire', 3), ('constituent', 3), ('economists', 3), ('santana', 3), ('intimacy', 3), ('uncovers', 3), ('primer', 3), ('oxygen', 3), ('taxpayer', 3), ('mechanic', 3), ('poop', 3), ('climb', 3), ('tourism', 3), ('cheeky', 3), ('unanimously', 3), ('viewing', 3), ('patriot', 3), ('toothbrushes', 3), ('destructive', 3), ('gathering', 3), ('wrist', 3), ('motown', 3), ('poland', 3), ('concession', 3), ('gut', 3), ('certainly', 3), ('intelligent', 3), ('psychologist', 3), ('coffin', 3), ('blackface', 3), ('letterman', 3), ('phish', 3), ('gel', 3), ('lambert', 3), ('summons', 3), ('arguing', 3), ('downplays', 3), ('civilian', 3), ('bridal', 3), ('mccartney', 3), ('beatles', 3), ('legitimate', 3), ('rite', 3), ('sotomayor', 3), ('reprises', 3), ('racists', 3), ('elegant', 3), ('practices', 3), ('statues', 3), ('hunting', 3), ('personnel', 3), ('milking', 3), ('handicapped', 3), ('joseph', 3), ('parole', 3), ('verge', 3), ('reflect', 3), ('machiavellian', 3), ('pending', 3), ('mishandling', 3), ('ran', 3), ('physician', 3), ('requiring', 3), ('providing', 3), ('depleted', 3), ('dunkin', 3), ('mayer', 3), ('tighter', 3), ('playstation', 3), ('shoppers', 2), ('grandchild', 2), ('snape', 2), ('advancing', 2), ('jeffrey', 2), ('indefensible', 2), ('detonates', 2), ('rehearsal', 2), ('ispider', 2), ('frightened', 2), ('manga', 2), ('whims', 2), ('deporting', 2), ('motive', 2), ('brody', 2), ('tens', 2), ('amoana', 2), ('81', 2), ('inflicted', 2), ('medics', 2), ('ticked', 2), ('equipment', 2), ('disappoints', 2), ('tunnels', 2), ('surely', 2), ('climbing', 2), ('tupperware', 2), ('wnba', 2), ('gape', 2), ('knot', 2), ('sonny', 2), ('skiing', 2), ('gravity', 2), ('amazed', 2), ('albuquerque', 2), ('liam', 2), ('smooch', 2), ('rec', 2), ('gerber', 2), ('clippers', 2), ('matching', 2), ('niro', 2), ('speeding', 2), ('mayoral', 2), ('oaths', 2), ('51', 2), ('boiled', 2), ('yak', 2), ('posed', 2), ('southerner', 2), ('selectively', 2), ('councilman', 2), ('qualities', 2), ('chubby', 2), ('empowers', 2), ('behar', 2), ('solvers', 2), ('niece', 2), ('14th', 2), ('quoting', 2), ('physicist', 2), ('successor', 2), ('alaskan', 2), ('heed', 2), ('sonic', 2), ('claimed', 2), ('markered', 2), ('initials', 2), ('istraight', 2), ('compton', 2), ('jepsen', 2), ('humbled', 2), ('barista', 2), ('wounds', 2), ('tracked', 2), ('bender', 2), ('campbell', 2), ('sticker', 2), ('avocado', 2), ('70s', 2), ('awaiting', 2), ('collapsing', 2), ('woodwork', 2), ('frankie', 2), ('flourish', 2), ('encouragement', 2), ('northwest', 2), ('territories', 2), ('darrell', 2), ('infinity', 2), ('moses', 2), ('rocked', 2), ('bankruptcy', 2), ('laureate', 2), ('laurie', 2), ('hadancing', 2), ('unmanned', 2), ('minestrone', 2), ('slovenian', 2), ('decor', 2), ('genome', 2), ('boko', 2), ('haram', 2), ('participating', 2), ('drown', 2), ('stretches', 2), ('palms', 2), ('fixing', 2), ('bumper', 2), ('wafer', 2), ('isil', 2), ('rooney', 2), ('gchat', 2), ('beck', 2), ('theblaze', 2), ('unapologetically', 2), ('buzzword', 2), ('twine', 2), ('dilemma', 2), ('surrenders', 2), ('convenient', 2), ('interactions', 2), ('dot', 2), ('websites', 2), ('flyover', 2), ('beethoven', 2), ('isymphony', 2), ('bluetooth', 2), ('dispute', 2), ('montage', 2), ('salvaged', 2), ('employs', 2), ('partygoer', 2), ('handheld', 2), ('2002', 2), ('tame', 2), ('healed', 2), ('subsidies', 2), ('forests', 2), ('detox', 2), ('audible', 2), ('root', 2), ('guam', 2), ('shonda', 2), ('rhimes', 2), ('necklace', 2), ('relaunches', 2), ('charting', 2), ('theoretical', 2), ('tenure', 2), ('stricken', 2), ('ayman', 2), ('typecast', 2), ('relatively', 2), ('priority', 2), ('judaism', 2), ('religions', 2), ('blankets', 2), ('phenomenon', 2), ('trove', 2), ('eerily', 2), ('predicted', 2), ('gifs', 2), ('grizzlies', 2), ('thunder', 2), ('synthetic', 2), ('compromising', 2), ('wreaks', 2), ('achievable', 2), ('liking', 2), ('sheets', 2), ('evacuates', 2), ('safeguarding', 2), ('shrunk', 2), ('tucking', 2), ('15th', 2), ('lego', 2), ('tumbling', 2), ('invades', 2), ('banjo', 2), ('predicament', 2), ('inconvenience', 2), ('avoided', 2), ('deliberately', 2), ('chefs', 2), ('dentist', 2), ('paw', 2), ('antidepressant', 2), ('pointer', 2), ('aimed', 2), ('walkway', 2), ('pacs', 2), ('scent', 2), ('physicists', 2), ('dials', 2), ('miscarriage', 2), ('fahrenheit', 2), ('70th', 2), ('savvy', 2), ('eliminated', 2), ('whoops', 2), ('smashes', 2), ('underreported', 2), ('reuniting', 2), ('newfront', 2), ('aoki', 2), ('antarctic', 2), ('observational', 2), ('spices', 2), ('dexter', 2), ('excruciating', 2), ('overcomes', 2), ('echoes', 2), ('eggers', 2), ('ribbon', 2), ('biscuit', 2), ('drowned', 2), ('mandate', 2), ('gabrielle', 2), ('sword', 2), ('shrine', 2), ('dobrev', 2), ('vampire', 2), ('bizarrely', 2), ('witness', 2), ('allege', 2), ('kosovo', 2), ('glands', 2), ('kite', 2), ('downloadable', 2), ('scents', 2), ('bobsled', 2), ('medalist', 2), ('foes', 2), ('schism', 2), ('relative', 2), ('negro', 2), ('cabaret', 2), ('louvre', 2), ('gardens', 2), ('attractions', 2), ('suzanne', 2), ('hater', 2), ('attackers', 2), ('contention', 2), ('crafts', 2), ('feeble', 2), ('originally', 2), ('transfers', 2), ('latex', 2), ('hubble', 2), ('earhart', 2), ('buzzer', 2), ('institutes', 2), ('groot', 2), ('notre', 2), ('dame', 2), ('impregnated', 2), ('dash', 2), ('kinda', 2), ('pranks', 2), ('homecoming', 2), ('regretted', 2), ('regal', 2), ('idling', 2), ('blm', 2), ('mobilize', 2), ('marathoner', 2), ('incitement', 2), ('prodigy', 2), ('ratner', 2), ('foreman', 2), ('indicator', 2), ('tented', 2), ('miniskirt', 2), ('blonde', 2), ('flew', 2), ('sistine', 2), ('momentarily', 2), ('dictator', 2), ('vocalist', 2), ('specific', 2), ('goat', 2), ('erect', 2), ('privileges', 2), ('motorized', 2), ('softly', 2), ('luigi', 2), ('overeating', 2), ('dumber', 2), ('listened', 2), ('confidant', 2), ('swap', 2), ('capturing', 2), ('viking', 2), ('fogle', 2), ('beeping', 2), ('antonio', 2), ('hike', 2), ('greeted', 2), ('baggage', 2), ('navigating', 2), ('arne', 2), ('standardized', 2), ('scrambles', 2), ('cinemax', 2), ('fleek', 2), ('limp', 2), ('mosquitoes', 2), ('glaad', 2), ('meow', 2), ('wigs', 2), ('permitted', 2), ('limited', 2), ('enrollment', 2), ('suitor', 2), ('resented', 2), ('ishots', 2), ('pronounces', 2), ('fitting', 2), ('temperature', 2), ('underscores', 2), ('dominate', 2), ('worsen', 2), ('districts', 2), ('supportive', 2), ('barriers', 2), ('pussies', 2), ('snapping', 2), ('ripe', 2), ('authenticity', 2), ('autonomy', 2), ('shining', 2), ('talked', 2), ('gummi', 2), ('unqualified', 2), ('39', 2), ('delightfully', 2), ('shipwreck', 2), ('recess', 2), ('arya', 2), ('shoving', 2), ('capabilities', 2), ('kindergartener', 2), ('trashes', 2), ('raisin', 2), ('flatly', 2), ('acosta', 2), ('shatter', 2), ('perceptions', 2), ('function', 2), ('easing', 2), ('libraries', 2), ('astoria', 2), ('theatre', 2), ('framed', 2), ('gestapo', 2), ('altitude', 2), ('drills', 2), ('desks', 2), ('redesign', 2), ('racy', 2), ('imprisoned', 2), ('abandons', 2), ('electorate', 2), ('safest', 2), ('warden', 2), ('chapo', 2), ('tapes', 2), ('insurer', 2), ('infected', 2), ('doubts', 2), ('sainthood', 2), ('triggers', 2), ('reflex', 2), ('speechless', 2), ('dismissal', 2), ('alleging', 2), ('boob', 2), ('summed', 2), ('wept', 2), ('listens', 2), ('scrolling', 2), ('understudy', 2), ('amputee', 2), ('cartoonists', 2), ('amurder', 2), ('prevail', 2), ('angrily', 2), ('utterly', 2), ('availability', 2), ('peaceful', 2), ('ipad', 2), ('godmother', 2), ('lunar', 2), ('saudis', 2), ('temporary', 2), ('scarred', 2), ('guitarist', 2), ('convict', 2), ('generating', 2), ('withdraw', 2), ('grew', 2), ('woodcut', 2), ('hay', 2), ('subpoenaed', 2), ('voiced', 2), ('chew', 2), ('ninth', 2), ('asghar', 2), ('farhadi', 2), ('byproducts', 2), ('maintaining', 2), ('sinus', 2), ('executioner', 2), ('etsy', 2), ('tammy', 2), ('hadear', 2), ('pubescent', 2), ('demoted', 2), ('liability', 2), ('unsightly', 2), ('revise', 2), ('hopelessly', 2), ('relocates', 2), ('expectancy', 2), ('delaria', 2), ('butch', 2), ('basket', 2), ('jets', 2), ('euthanize', 2), ('intentions', 2), ('thread', 2), ('observation', 2), ('winston', 2), ('polio', 2), ('denver', 2), ('shoulders', 2), ('squandered', 2), ('precedes', 2), ('blacklivesmatter', 2), ('limitless', 2), ('wrap', 2), ('sigma', 2), ('tedious', 2), ('graduating', 2), ('demolition', 2), ('cummings', 2), ('whitman', 2), ('mussolini', 2), ('ama', 2), ('fuckin', 2), ('sympathetic', 2), ('scaramucci', 2), ('distances', 2), ('celine', 2), ('dion', 2), ('goblet', 2), ('bumble', 2), ('doughboy', 2), ('presses', 2), ('ariel', 2), ('mila', 2), ('kunis', 2), ('papa', 2), ('radicals', 2), ('caesars', 2), ('quaint', 2), ('1973', 2), ('extraterrestrial', 2), ('moss', 2), ('sanction', 2), ('operatives', 2), ('hadonnell', 2), ('ugliness', 2), ('opportunities', 2), ('peel', 2), ('ancestor', 2), ('podcasts', 2), ('seekers', 2), ('solely', 2), ('tolerate', 2), ('triumphant', 2), ('retiree', 2), ('intermission', 2), ('emits', 2), ('edison', 2), ('freshness', 2), ('sorely', 2), ('impress', 2), ('strategic', 2), ('associates', 2), ('battleground', 2), ('bicycle', 2), ('teuwen', 2), ('trio', 2), ('hikers', 2), ('antics', 2), ('wrought', 2), ('scant', 2), ('160', 2), ('talktome', 2), ('barking', 2), ('haggard', 2), ('immortal', 2), ('owes', 2), ('reception', 2), ('vowed', 2), ('wartime', 2), ('motorcade', 2), ('biel', 2), ('silas', 2), ('medals', 2), ('refers', 2), ('mop', 2), ('meaningful', 2), ('pistachios', 2), ('homesick', 2), ('automated', 2), ('boner', 2), ('wrinkles', 2), ('uncoupling', 2), ('styx', 2), ('sarkozy', 2), ('liz', 2), ('aim', 2), ('settings', 2), ('boot', 2), ('etiquette', 2), ('watchers', 2), ('adequately', 2), ('guilt', 2), ('morty', 2), ('drumming', 2), ('oclock', 2), ('decluttering', 2), ('jetblue', 2), ('twisting', 2), ('baboon', 2), ('cliffhanger', 2), ('swan', 2), ('harmed', 2), ('catering', 2), ('obscure', 2), ('telemedicine', 2), ('taboo', 2), ('operative', 2), ('traps', 2), ('icky', 2), ('recurring', 2), ('dateline', 2), ('leprosy', 2), ('spam', 2), ('featuring', 2), ('banksy', 2), ('brendan', 2), ('fraser', 2), ('mercifully', 2), ('kristol', 2), ('overrated', 2), ('impresses', 2), ('insomnia', 2), ('airstrike', 2), ('iraqis', 2), ('organizers', 2), ('porta', 2), ('potty', 2), ('chrome', 2), ('announced', 2), ('spirituality', 2), ('cadbury', 2), ('warped', 2), ('environmentalism', 2), ('courtesy', 2), ('brunette', 2), ('savages', 2), ('passion', 2), ('demanding', 2), ('solomon', 2), ('mediating', 2), ('heinz', 2), ('groveling', 2), ('col', 2), ('boeing', 2), ('beverage', 2), ('inherited', 2), ('perot', 2), ('coke', 2), ('injects', 2), ('6x60', 2), ('shotgun', 2), ('abdomen', 2), ('teammate', 2), ('vienna', 2), ('celebrations', 2), ('noted', 2), ('suggested', 2), ('predictable', 2), ('blowback', 2), ('hadoes', 2), ('moran', 2), ('lactate', 2), ('u2', 2), ('istop', 2), ('hating', 2), ('autocratic', 2), ('believable', 2), ('storyline', 2), ('frogs', 2), ('fascist', 2), ('fetishist', 2), ('hispanics', 2), ('secondhand', 2), ('innocence', 2), ('promoted', 2), ('belated', 2), ('deaver', 2), ('flawed', 2), ('kitchenaid', 2), ('rad', 2), ('collector', 2), ('chokehold', 2), ('material', 2), ('backseat', 2), ('taxi', 2), ('flock', 2), ('isecond', 2), ('raccoon', 2), ('doris', 2), ('kindred', 2), ('predictor', 2), ('symphony', 2), ('orchestra', 2), ('mellencamp', 2), ('hospitals', 2), ('pristine', 2), ('vendor', 2), ('disagree', 2), ('rosemary', 2), ('tandem', 2), ('stockbroker', 2), ('sock', 2), ('mozambique', 2), ('genie', 2), ('pleading', 2), ('erivo', 2), ('singers', 2), ('influencing', 2), ('rugged', 2), ('verify', 2), ('veiled', 2), ('choked', 2), ('footballs', 2), ('cranberry', 2), ('stats', 2), ('ethiopia', 2), ('flavorless', 2), ('daraya', 2), ('appointed', 2), ('harington', 2), ('dumbass', 2), ('clicked', 2), ('honorable', 2), ('bets', 2), ('comforting', 2), ('ozzy', 2), ('leelah', 2), ('alcorn', 2), ('napkins', 2), ('spied', 2), ('nurturing', 2), ('sighing', 2), ('saddest', 2), ('participated', 2), ('fleetwood', 2), ('findings', 2), ('comrie', 2), ('wished', 2), ('dune', 2), ('exploiting', 2), ('followed', 2), ('tanzania', 2), ('apples', 2), ('magritte', 2), ('neglect', 2), ('bows', 2), ('tehran', 2), ('demonstrations', 2), ('ramp', 2), ('tricky', 2), ('courthouse', 2), ('belgian', 2), ('damages', 2), ('grain', 2), ('bounce', 2), ('ratio', 2), ('unesco', 2), ('rattled', 2), ('snowball', 2), ('robust', 2), ('observations', 2), ('stepmom', 2), ('gq', 2), ('borrow', 2), ('cordless', 2), ('transmission', 2), ('superstar', 2), ('lap', 2), ('propecia', 2), ('claritin', 2), ('broadcaster', 2), ('superheroes', 2), ('yall', 2), ('registration', 2), ('clinches', 2), ('darling', 2), ('prospects', 2), ('fascism', 2), ('bermuda', 2), ('peterson', 2), ('analyzes', 2), ('vip', 2), ('misguided', 2), ('armageddon', 2), ('discontinue', 2), ('gilligan', 2), ('judgment', 2), ('tasting', 2), ('robotics', 2), ('curtains', 2), ('clutch', 2), ('raging', 2), ('moderators', 2), ('dedicates', 2), ('slightest', 2), ('elf', 2), ('displayed', 2), ('assistance', 2), ('confounded', 2), ('petitions', 2), ('adopt', 2), ('icymi', 2), ('orrin', 2), ('thwarting', 2), ('rim', 2), ('longoria', 2), ('pringles', 2), ('outnumber', 2), ('hiddleston', 2), ('ts', 2), ('jameson', 2), ('cameraman', 2), ('downplayed', 2), ('guarantees', 2), ('paramedic', 2), ('outlander', 2), ('tartan', 2), ('julia', 2), ('practitioner', 2), ('dishwasher', 2), ('bunker', 2), ('rabies', 2), ('indoors', 2), ('bigoted', 2), ('arias', 2), ('breastfeed', 2), ('uninspired', 2), ('overshadowed', 2), ('prinze', 2), ('withhold', 2), ('amillion', 2), ('intimidating', 2), ('fragrance', 2), ('lingering', 2), ('publicists', 2), ('hayride', 2), ('scenic', 2), ('railway', 2), ('iris', 2), ('americas', 2), ('yom', 2), ('kippur', 2), ('rivals', 2), ('questionable', 2), ('debating', 2), ('peacefully', 2), ('atomic', 2), ('clinch', 2), ('björk', 2), ('280', 2), ('tacked', 2), ('hourly', 2), ('unwilling', 2), ('logical', 2), ('eminem', 2), ('honestly', 2), ('embodiment', 2), ('zamboni', 2), ('invokes', 2), ('renowned', 2), ('ornithologist', 2), ('sincerely', 2), ('various', 2), ('hellmann', 2), ('ambassadori', 2), ('lo', 2), ('unlicensed', 2), ('litter', 2), ('jukebox', 2), ('subcommittee', 2), ('overcoming', 2), ('huma', 2), ('starship', 2), ('zookeeper', 2), ('ants', 2), ('blackberry', 2), ('yankee', 2), ('translation', 2), ('vindicates', 2), ('listeria', 2), ('packaged', 2), ('lauded', 2), ('neutral', 2), ('mcmahon', 2), ('autobiography', 2), ('sustain', 2), ('soy', 2), ('meteorite', 2), ('damaged', 2), ('kilborn', 2), ('drinker', 2), ('collision', 2), ('detains', 2), ('seasonally', 2), ('swipe', 2), ('gmo', 2), ('magnificent', 2), ('judy', 2), ('sustainability', 2), ('spewing', 2), ('difficulty', 2), ('lou', 2), ('reed', 2), ('vandals', 2), ('elves', 2), ('condemned', 2), ('enemies', 2), ('rude', 2), ('ibtihaj', 2), ('recruitment', 2), ('robocall', 2), ('messi', 2), ('burnt', 2), ('petals', 2), ('surf', 2), ('dale', 2), ('brag', 2), ('burritos', 2), ('hershey', 2), ('perspectives', 2), ('portuguese', 2), ('marchers', 2), ('isanctuary', 2), ('produced', 2), ('shepard', 2), ('allocated', 2), ('hamburger', 2), ('toppings', 2), ('amom', 2), ('gif', 2), ('unites', 2), ('westboro', 2), ('skywriter', 2), ('zombie', 2), ('cum', 2), ('distinction', 2), ('groundhog', 2), ('norway', 2), ('1914', 2), ('cleansing', 2), ('shorts', 2), ('keebler', 2), ('bummed', 2), ('berserk', 2), ('glow', 2), ('labored', 2), ('recovered', 2), ('squeak', 2), ('jerking', 2), ('pities', 2), ('masculinity', 2), ('muscles', 2), ('ash', 2), ('predicting', 2), ('poisoning', 2), ('snooping', 2), ('logs', 2), ('quantum', 2), ('hazards', 2), ('denounces', 2), ('chapman', 2), ('meddling', 2), ('severe', 2), ('ptsd', 2), ('harbinger', 2), ('accord', 2), ('frosted', 2), ('carrot', 2), ('speculating', 2), ('orientation', 2), ('1991', 2), ('mozart', 2), ('gypsies', 2), ('stocked', 2), ('cleopatra', 2), ('subscribers', 2), ('quincy', 2), ('theology', 2), ('folk', 2), ('derailing', 2), ('sunny', 2), ('outlaw', 2), ('loretta', 2), ('pry', 2), ('nutritionist', 2), ('enthusiast', 2), ('weeping', 2), ('millionth', 2), ('meter', 2), ('conditioning', 2), ('frosty', 2), ('outcome', 2), ('questioned', 2), ('gridlock', 2), ('extraction', 2), ('valentines', 2), ('depends', 2), ('embezzlement', 2), ('balanced', 2), ('fiscal', 2), ('rabid', 2), ('custard', 2), ('tuberculosis', 2), ('economics', 2), ('urinator', 2), ('wistful', 2), ('powerpoint', 2), ('grizzled', 2), ('gaunt', 2), ('assistants', 2), ('bridesmaids', 2), ('suffered', 2), ('battleship', 2), ('terse', 2), ('iscream', 2), ('anonymity', 2), ('atlantic', 2), ('barron', 2), ('halle', 2), ('converse', 2), ('conscience', 2), ('heirs', 2), ('crayon', 2), ('noose', 2), ('lumbar', 2), ('nigeria', 2), ('inclusive', 2), ('whcd', 2), ('unwinnable', 2), ('booze', 2), ('boise', 2), ('stones', 2), ('vanilla', 2), ('buns', 2), ('skywalker', 2), ('instrument', 2), ('chased', 2), ('skate', 2), ('crossfit', 2), ('invite', 2), ('blender', 2), ('pronounce', 2), ('biker', 2), ('obstacle', 2), ('strangely', 2), ('ma', 2), ('nailed', 2), ('wes', 2), ('harley', 2), ('davidson', 2), ('roles', 2), ('bud', 2), ('trespassing', 2), ('airbrushing', 2), ('alerts', 2), ('buzzfeed', 2), ('univision', 2), ('jorge', 2), ('ramos', 2), ('airasia', 2), ('examine', 2), ('workaholic', 2), ('unimpressive', 2), ('doggy', 2), ('breaches', 2), ('individuals', 2), ('uniting', 2), ('fable', 2), ('reiner', 2), ('nc', 2), ('verbatim', 2), ('decries', 2), ('orphaned', 2), ('floodwaters', 2), ('extent', 2), ('lecture', 2), ('accusing', 2), ('mashed', 2), ('rental', 2), ('megachurch', 2), ('spatial', 2), ('involving', 2), ('shingles', 2), ('basement', 2), ('dragon', 2), ('nationalism', 2), ('tantalizing', 2), ('degenerates', 2), ('kramer', 2), ('certified', 2), ('vet', 2), ('strangled', 2), ('lew', 2), ('origins', 2), ('softball', 2), ('scarlett', 2), ('johansson', 2), ('stroller', 2), ('senses', 2), ('twentysomething', 2), ('denzel', 2), ('dre', 2), ('disembodied', 2), ('dances', 2), ('sticking', 2), ('appointment', 2), ('shia', 2), ('batters', 2), ('abridged', 2), ('freaks', 2), ('jug', 2), ('extinct', 2), ('watkins', 2), ('amyth', 2), ('institutions', 2), ('gamble', 2), ('weightlifter', 2), ('russiagate', 2), ('volleyball', 2), ('sow', 2), ('completion', 2), ('suckers', 2), ('sham', 2), ('fuckup', 2), ('gerrymandering', 2), ('disillusionment', 2), ('fireman', 2), ('hadonald', 2), ('stealth', 2), ('toughest', 2), ('prick', 2), ('amodern', 2), ('bystander', 2), ('legionnaires', 2), ('cement', 2), ('apartheid', 2), ('bending', 2), ('marty', 2), ('sacramento', 2), ('stephon', 2), ('substance', 2), ('emerson', 2), ('palmer', 2), ('reich', 2), ('hibernation', 2), ('propaganda', 2), ('sighs', 2), ('deflates', 2), ('randy', 2), ('gal', 2), ('gadot', 2), ('bling', 2), ('motor', 2), ('stripped', 2), ('inclined', 2), ('amusement', 2), ('paxton', 2), ('chadwick', 2), ('erik', 2), ('gatorade', 2), ('spooked', 2), ('unfortunate', 2), ('modeling', 2), ('bugles', 2), ('amend', 2), ('fulfilling', 2), ('restoration', 2), ('slick', 2), ('rows', 2), ('transmitted', 2), ('rampant', 2), ('trumps', 2), ('shops', 2), ('compose', 2), ('subsidiary', 2), ('nook', 2), ('standout', 2), ('stabs', 2), ('relaxation', 2), ('penned', 2), ('pueblo', 2), ('appetite', 2), ('musings', 2), ('unseen', 2), ('medicinal', 2), ('fashionable', 2), ('stigma', 2), ('pregame', 2), ('pipes', 2), ('wildest', 2), ('slurs', 2), ('normalcy', 2), ('rope', 2), ('resisting', 2), ('treasurer', 2), ('deletes', 2), ('precocious', 2), ('aviary', 2), ('mumbai', 2), ('rhyme', 2), ('funnies', 2), ('functioning', 2), ('contracted', 2), ('combos', 2), ('unfazed', 2), ('mails', 2), ('feminine', 2), ('copyright', 2), ('bod', 2), ('botanists', 2), ('trumpian', 2), ('contender', 2), ('crowdfunding', 2), ('impulse', 2), ('wasserman', 2), ('schultz', 2), ('payday', 2), ('lenders', 2), ('cough', 2), ('funerals', 2), ('blankenship', 2), ('shortcuts', 2), ('intake', 2), ('hughes', 2), ('li', 2), ('toni', 2), ('braxton', 2), ('unbreak', 2), ('trace', 2), ('gregg', 2), ('chattanooga', 2), ('obtained', 2), ('interrupt', 2), ('fingerprints', 2), ('menstrual', 2), ('repealing', 2), ('lighten', 2), ('escalating', 2), ('amurdered', 2), ('teeter', 2), ('upright', 2), ('toback', 2), ('tlc', 2), ('grim', 2), ('flaming', 2), ('reconstruct', 2), ('grisly', 2), ('meatball', 2), ('charisma', 2), ('bon', 2), ('supergroup', 2), ('empowered', 2), ('reactions', 2), ('airways', 2), ('payback', 2), ('aretha', 2), ('mutants', 2), ('choke', 2), ('touring', 2), ('ishake', 2), ('cafe', 2), ('buddies', 2), ('dynamic', 2), ('prejudices', 2), ('jaws', 2), ('detractors', 2), ('criticisms', 2), ('pitched', 2), ('odds', 2), ('candidacy', 2), ('halted', 2), ('beverly', 2), ('hills', 2), ('alias', 2), ('atwood', 2), ('walsh', 2), ('defiance', 2), ('psychopath', 2), ('sponsor', 2), ('filmstrip', 2), ('reverend', 2), ('blessed', 2), ('ishare', 2), ('guru', 2), ('overheard', 2), ('warhol', 2), ('mitzvah', 2), ('hadallas', 2), ('prosecute', 2), ('et', 2), ('untrue', 2), ('geared', 2), ('blockbusters', 2), ('maiden', 2), ('voyage', 2), ('taster', 2), ('settling', 2), ('prosecution', 2), ('covenant', 2), ('kamala', 2), ('cardiac', 2), ('futuristic', 2), ('blindfolded', 2), ('shipped', 2), ('uc', 2), ('haveep', 2), ('jonah', 2), ('tornadoes', 2), ('splurge', 2), ('acquiring', 2), ('allegiance', 2), ('hardworking', 2), ('viacom', 2), ('disciplined', 2), ('yada', 2), ('pastors', 2), ('huddle', 2), ('footprint', 2), ('thorough', 2), ('standby', 2), ('helen', 2), ('haday', 2), ('eternal', 2), ('darkest', 2), ('depraved', 2), ('lebanon', 2), ('mutilation', 2), ('freeman', 2), ('crock', 2), ('athens', 2), ('arrivals', 2), ('voucher', 2), ('bravely', 2), ('outcomes', 2), ('whitey', 2), ('bulger', 2), ('lords', 2), ('manifest', 2), ('levi', 2), ('shamelessly', 2), ('stamos', 2), ('skittish', 2), ('triumph', 2), ('earmarks', 2), ('warms', 2), ('sepp', 2), ('blatter', 2), ('robbed', 2), ('airborne', 2), ('antibiotic', 2), ('nipples', 2), ('revisited', 2), ('meditate', 2), ('barn', 2), ('pricing', 2), ('flossing', 2), ('tig', 2), ('notaro', 2), ('topless', 2), ('outlandish', 2), ('cutler', 2), ('dystopia', 2), ('sinner', 2), ('bullsht', 2), ('hobbies', 2), ('chic', 2), ('trained', 2), ('affiliate', 2), ('invade', 2), ('recliner', 2), ('lyft', 2), ('forensic', 2), ('carousel', 2), ('dolls', 2), ('roulette', 2), ('sleazy', 2), ('mixtape', 2), ('amany', 2), ('denial', 2), ('shackles', 2), ('cramped', 2), ('revels', 2), ('splinters', 2), ('brunch', 2), ('collusion', 2), ('adventure', 2), ('pray', 2), ('welcoming', 2), ('lib', 2), ('geopolitical', 2), ('unaffected', 2), ('heartedly', 2), ('rickety', 2), ('advancement', 2), ('traumatized', 2), ('lehrer', 2), ('bmw', 2), ('6th', 2), ('doobie', 2), ('consumes', 2), ('uva', 2), ('trolled', 2), ('aykroyd', 2), ('adventurous', 2), ('unanswered', 2), ('ruptures', 2), ('gory', 2), ('personals', 2), ('hardline', 2), ('axes', 2), ('tits', 2), ('chats', 2), ('roland', 2), ('lang', 2), ('secures', 2), ('feign', 2), ('introduced', 2), ('fawning', 2), ('ensures', 2), ('satellites', 2), ('bornstein', 2), ('shopper', 2), ('sordid', 2), ('aregular', 2), ('confidential', 2), ('thanked', 2), ('hadraft', 2), ('reassures', 2), ('ronald', 2), ('belittling', 2), ('embraced', 2), ('blahs', 2), ('cellulite', 2), ('expiration', 2), ('berries', 2), ('basics', 2), ('smartphones', 2), ('impending', 2), ('choreographer', 2), ('blossom', 2), ('clients', 2), ('strangulation', 2), ('kneel', 2), ('gucci', 2), ('clueless', 2), ('superfood', 2), ('conclusions', 2), ('download', 2), ('coaches', 2), ('arrived', 2), ('dips', 2), ('chiefs', 2), ('tatum', 2), ('114', 2), ('lease', 2), ('stretch', 2), ('harmless', 2), ('intercepted', 2), ('chases', 2), ('fences', 2), ('grips', 2), ('imperative', 2), ('underway', 2), ('wrenching', 2), ('yemeni', 2), ('sylvia', 2), ('trending', 2), ('bailout', 2), ('paparazzi', 2), ('strictest', 2), ('flustered', 2), ('farrow', 2), ('optimist', 2), ('toenails', 2), ('truce', 2), ('sludge', 2), ('robes', 2), ('contracts', 2), ('infection', 2), ('smashing', 2), ('wilder', 2), ('visibility', 2), ('escort', 2), ('autoerotic', 2), ('asphyxiation', 2), ('manual', 2), ('occur', 2), ('cinemas', 2), ('stronghold', 2), ('subside', 2), ('discreetly', 2), ('trails', 2), ('newsbrief', 2), ('ingraham', 2), ('maniac', 2), ('puking', 2), ('photoshoot', 2), ('monogamy', 2), ('shouting', 2), ('pedestrians', 2), ('improbable', 2), ('indictment', 2), ('civilization', 2), ('accurately', 2), ('faded', 2), ('undermining', 2), ('priceless', 2), ('beds', 2), ('whiny', 2), ('unprovoked', 2), ('tampa', 2), ('monk', 2), ('armor', 2), ('freezing', 2), ('supercuts', 2), ('sunscreen', 2), ('jazzfest', 2), ('frightening', 2), ('orangutan', 2), ('charming', 2), ('baskin', 2), ('recreated', 2), ('wheelbarrow', 2), ('sundance', 2), ('jargon', 2), ('5k', 2), ('dammit', 2), ('manufacturers', 2), ('leonard', 2), ('isesame', 2), ('arrogance', 2), ('kathy', 2), ('lyne', 2), ('carrington', 2), ('crops', 2), ('welter', 2), ('earnings', 2), ('nationals', 2), ('braves', 2), ('contamination', 2), ('chester', 2), ('surgical', 2), ('amission', 2), ('judith', 2), ('oconnor', 2), ('heather', 2), ('huddled', 2), ('barneys', 2), ('profiling', 2), ('revive', 2), ('dual', 2), ('peppered', 2), ('experienced', 2), ('marked', 2), ('douchey', 2), ('bahamas', 2), ('chateau', 2), ('quarantine', 2), ('reviewing', 2), ('nagging', 2), ('antidepressants', 2), ('uh', 2), ('1988', 2), ('butting', 2), ('evolved', 2), ('organizations', 2), ('fabulous', 2), ('acknowledging', 2), ('dull', 2), ('erotic', 2), ('deforestation', 2), ('flamethrower', 2), ('rarely', 2), ('announcer', 2), ('smashed', 2), ('erase', 2), ('mouthing', 2), ('envoy', 2), ('cnbc', 2), ('inventor', 2), ('sharp', 2), ('camper', 2), ('indonesian', 2), ('unrest', 2), ('madame', 2), ('montreal', 2), ('sinister', 2), ('diplomats', 2), ('startups', 2), ('unusually', 2), ('angle', 2), ('lepage', 2), ('traffickers', 2), ('dzhokhar', 2), ('irony', 2), ('pew', 2), ('goliath', 2), ('diverted', 2), ('offerman', 2), ('satirical', 2), ('unnerved', 2), ('yanks', 2), ('shelton', 2), ('jenny', 2), ('kebab', 2), ('rewatching', 2), ('barbados', 2), ('sephora', 2), ('nauseous', 2), ('cured', 2), ('krispy', 2), ('kreme', 2), ('dominated', 2), ('vie', 2), ('hadrag', 2), ('tibetan', 2), ('displeased', 2), ('eliminate', 2), ('punishing', 2), ('yield', 2), ('shipping', 2), ('irwin', 2), ('injuring', 2), ('expanded', 2), ('inhibitions', 2), ('lanyard', 2), ('cock', 2), ('topping', 2), ('doorway', 2), ('constituency', 2), ('fentanyl', 2), ('thwart', 2), ('raping', 2), ('rebirth', 2), ('vengeance', 2), ('grudge', 2), ('contemporary', 2), ('consensus', 2), ('2040', 2), ('bask', 2), ('ashamed', 2), ('contradict', 2), ('daredevil', 2), ('rollout', 2), ('1980s', 2), ('exposed', 2), ('alliances', 2), ('hitman', 2), ('nigel', 2), ('replica', 2), ('upsets', 2), ('advertiser', 2), ('allocates', 2), ('companion', 2), ('fondly', 2), ('painted', 2), ('gallows', 2), ('transferred', 2), ('penitentiary', 2), ('hostages', 2), ('stiller', 2), ('peels', 2), ('terminally', 2), ('antidote', 2), ('lucrative', 2), ('playboy', 2), ('mansion', 2), ('smash', 2), ('recreation', 2), ('athlete', 2), ('deniers', 2), ('coli', 2), ('hostility', 2), ('strain', 2), ('std', 2), ('800', 2), ('dungeon', 2), ('unloads', 2), ('hadumb', 2), ('honolulu', 2), ('disagreements', 2), ('kenneth', 2), ('thornton', 2), ('oversized', 2), ('preventative', 2), ('investor', 2), ('torso', 2), ('philanthropist', 2), ('spokesman', 2), ('raiders', 2), ('postseason', 2), ('exhibition', 2), ('pesticides', 2), ('orcas', 2), ('sided', 2), ('flawless', 2), ('representatives', 2), ('witnessing', 2), ('tune', 2), ('clarity', 2), ('priyanka', 2), ('chopra', 2), ('apu', 2), ('justified', 2), ('ventimiglia', 2), ('nutter', 2), ('mountaintop', 2), ('lofty', 2), ('chemo', 2), ('reintroduces', 2), ('snakes', 2), ('partnering', 2), ('lakes', 2), ('gears', 2), ('bullies', 2), ('lamp', 2), ('expels', 2), ('sandusky', 2), ('bloggers', 2), ('emptied', 2), ('din', 2), ('aldrin', 2), ('edgy', 2), ('falcon', 2), ('clapper', 2), ('unlocks', 2), ('quinoa', 2), ('irrelevant', 2), ('chains', 2), ('unwind', 2), ('gitmo', 2), ('tweeting', 2), ('forming', 2), ('successes', 2), ('toil', 2), ('restart', 2), ('profoundly', 2), ('pt', 2), ('hadaredevil', 2), ('gamer', 2), ('boldly', 2), ('socialism', 2), ('drastically', 2), ('goblin', 2), ('desirable', 2), ('rippon', 2), ('shelling', 2), ('ostrich', 2), ('harasser', 2), ('husky', 2), ('howl', 2), ('duet', 2), ('widening', 2), ('policeman', 2), ('styling', 2), ('generally', 2), ('diploma', 2), ('yells', 2), ('mcdonnell', 2), ('gunshot', 2), ('hordes', 2), ('dazed', 2), ('flashy', 2), ('deray', 2), ('mckesson', 2), ('pa', 2), ('grilled', 2), ('howie', 2), ('rushmore', 2), ('ian', 2), ('mckellen', 2), ('actresses', 2), ('proposition', 2), ('ramsey', 2), ('margin', 2), ('rejoins', 2), ('networks', 2), ('daytime', 2), ('testifies', 2), ('condé', 2), ('nast', 2), ('crates', 2), ('programmatic', 2), ('roadblocks', 2), ('nicaraguan', 2), ('attacker', 2), ('erection', 2), ('arepeal', 2), ('elaborately', 2), ('autographed', 2), ('rangers', 2), ('bodysuit', 2), ('dartmouth', 2), ('christensen', 2), ('gravy', 2), ('maya', 2), ('angelou', 2), ('mh370', 2), ('determines', 2), ('contained', 2), ('copying', 2), ('rubbing', 2), ('mulligan', 2), ('dove', 2), ('endorsements', 2), ('kurdish', 2), ('sewing', 2), ('lifespan', 2), ('tnt', 2), ('encyclopedia', 2), ('ferris', 2), ('interracial', 2), ('kenyan', 2), ('picker', 2), ('sensitivity', 2), ('weds', 2), ('rustic', 2), ('y', 2), ('dripping', 2), ('endured', 2), ('adnan', 2), ('syed', 2), ('relaxed', 2), ('elsa', 2), ('divers', 2), ('genuinely', 2), ('treadmill', 2), ('chatter', 2), ('gossip', 2), ('typo', 2), ('hayes', 2), ('warrant', 2), ('coasts', 2), ('bundchen', 2), ('trades', 2), ('crowe', 2), ('frazzled', 2), ('heal', 2), ('smallest', 2), ('upgraded', 2), ('apocalyptic', 2), ('soothed', 2), ('tableau', 2), ('containers', 2), ('flashes', 2), ('decimate', 2), ('awed', 2), ('toomey', 2), ('marketed', 2), ('reviewed', 2), ('wyclef', 2), ('fugees', 2), ('mastermind', 2), ('belts', 2), ('lypsinka', 2), ('trilogy', 2), ('aerosmith', 2), ('skewers', 2), ('listeners', 2), ('revolving', 2), ('explicit', 2), ('greenwood', 2), ('sabotaging', 2), ('hounds', 2), ('bustling', 2), ('semitic', 2), ('upstanding', 2), ('psycho', 2), ('janelle', 2), ('amaybe', 2), ('awhile', 2), ('tarnished', 2), ('erdogan', 2), ('violate', 2), ('fran', 2), ('drescher', 2), ('seared', 2), ('foie', 2), ('gras', 2), ('panties', 2), ('maroon', 2), ('solemnly', 2), ('undiagnosed', 2), ('void', 2), ('decoy', 2), ('layout', 2), ('sickens', 2), ('wisely', 2), ('cain', 2), ('smarter', 2), ('proven', 2), ('statehouse', 2), ('tortured', 2), ('grimes', 2), ('leaguers', 2), ('alexander', 2), ('bleeds', 2), ('scully', 2), ('hbcus', 2), ('turtles', 2), ('blinded', 2), ('salutes', 2), ('unafraid', 2), ('upgrades', 2), ('intensifies', 2), ('ships', 2), ('schieffer', 2), ('dictionaries', 2), ('dilma', 2), ('rousseff', 2), ('submissions', 2), ('chemistry', 2), ('universally', 2), ('clapton', 2), ('stuffs', 2), ('inflation', 2), ('crippling', 2), ('columbus', 2), ('ridicule', 2), ('caucuses', 2), ('impervious', 2), ('contested', 2), ('torches', 2), ('subsequent', 2), ('messiah', 2), ('lasik', 2), ('monocle', 2), ('vacuum', 2), ('implicated', 2), ('denim', 2), ('cows', 2), ('greets', 2), ('woo', 2), ('kool', 2), ('wimbledon', 2), ('retriever', 2), ('creed', 2), ('sur', 2), ('width', 2), ('bothering', 2), ('outsmart', 2), ('pies', 2), ('achieves', 2), ('omelet', 2), ('terrorized', 2), ('lineup', 2), ('multicolor', 2), ('barnes', 2), ('tablets', 2), ('flushing', 2), ('succeed', 2), ('aereo', 2), ('lunchbox', 2), ('hunky', 2), ('coursing', 2), ('containing', 2), ('practically', 2), ('buildings', 2), ('politico', 2), ('amistake', 2), ('bitterly', 2), ('reps', 2), ('dodge', 2), ('carrey', 2), ('joker', 2), ('gambit', 2), ('resurrection', 2), ('guts', 2), ('stadiums', 2), ('horizon', 2), ('doughnut', 2), ('womanhood', 2), ('hooked', 2), ('excites', 2), ('percentage', 2), ('tucked', 2), ('famed', 2), ('obligation', 2), ('marvels', 2), ('vetting', 2), ('incentives', 2), ('kathie', 2), ('gifford', 2), ('roasted', 2), ('solving', 2), ('strife', 2), ('caps', 2), ('displaced', 2), ('mining', 2), ('biased', 2), ('oddly', 2), ('flush', 2), ('spacecraft', 2), ('hitch', 2), ('oversight', 2), ('boots', 2), ('facilities', 2), ('thoughtful', 2), ('exercising', 2), ('roth', 2), ('lax', 2), ('jobless', 2), ('slogans', 2), ('individually', 2), ('peters', 2), ('robs', 2), ('discredit', 2), ('guitars', 2), ('ty', 2), ('omarosa', 2), ('frying', 2), ('bail', 2), ('tyga', 2), ('experimented', 2), ('metro', 2), ('40th', 2), ('perch', 2), ('croatian', 2), ('hulking', 2), ('mandy', 2), ('stained', 2), ('censorship', 2), ('tipping', 2), ('belafonte', 2), ('homemade', 2), ('tyra', 2), ('crocs', 2), ('patents', 2), ('intensity', 2), ('hemingway', 2), ('counselors', 2), ('celtic', 2), ('semen', 2), ('costco', 2), ('reverently', 2), ('paused', 2), ('algebra', 2), ('publishers', 2), ('patterns', 2), ('loc', 2), ('rosenstein', 2), ('marches', 2), ('cellar', 2), ('laments', 2), ('cte', 2), ('prior', 2), ('dummies', 2), ('brownback', 2), ('zeus', 2), ('2050', 2), ('mugs', 2), ('contestant', 2), ('fiercely', 2), ('bony', 2), ('proudest', 2), ('piers', 2), ('fist', 2), ('graduated', 2), ('pressed', 2), ('dysfunction', 2), ('boycotting', 2), ('liquid', 2), ('allergy', 2), ('haunt', 2), ('headscarf', 2), ('collins', 2), ('confession', 2), ('cellphone', 2), ('qaddafi', 2), ('weirded', 2), ('stonehenge', 2), ('exuberant', 2), ('beyhive', 2), ('swarms', 2), ('rachael', 2), ('watering', 2), ('blessings', 2), ('transparent', 2), ('describing', 2), ('masking', 2), ('gentlemen', 2), ('constructs', 2), ('omits', 2), ('jewry', 2), ('relax', 2), ('unpatriotic', 2), ('vanity', 2), ('depart', 2), ('chicks', 2), ('emojis', 2), ('shifting', 2), ('chrysler', 2), ('scrubs', 2), ('evade', 2), ('brooke', 2), ('easiest', 2), ('implying', 2), ('conceive', 2), ('realities', 2), ('overly', 2), ('consciousness', 2), ('postpones', 2), ('newsrooms', 2), ('dug', 2), ('ganymede', 2), ('anthrax', 2), ('marketer', 2), ('majestic', 2), ('rejecting', 2), ('neon', 2), ('slump', 2), ('denis', 2), ('praising', 2), ('premieres', 2), ('proposing', 2), ('slash', 2), ('delete', 2), ('islamophobic', 2), ('lightsaber', 2), ('duel', 2), ('naughty', 2), ('11th', 2), ('berates', 2), ('trim', 2), ('mocking', 2), ('annoy', 2), ('ishithole', 2), ('gazebo', 2), ('redrawing', 2), ('hijacked', 2), ('exploratory', 2), ('divorcing', 2), ('codes', 2), ('positions', 2), ('volts', 2), ('geode', 2), ('dumped', 2), ('politically', 2), ('simone', 2), ('biles', 2), ('devastates', 2), ('psychics', 2), ('lohan', 2), ('sadness', 2), ('pediatricians', 2), ('superdelegate', 2), ('replay', 2), ('intersection', 2), ('kalief', 2), ('browder', 2), ('strains', 2), ('vastly', 2), ('vcr', 2), ('turner', 2), ('flopping', 2), ('clint', 2), ('dempsey', 2), ('brazilian', 2), ('murals', 2), ('crook', 2), ('haitian', 2), ('windfall', 2), ('commemorative', 2), ('postage', 2), ('burundi', 2), ('militia', 2), ('formation', 2), ('tackled', 2), ('technological', 2), ('previews', 2), ('lightning', 2), ('digitize', 2), ('lovingly', 2), ('nevertrump', 2), ('nebraska', 2), ('intergalactic', 2), ('obey', 2), ('technician', 2), ('pancake', 2), ('vampires', 2), ('inducing', 2), ('streamed', 2), ('poultry', 2), ('stripe', 2), ('hardly', 2), ('goose', 2), ('harassing', 2), ('otters', 2), ('winnings', 2), ('locate', 2), ('standup', 2), ('adjacent', 2), ('kroger', 2), ('wright', 2), ('sip', 2), ('vuitton', 2), ('freestyle', 2), ('tabletop', 2), ('winslet', 2), ('hitchcock', 2), ('ufos', 2), ('conjoined', 2), ('twin', 2), ('samberg', 2), ('highlighting', 2), ('pivotal', 2), ('darker', 2), ('maggot', 2), ('cyberattack', 2), ('contradictions', 2), ('sneaky', 2), ('ducklings', 2), ('blueprint', 2), ('swept', 2), ('wages', 2), ('renewed', 2), ('clips', 2), ('broadcasts', 2), ('bolster', 2), ('vat', 2), ('coats', 2), ('patty', 2), ('distressed', 2), ('wrath', 2), ('vinci', 2), ('albany', 2), ('bauer', 2), ('atonal', 2), ('detainees', 2), ('blackouts', 2), ('discrediting', 2), ('ticking', 2), ('fig', 2), ('select', 2), ('idiotic', 2), ('maze', 2), ('closeted', 2), ('tires', 2), ('downey', 2), ('formulate', 2), ('achilles', 2), ('mixes', 2), ('cactus', 2), ('bodily', 2), ('smiley', 2), ('presumptive', 2), ('desensitized', 2), ('looters', 2), ('villagers', 2), ('34th', 2), ('2003', 2), ('leaping', 2), ('vulgar', 2), ('spontaneously', 2), ('macau', 2), ('perhaps', 2), ('falcons', 2), ('uninterested', 2), ('amphitheater', 2), ('cumberbatch', 2), ('hadoctor', 2), ('establishment', 2), ('alternatives', 2), ('believers', 2), ('sprayed', 2), ('thaw', 2), ('cassini', 2), ('octogenarian', 2), ('ovation', 2), ('secure', 2), ('thermometer', 2), ('brawl', 2), ('snap', 2), ('breastfeeding', 2), ('consult', 2), ('sino', 2), ('kashmir', 2), ('fatigue', 2), ('mt', 2), ('gassed', 2), ('slip', 2), ('impeach', 2), ('crispy', 2), ('confidently', 2), ('defrauded', 2), ('communion', 2), ('watson', 2), ('chippewa', 2), ('stepson', 2), ('nailing', 2), ('encounters', 2), ('chimp', 2), ('kirkman', 2), ('ar', 2), ('pavement', 2), ('technicality', 2), ('influencer', 2), ('newlywed', 2), ('crackers', 2), ('infections', 2), ('insert', 2), ('novels', 2), ('flirting', 2), ('pissing', 2), ('kissed', 2), ('freely', 2), ('peril', 2), ('antebellum', 2), ('boosting', 2), ('cobra', 2), ('sienna', 2), ('winces', 2), ('sleepy', 2), ('skips', 2), ('shells', 2), ('drowns', 2), ('swiping', 2), ('australians', 2), ('weaker', 2), ('ankles', 2), ('rev', 2), ('goodyear', 2), ('macklemore', 2), ('cowardly', 2), ('theft', 2), ('missions', 2), ('tutoring', 2), ('hotness', 2), ('pepsico', 2), ('doses', 2), ('2004', 2), ('sext', 2), ('mannered', 2), ('jumbotron', 2), ('instructed', 2), ('imf', 2), ('pompous', 2), ('aficionado', 2), ('printed', 2), ('splits', 2), ('wrestler', 2), ('commemorated', 2), ('coordination', 2), ('underfunded', 2), ('feeds', 2), ('semester', 2), ('trimester', 2), ('slimmer', 2), ('limbs', 2), ('clam', 2), ('memoriam', 2), ('inventions', 2), ('pyramids', 2), ('suarez', 2), ('understands', 2), ('takedown', 2), ('rioting', 2), ('disheveled', 2), ('pantry', 2), ('2s', 2), ('hopkins', 2), ('tricycle', 2), ('julius', 2), ('hersh', 2), ('strongman', 2), ('greeks', 2), ('nestle', 2), ('switch', 2), ('pokey', 2), ('unimpressed', 2), ('gabby', 2), ('hippocratic', 2), ('wackiest', 2), ('quinn', 2), ('cherub', 2), ('monroe', 2), ('excessive', 2), ('turkeys', 2), ('suspiciously', 2), ('encouraged', 2), ('backpacker', 2), ('europeans', 2), ('fico', 2), ('reconnect', 2), ('array', 2), ('paralyzes', 2), ('superpowers', 2), ('dispel', 2), ('culturally', 2), ('discouraged', 2), ('smoked', 2), ('quantity', 2), ('keegan', 2), ('stresses', 2), ('radius', 2), ('owls', 2), ('puberty', 2), ('halperin', 2), ('futility', 2), ('ageism', 2), ('spectacle', 2), ('injustice', 2), ('tango', 2), ('kayak', 2), ('nonetheless', 2), ('occupied', 2), ('sausage', 2), ('isay', 2), ('catastrophe', 2), ('confusion', 2), ('crooked', 2), ('planting', 2), ('afghans', 2), ('dysmorphia', 2), ('sufferers', 2), ('rediscover', 2), ('liner', 2), ('wines', 2), ('vanquished', 2), ('fend', 2), ('tending', 2), ('edible', 2), ('concepts', 2), ('chaotic', 2), ('loyalists', 2), ('homemaker', 2), ('jennings', 2), ('snowmobiles', 2), ('paired', 2), ('bison', 2), ('enable', 2), ('renée', 2), ('zellweger', 2), ('popsicle', 2), ('ouija', 2), ('fetal', 2), ('reviewers', 2), ('prog', 2), ('disparaging', 2), ('burlesque', 2), ('asses', 2), ('airfare', 2), ('til', 2), ('homepage', 2), ('sliders', 2), ('khamenei', 2), ('garfield', 2), ('openings', 2), ('mutation', 2), ('peru', 2), ('straps', 2), ('banged', 2), ('swell', 2), ('echo', 2), ('impressions', 2), ('recreate', 2), ('pierced', 2), ('extremist', 2), ('kickstarter', 2), ('harbor', 2), ('mnuchin', 2), ('timeout', 2), ('blasting', 2), ('hadawson', 2), ('hurls', 2), ('banners', 2), ('lupita', 2), ('nyongo', 2), ('examining', 2), ('eager', 2), ('effectively', 2), ('inspector', 2), ('repulsed', 2), ('experimenting', 2), ('calvin', 2), ('dzhokar', 2), ('hectic', 2), ('insects', 2), ('flashback', 2), ('paralyzed', 2), ('accuracy', 2), ('vehemently', 2), ('trainwreck', 2), ('upbeat', 2), ('receipt', 2), ('recital', 2), ('snarky', 2), ('hormonal', 2), ('saturn', 2), ('armstrong', 2), ('bendy', 2), ('altered', 2), ('bickering', 2), ('misogynist', 2), ('medieval', 2), ('answering', 2), ('biz', 2), ('insisting', 2), ('boozy', 2), ('ravine', 2), ('lockdown', 2), ('rudder', 2), ('gripping', 2), ('bounds', 2), ('woos', 2), ('mercury', 2), ('elena', 2), ('steele', 2), ('havana', 2), ('lean', 2), ('mustard', 2), ('discourse', 2), ('reckoning', 2), ('recite', 2), ('haves', 2), ('ladder', 2), ('contraception', 2), ('bun', 2), ('crotch', 2), ('credibility', 2), ('sager', 2), ('pas', 2), ('veins', 2), ('shaun', 2), ('pounce', 2), ('fiat', 2), ('manhunt', 2), ('instructs', 2), ('finer', 2), ('clandestine', 2), ('guantánamo', 2), ('racially', 2), ('motivated', 2), ('dinosaurs', 2), ('vaginal', 2), ('finland', 2), ('desist', 2), ('zachary', 2), ('quinto', 2), ('baked', 2), ('twenty', 2), ('frisbee', 2), ('steamed', 2), ('hannibal', 2), ('buress', 2), ('pita', 2), ('danson', 2), ('evokes', 2), ('personalized', 2), ('controller', 2), ('notch', 2), ('sack', 2), ('sexualized', 2), ('borrowers', 2), ('maoist', 2), ('einstein', 2), ('pouch', 2), ('brussels', 2), ('devotion', 2), ('overdue', 2), ('pharoah', 2), ('jiffy', 2), ('morality', 2), ('trojan', 2), ('bodybuilder', 2), ('licenses', 2), ('mural', 2), ('mayors', 2), ('scouting', 2), ('acetaminophen', 2), ('60th', 2), ('amos', 2), ('apathy', 2), ('sailors', 2), ('chipper', 2), ('1950s', 2), ('cautious', 2), ('unravelling', 2), ('sickened', 2), ('heir', 2), ('mayonnaise', 2), ('altar', 2), ('eater', 2), ('politely', 2), ('underrepresented', 2), ('carving', 2), ('restrained', 2), ('creationist', 2), ('ischoolhouse', 2), ('schoolchildren', 2), ('goofy', 2), ('ridge', 2), ('catholics', 2), ('drill', 2), ('flexible', 2), ('fees', 2), ('jackets', 2), ('rodgers', 2), ('nerds', 2), ('passionate', 2), ('stuf', 2), ('aluminum', 2), ('elbow', 2), ('retiring', 2), ('mister', 2), ('rogers', 2), ('gerrymandered', 2), ('xl', 2), ('attends', 2), ('granite', 2), ('archaeological', 2), ('poised', 2), ('knowingly', 2), ('drank', 2), ('preps', 2), ('103', 2), ('35th', 2), ('shampoo', 2), ('nas', 2), ('sweaters', 2), ('gained', 2), ('nugent', 2), ('cologne', 2), ('peacock', 2), ('addition', 2), ('nutrients', 2), ('yazidi', 2), ('seal', 2), ('margarita', 2), ('reserves', 2), ('alma', 2), ('mater', 2), ('improves', 2), ('freshly', 2), ('gallant', 2), ('fringe', 2), ('mailer', 2), ('lowering', 2), ('canned', 2), ('acquaintances', 2), ('abducted', 2), ('hypnotic', 2), ('toilets', 2), ('fil', 2), ('ancestors', 2), ('900', 2), ('gambling', 2), ('indigenous', 2), ('raccoons', 2), ('bei', 2), ('laureates', 2), ('arete', 2), ('kimora', 2), ('eileen', 2), ('rivalry', 2), ('nonviolent', 2), ('deadpool', 2), ('instagrams', 2), ('gigi', 2), ('seychelles', 2), ('cryptic', 2), ('dynamite', 2), ('complications', 2), ('casket', 2), ('revives', 2), ('gibson', 2), ('pub', 2), ('inclement', 2), ('cleric', 2), ('forgives', 2), ('inspection', 2), ('offbeat', 2), ('hayley', 2), ('adapting', 2), ('landslide', 2), ('vulnerabilities', 2), ('concentration', 2), ('historian', 2), ('shredding', 2), ('premiums', 2), ('torrent', 2), ('ideal', 2), ('amoron', 2), ('custodian', 2), ('unsuccessful', 2), ('wanda', 2), ('buck', 2), ('otter', 2), ('gresham', 2), ('cherokee', 2), ('foraging', 2), ('bro', 2), ('frankly', 2), ('disfigured', 2), ('suggestions', 2), ('instantly', 2), ('chives', 2), ('stoned', 2), ('backwards', 2), ('stockpiling', 2), ('adopting', 2), ('stumped', 2), ('hadid', 2), ('prop', 2), ('preet', 2), ('bharara', 2), ('automatic', 2), ('douglass', 2), ('blaine', 2), ('suggestion', 2), ('optical', 2), ('divine', 2), ('bead', 2), ('shootout', 2), ('hearty', 2), ('kiosk', 2), ('recruits', 2), ('debris', 2), ('championship', 2), ('indeed', 2), ('statistically', 2), ('bartenders', 2), ('wizard', 2), ('getaways', 2), ('cackling', 2), ('buffoon', 2), ('escapes', 2), ('seahawks', 2), ('disqualify', 2), ('titles', 2), ('inspectors', 2), ('isimpsons', 2), ('circuit', 2), ('phoenix', 2), ('touchscreen', 2), ('brainstorming', 2), ('symbolism', 2), ('specifics', 2), ('commitment', 2), ('defies', 2), ('connecting', 2), ('kirk', 2), ('psychotic', 2), ('institutional', 2), ('blew', 2), ('workplaces', 2), ('moderation', 2), ('clothed', 2), ('buddhist', 2), ('regales', 2), ('unkempt', 2), ('lows', 2), ('vigilante', 2), ('commemorating', 2), ('burial', 2), ('matches', 2), ('ira', 2), ('higgins', 2), ('harlem', 2), ('ajit', 2), ('pai', 2), ('tick', 2), ('abraham', 2), ('dna', 2), ('reuben', 2), ('clinics', 2), ('dukakis', 2), ('depicting', 2), ('awaited', 2), ('bearded', 2), ('kinney', 2), ('arebel', 2), ('leah', 2), ('remini', 2), ('wherever', 2), ('gleefully', 2), ('disputed', 2), ('delegates', 2), ('dismembered', 2), ('dumpster', 2), ('costa', 2), ('michaels', 2), ('kalanick', 2), ('technicians', 2), ('twas', 2), ('covert', 2), ('tussle', 2), ('morton', 2), ('terrifies', 2), ('g8', 2), ('pornographic', 2), ('gabriel', 2), ('surges', 2), ('penny', 2), ('untested', 2), ('environmentalists', 2), ('bbq', 2), ('hen', 2), ('accomplishment', 2), ('lists', 2), ('clearer', 2), ('geo', 2), ('gynecologist', 2), ('risky', 2), ('cellmate', 2), ('chargers', 2), ('dugout', 2), ('dermatologists', 2), ('reenact', 2), ('grossest', 2), ('vestments', 2), ('inaccuracy', 2), ('rooftop', 2), ('forrest', 2), ('buttons', 2), ('audubon', 2), ('horde', 2), ('memorabilia', 2), ('faithful', 2), ('stability', 2), ('paved', 2), ('rocking', 2), ('reversal', 2), ('undertaker', 2), ('credits', 2), ('imitating', 2), ('satire', 2), ('permanent', 2), ('dslr', 2), ('rockwell', 2), ('installing', 2), ('soaps', 2), ('philanderer', 2), ('imagery', 2), ('asserts', 2), ('podiatrist', 2), ('sudanese', 2), ('pity', 2), ('alexa', 2), ('atv', 2), ('miraculously', 2), ('rubble', 2), ('djs', 2), ('swallow', 2), ('costars', 2), ('uruguay', 2), ('promotional', 2), ('toyota', 2), ('gurney', 2), ('cranks', 2), ('stocks', 2), ('cloaked', 2), ('disintegrates', 2), ('mia', 2), ('fathered', 2), ('sinatra', 2), ('altman', 2), ('milton', 2), ('berle', 2), ('ping', 2), ('enchilada', 2), ('premonition', 2), ('narratives', 2), ('chitty', 2), ('handmaid', 2), ('glamorous', 2), ('superintendent', 2), ('unheard', 2), ('functional', 2), ('monoxide', 2), ('chesney', 2), ('isweet', 2), ('travolta', 2), ('guillermo', 2), ('toro', 2), ('celibacy', 2), ('carts', 2), ('sobbing', 2), ('defender', 2), ('impeached', 2), ('unwanted', 2), ('aka', 2), ('fm', 2), ('interim', 2), ('paranoid', 2), ('vu', 2), ('dawkins', 2), ('abduction', 2), ('tri', 2), ('mockingbird', 2), ('emissions', 2), ('watts', 2), ('straw', 2), ('curriculum', 2), ('imports', 2), ('gandhi', 2), ('hazard', 2), ('erupting', 2), ('restrooms', 2), ('sexting', 2), ('commits', 2), ('mating', 2), ('sumptuous', 2), ('instincts', 2), ('illusions', 2), ('dining', 2), ('stanley', 2), ('manages', 2), ('showcase', 2), ('nam', 2), ('68', 2), ('bundy', 2), ('scuba', 2), ('diver', 2), ('foley', 2), ('photojournalist', 2), ('subtle', 2), ('lifted', 2), ('tampons', 2), ('spawn', 2), ('illustrates', 2), ('broker', 2), ('addictive', 2), ('tail', 2), ('dina', 2), ('laborer', 2), ('rouhani', 2), ('reopen', 2), ('furniture', 2), ('belonging', 2), ('breathes', 2), ('screamed', 2), ('cried', 2), ('vase', 2), ('glimmer', 2), ('revolt', 2), ('yup', 2), ('jew', 2), ('typical', 2), ('nodding', 2), ('widespread', 2), ('fluid', 2), ('mummified', 2), ('wizards', 2), ('bankrupting', 2), ('portion', 2), ('crews', 2), ('stretched', 2), ('custom', 2), ('cages', 2), ('rpg', 2), ('debunked', 2), ('cooker', 2), ('nippy', 2), ('sweatshops', 2), ('molten', 2), ('puddle', 2), ('gloria', 2), ('sweep', 2), ('sentient', 2), ('rodeo', 2), ('makers', 2), ('thru', 2), ('vaguely', 2), ('flipping', 2), ('wiping', 2), ('dolled', 2), ('consistent', 2), ('estimate', 2), ('scenarios', 2), ('resigning', 2), ('thwarted', 2), ('blagojevich', 2), ('founders', 2), ('adoption', 2), ('dossier', 2), ('severance', 2), ('whopping', 2), ('reptile', 2), ('fright', 2), ('chant', 2), ('solemn', 2), ('psychiatrists', 2), ('roman', 2), ('exhausting', 2), ('prostitute', 2), ('nighttime', 2), ('dominance', 2), ('decay', 2), ('eyeliner', 2), ('showered', 2), ('vanessa', 2), ('expedition', 2), ('runners', 2), ('sheen', 2), ('minorities', 2), ('flagship', 2), ('bases', 2), ('taunt', 2), ('gorilla', 2), ('cleaned', 2), ('server', 2), ('align', 2), ('sheds', 2), ('meteor', 2), ('crucifixion', 2), ('tossing', 2), ('liberia', 2), ('climatologists', 2), ('nickelback', 2), ('torch', 2), ('mexicans', 2), ('comcast', 2), ('elitist', 2), ('crafted', 2), ('liberties', 2), ('hedwig', 2), ('healer', 2), ('hog', 2), ('pregnancies', 2), ('geniuses', 2), ('unharmed', 2), ('magically', 2), ('representative', 2), ('refreshing', 2), ('scored', 2), ('ingrown', 2), ('decorated', 2), ('henchmen', 2), ('luna', 2), ('zinke', 2), ('monkeys', 2), ('walton', 2), ('grounds', 2), ('robotic', 2), ('quarterback', 2), ('dried', 2), ('spoiled', 2), ('amagic', 2), ('fishermen', 2), ('carolinas', 2), ('fading', 2), ('hebdo', 2), ('reformers', 2), ('galápagos', 2), ('trey', 2), ('gowdy', 2), ('toner', 2), ('istill', 2), ('mannequins', 2), ('jumper', 2), ('di', 2), ('fiery', 2), ('hadamn', 2), ('jellyfish', 2), ('kareem', 2), ('gunn', 2), ('freaky', 2), ('foolishly', 2), ('entrusted', 2), ('martyr', 2), ('romero', 2), ('oats', 2), ('canister', 2), ('hadrugs', 2), ('skier', 2), ('fyi', 2), ('cola', 2), ('treater', 2), ('embodies', 2), ('sliding', 2), ('plummets', 2), ('screening', 2), ('snooze', 2), ('flame', 2), ('seafood', 2), ('acoustic', 2), ('addicted', 2), ('brakes', 2), ('mercedes', 2), ('ruehl', 2), ('diplomacy', 2), ('deported', 2), ('expendables', 2), ('frenzy', 2), ('populism', 2), ('seamlessly', 2), ('racket', 2), ('bout', 2), ('interruption', 2), ('evacuate', 2), ('mudslide', 2), ('session', 2), ('partnership', 2), ('karl', 2), ('determining', 2), ('bubbles', 2), ('terribly', 2), ('stalls', 2), ('regressive', 2), ('tailored', 2), ('vigil', 2), ('rupture', 2), ('ibiza', 2), ('drains', 2), ('retold', 2), ('vergara', 2), ('dietary', 2), ('distrust', 2), ('skilled', 2), ('insect', 2), ('toadstool', 2), ('sacking', 2), ('input', 2), ('dazzle', 2), ('rickles', 2), ('shutting', 2), ('bulldogs', 2), ('brandy', 2), ('lantern', 2), ('motawi', 2), ('bins', 2), ('port', 2), ('trench', 2), ('continuous', 2), ('serpent', 2), ('demo', 2), ('astonishing', 2), ('tasty', 2), ('iceland', 2), ('bulb', 2), ('adjunct', 2), ('scholars', 2), ('blaster', 2), ('wilmer', 2), ('valderrama', 2), ('mick', 2), ('mulvaney', 2), ('fooled', 2), ('descending', 2), ('rambling', 2), ('bares', 2), ('amas', 2), ('wits', 2), ('endgame', 2), ('excellence', 2), ('lobbying', 2), ('erections', 2), ('wilde', 2), ('verse', 2), ('mimic', 2), ('murderers', 2), ('wong', 2), ('spews', 2), ('alligator', 2), ('gayer', 2), ('masked', 2), ('heckler', 2), ('swimmers', 2), ('emancipated', 2), ('faggot', 2), ('permits', 2), ('denuclearization', 2), ('glade', 2), ('17th', 2), ('despised', 2), ('smuggling', 2), ('drunkenly', 2), ('fictional', 2), ('den', 2), ('isgt', 2), ('tasked', 2), ('macaroni', 2), ('brent', 2), ('bronx', 2), ('manchester', 2), ('corey', 2), ('scan', 2), ('quentin', 2), ('uma', 2), ('thurman', 2), ('caves', 2), ('twitterverse', 2), ('sum', 2), ('unnecessary', 2), ('rejection', 2), ('lester', 2), ('holt', 2), ('chose', 2), ('tanker', 2), ('brags', 2), ('impacting', 2), ('reverses', 2), ('coolest', 2), ('illuminate', 2), ('albert', 2), ('negotiate', 2), ('convey', 2), ('fuckers', 2), ('firefight', 2), ('fueled', 2), ('cholera', 2), ('nationalists', 2), ('truthful', 2), ('psych', 2), ('julianne', 2), ('chanel', 2), ('outback', 2), ('bittersweet', 2), ('closures', 2), ('radiator', 2), ('radar', 2), ('corrects', 2), ('policing', 2), ('authored', 2), ('trivia', 2), ('loneliness', 2), ('plates', 2), ('sylvester', 2), ('stallone', 2), ('impaled', 2), ('wicker', 2), ('emanates', 2), ('chloe', 2), ('gnar', 2), ('vain', 2), ('ultrasound', 2), ('appropriations', 2), ('carnivores', 2), ('monkfish', 2), ('rogen', 2), ('overpopulation', 2), ('windshield', 2), ('legged', 2), ('stool', 2), ('humongous', 2), ('whiteboard', 2), ('largemouth', 2), ('midwestern', 2), ('mourning', 2), ('centered', 2), ('exoskeleton', 2), ('mutters', 2), ('measuring', 2), ('oprah', 2), ('rabbi', 2), ('camaros', 2), ('marginalized', 2), ('krieger', 2), ('stride', 2), ('cruises', 2), ('eyesore', 2), ('rodrigo', 2), ('tara', 2), ('turret', 2), ('maximum', 2), ('prima', 2), ('herb', 2), ('criminalize', 2), ('drowsy', 2), ('frontrunner', 2), ('weasel', 2), ('teeny', 2), ('confronting', 2), ('payne', 2), ('victor', 2), ('adrift', 2), ('mvps', 2), ('captor', 2), ('statewide', 2), ('concede', 2), ('thousand', 2), ('bunny', 2), ('methods', 2), ('enzyme', 2), ('mumford', 2), ('iscandal', 2), ('handwritten', 2), ('elaine', 2), ('chao', 2), ('skunk', 2), ('milan', 2), ('ing', 2), ('casualties', 2), ('encrypted', 2), ('nunberg', 2), ('needy', 2), ('compounds', 2), ('goodness', 2), ('reclaim', 2), ('corrugated', 2), ('migration', 2), ('violated', 2), ('staunch', 2), ('premature', 2), ('ghastly', 2), ('labour', 2), ('istanbul', 2), ('attracts', 2), ('disoriented', 2), ('creme', 2), ('rickman', 2), ('circumstances', 2), ('sketches', 2), ('pledged', 2), ('dwell', 2), ('indianapolis', 2), ('doppelgänger', 2), ('vivid', 2), ('pta', 2), ('inherent', 2), ('traded', 2), ('succumbs', 2), ('stylist', 2), ('pajamas', 2), ('possess', 2), ('spares', 2), ('tormund', 2), ('epitome', 2), ('waking', 2), ('adler', 2), ('reinforced', 2), ('cautiously', 2), ('plight', 2), ('hadespicable', 2), ('clif', 2), ('governments', 2), ('decaying', 2), ('revitalized', 2), ('masochists', 2), ('crunchy', 2), ('schilling', 2), ('posits', 2), ('nepotism', 2), ('hb2', 2), ('firmly', 2), ('linkedin', 2), ('traveled', 2), ('champ', 2), ('papal', 2), ('beguiling', 2), ('shaming', 2), ('reedus', 2), ('merriam', 2), ('dictionary', 2), ('destroyer', 2), ('predictably', 2), ('memes', 2), ('cluster', 2), ('gravestone', 2), ('infectious', 2), ('retarded', 2), ('talented', 2), ('restoring', 2), ('gymnastics', 2), ('contrarian', 2), ('approaching', 2), ('shackled', 2), ('lebowski', 2), ('irl', 2), ('amona', 2), ('istrong', 2), ('chorus', 2), ('particular', 2), ('ritalin', 2), ('unveiled', 2), ('hound', 2), ('existential', 2), ('washing', 2), ('shortcomings', 2), ('pornhub', 2), ('alphabet', 2), ('cheetah', 2), ('primal', 2), ('portable', 2), ('occupation', 2), ('tyrannical', 2), ('jumpin', 2), ('nielsen', 2), ('kelley', 2), ('finishing', 2), ('skeletons', 2), ('interfaith', 2), ('declare', 2), ('thirst', 2), ('judged', 2), ('institutionalized', 2), ('albums', 2), ('rendition', 2), ('concerts', 2), ('clarence', 2), ('bassist', 2), ('gardner', 2), ('sellout', 2), ('gentleman', 2), ('lube', 2), ('restless', 2), ('clarissa', 2), ('sprite', 2), ('sensitive', 2), ('admiral', 2), ('truths', 2), ('cameo', 2), ('thor', 2), ('lobsters', 2), ('strips', 2), ('argues', 2), ('16th', 2), ('melanie', 2), ('bigots', 2), ('polarized', 2), ('translator', 2), ('emphasizes', 2), ('balvin', 2), ('nicky', 2), ('canvas', 2), ('wiz', 2), ('expresses', 2), ('unbalanced', 2), ('fishes', 2), ('caddy', 2), ('belgrade', 2), ('kuwait', 2), ('burmese', 2), ('python', 2), ('suburban', 2), ('secrecy', 2), ('cheetos', 2), ('steady', 2), ('ordeal', 2), ('intention', 2), ('happier', 2), ('construct', 2), ('natives', 2), ('trucker', 2), ('flattered', 2), ('negotiations', 2), ('consumed', 2), ('bobbi', 2), ('plotting', 2), ('iserious', 2), ('reshaping', 2), ('vilify', 2), ('hatchet', 2), ('spits', 2), ('nigerian', 2), ('microphone', 2), ('helplessly', 2), ('acclaimed', 2), ('flare', 2), ('usain', 2), ('bolt', 2), ('deepens', 2), ('dieting', 2), ('mailbox', 2), ('squat', 2), ('plantation', 2), ('emperor', 2), ('kinky', 2), ('balding', 2), ('whiteness', 2), ('whim', 2), ('cbo', 2), ('ample', 2), ('lobbyists', 2), ('dubious', 2), ('toothpaste', 2), ('sneak', 2), ('brazilians', 2), ('synergy', 2), ('tomb', 2), ('cara', 2), ('hairstyles', 2), ('retelling', 2), ('kubrick', 2), ('unit', 2), ('audiobook', 2), ('glamour', 2), ('unused', 2), ('pencils', 2), ('boutique', 2), ('shreds', 2), ('baker', 2), ('declaration', 2), ('radically', 2), ('fashions', 2), ('snowman', 2), ('horseman', 2), ('sorrow', 2), ('dow', 2), ('insecurity', 2), ('mickey', 2), ('banker', 2), ('waffles', 2), ('playful', 2), ('surging', 2), ('batteries', 2), ('milestone', 2), ('nihilistic', 2), ('fad', 2), ('waaah', 2), ('monumental', 2), ('housekeeper', 2), ('sassy', 2), ('beautifully', 2), ('americana', 2), ('chemicals', 2), ('schiavo', 2), ('operations', 2), ('centuries', 2), ('lava', 2), ('devour', 2), ('stacked', 2), ('reiser', 2), ('hedgehog', 2), ('yellow', 2), ('scrawled', 2), ('damore', 2), ('ego', 2), ('icbm', 2), ('stallion', 2), ('leopard', 2), ('wronged', 2), ('submarine', 2), ('stressing', 2), ('tsa', 2), ('ineffective', 2), ('shall', 2), ('fx', 2), ('porno', 2), ('unnamed', 2), ('variant', 2), ('ramsay', 2), ('markers', 2), ('ukrainian', 2), ('uneducated', 2), ('materials', 2), ('scumbag', 2), ('oops', 2), ('voicemail', 2), ('propose', 2), ('booths', 2), ('marcoses', 2), ('scheduling', 2), ('hannah', 2), ('dumping', 2), ('madeleine', 2), ('albright', 2), ('shitting', 2), ('redbox', 2), ('cod', 2), ('reeling', 2), ('enforce', 2), ('bailiff', 2), ('relatable', 2), ('kristina', 2), ('mcadams', 2), ('caution', 2), ('contribution', 2), ('enjoyed', 2), ('dana', 2), ('loesch', 2), ('regarding', 2), ('selfish', 2), ('merely', 2), ('corny', 2), ('xavier', 2), ('dolan', 2), ('dojo', 2), ('plummer', 2), ('captivating', 2), ('childfree', 2), ('dinners', 2), ('beheading', 2), ('install', 2), ('realization', 2), ('timmy', 2), ('screenwriting', 2), ('okays', 2), ('provisions', 2), ('congratulates', 2), ('egyptians', 2), ('polled', 2), ('constitutionality', 2), ('stalin', 2), ('larson', 2), ('tropical', 2), ('icons', 2), ('ruptured', 2), ('humiliation', 2), ('rowland', 2), ('intolerant', 2), ('suggestive', 2), ('profanity', 2), ('spare', 2), ('briar', 2), ('bracing', 2), ('chita', 2), ('rivera', 2), ('heap', 2), ('brewers', 2), ('pratt', 2), ('abusers', 2), ('devises', 2), ('kozlewski', 2), ('draftkings', 2), ('whoa', 2), ('juan', 2), ('hank', 2), ('welder', 2), ('manageable', 2), ('falsifying', 2), ('destinations', 2), ('bigotry', 2), ('operate', 2), ('encased', 2), ('vader', 2), ('hamsters', 2), ('vr', 2), ('coupon', 2), ('auctioneer', 2), ('phrases', 2), ('reinventing', 2), ('pileup', 2), ('rollins', 2), ('silences', 2), ('defeated', 2), ('towers', 2), ('crippled', 2), ('roosevelt', 2), ('affirmations', 2), ('fusion', 2), ('infiltrates', 2), ('ahca', 2), ('blac', 2), ('descends', 2), ('nots', 2), ('glaciers', 2), ('squeezes', 2), ('preceded', 2), ('scallops', 2), ('leftist', 2), ('catacombs', 2), ('abbas', 2), ('admission', 2), ('schemes', 2), ('territory', 2), ('ivf', 2), ('ditched', 2), ('madrid', 2), ('applauds', 2), ('steer', 2), ('newsroom', 2), ('homer', 2), ('primarily', 2), ('boris', 2), ('jealousy', 2), ('induced', 2), ('crusted', 2), ('handwriting', 2), ('vortex', 2), ('robbie', 2), ('defying', 2), ('millennium', 2), ('defeats', 2), ('vitter', 2), ('shamanism', 2), ('helms', 2), ('posterity', 2), ('jihadist', 2), ('feces', 2), ('icu', 2), ('index', 2), ('handcuffed', 2), ('jingle', 2), ('camel', 2), ('amother', 2), ('texans', 2), ('streetcar', 2), ('fender', 2), ('lili', 2), ('enviros', 2), ('chimes', 2), ('carnivorous', 2), ('wallace', 2), ('dished', 2), ('swine', 2), ('versace', 1), ('thorny', 1), ('presser', 1), ('hadull', 1), ('barcelona', 1), ('smeared', 1), ('drugged', 1), ('arlington', 1), ('nemtsov', 1), ('gillian', 1), ('jacobs', 1), ('snafu', 1), ('poached', 1), ('lurk', 1), ('sandboxes', 1), ('altoid', 1), ('sails', 1), ('selig', 1), ('counted', 1), ('moviegoers', 1), ('stretcher', 1), ('guarantee', 1), ('undeterred', 1), ('nien', 1), ('nunb', 1), ('shooed', 1), ('waterslide', 1), ('appraised', 1), ('draymond', 1), ('118', 1), ('48', 1), ('untangling', 1), ('laboratory', 1), ('schooling', 1), ('fosters', 1), ('chokeholds', 1), ('mtm', 1), ('filmmaker', 1), ('cortex', 1), ('pga', 1), ('impacts', 1), ('disrobing', 1), ('nightingale', 1), ('vid', 1), ('morales', 1), ('kaia', 1), ('posh', 1), ('packaging', 1), ('2025', 1), ('290', 1), ('poking', 1), ('flushed', 1), ('libertarians', 1), ('enlistment', 1), ('thoughtfully', 1), ('fells', 1), ('chromat', 1), ('rappers', 1), ('muse', 1), ('reincarnated', 1), ('phan', 1), ('bestie', 1), ('ricky', 1), ('gervais', 1), ('hubbard', 1), ('scientologist', 1), ('procreative', 1), ('ne', 1), ('commuter', 1), ('sarin', 1), ('scoliosis', 1), ('retailer', 1), ('bitches', 1), ('fletch', 1), ('labute', 1), ('rodents', 1), ('leverage', 1), ('kangaroos', 1), ('feelers', 1), ('uplift', 1), ('seas', 1), ('fondest', 1), ('unseating', 1), ('gouging', 1), ('malibu', 1), ('belting', 1), ('gremlin', 1), ('reasonably', 1), ('portioned', 1), ('ventilator', 1), ('lancelot', 1), ('retweets', 1), ('insulating', 1), ('muniz', 1), ('amalcolm', 1), ('3822', 1), ('dominic', 1), ('casulli', 1), ('cited', 1), ('scuffle', 1), ('rubiobot', 1), ('sederer', 1), ('hadsm', 1), ('legitimately', 1), ('purina', 1), ('islovenly', 1), ('chides', 1), ('touting', 1), ('wasp', 1), ('swimsuits', 1), ('1981', 1), ('disgrace', 1), ('secular', 1), ('timelapse', 1), ('bain', 1), ('slavin', 1), ('val', 1), ('chmerkovskiy', 1), ('viall', 1), ('demonizes', 1), ('839', 1), ('947', 1), ('som', 1), ('spotlighting', 1), ('clairvoyant', 1), ('vaughn', 1), ('kenan', 1), ('hid', 1), ('oxy', 1), ('decayed', 1), ('badger', 1), ('mantel', 1), ('jodie', 1), ('seediest', 1), ('revisionist', 1), ('genomic', 1), ('technonlogy', 1), ('uaw', 1), ('fca', 1), ('declaring', 1), ('hooded', 1), ('potomac', 1), ('naptime', 1), ('oratory', 1), ('nilla', 1), ('growers', 1), ('preservation', 1), ('upkeep', 1), ('sidebar', 1), ('tunisian', 1), ('blink', 1), ('ahs', 1), ('honorary', 1), ('scavenger', 1), ('systematic', 1), ('allied', 1), ('scarf', 1), ('brookstone', 1), ('lyricist', 1), ('barlow', 1), ('200k', 1), ('cams', 1), ('chattering', 1), ('interlude', 1), ('dogging', 1), ('minus', 1), ('suede', 1), ('artie', 1), ('lange', 1), ('turbans', 1), ('proximity', 1), ('carmelo', 1), ('sprinter', 1), ('festivities', 1), ('wagner', 1), ('strides', 1), ('corridors', 1), ('powerlessness', 1), ('cements', 1), ('bff', 1), ('headset', 1), ('spooktacular', 1), ('coordinator', 1), ('pellets', 1), ('countdown', 1), ('decks', 1), ('sox', 1), ('undercuts', 1), ('infidelities', 1), ('undresses', 1), ('gorillagram', 1), ('inaction', 1), ('framework', 1), ('whoopi', 1), ('goldberg', 1), ('cucumber', 1), ('purely', 1), ('sherman', 1), ('alexie', 1), ('noise', 1), ('correspondent', 1), ('mohyeldin', 1), ('ditka', 1), ('boulders', 1), ('heifer', 1), ('emp', 1), ('disable', 1), ('devices', 1), ('preaching', 1), ('xmasgiftsfromtrump', 1), ('progressed', 1), ('pun', 1), ('weathered', 1), ('additives', 1), ('digest', 1), ('watertown', 1), ('rapture', 1), ('lumber', 1), ('sunmine', 1), ('overjoyed', 1), ('mcmuffins', 1), ('safran', 1), ('foer', 1), ('skydiver', 1), ('aikins', 1), ('parachute', 1), ('orkin', 1), ('presex', 1), ('kowtow', 1), ('reffed', 1), ('pogue', 1), ('levee', 1), ('fluent', 1), ('mandarin', 1), ('huang', 1), ('hadope', 1), ('libel', 1), ('goofball', 1), ('solves', 1), ('upbraidings', 1), ('scoffs', 1), ('lancet', 1), ('grasshopper', 1), ('thorax', 1), ('freemasons', 1), ('scold', 1), ('amudbound', 1), ('leagues', 1), ('wtc', 1), ('vfw', 1), ('friggin', 1), ('dramatize', 1), ('menendez', 1), ('sprained', 1), ('mauling', 1), ('skipped', 1), ('beatty', 1), ('tsarnaevs', 1), ('castros', 1), ('smb', 1), ('witches', 1), ('3m', 1), ('protective', 1), ('foam', 1), ('plugs', 1), ('451', 1), ('asteroid', 1), ('plumber', 1), ('modi', 1), ('speedy', 1), ('dryers', 1), ('snapper', 1), ('voicing', 1), ('pastries', 1), ('pulses', 1), ('edm', 1), ('deploying', 1), ('focusing', 1), ('bogosian', 1), ('avenged', 1), ('compendium', 1), ('812', 1), ('683', 1), ('asterisks', 1), ('nooses', 1), ('delaware', 1), ('lined', 1), ('unbeleafably', 1), ('icantbreathe', 1), ('bisquick', 1), ('impossibly', 1), ('pie\\x99', 1), ('isymbol', 1), ('dozing', 1), ('outstanding', 1), ('balsam', 1), ('buttermilk', 1), ('weiwei', 1), ('commemorates', 1), ('uno', 1), ('kosher', 1), ('jada', 1), ('pinkett', 1), ('dispatch', 1), ('shinto', 1), ('priestess', 1), ('edging', 1), ('glued', 1), ('afi', 1), ('docs', 1), ('bogetti', 1), ('meaningless', 1), ('farce', 1), ('hazen', 1), ('underestimated', 1), ('adrenal', 1), ('freestyles', 1), ('inconveniences', 1), ('npt', 1), ('bloodshot', 1), ('holcomb', 1), ('virtues', 1), ('hospitality', 1), ('backers', 1), ('1939–1940', 1), ('chronicle', 1), ('revisits', 1), ('teeming', 1), ('amacarena', 1), ('tipped', 1), ('hadorm', 1), ('browsed', 1), ('somers', 1), ('thighmaster', 1), ('isaac', 1), ('hamlet', 1), ('dirtiest', 1), ('spieth', 1), ('willett', 1), ('climber', 1), ('denouncement', 1), ('kumbaya', 1), ('wallflower', 1), ('verb', 1), ('noun', 1), ('prepositional', 1), ('collaborative', 1), ('delegitimize', 1), ('rigging', 1), ('glasgow', 1), ('concertgoer', 1), ('clauses', 1), ('uzbekistan', 1), ('isolve', 1), ('rehabilitate', 1), ('buckley', 1), ('voguing', 1), ('ruben', 1), ('studdard', 1), ('wafts', 1), ('miniature', 1), ('hannitys', 1), ('kellie', 1), ('pickler', 1), ('coloradans', 1), ('deregistered', 1), ('defied', 1), ('cylinders', 1), ('quadruple', 1), ('repairing', 1), ('hellish', 1), ('chalked', 1), ('1015', 1), ('ire', 1), ('brownribboncampaign', 1), ('thorogood', 1), ('licensed', 1), ('diversify', 1), ('darrelle', 1), ('revis', 1), ('houseboat', 1), ('buick', 1), ('betting', 1), ('iced', 1), ('garza', 1), ('undeserved', 1), ('studying', 1), ('mathematics', 1), ('slipping', 1), ('fanciful', 1), ('suspending', 1), ('infographic', 1), ('copenhagen', 1), ('impersonates', 1), ('xenomorphs', 1), ('incompatible', 1), ('113', 1), ('danica', 1), ('roem', 1), ('acknowledged', 1), ('walling', 1), ('goth', 1), ('birdhouse', 1), ('vooms', 1), ('yorkshire', 1), ('monogrammed', 1), ('introvert', 1), ('jauregui', 1), ('cubans', 1), ('lukewarm', 1), ('glassdoor', 1), ('scampis', 1), ('cutlery', 1), ('nes', 1), ('rearranged', 1), ('americans\\x97nations', 1), ('alphabetically', 1), ('wheaton', 1), ('coupling', 1), ('insulting', 1), ('disbelief', 1), ('unrewarded', 1), ('annotations', 1), ('amillennials', 1), ('pageviews', 1), ('beaver', 1), ('org', 1), ('cart', 1), ('madcap', 1), ('zany', 1), ('hijinks', 1), ('cultures', 1), ('perks', 1), ('louise', 1), ('munson', 1), ('playwright', 1), ('hd', 1), ('williamson', 1), ('cleats', 1), ('snared', 1), ('patrolmen', 1), ('uncovered', 1), ('debra', 1), ('winded', 1), ('bootleg', 1), ('waved', 1), ('hardest', 1), ('cupid', 1), ('roses', 1), ('disavows', 1), ('internment', 1), ('panelists', 1), ('rounding', 1), ('dreamer', 1), ('amanhood', 1), ('brokaw', 1), ('pervert', 1), ('toyotathon', 1), ('communication', 1), ('skinematography', 1), ('swooning', 1), ('rebukes', 1), ('geologic', 1), ('bae', 1), ('bizkit', 1), ('stacks', 1), ('grapefruit', 1), ('meowing', 1), ('plural', 1), ('headaches', 1), ('communicating', 1), ('rosalynn', 1), ('gadfly', 1), ('commentary', 1), ('puppets', 1), ('hundred', 1), ('rebecca', 1), ('randstad', 1), ('searing', 1), ('cryptocurrency', 1), ('meara', 1), ('glimpses', 1), ('syllable', 1), ('dancy', 1), ('vlogger', 1), ('istretch', 1), ('reverberate', 1), ('amen', 1), ('rommel', 1), ('hummel', 1), ('slushing', 1), ('fade', 1), ('conversationalist', 1), ('hentai', 1), ('hootie', 1), ('blowfish', 1), ('persists', 1), ('hadeep', 1), ('transcript', 1), ('tabloid', 1), ('assumes', 1), ('259', 1), ('blurry', 1), ('pg', 1), ('borneo', 1), ('silmarillion', 1), ('bowlmate', 1), ('brawls', 1), ('legalizing', 1), ('ifttt', 1), ('prostate', 1), ('gizmos', 1), ('psilocybin', 1), ('mindlessly', 1), ('lemming', 1), ('legionnaire', 1), ('assertion', 1), ('neurons', 1), ('imperioli', 1), ('unapologetic', 1), ('sarajevo', 1), ('stager', 1), ('dolby', 1), ('camcorder', 1), ('sleek', 1), ('hollister', 1), ('consolidating', 1), ('wikiconstitution', 1), ('handjob', 1), ('whine', 1), ('bitten', 1), ('radioactive', 1), ('sloth', 1), ('quake', 1), ('unconsciousness', 1), ('anesthesiologist', 1), ('protector', 1), ('assemble', 1), ('misunderstood', 1), ('sociable', 1), ('beatifies', 1), ('inked', 1), ('masterful', 1), ('istands', 1), ('nonbinding', 1), ('snapshots', 1), ('isquad', 1), ('demonstrated', 1), ('istability', 1), ('competence', 1), ('placing', 1), ('teas', 1), ('painless', 1), ('isame', 1), ('83rd', 1), ('nolan', 1), ('raffling', 1), ('seyfried', 1), ('lanthanum', 1), ('voltaggio', 1), ('fer', 1), ('policewoman', 1), ('flashed', 1), ('vacancy', 1), ('hipsters', 1), ('lara', 1), ('boyle', 1), ('upfront', 1), ('riverboat', 1), ('horseracing', 1), ('relive', 1), ('chakras', 1), ('prestigious', 1), ('abiding', 1), ('aviva', 1), ('disrupting', 1), ('cabins', 1), ('jeanette', 1), ('strobe', 1), ('terrorizes', 1), ('vaulter', 1), ('classifieds', 1), ('cowbell', 1), ('richrath', 1), ('reo', 1), ('speedwagon', 1), ('defined', 1), ('bookworms', 1), ('shareholder', 1), ('beastie', 1), ('unorthodox', 1), ('300th', 1), ('ledecky', 1), ('stamina', 1), ('dashing', 1), ('foreplay', 1), ('unrealistic', 1), ('multifaceted', 1), ('monologues', 1), ('obliterates', 1), ('tenison', 1), ('maman', 1), ('bébé', 1), ('churchgoing', 1), ('widows', 1), ('franks', 1), ('hotdogs', 1), ('hadonut', 1), ('medicruelty', 1), ('rattan', 1), ('elly', 1), ('radicalized', 1), ('surpassed', 1), ('marlboro', 1), ('tumblr', 1), ('565', 1), ('pythons', 1), ('creepily', 1), ('serch', 1), ('backdrop', 1), ('soften', 1), ('enhancing', 1), ('waiver', 1), ('shaft', 1), ('spanx', 1), ('shapewear', 1), ('apoplectic', 1), ('factions', 1), ('grumpy', 1), ('esophageal', 1), ('mckinney', 1), ('sheedy', 1), ('sage', 1), ('allison', 1), ('schmitt', 1), ('boitano', 1), ('sobs', 1), ('401', 1), ('soups', 1), ('cookbook', 1), ('hostings', 1), ('obvi', 1), ('rollercoaster', 1), ('ingesting', 1), ('a1', 1), ('nouns', 1), ('turing', 1), ('jumped', 1), ('jpmorgan', 1), ('stearns', 1), ('byrd', 1), ('imploded', 1), ('elijah', 1), ('notable', 1), ('tenured', 1), ('1967', 1), ('latinas', 1), ('outpouring', 1), ('mineral', 1), ('mets', 1), ('alderson', 1), ('istormi', 1), ('grassroots', 1), ('sprung', 1), ('greenwald', 1), ('pudgy', 1), ('rosy', 1), ('cheeks', 1), ('fritter', 1), ('caress', 1), ('buffs', 1), ('ridicules', 1), ('annihilate', 1), ('hpps', 1), ('walt', 1), ('brushing', 1), ('epcot', 1), ('hoods', 1), ('plethora', 1), ('embarrassingly', 1), ('hymns', 1), ('sung', 1), ('pyer', 1), ('schweitzer', 1), ('underdraft', 1), ('negativity', 1), ('joanna', 1), ('gaines', 1), ('clarify', 1), ('windsor', 1), ('authorizing', 1), ('ispy', 1), ('fingernail', 1), ('whisk', 1), ('tolerant', 1), ('linking', 1), ('crumpled', 1), ('flouting', 1), ('nda', 1), ('cougars', 1), ('basks', 1), ('errands', 1), ('bloodstream', 1), ('blitzes', 1), ('sob', 1), ('hobbit', 1), ('solstice', 1), ('imminent', 1), ('superfan', 1), ('miter', 1), ('faceshield', 1), ('comply', 1), ('chavez', 1), ('bloodless', 1), ('exhibitionist', 1), ('isustainable', 1), ('mofo', 1), ('nationally', 1), ('warsaw', 1), ('bungling', 1), ('switching', 1), ('cutups', 1), ('hatala', 1), ('larsen', 1), ('walkers', 1), ('décor', 1), ('reopening', 1), ('redo', 1), ('isorority', 1), ('grumblethor', 1), ('mischievous', 1), ('house–fbi', 1), ('erecting', 1), ('channeling', 1), ('belle', 1), ('insatiable', 1), ('droplet', 1), ('windowpane', 1), ('evenly', 1), ('grimacing', 1), ('drafts', 1), ('charley', 1), ('pallid', 1), ('withdrawal', 1), ('tributes', 1), ('gags', 1), ('71st', 1), ('atrocity', 1), ('brevity', 1), ('permit', 1), ('drawbridge', 1), ('ransack', 1), ('arnoth', 1), ('prematurity', 1), ('municipal', 1), ('downtown', 1), ('navajo', 1), ('prevails', 1), ('reservations', 1), ('naturist', 1), ('enchanting', 1), ('tilda', 1), ('swinton', 1), ('splash', 1), ('boyfriends', 1), ('homicides', 1), ('astrazeneca', 1), ('assorted', 1), ('sampler', 1), ('finalists', 1), ('iditarod', 1), ('ferry', 1), ('underworld', 1), ('tomboy', 1), ('nicolas', 1), ('burkinis', 1), ('miele', 1), ('hadamaged', 1), ('persistence', 1), ('cycling', 1), ('manners', 1), ('provoked', 1), ('impregnates', 1), ('hmm', 1), ('pleasantries', 1), ('civics', 1), ('caved', 1), ('understood', 1), ('lifehouse', 1), ('checkpoint', 1), ('delarge', 1), ('droogs', 1), ('amidst', 1), ('thumbtack', 1), ('connie', 1), ('britton', 1), ('smudged', 1), ('breadstick', 1), ('menstruated', 1), ('obtains', 1), ('toured', 1), ('injure', 1), ('sauna', 1), ('imaginable', 1), ('baaaaack', 1), ('couscous', 1), ('zhang', 1), ('ziyi', 1), ('flursday', 1), ('tore', 1), ('oust', 1), ('schneiderman', 1), ('baseless', 1), ('reciprocated', 1), ('mummy', 1), ('batch', 1), ('slimy', 1), ('webb', 1), ('cocksucker', 1), ('motherfucker', 1), ('blazes', 1), ('zenefits', 1), ('stairwells', 1), ('enigmatic', 1), ('josef', 1), ('koudelka', 1), ('janna', 1), ('outed', 1), ('cashiers', 1), ('negligent', 1), ('oaf', 1), ('sloppily', 1), ('maduro', 1), ('mousy', 1), ('sexpot', 1), ('willis', 1), ('leto', 1), ('invocations', 1), ('swalwell', 1), ('evident', 1), ('packet', 1), ('competitive', 1), ('ascetic', 1), ('cüneyt', 1), ('arkin', 1), ('whoisdsharp', 1), ('violin', 1), ('infiltrated', 1), ('iscandalous', 1), ('continents', 1), ('drifted', 1), ('mulan', 1), ('ps4', 1), ('pisses', 1), ('wilford', 1), ('brimley', 1), ('mariana', 1), ('hanger', 1), ('cliché', 1), ('reassured', 1), ('raisinets', 1), ('coffers', 1), ('aruban', 1), ('sunrise', 1), ('joyous', 1), ('eid', 1), ('ugaaso', 1), ('abukar', 1), ('boocow', 1), ('mogadishu', 1), ('convictions', 1), ('passports', 1), ('grapples', 1), ('hadraw', 1), ('hi', 1), ('veggie', 1), ('eaters', 1), ('speculation', 1), ('plunger', 1), ('collapsible', 1), ('badtz', 1), ('maru', 1), ('sanrio', 1), ('clogs', 1), ('sectarian', 1), ('authoritarianism', 1), ('bahrain', 1), ('famine', 1), ('excercise', 1), ('lighter', 1), ('lipped', 1), ('bulbous', 1), ('deformed', 1), ('creatures', 1), ('moyers', 1), ('fireeye', 1), ('boxers', 1), ('cloaca', 1), ('deficiency', 1), ('flipped', 1), ('reprehensibly', 1), ('mohawked', 1), ('plutocratic', 1), ('smitten', 1), ('slo', 1), ('classrooms', 1), ('terrorize', 1), ('scooby', 1), ('doo', 1), ('latifah', 1), ('faints', 1), ('escapee', 1), ('bystanding', 1), ('trybeatingmelightly', 1), ('heckles', 1), ('aqsa', 1), ('neurosurgeon', 1), ('heckled', 1), ('jeffery', 1), ('zales', 1), ('midair', 1), ('caveats', 1), ('irresponsible', 1), ('giggles', 1), ('preventing', 1), ('amadmen', 1), ('urination', 1), ('poring', 1), ('texan', 1), ('poke', 1), ('norton', 1), ('udonis', 1), ('haslem', 1), ('pollute', 1), ('munchos', 1), ('disodium', 1), ('guanylate', 1), ('flea', 1), ('unidentifiable', 1), ('lump', 1), ('gloss', 1), ('farina', 1), ('osteoarthritis', 1), ('squalor', 1), ('abominable', 1), ('betrayer', 1), ('zohan', 1), ('bandit', 1), ('mobil', 1), ('hocus', 1), ('pocus', 1), ('cornrow', 1), ('circumcised', 1), ('artisanal', 1), ('ascends', 1), ('umbrella', 1), ('honesty', 1), ('emile', 1), ('hirsch', 1), ('assigning', 1), ('matchmaker', 1), ('presiding', 1), ('chastises', 1), ('punctuality', 1), ('anticipating', 1), ('retainer', 1), ('restraint', 1), ('ballad', 1), ('sophisticated', 1), ('utility', 1), ('afterbirth', 1), ('harass', 1), ('jebbush', 1), ('hopping', 1), ('tipper', 1), ('combine', 1), ('abomination', 1), ('cupcake', 1), ('skype', 1), ('gett', 1), ('viviane', 1), ('amsalem', 1), ('craziness', 1), ('magma', 1), ('amish', 1), ('quilt', 1), ('traitor', 1), ('silliest', 1), ('hymn', 1), ('zedd', 1), ('barker', 1), ('fixin', 1), ('osbourne', 1), ('fives', 1), ('unwarranted', 1), ('ispectacular', 1), ('restored', 1), ('zz', 1), ('penises', 1), ('belles', 1), ('springer', 1), ('octopussy', 1), ('jourdan', 1), ('snarls', 1), ('disclosing', 1), ('reconcile', 1), ('quagmire', 1), ('dodd', 1), ('ricola', 1), ('embargo', 1), ('panorama', 1), ('gruff', 1), ('cooperating', 1), ('beta', 1), ('hadownvote', 1), ('jawa', 1), ('hadiverse', 1), ('pompom', 1), ('infertile', 1), ('decree', 1), ('lois', 1), ('lerner', 1), ('umbrellas', 1), ('magician', 1), ('fermilab', 1), ('hygiene', 1), ('differentiator', 1), ('ledge', 1), ('alcoholics', 1), ('hadumbing', 1), ('illegally', 1), ('motherfker', 1), ('sitar', 1), ('yordano', 1), ('ventura', 1), ('marte', 1), ('snuggly', 1), ('omnigrain', 1), ('cheerios', 1), ('clive', 1), ('cussler', 1), ('zapp', 1), ('adjusts', 1), ('fervor', 1), ('capitalists', 1), ('hadeserve', 1), ('baptized', 1), ('laramie', 1), ('showbiz', 1), ('puttering', 1), ('biomom', 1), ('preschooler', 1), ('ashtanga', 1), ('waterfall', 1), ('frontrunners', 1), ('dirtydenier', 1), ('kline', 1), ('demonstrators', 1), ('selfridge', 1), ('modifier', 1), ('distractions', 1), ('portlandia', 1), ('mra', 1), ('dory', 1), ('slowing', 1), ('masquerading', 1), ('xenical', 1), ('paxil', 1), ('drixoral', 1), ('lipitor', 1), ('tavist', 1), ('amoms', 1), ('capes', 1), ('carbs', 1), ('cabernet', 1), ('sauvignon', 1), ('dumpling', 1), ('hunted', 1), ('podcasting', 1), ('interventionists', 1), ('bucked', 1), ('morocco', 1), ('mediocre', 1), ('chambers', 1), ('cuter', 1), ('behaivor', 1), ('woefully', 1), ('stocking', 1), ('alibi', 1), ('decorations', 1), ('blending', 1), ('dunbar', 1), ('newsletter', 1), ('biracial', 1), ('ramarley', 1), ('atrocities', 1), ('wizarding', 1), ('diagon', 1), ('alley', 1), ('caters', 1), ('hardee', 1), ('phife', 1), ('dawg', 1), ('powdered', 1), ('unguarded', 1), ('dante', 1), ('virgil', 1), ('contradiction', 1), ('vandalizes', 1), ('asimov', 1), ('favorably', 1), ('apologized', 1), ('statistical', 1), ('plimpton', 1), ('coe', 1), ('dobby', 1), ('generosity', 1), ('woodstock', 1), ('projections', 1), ('laminated', 1), ('continental', 1), ('declined', 1), ('dreadlocked', 1), ('feijoada', 1), ('discontinued', 1), ('goner', 1), ('prenuptial', 1), ('gasps', 1), ('threesome', 1), ('kerr', 1), ('ferries', 1), ('bernanke', 1), ('reassuring', 1), ('tans', 1), ('hymnal', 1), ('nomads', 1), ('skim', 1), ('concoction', 1), ('mathematical', 1), ('skill', 1), ('exclusionary', 1), ('mcveigh', 1), ('versatile', 1), ('horny', 1), ('backgrounds', 1), ('designing', 1), ('quadruplets', 1), ('seagull', 1), ('diarrhea', 1), ('plunged', 1), ('farc', 1), ('amylanta', 1), ('evaluation', 1), ('brazile', 1), ('rodham', 1), ('omar', 1), ('khadr', 1), ('starz', 1), ('trials', 1), ('dreyfus', 1), ('minors', 1), ('aspirin', 1), ('adjectives', 1), ('isnarky', 1), ('destruct', 1), ('oligarch', 1), ('unlikable', 1), ('incredibles', 1), ('muscular', 1), ('rescind', 1), ('directives', 1), ('float', 1), ('courtney', 1), ('manicurist', 1), ('repressed', 1), ('joey', 1), ('goya', 1), ('arteries', 1), ('ranking', 1), ('hadragged', 1), ('catamaran', 1), ('sclerosis', 1), ('elisabeth', 1), ('kübler', 1), ('prioritizes', 1), ('minter', 1), ('gunk', 1), ('lily', 1), ('hefty', 1), ('securities', 1), ('opposed', 1), ('otoole', 1), ('unlocking', 1), ('leap', 1), ('footprints', 1), ('rewrites', 1), ('terminology', 1), ('amelty', 1), ('lexicon', 1), ('miscellaneous', 1), ('cruiser', 1), ('owl', 1), ('flaunting', 1), ('vanish', 1), ('wagons', 1), ('nasal', 1), ('naloxone', 1), ('purring', 1), ('overwhelm', 1), ('apfel', 1), ('synagogues', 1), ('congregants', 1), ('motives', 1), ('luau', 1), ('cunning', 1), ('subtext', 1), ('menstruate', 1), ('swollen', 1), ('spouting', 1), ('chimps', 1), ('endings', 1), ('iverson', 1), ('realest', 1), ('famer', 1), ('confessed', 1), ('assessing', 1), ('screened', 1), ('firefly', 1), ('noisily', 1), ('devours', 1), ('aphid', 1), ('branded', 1), ('billionaires', 1), ('defame', 1), ('waitlist', 1), ('raven', 1), ('screenplay', 1), ('sharia', 1), ('astrological', 1), ('outsiders', 1), ('ellie', 1), ('goulding', 1), ('julie', 1), ('andrews', 1), ('pliers', 1), ('amiracle', 1), ('creaking', 1), ('bargain', 1), ('fleet', 1), ('blossoms', 1), ('unrequited', 1), ('overtipper', 1), ('senile', 1), ('squiggly', 1), ('massaging', 1), ('uppity', 1), ('unfiltered', 1), ('huntley', 1), ('extralegal', 1), ('apparatus', 1), ('delirious', 1), ('hallucinates', 1), ('underemployed', 1), ('rejoice', 1), ('speechwriter', 1), ('suavity', 1), ('trenchcoat', 1), ('saddened', 1), ('crumb', 1), ('kellyonmymind', 1), ('gissendaner', 1), ('berk', 1), ('abedin', 1), ('curing', 1), ('gorillas', 1), ('mow', 1), ('ishrink', 1), ('alright', 1), ('hadespacito', 1), ('giggling', 1), ('vibrant', 1), ('blanco', 1), ('hopeless', 1), ('433', 1), ('imitation', 1), ('pagodas', 1), ('repudiate', 1), ('starved', 1), ('influencers', 1), ('hadishonest', 1), ('747', 1), ('attainable', 1), ('geeky', 1), ('yalie', 1), ('lad', 1), ('mosquitos', 1), ('rests', 1), ('chevy', 1), ('incorporate', 1), ('demographics', 1), ('cartgate', 1), ('honduras', 1), ('gerald', 1), ('anglican', 1), ('baklava', 1), ('profiled', 1), ('saran', 1), ('brownie', 1), ('rattlesnakes', 1), ('observed', 1), ('newsguild', 1), ('fencing', 1), ('incumbency', 1), ('enhancement', 1), ('squirts', 1), ('strewn', 1), ('courting', 1), ('carroll', 1), ('samsonite', 1), ('huffing', 1), ('gaseous', 1), ('249', 1), ('sapphire', 1), ('unbearable', 1), ('pennsylvanian', 1), ('ding', 1), ('dong', 1), ('opinionated', 1), ('volley', 1), ('purritos', 1), ('wyoming', 1), ('heats', 1), ('isingle', 1), ('satisfaction', 1), ('charla', 1), ('carcinogenic', 1), ('humbling', 1), ('concussion', 1), ('prairie', 1), ('rezoned', 1), ('nea', 1), ('claes', 1), ('oldenburg', 1), ('duggar', 1), ('dillard', 1), ('hideaways', 1), ('fairey', 1), ('blatantly', 1), ('hademagogue', 1), ('induction', 1), ('automakers', 1), ('hadad', 1), ('lima', 1), ('picketing', 1), ('arbus', 1), ('fugitive', 1), ('heroine', 1), ('dreyfuss', 1), ('cite', 1), ('clause', 1), ('unicyclist', 1), ('sandberg', 1), ('summa', 1), ('laude', 1), ('punxsutawney', 1), ('charmed', 1), ('artweek', 1), ('vidcon', 1), ('restrictive', 1), ('brangelina', 1), ('carved', 1), ('rescuer', 1), ('oily', 1), ('pelicans', 1), ('fordham', 1), ('fractured', 1), ('tundra', 1), ('emptiness', 1), ('mike4763', 1), ('intruder', 1), ('breaths', 1), ('gasoline', 1), ('crank', 1), ('gmail', 1), ('hotmail', 1), ('brains', 1), ('almanac', 1), ('primetime', 1), ('indivisible', 1), ('dew', 1), ('livestock', 1), ('suburbanite', 1), ('invoke', 1), ('bice', 1), ('calendar', 1), ('froth', 1), ('mouthed', 1), ('613th', 1), ('okie', 1), ('dentists', 1), ('rutting', 1), ('backlog', 1), ('ispeaking', 1), ('neill', 1), ('blomkamp', 1), ('hairdresser', 1), ('trance', 1), ('rosary', 1), ('loop', 1), ('realness', 1), ('2036', 1), ('munchstrosity', 1), ('layboratory', 1), ('clot', 1), ('dislodges', 1), ('femoral', 1), ('artery', 1), ('relegated', 1), ('doorways', 1), ('éclairs', 1), ('paleo', 1), ('astray', 1), ('gere', 1), ('pewter', 1), ('violinist', 1), ('garth', 1), ('warehouses', 1), ('2525', 1), ('greedy', 1), ('blockading', 1), ('implies', 1), ('nar', 1), ('unstable', 1), ('kinko', 1), ('switcheroo', 1), ('mackenzie', 1), ('equivalence', 1), ('brittany', 1), ('kwatinetz', 1), ('californians', 1), ('calculated', 1), ('fillings', 1), ('girlboss', 1), ('perpetuates', 1), ('eclair', 1), ('tombstone', 1), ('cheech', 1), ('chong', 1), ('smokin', 1), ('sydney', 1), ('mclaughlin', 1), ('lenient', 1), ('arsenal', 1), ('mientus', 1), ('taekwondo', 1), ('engineers', 1), ('ponytails', 1), ('disinfectant', 1), ('reinforces', 1), ('louisa', 1), ('gornick', 1), ('laundering', 1), ('shriver', 1), ('reforming', 1), ('flandemic', 1), ('impersonate', 1), ('numbness', 1), ('attributed', 1), ('antifa', 1), ('apprehends', 1), ('braless', 1), ('hash', 1), ('topics', 1), ('fingerless', 1), ('outrageously', 1), ('proofreader', 1), ('headlock', 1), ('vicente', 1), ('nannies', 1), ('designated', 1), ('stillbirth', 1), ('emotionless', 1), ('isleeping', 1), ('outs', 1), ('lucasfilm', 1), ('bared', 1), ('ridiculousexcusestostayhome', 1), ('harming', 1), ('lumbersexual', 1), ('awakened', 1), ('factor', 1), ('narrows', 1), ('museums', 1), ('jostens', 1), ('felipe', 1), ('wrongfully', 1), ('employed', 1), ('ergonomic', 1), ('clowns', 1), ('zaatari', 1), ('bald', 1), ('fmr', 1), ('zalmay', 1), ('khalilzad', 1), ('retaken', 1), ('subsidize', 1), ('exported', 1), ('bhp', 1), ('arabic', 1), ('calligraphy', 1), ('knudsen', 1), ('smokers', 1), ('nicer', 1), ('flow', 1), ('paredes', 1), ('suade', 1), ('photoshopped', 1), ('farting', 1), ('revokes', 1), ('disadvantaged', 1), ('macaskill', 1), ('propels', 1), ('intersecting', 1), ('interdisciplinary', 1), ('polishing', 1), ('sculpted', 1), ('alluring', 1), ('myspace', 1), ('jacquie', 1), ('mcnish', 1), ('silcoff', 1), ('aggravated', 1), ('iggy', 1), ('azalea', 1), ('dolezal', 1), ('faction', 1), ('deadpan', 1), ('meticulous', 1), ('weisser', 1), ('brewery', 1), ('robins', 1), ('bouillerie', 1), ('31st', 1), ('shameful', 1), ('lipstick', 1), ('spaz', 1), ('isweetie', 1), ('limestone', 1), ('vanished', 1), ('foolproof', 1), ('affecting', 1), ('suited', 1), ('nutso', 1), ('1743', 1), ('1919', 1), ('rosswood', 1), ('“the', 1), ('dads”', 1), ('undying', 1), ('amounts', 1), ('aww', 1), ('differentiation', 1), ('shareholdaz', 1), ('kleenex', 1), ('inadequately', 1), ('wallets', 1), ('prepaid', 1), ('debit', 1), ('etc', 1), ('photographers', 1), ('186', 1), ('tub', 1), ('tremendous', 1), ('mule', 1), ('fantasizing', 1), ('gorton', 1), ('shortages', 1), ('congressperson', 1), ('entwined', 1), ('receding', 1), ('onscreen', 1), ('dealings', 1), ('350', 1), ('riz', 1), ('wicked', 1), ('wanderlust', 1), ('marc', 1), ('foxconn', 1), ('improper', 1), ('pynchon', 1), ('pains', 1), ('fracturer', 1), ('exceptional', 1), ('smasher', 1), ('indispensable', 1), ('fragmenter', 1), ('ufc', 1), ('1984', 1), ('orwellian', 1), ('afterwards', 1), ('bikers', 1), ('bertha', 1), ('cáceres', 1), ('dmv', 1), ('isharknado', 1), ('pederast', 1), ('komodo', 1), ('iskyfall', 1), ('possum', 1), ('gazes', 1), ('forth', 1), ('rawlings', 1), ('awardee', 1), ('nic', 1), ('leann', 1), ('rimes', 1), ('impatient', 1), ('powerfully', 1), ('extinguishes', 1), ('smog', 1), ('rooting', 1), ('jana', 1), ('barks', 1), ('collie', 1), ('nosebleeds', 1), ('1945', 1), ('prayforpaulgeorge', 1), ('heisman', 1), ('inciting', 1), ('cfl', 1), ('unsportsmanlike', 1), ('bothers', 1), ('radiant', 1), ('belize', 1), ('chuckling', 1), ('katherine', 1), ('heigl', 1), ('starwarschristmascarols', 1), ('lizards', 1), ('cannavale', 1), ('kiper', 1), ('spreadsheet', 1), ('torment', 1), ('jackass', 1), ('peeves', 1), ('incomplete', 1), ('equalizer', 1), ('advertisement', 1), ('doofus', 1), ('iovine', 1), ('cower', 1), ('militiaman', 1), ('messed', 1), ('rwandan', 1), ('actively', 1), ('halting', 1), ('ah', 1), ('longing', 1), ('michaela', 1), ('procter', 1), ('inboxes', 1), ('ribs', 1), ('towering', 1), ('meaty', 1), ('corned', 1), ('backflip', 1), ('mockingjay', 1), ('endures', 1), ('en', 1), ('clues', 1), ('gchats', 1), ('bolts', 1), ('isilicon', 1), ('hunks', 1), ('rearranging', 1), ('forks', 1), ('heartland', 1), ('snazzy', 1), ('feline', 1), ('whiskers', 1), ('luggage', 1), ('vodka', 1), ('lewinsky', 1), ('mariachi', 1), ('ulcers', 1), ('houdini', 1), ('pegida', 1), ('accessories', 1), ('defy', 1), ('expletives', 1), ('gallon', 1), ('sultry', 1), ('distinctly', 1), ('cilantro', 1), ('nastiness', 1), ('giuliana', 1), ('rancic', 1), ('oconnell', 1), ('conceptual', 1), ('cascading', 1), ('stonestreet', 1), ('200th', 1), ('moira', 1), ('mactaggert', 1), ('equine', 1), ('soulcycle', 1), ('lanterns', 1), ('formerly', 1), ('refinancing', 1), ('amaya', 1), ('divergent', 1), ('vindictive', 1), ('virtue', 1), ('hots', 1), ('quieter', 1), ('performances', 1), ('bradbury', 1), ('kindle', 1), ('pixies', 1), ('unsurprisingly', 1), ('pronounced', 1), ('centerfold', 1), ('awkwardness', 1), ('angst', 1), ('aikido', 1), ('franzen', 1), ('sufficiently', 1), ('dynamites', 1), ('funnel', 1), ('chatting', 1), ('sexton', 1), ('stokes', 1), ('deutsch', 1), ('alludes', 1), ('daylong', 1), ('firefox', 1), ('knowshon', 1), ('moreno', 1), ('catalog', 1), ('gimmicky', 1), ('deus', 1), ('machina', 1), ('brosnan', 1), ('geico', 1), ('discontinuing', 1), ('jerked', 1), ('purchaser', 1), ('330', 1), ('invincible', 1), ('entries', 1), ('sacagawea', 1), ('stumble', 1), ('katwe', 1), ('lamelo', 1), ('hooking', 1), ('salamander', 1), ('rediscovered', 1), ('ouster', 1), ('laughable', 1), ('commissions', 1), ('slapped', 1), ('restraining', 1), ('rubik', 1), ('broadband', 1), ('publication', 1), ('shelters', 1), ('conceivable', 1), ('heath', 1), ('ledger', 1), ('steagall', 1), ('wring', 1), ('shovels', 1), ('earthenware', 1), ('erupt', 1), ('elias', 1), ('koteas', 1), ('olinsky', 1), ('messaged', 1), ('sneakers', 1), ('zac', 1), ('efron', 1), ('coddling', 1), ('cornerback', 1), ('2150', 1), ('forensics', 1), ('turvy', 1), ('entrepreneurship', 1), ('overlap', 1), ('synchronized', 1), ('disco', 1), ('malaria', 1), ('countless', 1), ('rhymezone', 1), ('crip', 1), ('firebombed', 1), ('lingered', 1), ('torrential', 1), ('birthright', 1), ('tile', 1), ('backsplash', 1), ('prophecies', 1), ('integrating', 1), ('roma', 1), ('nytimes', 1), ('iman', 1), ('shumpert', 1), ('spokesmodels', 1), ('overenthusiastic', 1), ('smartest', 1), ('travelling', 1), ('mystique', 1), ('breweries', 1), ('205', 1), ('warplanes', 1), ('itunes', 1), ('informing', 1), ('ineptitude', 1), ('strangle', 1), ('velvet', 1), ('welcomed', 1), ('cyberspace', 1), ('grenade', 1), ('launchers', 1), ('ep', 1), ('radicalizing', 1), ('towed', 1), ('pynk', 1), ('treasured', 1), ('heinous', 1), ('evangelicalism', 1), ('decapitations', 1), ('hinder', 1), ('mouseketeer', 1), ('marque', 1), ('lynche', 1), ('frequently', 1), ('funky', 1), ('embezzling', 1), ('dives', 1), ('haphazardly', 1), ('osprey', 1), ('caloric', 1), ('exceeded', 1), ('assassinated', 1), ('hadecision', 1), ('grieco', 1), ('zbt', 1), ('popovich', 1), ('throttle', 1), ('isoulless', 1), ('skimming', 1), ('orioles', 1), ('junkies', 1), ('eyeballs', 1), ('springs', 1), ('mired', 1), ('football—nah', 1), ('kidding', 1), ('mikhail', 1), ('gorbachev', 1), ('ged', 1), ('quiver', 1), ('pufferfish', 1), ('friendless', 1), ('entenmann', 1), ('stimulation', 1), ('fogelberg', 1), ('soothe', 1), ('lite', 1), ('108', 1), ('raspberries', 1), ('berrilicious', 1), ('resting', 1), ('ginger', 1), ('minj', 1), ('peta', 1), ('caffeine', 1), ('colon', 1), ('terminate', 1), ('mormons', 1), ('314', 1), ('sabra', 1), ('cedar', 1), ('spatter', 1), ('arcade', 1), ('iver', 1), ('suave', 1), ('peeved', 1), ('cursing', 1), ('bassem', 1), ('youssef', 1), ('amuslim', 1), ('postmistress', 1), ('thrush', 1), ('embellished', 1), ('drifts', 1), ('freight', 1), ('bidding', 1), ('resolved', 1), ('hadeadpool', 1), ('brolin', 1), ('carabiner', 1), ('rappel', 1), ('spokesperson', 1), ('medvedev', 1), ('powerless', 1), ('wagnerism', 1), ('macon', 1), ('besties', 1), ('chechens', 1), ('applicants', 1), ('saver', 1), ('raffi', 1), ('sillies', 1), ('reda', 1), ('kateb', 1), ('hippocrates', 1), ('hooters', 1), ('iteration', 1), ('combinations', 1), ('goer', 1), ('vanishes', 1), ('muppet', 1), ('smg', 1), ('storytelling', 1), ('grades', 1), ('slovenia', 1), ('girly', 1), ('processes', 1), ('annihilating', 1), ('tragedies', 1), ('fouls', 1), ('narrated', 1), ('malkovich', 1), ('browse', 1), ('gma', 1), ('axact', 1), ('tribunal', 1), ('arsenio', 1), ('tapped', 1), ('pedal', 1), ('forefront', 1), ('1983', 1), ('speedboat', 1), ('overturned', 1), ('whooping', 1), ('cranes', 1), ('perching', 1), ('superstars', 1), ('supermonster', 1), ('wean', 1), ('hadisaster', 1), ('wad', 1), ('ize', 1), ('industries', 1), ('reuses', 1), ('yazidis', 1), ('deavere', 1), ('44th', 1), ('transporting', 1), ('amputees', 1), ('prematurely', 1), ('tmz', 1), ('choppers', 1), ('revelation', 1), ('scattering', 1), ('unbroken', 1), ('cormac', 1), ('flaunts', 1), ('blameless', 1), ('coughs', 1), ('sidelined', 1), ('spiraled', 1), ('outnumbered', 1), ('spearmint', 1), ('censor', 1), ('ejaculation', 1), ('ishameful', 1), ('ark', 1), ('ladykiller', 1), ('denouncing', 1), ('alarms', 1), ('bleak', 1), ('trickortreatin100years', 1), ('panetta', 1), ('midwest', 1), ('burr', 1), ('hayden', 1), ('disputing', 1), ('staging', 1), ('twister', 1), ('117', 1), ('alexandria', 1), ('nickels', 1), ('unhyphenated', 1), ('missionary', 1), ('airtight', 1), ('bunt', 1), ('tribeca', 1), ('kingpins', 1), ('seinfeld', 1), ('boogied', 1), ('mugabe', 1), ('punisher', 1), ('attain', 1), ('rory', 1), ('belittles', 1), ('ammonia', 1), ('implodes', 1), ('cyberbullying', 1), ('podesta', 1), ('barbershop', 1), ('democalypse', 1), ('whuppin', 1), ('solitute', 1), ('standpoint', 1), ('prabal', 1), ('gurung', 1), ('reprimanded', 1), ('rotund', 1), ('maroulis', 1), ('spokeswoman', 1), ('spokeschild', 1), ('mansplained', 1), ('notme', 1), ('nightmarish', 1), ('labyrinthian', 1), ('desires', 1), ('1963', 1), ('tunisia', 1), ('amarry', 1), ('hardball', 1), ('beads', 1), ('molasses', 1), ('midas', 1), ('crossover', 1), ('retrieves', 1), ('newfound', 1), ('broadwell', 1), ('rebellion', 1), ('weekends', 1), ('unpaid', 1), ('recreating', 1), ('restores', 1), ('glaxosmithkline', 1), ('narcicyst', 1), ('kuwtk', 1), ('adventists', 1), ('ordination', 1), ('airlifted', 1), ('keen', 1), ('flees', 1), ('pillsbury', 1), ('broom', 1), ('housewife', 1), ('am4m', 1), ('sodomy', 1), ('passerby', 1), ('restroom', 1), ('phyllis', 1), ('schlafly', 1), ('kingmakers', 1), ('cookout', 1), ('strata', 1), ('merchandise', 1), ('lizard', 1), ('bits', 1), ('serif', 1), ('cutthroat', 1), ('oppress', 1), ('mountainside', 1), ('fickle', 1), ('isole', 1), ('enabling', 1), ('les', 1), ('misérables', 1), ('zenith', 1), ('gamespace', 1), ('trumphair', 1), ('flattering', 1), ('blazers', 1), ('mantras', 1), ('istaff', 1), ('ofiesh', 1), ('kaytlin', 1), ('bailey', 1), ('whitby', 1), ('ascent', 1), ('vedder', 1), ('vultures', 1), ('suffocating', 1), ('beekeeper', 1), ('articulated', 1), ('leia', 1), ('kirkus', 1), ('collections', 1), ('neuroses', 1), ('wringer', 1), ('infested', 1), ('bedbugs', 1), ('underused', 1), ('uptight', 1), ('matron', 1), ('23andme', 1), ('moonwalks', 1), ('reeks', 1), ('chainsaws', 1), ('kingpin', 1), ('alfonso', 1), ('ribeiro', 1), ('avildsen', 1), ('hardwood', 1), ('wahlberg', 1), ('recounting', 1), ('solitaire', 1), ('philandering', 1), ('peeping', 1), ('obs', 1), ('rightist', 1), ('leggings', 1), ('olay', 1), ('moisturized', 1), ('thrills', 1), ('puget', 1), ('pajama', 1), ('bottoms', 1), ('uninvited', 1), ('illustrators', 1), ('depict', 1), ('birthdays', 1), ('258', 1), ('159', 1), ('descended', 1), ('czech', 1), ('lebanese', 1), ('disagrees', 1), ('rhys', 1), ('puzzles', 1), ('newshour', 1), ('restricting', 1), ('nerdiest', 1), ('gamestop', 1), ('fattest', 1), ('mozzarella', 1), ('catfishing', 1), ('spurred', 1), ('appearances', 1), ('goofs', 1), ('boast', 1), ('wookiees', 1), ('ernie', 1), ('telemarketers', 1), ('despises', 1), ('bautista', 1), ('unskewing', 1), ('textured', 1), ('nappy', 1), ('perminators', 1), ('spies', 1), ('inc', 1), ('olbermann', 1), ('py', 1), ('grabber', 1), ('pleas', 1), ('timberwolves', 1), ('cyst', 1), ('poets', 1), ('bloodfest', 1), ('correctness', 1), ('fatties', 1), ('thimble', 1), ('token', 1), ('shoves', 1), ('observing', 1), ('swelling', 1), ('quirky', 1), ('sparked', 1), ('barring', 1), ('weasels', 1), ('compass', 1), ('supersized', 1), ('tff', 1), ('orzabal', 1), ('oyster', 1), ('cracker–wise', 1), ('baruch', 1), ('whitefish', 1), ('aspect', 1), ('airlift', 1), ('isolate', 1), ('excels', 1), ('mis', 1), ('pimped', 1), ('stripping', 1), ('indirectly', 1), ('deflected', 1), ('theda', 1), ('hammel', 1), ('sycophant', 1), ('trickled', 1), ('weirdos', 1), ('breakdancing', 1), ('hadoomsday', 1), ('twelve', 1), ('footsteps', 1), ('134', 1), ('attributes', 1), ('typographical', 1), ('mugshots', 1), ('batboy', 1), ('gumbel', 1), ('ventriloquist', 1), ('uncomprehendingly', 1), ('framers', 1), ('amendments', 1), ('mileage', 1), ('uninspiring', 1), ('outburst', 1), ('pathway', 1), ('interconnected', 1), ('solace', 1), ('fergie', 1), ('tufts', 1), ('nutrition', 1), ('flogged', 1), ('makeshift', 1), ('viewpoint', 1), ('dominating', 1), ('starry', 1), ('gershwin', 1), ('philadelphians', 1), ('brokered', 1), ('wheeldon', 1), ('gershwins', 1), ('beekeeping', 1), ('dinty', 1), ('indifferent', 1), ('trainers', 1), ('biking', 1), ('intensifying', 1), ('murrow', 1), ('dirtbag', 1), ('clenches', 1), ('clapping', 1), ('reversing', 1), ('opting', 1), ('queercore', 1), ('acorns', 1), ('dough', 1), ('schulz', 1), ('easel', 1), ('reworked', 1), ('amonstrous', 1), ('isexy', 1), ('bibhu', 1), ('mohapatra', 1), ('feedback', 1), ('unlawfully', 1), ('tracey', 1), ('ullman', 1), ('subdivisions', 1), ('bloodied', 1), ('bruised', 1), ('kickboxing', 1), ('bangkok', 1), ('pointless', 1), ('junta', 1), ('seller', 1), ('oncologist', 1), ('farberware', 1), ('nonstick', 1), ('amale', 1), ('lament', 1), ('jowl', 1), ('digitization', 1), ('sacrificed', 1), ('stinging', 1), ('padres', 1), ('salivates', 1), ('seedless', 1), ('cortez', 1), ('intriguing', 1), ('nullifying', 1), ('graciously', 1), ('biodegrade', 1), ('earle', 1), ('obi', 1), ('wan', 1), ('kenobi', 1), ('jaskoviak', 1), ('swimwear', 1), ('unedited', 1), ('arboretum', 1), ('hangin', 1), ('plotters', 1), ('chemically', 1), ('freelancer', 1), ('scrape', 1), ('livelihood', 1), ('ishybot', 1), ('roams', 1), ('timothée', 1), ('chalamet', 1), ('perky', 1), ('gopro', 1), ('succinct', 1), ('chronology', 1), ('mumbling', 1), ('bedsore', 1), ('155th', 1), ('dhaka', 1), ('expat', 1), ('arises', 1), ('peach', 1), ('waitresses', 1), ('alerted', 1), ('spaghetti', 1), ('strap', 1), ('gaze', 1), ('bacterial', 1), ('videographer', 1), ('voicemails', 1), ('cop21', 1), ('soreness', 1), ('muffin', 1), ('nu', 1), ('luminaries', 1), ('obscene', 1), ('blindingly', 1), ('cruelly', 1), ('separating', 1), ('cafepress', 1), ('improperly', 1), ('hademolish', 1), ('liberalization', 1), ('radicalism', 1), ('ailing', 1), ('bassett', 1), ('instruction', 1), ('halen', 1), ('rhody', 1), ('amuses', 1), ('café\\x97but', 1), ('suicides', 1), ('fitted', 1), ('hyperrealistic', 1), ('hydroponics', 1), ('weep', 1), ('loews', 1), ('measly', 1), ('nonindigenous', 1), ('craziest', 1), ('sara', 1), ('anesthetizes', 1), ('outbursts', 1), ('segment', 1), ('isuicide', 1), ('135', 1), ('2021', 1), ('winterized', 1), ('congregation', 1), ('freezers', 1), ('catherine', 1), ('zeta', 1), ('zod', 1), ('arepudiate', 1), ('kiddie', 1), ('disrepair', 1), ('commands', 1), ('shalit', 1), ('citations', 1), ('motorists', 1), ('absolving', 1), ('peruvian', 1), ('shockingly', 1), ('knowledgeable', 1), ('reb', 1), ('zalman', 1), ('filmmaking', 1), ('disses', 1), ('mapplethorpe', 1), ('reductions', 1), ('faint', 1), ('bunk', 1), ('tca', 1), ('dodged', 1), ('crusades', 1), ('declassify', 1), ('sneers', 1), ('condoleezza', 1), ('interpreter', 1), ('alyson', 1), ('petticoat', 1), ('unanimous', 1), ('somber', 1), ('respecting', 1), ('kirby', 1), ('costly', 1), ('amoonlight', 1), ('barry', 1), ('meanest', 1), ('conroy', 1), ('taser', 1), ('scalped', 1), ('porsha', 1), ('pulsating', 1), ('saga', 1), ('mobs', 1), ('cocoa', 1), ('prototype', 1), ('yayoi', 1), ('kusama', 1), ('benatar', 1), ('eons', 1), ('hotspots', 1), ('valencia', 1), ('knowles', 1), ('flung', 1), ('ceded', 1), ('educated', 1), ('joss', 1), ('whedon', 1), ('comical', 1), ('groin', 1), ('brunches', 1), ('tiffani', 1), ('thiessen', 1), ('beatboxers', 1), ('gladiator', 1), ('turbo', 1), ('tweetless', 1), ('iheartradio', 1), ('indiscrimination', 1), ('2019', 1), ('fareed', 1), ('zakaria', 1), ('um', 1), ('verifies', 1), ('preconceived', 1), ('winks', 1), ('eggnog', 1), ('mink', 1), ('widely', 1), ('intentional', 1), ('absurdity', 1), ('valuing', 1), ('rewinds', 1), ('trampoline', 1), ('printing', 1), ('nics', 1), ('areciprocity', 1), ('chillingly', 1), ('reappears', 1), ('hadegrading', 1), ('farmlands', 1), ('infighting', 1), ('anaheim', 1), ('mailman', 1), ('bennington', 1), ('clings', 1), ('stubborn', 1), ('hansom', 1), ('cab', 1), ('whip', 1), ('completists', 1), ('resettle', 1), ('cinema', 1), ('inkjet', 1), ('sinead', 1), ('isafe', 1), ('eleanor', 1), ('rigby', 1), ('minidress', 1), ('kindly', 1), ('stfu', 1), ('smuggler', 1), ('honcho', 1), ('homey', 1), ('wellbeing', 1), ('evolves', 1), ('darkened', 1), ('blitz', 1), ('desperation', 1), ('525', 1), ('delivering', 1), ('politicized', 1), ('judiciary', 1), ('reassurances', 1), ('sharpest', 1), ('aftertaste', 1), ('rewriting', 1), ('sparkling', 1), ('marvelous', 1), ('sniffing', 1), ('honeys', 1), ('flails', 1), ('carve', 1), ('isevere', 1), ('neurological', 1), ('accelerator', 1), ('gag', 1), ('sleekest', 1), ('vloggers', 1), ('shamefaced', 1), ('zips', 1), ('pamphlet', 1), ('avenatti', 1), ('gynecologists', 1), ('iuds', 1), ('expel', 1), ('backlogged', 1), ('womenboycotttwitter', 1), ('istreaming', 1), ('nintendo', 1), ('intensely', 1), ('flings', 1), ('smalltalk', 1), ('gaming', 1), ('erects', 1), ('cersei', 1), ('deficiencies', 1), ('shirley', 1), ('refry', 1), ('safes', 1), ('houthi', 1), ('dislike', 1), ('nestlé', 1), ('screwdriver', 1), ('cropped', 1), ('lightyear', 1), ('gaffe', 1), ('butterball', 1), ('uptown', 1), ('beggar', 1), ('boggle', 1), ('pinkerton', 1), ('busters', 1), ('393rd', 1), ('senility', 1), ('regretful', 1), ('nyse', 1), ('piles', 1), ('imparts', 1), ('trumpbacktoschooltips', 1), ('revolvers', 1), ('illegibly', 1), ('gondolier', 1), ('adriatic', 1), ('bitchy', 1), ('swoop', 1), ('quelled', 1), ('prostitution', 1), ('chartreuse', 1), ('bonobo', 1), ('obscured', 1), ('conflicted', 1), ('gentrifying', 1), ('chrysalis', 1), ('gastropub', 1), ('memorializes', 1), ('glosses', 1), ('hinged', 1), ('outperformed', 1), ('extrovert', 1), ('handshake', 1), ('velocity', 1), ('guillotine', 1), ('marcellus', 1), ('courtside', 1), ('pacers', 1), ('gen', 1), ('cynicism', 1), ('killmonger', 1), ('hetero', 1), ('pepe', 1), ('rapes', 1), ('patronizing', 1), ('crazies', 1), ('tapas', 1), ('wh', 1), ('butterworth', 1), ('avenue', 1), ('subvert', 1), ('reclines', 1), ('jade', 1), ('pettyjohn', 1), ('nickelodeon', 1), ('katee', 1), ('sackhoff', 1), ('nitroglycerin', 1), ('chex', 1), ('gingerly', 1), ('grandpas', 1), ('hubby', 1), ('measured', 1), ('preclude', 1), ('overreaction', 1), ('underlying', 1), ('peppermint', 1), ('mocha', 1), ('accommodated', 1), ('screech', 1), ('fibs', 1), ('grabs', 1), ('snatch', 1), ('tensile', 1), ('eastern', 1), ('uninhabitable', 1), ('multipacks', 1), ('vib', 1), ('maids', 1), ('scarfs', 1), ('payoff', 1), ('areshape', 1), ('sauced', 1), ('cheapest', 1), ('breakout', 1), ('wavy', 1), ('loiterer', 1), ('bumped', 1), ('forecloses', 1), ('mobster', 1), ('offerings', 1), ('eisenberg', 1), ('lumbering', 1), ('golem', 1), ('nixonization', 1), ('discount', 1), ('sweets', 1), ('pitching', 1), ('dundee', 1), ('smithereens', 1), ('dinizio', 1), ('muffuletta', 1), ('sensors', 1), ('tarmac', 1), ('pest', 1), ('se', 1), ('wimping', 1), ('spitting', 1), ('underpublicized', 1), ('bindi', 1), ('seedy', 1), ('compilation', 1), ('lyfe', 1), ('pins', 1), ('skittles', 1), ('flirty', 1), ('winters', 1), ('yore', 1), ('mediocrity', 1), ('dirtier', 1), ('folder', 1), ('recidivism', 1), ('tacky', 1), ('segmented', 1), ('rauner', 1), ('surroundings', 1), ('witnessed', 1), ('worrell', 1), ('bellissima', 1), ('disputes', 1), ('overburdened', 1), ('moaning', 1), ('excludes', 1), ('metrosexuality', 1), ('lac', 1), ('megantic', 1), ('biding', 1), ('enabler', 1), ('sharpton', 1), ('ravens', 1), ('steelers', 1), ('aerobic', 1), ('sportscenter', 1), ('teetering', 1), ('sanity', 1), ('kavolius', 1), ('possibilities', 1), ('iskinny', 1), ('sally', 1), ('yates', 1), ('pneumonia', 1), ('varied', 1), ('scholl', 1), ('lace', 1), ('insoles', 1), ('weakling', 1), ('bless', 1), ('sacrifices', 1), ('e3', 1), ('consoles', 1), ('psalm', 1), ('wackier', 1), ('dck', 1), ('selected', 1), ('heady', 1), ('pryor', 1), ('cables', 1), ('oates', 1), ('couches', 1), ('commodore', 1), ('heating', 1), ('placenta', 1), ('hunts', 1), ('arranging', 1), ('circles', 1), ('seabird', 1), ('thousandth', 1), ('marten', 1), ('interfered', 1), ('convent', 1), ('woodrow', 1), ('scotch', 1), ('cigars', 1), ('shortcut', 1), ('quicksand', 1), ('regulating', 1), ('strengthen', 1), ('baking', 1), ('rhea', 1), ('maceris', 1), ('remoteness', 1), ('cloned', 1), ('charm', 1), ('salke', 1), ('sherry', 1), ('lansing', 1), ('muzlim', 1), ('terroist', 1), ('nbd', 1), ('clergy', 1), ('enlightens', 1), ('nidetch', 1), ('arquette', 1), ('rosetta', 1), ('tickle', 1), ('mers', 1), ('holly', 1), ('punny', 1), ('cryptically', 1), ('poo', 1), ('weakening', 1), ('scorecard', 1), ('sandbags', 1), ('dolce', 1), ('gabbana', 1), ('hijabs', 1), ('abayas', 1), ('rams', 1), ('gigantic', 1), ('overcame', 1), ('indulging', 1), ('harpies', 1), ('crostini', 1), ('overpasses', 1), ('retains', 1), ('vestiges', 1), ('tami', 1), ('cupp', 1), ('spurlock', 1), ('accusation', 1), ('hadouble', 1), ('rainbows', 1), ('butterflies', 1), ('hardier', 1), ('litigation', 1), ('dipshit', 1), ('majestically', 1), ('billowing', 1), ('landings', 1), ('frantic', 1), ('sanctioned', 1), ('rapaport', 1), ('motherf', 1), ('ker', 1), ('preemie', 1), ('nicu', 1), ('sunderland', 1), ('concocted', 1), ('scariest', 1), ('quadruples', 1), ('breakthroughs', 1), ('lobs', 1), ('¯ツ', 1), ('¯', 1), ('processor', 1), ('taping', 1), ('rsvps', 1), ('swanson', 1), ('esque', 1), ('crestfallen', 1), ('bleaching', 1), ('bandai', 1), ('banal', 1), ('mathew', 1), ('durning', 1), ('hocks', 1), ('chunk', 1), ('phlegm', 1), ('jaguars', 1), ('pests', 1), ('gonzaga', 1), ('syria—although', 1), ('fabre', 1), ('braun', 1), ('peeking', 1), ('inject', 1), ('sh', 1), ('belatedly', 1), ('swordfish', 1), ('zinger', 1), ('conair', 1), ('contentment', 1), ('powder', 1), ('confounds', 1), ('bewigged', 1), ('mindanao', 1), ('cybergranny', 1), ('enlargement', 1), ('pamplona', 1), ('teachings', 1), ('archie', 1), ('jughead', 1), ('upsides', 1), ('annul', 1), ('dominica', 1), ('mittenaere', 1), ('pronunciation', 1), ('butters', 1), ('envisions', 1), ('yearlong', 1), ('imposing', 1), ('snakebite', 1), ('afterburners', 1), ('accelerators', 1), ('hyperactive', 1), ('congressmembers', 1), ('dodgers', 1), ('predisposition', 1), ('haiku', 1), ('consulate', 1), ('adulthood', 1), ('regenerating', 1), ('sacha', 1), ('grimsby', 1), ('hadefrosted', 1), ('diphtheria', 1), ('recyclables', 1), ('thunderbirds', 1), ('phantom', 1), ('cardiovascular', 1), ('jacaranda', 1), ('spacex', 1), ('managers', 1), ('sammy', 1), ('flub', 1), ('layers', 1), ('typeface', 1), ('subjective', 1), ('subdue', 1), ('vernon', 1), ('quixote', 1), ('kip', 1), ('kristin', 1), ('ecstatic', 1), ('fresco', 1), ('trumplethinskin', 1), ('bilious', 1), ('unsaved', 1), ('lampoon', 1), ('braga', 1), ('otaviano', 1), ('canuto', 1), ('meloni', 1), ('kucinich', 1), ('bennett', 1), ('slipknot', 1), ('airman', 1), ('consults', 1), ('gamers', 1), ('amajor', 1), ('overestimating', 1), ('humiliates', 1), ('insurgents', 1), ('unsolved', 1), ('notorious', 1), ('hendricks', 1), ('vocalese', 1), ('ramps', 1), ('tristan', 1), ('inoperable', 1), ('invention', 1), ('penicillin', 1), ('docked', 1), ('superficiality', 1), ('achievment', 1), ('cottonelle', 1), ('haverifies', 1), ('kessler', 1), ('organizer', 1), ('doggone', 1), ('outlines', 1), ('frisk', 1), ('unbelievably', 1), ('spruce', 1), ('hud', 1), ('geller', 1), ('dice', 1), ('effigies', 1), ('plowing', 1), ('hydrant', 1), ('meatloaf', 1), ('areconciliation', 1), ('brandishes', 1), ('arcane', 1), ('handcuff', 1), ('settled', 1), ('dar', 1), ('ramping', 1), ('vehicles', 1), ('ambulances', 1), ('slayings', 1), ('wwii', 1), ('examiner', 1), ('amonderez', 1), ('woken', 1), ('booming', 1), ('loudspeakers', 1), ('invented', 1), ('headband', 1), ('unambitious', 1), ('utterance', 1), ('biodiversity', 1), ('busses', 1), ('ecosystems', 1), ('marauding', 1), ('reuther', 1), ('grading', 1), ('proceeds', 1), ('ridiculed', 1), ('kattan', 1), ('essence', 1), ('automate', 1), ('lahood', 1), ('gayby', 1), ('morley', 1), ('stopwatch', 1), ('locking', 1), ('hearse', 1), ('contemplated', 1), ('tiffany', 1), ('haddish', 1), ('ist', 1), ('mandel', 1), ('faintly', 1), ('harnesses', 1), ('alienating', 1), ('03', 1), ('945', 1), ('counteract', 1), ('luis', 1), ('gutierrez', 1), ('gohmert', 1), ('franchesca', 1), ('lewd', 1), ('reelected', 1), ('warrior', 1), ('vandana', 1), ('shiva', 1), ('wrecked', 1), ('headdress', 1), ('spade', 1), ('omnipotent', 1), ('simulates', 1), ('shakers', 1), ('heists', 1), ('guernica', 1), ('triples', 1), ('inhaler', 1), ('lycra', 1), ('teresa', 1), ('giudice', 1), ('dispelling', 1), ('factual', 1), ('popeye', 1), ('boiglerized', 1), ('belligerent', 1), ('melee', 1), ('christine', 1), ('baranski', 1), ('fulfilled', 1), ('prophecy', 1), ('wandering', 1), ('umass', 1), ('applied', 1), ('thinker', 1), ('clayton', 1), ('undercurrent', 1), ('roiling', 1), ('marshmallows', 1), ('affirming', 1), ('seabed', 1), ('siegel', 1), ('armour', 1), ('playbook', 1), ('indictments', 1), ('nighy', 1), ('quarrels', 1), ('burying', 1), ('shallow', 1), ('skydive', 1), ('contradicting', 1), ('deodorant', 1), ('alternativefacts', 1), ('corbett', 1), ('bundlers', 1), ('incessant', 1), ('oversharing', 1), ('toke', 1), ('unmarked', 1), ('ismells', 1), ('foodborne', 1), ('penalizes', 1), ('televisa', 1), ('accelerate', 1), ('logan', 1), ('emeril', 1), ('bams', 1), ('groupie', 1), ('moneypenny', 1), ('monthlong', 1), ('racks', 1), ('compassionate', 1), ('vilanch', 1), ('sodomized', 1), ('griswold', 1), ('sportscast', 1), ('retail', 1), ('bueller', 1), ('tijuana', 1), ('autopilot', 1), ('schiller', 1), ('lucy', 1), ('stomp', 1), ('grapes', 1), ('slacker', 1), ('anthems', 1), ('tote', 1), ('ointment', 1), ('minions', 1), ('installation', 1), ('troian', 1), ('bellisario', 1), ('isuits', 1), ('cohn', 1), ('archery', 1), ('primitive', 1), ('hardware', 1), ('nutella', 1), ('lubricant', 1), ('affordability', 1), ('attainment', 1), ('hoagie', 1), ('ruler', 1), ('inspo', 1), ('connery', 1), ('plywood', 1), ('shuttered', 1), ('pataky', 1), ('reaganism', 1), ('solvents', 1), ('grimm', 1), ('painters', 1), ('cassoulet', 1), ('lorde', 1), ('unforgivable', 1), ('trafficking', 1), ('negotiation', 1), ('deteriorates', 1), ('wolfman', 1), ('sabotaged', 1), ('als', 1), ('jo', 1), ('mewesyria', 1), ('bandicoot', 1), ('dons', 1), ('clamps', 1), ('301', 1), ('caterina', 1), ('scorsone', 1), ('divisions', 1), ('heller', 1), ('hadebacle', 1), ('pang', 1), ('enduring', 1), ('entente', 1), ('servers', 1), ('livable', 1), ('continent', 1), ('yogurt', 1), ('windowsill', 1), ('conceiving', 1), ('chowing', 1), ('proxies', 1), ('conception', 1), ('317', 1), ('622', 1), ('318', 1), ('047', 1), ('emphasized', 1), ('iswindle', 1), ('genres', 1), ('thunderstorm', 1), ('lever', 1), ('supersonic', 1), ('inconceivable', 1), ('smuggle', 1), ('decorating', 1), ('waited', 1), ('kelsea', 1), ('ballerini', 1), ('oxycontin', 1), ('flute', 1), ('insured', 1), ('conducts', 1), ('exhaustive', 1), ('cruelest', 1), ('disburses', 1), ('natalee', 1), ('holloway', 1), ('appétit', 1), ('quiche', 1), ('dots', 1), ('videotaping', 1), ('mapmaker', 1), ('valueville', 1), ('gutter', 1), ('hooligans', 1), ('coastline', 1), ('commenter', 1), ('unofficial', 1), ('aminced', 1), ('zeev', 1), ('aram', 1), ('capote', 1), ('expansive', 1), ('micro', 1), ('contents', 1), ('nugget', 1), ('basset', 1), ('overture', 1), ('silky', 1), ('kickabout', 1), ('psyches', 1), ('instinct', 1), ('repeats', 1), ('elude', 1), ('pursuers', 1), ('triumphs', 1), ('footy', 1), ('mcfooty', 1), ('lowly', 1), ('kkk', 1), ('webmd', 1), ('monae', 1), ('coolness', 1), ('combined', 1), ('klugman', 1), ('lovell', 1), ('watchdogs', 1), ('officemates', 1), ('unwittingly', 1), ('telemarketer', 1), ('awash', 1), ('fluctuating', 1), ('slop', 1), ('spiel', 1), ('annulment', 1), ('caligula', 1), ('bagel', 1), ('screeches', 1), ('crowning', 1), ('platoon', 1), ('istarcraft', 1), ('720', 1), ('deans', 1), ('deepest', 1), ('ispace', 1), ('genitalia', 1), ('ceramic', 1), ('aetna', 1), ('procedures', 1), ('fanpage', 1), ('packers', 1), ('champions', 1), ('manor', 1), ('walkable', 1), ('developers', 1), ('mona', 1), ('outvets', 1), ('pistol', 1), ('gangsta', 1), ('lundergan', 1), ('attracted', 1), ('atx', 1), ('earthlike', 1), ('booted', 1), ('rooted', 1), ('cracking', 1), ('spouses', 1), ('sherpas', 1), ('untitled', 1), ('unmastered', 1), ('tooth', 1), ('deranged', 1), ('scrawlings', 1), ('bosses', 1), ('madaya', 1), ('sieges', 1), ('scope', 1), ('cushions', 1), ('upstaged', 1), ('afd', 1), ('unfriendly', 1), ('bebop', 1), ('rocksteady', 1), ('blinding', 1), ('maleness', 1), ('duct', 1), ('brokeback', 1), ('segways', 1), ('commas', 1), ('factoids', 1), ('bbc', 1), ('flap', 1), ('enrages', 1), ('compliance', 1), ('typography', 1), ('1893', 1), ('shambles', 1), ('pout', 1), ('tivo', 1), ('crater', 1), ('losses', 1), ('motivating', 1), ('pwnage', 1), ('slices', 1), ('hominid', 1), ('offloaded', 1), ('hungary', 1), ('spattered', 1), ('derangement', 1), ('queue', 1), ('slower', 1), ('layla', 1), ('enron', 1), ('rerun', 1), ('motorcyclist', 1), ('gridiron', 1), ('shattered', 1), ('stewman', 1), ('normality', 1), ('enacting', 1), ('lynette', 1), ('spaced', 1), ('groovin', 1), ('digested', 1), ('neptune', 1), ('scorpion', 1), ('repopulation', 1), ('esl', 1), ('concentrates', 1), ('vocabulary', 1), ('proctoscope', 1), ('rebrand', 1), ('cherishing', 1), ('amorning', 1), ('blank', 1), ('occurred', 1), ('chimpanzee', 1), ('revisiting', 1), ('superrman', 1), ('copyediting', 1), ('incorrect', 1), ('cambodia', 1), ('handel', 1), ('herman', 1), ('luckiest', 1), ('andie', 1), ('macdowell', 1), ('hinders', 1), ('shortfall', 1), ('hypnotized', 1), ('brennan', 1), ('donbas', 1), ('gogh', 1), ('remixes', 1), ('boujee', 1), ('catapults', 1), ('eden', 1), ('baylee', 1), ('marathons', 1), ('shannon', 1), ('tweed', 1), ('reinforcing', 1), ('urinals', 1), ('retakes', 1), ('feuds', 1), ('watermelons', 1), ('mauls', 1), ('apologists', 1), ('jessie', 1), ('waymo', 1), ('boca', 1), ('raton', 1), ('intercontinental', 1), ('fumigated', 1), ('déjeûner', 1), ('lherbe', 1), ('monet', 1), ('footlong', 1), ('teriyaki', 1), ('agony', 1), ('pessimism', 1), ('scaled', 1), ('shoveling', 1), ('detainee', 1), ('neuter', 1), ('ballplayers', 1), ('populists', 1), ('rested', 1), ('sculptor', 1), ('aspca', 1), ('amilwaukee', 1), ('infallible', 1), ('enjoyable', 1), ('isht', 1), ('tabasco', 1), ('cashew', 1), ('critique', 1), ('spiderman', 1), ('distracts', 1), ('octopus', 1), ('loopholes', 1), ('rethinks', 1), ('battlebots', 1), ('cpu', 1), ('shapeless', 1), ('blobs', 1), ('nite', 1), ('seatbelts', 1), ('horcrux', 1), ('oversize', 1), ('bounding', 1), ('pointy', 1), ('competitors', 1), ('chromecast', 1), ('woe', 1), ('premium', 1), ('cutbacks', 1), ('clearing', 1), ('piazza', 1), ('cavalleria', 1), ('rusticana', 1), ('pagliacci', 1), ('assuming', 1), ('umpires', 1), ('decisive', 1), ('agreeing', 1), ('subsidy', 1), ('prizes', 1), ('rinpoche', 1), ('bonuses', 1), ('sniglets', 1), ('nsync', 1), ('bandmates', 1), ('dell', 1), ('unceremoniously', 1), ('imperfect', 1), ('strung', 1), ('potties', 1), ('stinky', 1), ('overruled', 1), ('intercultural', 1), ('sr', 1), ('dodgeball', 1), ('steph', 1), ('methadone', 1), ('mischa', 1), ('barton', 1), ('156', 1), ('istable', 1), ('zoolander', 1), ('euphemized', 1), ('prejudicial', 1), ('eclairs', 1), ('noncitizens', 1), ('dutifully', 1), ('zinfandel', 1), ('arevitalise', 1), ('são', 1), ('paulo', 1), ('razes', 1), ('nonsensical', 1), ('goonies', 1), ('overdoses', 1), ('prevented', 1), ('librarian', 1), ('amassed', 1), ('humbly', 1), ('beneficiary', 1), ('nutcracker', 1), ('louie', 1), ('corsets', 1), ('improv', 1), ('troupe', 1), ('transvestite', 1), ('fantasized', 1), ('motions', 1), ('puzzled', 1), ('inconvenient', 1), ('marilu', 1), ('henner', 1), ('embarrass', 1), ('necessities', 1), ('strapping', 1), ('exhilarating', 1), ('combatting', 1), ('homaro', 1), ('cantu', 1), ('streaks', 1), ('yeti', 1), ('abdominable', 1), ('beau', 1), ('coronary', 1), ('bypass', 1), ('watchman', 1), ('viable', 1), ('sincerity', 1), ('adjective', 1), ('handbag', 1), ('strom', 1), ('thurmond', 1), ('greats', 1), ('tasks', 1), ('undetectable', 1), ('transmit', 1), ('djimon', 1), ('hounsou', 1), ('unregulated', 1), ('madrassa', 1), ('sows', 1), ('invitations', 1), ('breuer', 1), ('canvassed', 1), ('canvassing', 1), ('pledging', 1), ('brando', 1), ('recognizable', 1), ('brighter', 1), ('bane', 1), ('enforces', 1), ('outcropping', 1), ('insightful', 1), ('kepler', 1), ('archivists', 1), ('crichton', 1), ('operates', 1), ('bffs', 1), ('jb', 1), ('smoove', 1), ('pencil', 1), ('nub', 1), ('unaccountable', 1), ('borrowing', 1), ('harms', 1), ('commenting', 1), ('misuse', 1), ('401k', 1), ('supervision', 1), ('plagued', 1), ('rumor', 1), ('archdiocese', 1), ('324', 1), ('honduran', 1), ('diaspora', 1), ('flutter', 1), ('bernadette', 1), ('cherished', 1), ('chemists', 1), ('nano', 1), ('professed', 1), ('priorities', 1), ('lady—remember', 1), ('her—as', 1), ('definitions', 1), ('herndon', 1), ('retrievers', 1), ('investigative', 1), ('seeming', 1), ('riotous', 1), ('retroactively', 1), ('settler', 1), ('ciarlelli', 1), ('wondersplint', 1), ('fractures', 1), ('directs', 1), ('kaley', 1), ('cuoco', 1), ('deciphering', 1), ('reckless', 1), ('deplete', 1), ('hydrogen', 1), ('2070', 1), ('minneapolis', 1), ('blindly', 1), ('grumbling', 1), ('hägar', 1), ('tove', 1), ('troy', 1), ('turnips', 1), ('paragraph', 1), ('obsessing', 1), ('competing', 1), ('ingber', 1), ('edged', 1), ('norfolk', 1), ('amisremember', 1), ('109', 1), ('hadie', 1), ('yippee', 1), ('ki', 1), ('yay', 1), ('slaps', 1), ('rinky', 1), ('dink', 1), ('necromancer', 1), ('fafsa', 1), ('yanny', 1), ('laurel', 1), ('formative', 1), ('usable', 1), ('wand', 1), ('petco', 1), ('palpable', 1), ('intentionally', 1), ('stoking', 1), ('equation', 1), ('difficulties', 1), ('posthumously', 1), ('sla', 1), ('buttoned', 1), ('mediaeval', 1), ('fortress', 1), ('monemvasia', 1), ('mariel', 1), ('chaplains', 1), ('mapping', 1), ('shellie', 1), ('perjury', 1), ('jumble', 1), ('symbols', 1), ('endangers', 1), ('100th', 1), ('underage', 1), ('chugs', 1), ('shoplifters', 1), ('addcandytoamovie', 1), ('pippa', 1), ('boats', 1), ('boatless', 1), ('racing', 1), ('buncha', 1), ('mustang', 1), ('subjected', 1), ('hairdo', 1), ('introduction', 1), ('aquatic', 1), ('mammal', 1), ('warhead', 1), ('sf', 1), ('baggies', 1), ('suspenders', 1), ('transylvania', 1), ('kidnaps', 1), ('mcnugget', 1), ('interactive', 1), ('zinc', 1), ('workshop', 1), ('matador', 1), ('gored', 1), ('bullring', 1), ('stereo', 1), ('installed', 1), ('outsources', 1), ('defunded', 1), ('jest', 1), ('frothing', 1), ('imbalance', 1), ('dynamics', 1), ('torpedo', 1), ('secretaries', 1), ('tinkering', 1), ('tallest', 1), ('pooch', 1), ('stripes', 1), ('renders', 1), ('beholden', 1), ('ghoulish', 1), ('thinly', 1), ('gaetz', 1), ('isheet', 1), ('willi', 1), ('cannibal', 1), ('hadiscriminatory', 1), ('nitty', 1), ('gritty', 1), ('coconut', 1), ('monstrously', 1), ('lemmy', 1), ('motorhead', 1), ('dominos', 1), ('crust', 1), ('arlen', 1), ('specter', 1), ('affiliation', 1), ('lynching', 1), ('exterior', 1), ('resentful', 1), ('epix', 1), ('meandering', 1), ('absentminded', 1), ('dodger', 1), ('isleight', 1), ('marker', 1), ('106', 1), ('papua', 1), ('tyrese', 1), ('fragile', 1), ('tantalizingly', 1), ('erectile', 1), ('evansville', 1), ('architecture', 1), ('outliers', 1), ('meritocracy', 1), ('twilight', 1), ('demonstration', 1), ('“a', 1), ('wedding”', 1), ('joyful', 1), ('widened', 1), ('lends', 1), ('legitimacy', 1), ('romania', 1), ('sixty', 1), ('consensual', 1), ('incumbents', 1), ('marched', 1), ('neolithic', 1), ('ecstasy', 1), ('despair', 1), ('baja', 1), ('villa', 1), ('palmar', 1), ('loreto', 1), ('vandross', 1), ('instagrammer', 1), ('cisco', 1), ('taillight', 1), ('weeklong', 1), ('revived', 1), ('isuck', 1), ('retrieved', 1), ('rash', 1), ('stingy', 1), ('designations', 1), ('veronaon', 1), ('perforated', 1), ('structurally', 1), ('goiter', 1), ('lulled', 1), ('rumbling', 1), ('cremated', 1), ('voyeurs', 1), ('bushes', 1), ('dorito', 1), ('ranch', 1), ('ops', 1), ('undetected', 1), ('indigestion', 1), ('rené', 1), ('segel', 1), ('afterlife', 1), ('portrayal', 1), ('auditions', 1), ('lookers', 1), ('passers', 1), ('vale', 1), ('boothe', 1), ('experiments', 1), ('innovate', 1), ('650', 1), ('isexism', 1), ('heartstrings', 1), ('conclude', 1), ('zarin', 1), ('ramona', 1), ('mangles', 1), ('spangled', 1), ('puck', 1), ('tort', 1), ('hasty', 1), ('lebaron', 1), ('earbuds', 1), ('bloomed', 1), ('zoe', 1), ('saldana', 1), ('thaler', 1), ('pvc', 1), ('tube', 1), ('campfire', 1), ('busboy', 1), ('pilgrims', 1), ('sailed', 1), ('silk', 1), ('eh', 1), ('rapid', 1), ('daryl', 1), ('axing', 1), ('ortiz', 1), ('naming', 1), ('brides', 1), ('grooms', 1), ('nominating', 1), ('verma', 1), ('forklift', 1), ('salvadoran', 1), ('sponsorship', 1), ('varying', 1), ('cornel', 1), ('obstruct', 1), ('gloved', 1), ('bentley', 1), ('computers', 1), ('frolics', 1), ('winnie', 1), ('commerce', 1), ('atari', 1), ('sore', 1), ('bianchi', 1), ('fraudulent', 1), ('crayola', 1), ('jarringly', 1), ('shareholders', 1), ('enforcer', 1), ('freezes', 1), ('aresponsible', 1), ('mammograms', 1), ('ambition', 1), ('mains', 1), ('favored', 1), ('pepa', 1), ('antelopeater', 1), ('polished', 1), ('surcharge', 1), ('leary', 1), ('millie', 1), ('dimension', 1), ('milla', 1), ('jovovich', 1), ('evans', 1), ('ladens', 1), ('bellwether', 1), ('larios', 1), ('pitied', 1), ('jameela', 1), ('jamil', 1), ('2nd', 1), ('baptizing', 1), ('obsessively', 1), ('boasts', 1), ('absorbency', 1), ('auctioned', 1), ('conglomerate', 1), ('masturbation', 1), ('doorbell', 1), ('resolving', 1), ('zaire', 1), ('dogfights', 1), ('imelda', 1), ('bystanders', 1), ('prefaced', 1), ('adhd', 1), ('paunch', 1), ('forgave', 1), ('endowed', 1), ('categories', 1), ('nissin', 1), ('noodles', 1), ('merits', 1), ('clubs', 1), ('valadao', 1), ('tk', 1), ('carefree', 1), ('frown', 1), ('schooled', 1), ('blurs', 1), ('merkley', 1), ('cicadas', 1), ('committees', 1), ('untoward', 1), ('abe', 1), ('spa', 1), ('aftershocks', 1), ('savor', 1), ('hardwired', 1), ('pitcher', 1), ('cabinets', 1), ('cinzano', 1), ('recruited', 1), ('headhunters', 1), ('calais', 1), ('capsizing', 1), ('wrest', 1), ('portraiture', 1), ('trappings', 1), ('hotbed', 1), ('mere', 1), ('idf', 1), ('burkina', 1), ('faso', 1), ('euthanizing', 1), ('completing', 1), ('repress', 1), ('rescinded', 1), ('stoneheart', 1), ('necessity', 1), ('frequent', 1), ('flighter', 1), ('responsibly', 1), ('pinning', 1), ('lucidity', 1), ('lyte', 1), ('waldorf', 1), ('akon', 1), ('chobani', 1), ('dislikes', 1), ('commence', 1), ('grapple', 1), ('fearmongering', 1), ('kaminski', 1), ('juvenile', 1), ('aloud', 1), ('jurgen', 1), ('klinsmann', 1), ('woke', 1), ('dis', 1), ('tones', 1), ('creationism', 1), ('roadster', 1), ('nair', 1), ('incendiary', 1), ('visionary', 1), ('trinidad', 1), ('tobago', 1), ('scenario', 1), ('deere', 1), ('lawnmower', 1), ('sidecars', 1), ('wasteland', 1), ('probation', 1), ('misdemeanors', 1), ('isick', 1), ('swivel', 1), ('slathered', 1), ('eurostar', 1), ('labrador', 1), ('burka', 1), ('niqab', 1), ('coolio', 1), ('shamers', 1), ('marginal', 1), ('dedicated', 1), ('raza', 1), ('patriotism', 1), ('idolatry', 1), ('prohibition', 1), ('dinklage', 1), ('cringeworthy', 1), ('purdue', 1), ('contort', 1), ('marbles', 1), ('nichols', 1), ('superbug', 1), ('enables', 1), ('resolve', 1), ('isix', 1), ('ashleigh', 1), ('banfield', 1), ('unrepresentative', 1), ('truckers', 1), ('aminotaurs', 1), ('embroidered', 1), ('vertigo', 1), ('grier', 1), ('pounding', 1), ('superdelegates', 1), ('iseek', 1), ('sped', 1), ('1st', 1), ('armored', 1), ('voiceless', 1), ('continually', 1), ('portrays', 1), ('regis', 1), ('philbin', 1), ('aregis', 1), ('hum', 1), ('2005', 1), ('mystified', 1), ('parched', 1), ('andromeda', 1), ('suffocates', 1), ('espys', 1), ('jacketed', 1), ('legacies', 1), ('alfred', 1), ('porcelain', 1), ('dinnerware', 1), ('headache', 1), ('hale', 1), ('prepper', 1), ('reconsider', 1), ('hassan', 1), ('jameel', 1), ('71', 1), ('peaking', 1), ('spratlys', 1), ('cardell', 1), ('ado', 1), ('soured', 1), ('defecating', 1), ('plato', 1), ('alongside', 1), ('iskullfucking', 1), ('gesturing', 1), ('waterfront', 1), ('escorts', 1), ('colonization', 1), ('subcontinent', 1), ('dread', 1), ('grind', 1), ('sweats', 1), ('immunotherapy', 1), ('josé', 1), ('andrés', 1), ('ishame', 1), ('clout', 1), ('evaporates', 1), ('nutritious', 1), ('accountability', 1), ('chord', 1), ('strategists', 1), ('fabricated', 1), ('scenery', 1), ('contends', 1), ('toasting', 1), ('ketogenic', 1), ('tardy', 1), ('willingly', 1), ('insulted', 1), ('buyer', 1), ('laced', 1), ('demolishing', 1), ('propping', 1), ('pankaj', 1), ('mishra', 1), ('optimists', 1), ('accompanying', 1), ('presumes', 1), ('inept', 1), ('goldstein', 1), ('positioned', 1), ('deafening', 1), ('ebooks', 1), ('sociocultural', 1), ('nortons', 1), ('platinum–level', 1), ('rebrands', 1), ('hadisappointimals', 1), ('starred', 1), ('banished', 1), ('discriminate', 1), ('mcdreamy', 1), ('arrows', 1), ('mans', 1), ('tr', 1), ('jarvis', 1), ('croak', 1), ('hoses', 1), ('crumbs', 1), ('deployment', 1), ('dispensary', 1), ('heel', 1), ('numbing', 1), ('haslam', 1), ('hagar', 1), ('bundles', 1), ('robe', 1), ('flonase', 1), ('cary', 1), ('elwes', 1), ('juxtaposing', 1), ('iconography', 1), ('epiphany', 1), ('unpauses', 1), ('chores', 1), ('moronic', 1), ('mailroom', 1), ('succulent', 1), ('fades', 1), ('tavis', 1), ('shove', 1), ('admire', 1), ('redmayne', 1), ('premarital', 1), ('amainsplainer', 1), ('cephas', 1), ('hadruggies', 1), ('brainer', 1), ('thirsty', 1), ('ropes', 1), ('unrecognizable', 1), ('disturbance', 1), ('arafat', 1), ('pornography', 1), ('orifice', 1), ('ozzfest', 1), ('farther', 1), ('estimates', 1), ('amissed', 1), ('grin', 1), ('menswear', 1), ('blige', 1), ('illegitimate', 1), ('hemmed', 1), ('storming', 1), ('inhuman', 1), ('devalue', 1), ('wilmot', 1), ('proviso', 1), ('werner', 1), ('herzog', 1), ('treadwell', 1), ('offspring', 1), ('behaving', 1), ('plymouth', 1), ('squadgoals', 1), ('rightful', 1), ('wireless', 1), ('locals', 1), ('whaboom', 1), ('marqkria', 1), ('260', 1), ('ninetysomethings', 1), ('predates', 1), ('evaluate', 1), ('kahneman', 1), ('glandular', 1), ('setup', 1), ('feverishly', 1), ('trapping', 1), ('bret', 1), ('baier', 1), ('resentencing', 1), ('stacy', 1), ('ruiz', 1), ('resounding', 1), ('evacuation', 1), ('unspeakable', 1), ('trusting', 1), ('odessa', 1), ('motto', 1), ('yankees', 1), ('timing', 1), ('coincidence', 1), ('prejudiced', 1), ('wink', 1), ('nod', 1), ('akin', 1), ('shredyourex', 1), ('videotape', 1), ('chastised', 1), ('gopsongsaboutethics', 1), ('isense8', 1), ('dishonorably', 1), ('discharged', 1), ('navigation', 1), ('76ers', 1), ('skid', 1), ('aloha', 1), ('aina', 1), ('barca', 1), ('reimagines', 1), ('leprechaun', 1), ('monarchy', 1), ('washes', 1), ('phillie', 1), ('phanatic', 1), ('dislodge', 1), ('delhi', 1), ('adjust', 1), ('clothesline', 1), ('264', 1), ('pulverizing', 1), ('eradicate', 1), ('disasty', 1), ('shutter', 1), ('subpoena', 1), ('recreational', 1), ('enthusiasts', 1), ('applaud', 1), ('departments', 1), ('kilimanjaro', 1), ('gandalf', 1), ('abyss', 1), ('deprecating', 1), ('preamble', 1), ('tempurapedic', 1), ('mattresses', 1), ('debts', 1), ('owed', 1), ('logically', 1), ('perpetuating', 1), ('buffer', 1), ('mccullen', 1), ('facade', 1), ('urkel', 1), ('vh1', 1), ('hadeadly', 1), ('metallurgists', 1), ('polonium', 1), ('stressful', 1), ('klemke', 1), ('appreciably', 1), ('monarch', 1), ('directorial', 1), ('tents', 1), ('amatrice', 1), ('frolicking', 1), ('ticks', 1), ('kowalski', 1), ('ranks', 1), ('aaa', 1), ('immunization', 1), ('paragliding', 1), ('taxed', 1), ('juggles', 1), ('15s', 1), ('gymnasium', 1), ('maharishi', 1), ('rupee', 1), ('chicagoans', 1), ('skulls', 1), ('jurisprudence', 1), ('emboldened', 1), ('upham', 1), ('stuyvesant', 1), ('yep', 1), ('trashed', 1), ('cranston', 1), ('jewel', 1), ('organizes', 1), ('unicorns', 1), ('hadangerous', 1), ('doling', 1), ('counsel', 1), ('novλ', 1), ('shielded', 1), ('broadly', 1), ('mothering', 1), ('amarch', 1), ('suburb', 1), ('sweeney', 1), ('stunted', 1), ('palahniuk', 1), ('horsey', 1), ('ari', 1), ('fleischer', 1), ('statehood', 1), ('peshawar', 1), ('stylin', 1), ('crushworthy', 1), ('sardinian', 1), ('cove', 1), ('squirming', 1), ('mingles', 1), ('willed', 1), ('metabolism', 1), ('spilling', 1), ('freshwater', 1), ('humorous', 1), ('paleontology', 1), ('fundamentalist', 1), ('ceremoniously', 1), ('aggression', 1), ('goers', 1), ('headliner', 1), ('conferences', 1), ('perriello', 1), ('algae', 1), ('throats', 1), ('behrendt', 1), ('preaches', 1), ('reminisce', 1), ('radicalization', 1), ('busey', 1), ('hottie', 1), ('collude', 1), ('journeys', 1), ('metlife', 1), ('goody', 1), ('governess', 1), ('hairbrushes', 1), ('raking', 1), ('scalps', 1), ('insolent', 1), ('snitch', 1), ('interreligious', 1), ('santegidio', 1), ('doubted', 1), ('multinational', 1), ('istink', 1), ('pancuronium', 1), ('bromide', 1), ('lodged', 1), ('alexia', 1), ('kosmider', 1), ('transjourney', 1), ('vawa', 1), ('trillionaire', 1), ('temps', 1), ('enterprising', 1), ('ficus', 1), ('lockheed', 1), ('tactical', 1), ('lyndon', 1), ('cigar', 1), ('petting', 1), ('rainforests', 1), ('spiky', 1), ('sahm', 1), ('stressfest', 1), ('taller', 1), ('fuji', 1), ('probes', 1), ('gigabyte', 1), ('bogotá', 1), ('biologist', 1), ('tar', 1), ('hoverboard', 1), ('renoir', 1), ('rendered', 1), ('migraines', 1), ('activated', 1), ('freakish', 1), ('fling', 1), ('contusions', 1), ('cuddly', 1), ('languish', 1), ('mildfires', 1), ('amble', 1), ('thicke', 1), ('humanizing', 1), ('contending', 1), ('paz', 1), ('genre', 1), ('shipwrecks', 1), ('239', 1), ('councilwomen', 1), ('filth', 1), ('lourea', 1), ('corral', 1), ('wires', 1), ('appreciated', 1), ('strenlow', 1), ('dander', 1), ('johns', 1), ('supplying', 1), ('sensible', 1), ('facemask', 1), ('tsoureki', 1), ('exposé', 1), ('trolley', 1), ('defaulting', 1), ('resolute', 1), ('cardiomyopathy', 1), ('dickipedia', 1), ('bikram', 1), ('exile', 1), ('illustrated', 1), ('manuscripts', 1), ('sobers', 1), ('amateurism', 1), ('gumby', 1), ('ovarian', 1), ('earthquakes', 1), ('railways', 1), ('paddlers', 1), ('fairer', 1), ('efficiently', 1), ('stockings', 1), ('conquer', 1), ('masterchef', 1), ('prawns', 1), ('lazier', 1), ('accomplished', 1), ('carmen', 1), ('carrera', 1), ('machado', 1), ('tracee', 1), ('ellis', 1), ('playfully', 1), ('deserter', 1), ('bowe', 1), ('deceptively', 1), ('domhnall', 1), ('gleeson', 1), ('hux', 1), ('giffords', 1), ('mondays', 1), ('wineries', 1), ('wedges', 1), ('throne', 1), ('beside', 1), ('punks', 1), ('escalate', 1), ('ispeedy', 1), ('treme', 1), ('saltines', 1), ('storybook', 1), ('buffoonery', 1), ('banyan', 1), ('vaults', 1), ('gutting', 1), ('preconceptions', 1), ('claw', 1), ('necrotic', 1), ('balm', 1), ('registering', 1), ('bounces', 1), ('duping', 1), ('exorcise', 1), ('bookshelf', 1), ('albinism', 1), ('precipice', 1), ('molest', 1), ('swallowed', 1), ('oxytocin', 1), ('mediated', 1), ('engineered', 1), ('arse', 1), ('racehorse', 1), ('guidebook', 1), ('architecturally', 1), ('casanova', 1), ('recapped', 1), ('publick', 1), ('hopper', 1), ('ppm', 1), ('co2', 1), ('conceals', 1), ('soaring', 1), ('noche', 1), ('pasión', 1), ('soirée', 1), ('crazier', 1), ('fischer', 1), ('pam', 1), ('amccain', 1), ('solidifies', 1), ('plo', 1), ('krippendorf', 1), ('corset', 1), ('gummy', 1), ('poacher', 1), ('stalks', 1), ('prey', 1), ('logos', 1), ('frontal', 1), ('lobe', 1), ('waffling', 1), ('adulting', 1), ('thicks', 1), ('vinnie', 1), ('sunchips', 1), ('bosnian', 1), ('unformed', 1), ('khalid', 1), ('sheikh', 1), ('mohammed', 1), ('confessing', 1), ('females', 1), ('punishments', 1), ('asexual', 1), ('templeton', 1), ('isolation', 1), ('skewed', 1), ('perception', 1), ('dresser', 1), ('schnauzers', 1), ('hardened', 1), ('snacker', 1), ('skydivers', 1), ('krispie', 1), ('kurdi', 1), ('connectivity', 1), ('diligently', 1), ('begged', 1), ('nw', 1), ('sommelier', 1), ('outlast', 1), ('dolezals', 1), ('knack', 1), ('poundstone', 1), ('bangers', 1), ('mash', 1), ('ignorant', 1), ('boor', 1), ('bungles', 1), ('sprints', 1), ('clarinet', 1), ('rubbermaid\\x99', 1), ('nuances', 1), ('pressuring', 1), ('transcendent', 1), ('preregistered', 1), ('furloughed', 1), ('organ', 1), ('assails', 1), ('illiterate', 1), ('frustrates', 1), ('mishandled', 1), ('ashton', 1), ('kutcher', 1), ('processors', 1), ('revamps', 1), ('restarts', 1), ('mastiff', 1), ('droopy', 1), ('gassy', 1), ('rockers', 1), ('flatirons', 1), ('platinum', 1), ('valid', 1), ('reasoned', 1), ('moonlit', 1), ('bonfire', 1), ('conjure', 1), ('thrives', 1), ('haim', 1), ('disgraced', 1), ('delighting', 1), ('plagiarism', 1), ('fighters', 1), ('ace', 1), ('penetrate', 1), ('databases', 1), ('scar', 1), ('hammersmith', 1), ('motörhead', 1), ('uv', 1), ('radiation', 1), ('ahmad', 1), ('rahami', 1), ('inspirational', 1), ('thrower', 1), ('colluding', 1), ('kuczynski', 1), ('hispánico', 1), ('unfunny', 1), ('bhangra', 1), ('thorpe', 1), ('sac', 1), ('polluters', 1), ('misconception', 1), ('firewood', 1), ('fallujah', 1), ('augmented', 1), ('chloë', 1), ('sevign̈y', 1), ('umlaut', 1), ('shaven', 1), ('tuxedoed', 1), ('seasoned', 1), ('bulletproof', 1), ('vest', 1), ('disband', 1), ('setlist', 1), ('stoplight', 1), ('tulip', 1), ('popping', 1), ('splinter', 1), ('properties', 1), ('lithgow', 1), ('motivate', 1), ('handles', 1), ('schoolgirls', 1), ('stalled', 1), ('scheduled', 1), ('skittering', 1), ('444', 1), ('refereeing', 1), ('playoffs', 1), ('gargamel', 1), ('habsburg', 1), ('turnkey', 1), ('propped', 1), ('heightens', 1), ('preys', 1), ('flaw', 1), ('wearhouse', 1), ('trousers', 1), ('confederacy', 1), ('canoe', 1), ('uae', 1), ('tribes', 1), ('qatari', 1), ('emir', 1), ('warp', 1), ('internally', 1), ('despicable', 1), ('optioned', 1), ('anew', 1), ('workweek', 1), ('celebrated', 1), ('milestones', 1), ('barnacle', 1), ('nativist', 1), ('weaken', 1), ('takeaways', 1), ('negotiators', 1), ('shifted', 1), ('bohemian', 1), ('rhapsody', 1), ('meditating', 1), ('bhikkunis', 1), ('thailand', 1), ('septum', 1), ('sethi', 1), ('blissed', 1), ('hemp', 1), ('faroe', 1), ('holler', 1), ('darius', 1), ('rucker', 1), ('gamecocks', 1), ('centenarians', 1), ('dispensed', 1), ('liturgy', 1), ('atone', 1), ('sprawling', 1), ('cycles', 1), ('inflections', 1), ('portent', 1), ('gnarled', 1), ('divides', 1), ('rescheduled', 1), ('itching', 1), ('effortless', 1), ('eli', 1), ('misusing', 1), ('redefinition', 1), ('claymation', 1), ('amarried', 1), ('cobweb', 1), ('leaned', 1), ('diddy', 1), ('mustache', 1), ('wolff', 1), ('florist', 1), ('kagan', 1), ('distracting', 1), ('citizenry', 1), ('specialists', 1), ('trailblazers', 1), ('catastrophic', 1), ('ispecial', 1), ('derailed', 1), ('fernandez', 1), ('dumbledore', 1), ('beasts', 1), ('biter', 1), ('cynical', 1), ('ensuring', 1), ('fearsome', 1), ('arepresentatives', 1), ('sweetheart', 1), ('biotech', 1), ('injections', 1), ('submerges', 1), ('designate', 1), ('osm', 1), ('couche', 1), ('tard', 1), ('virée', 1), ('classique', 1), ('attendance', 1), ('likeness', 1), ('colonel', 1), ('blazer', 1), ('derelict', 1), ('bs', 1), ('nexplanon', 1), ('implant', 1), ('iscalia', 1), ('glazed', 1), ('meyer', 1), ('wiener', 1), ('knitting', 1), ('recuperates', 1), ('selecting', 1), ('greenlit', 1), ('facetime', 1), ('mckinley', 1), ('mbta', 1), ('invading', 1), ('whelan', 1), ('nycb', 1), ('deux', 1), ('flattened', 1), ('1992', 1), ('rubbed', 1), ('hallowed', 1), ('meningitis', 1), ('excedrin', 1), ('jeweler', 1), ('syrupy', 1), ('dashcam', 1), ('wino', 1), ('keyes', 1), ('stationary', 1), ('firefighting', 1), ('ragtag', 1), ('mockumentary', 1), ('prowling', 1), ('105', 1), ('purged', 1), ('kissinger', 1), ('corbusier', 1), ('unannounced', 1), ('perfected', 1), ('guzman', 1), ('committing', 1), ('harbors', 1), ('friar', 1), ('penetration', 1), ('unsold', 1), ('ducharme', 1), ('badpicturemonday', 1), ('teamwork', 1), ('lyons', 1), ('shoos', 1), ('conceding', 1), ('surplus', 1), ('secretlifting', 1), ('hewitt', 1), ('bracelets', 1), ('bowery', 1), ('disclosure', 1), ('salve', 1), ('rites', 1), ('trumpers', 1), ('divorcée', 1), ('knopfler', 1), ('expressed', 1), ('interpreted', 1), ('tonga', 1), ('taufatofua', 1), ('colony', 1), ('carhartt', 1), ('thong', 1), ('bolted', 1), ('mastercard', 1), ('ponders', 1), ('cinched', 1), ('mongol', 1), ('stossel', 1), ('plaything', 1), ('esa', 1), ('loch', 1), ('homos', 1), ('wambach', 1), ('domination', 1), ('crystals', 1), ('tilted', 1), ('encountered', 1), ('outgoing', 1), ('tragicomic', 1), ('larva', 1), ('axl', 1), ('ronco', 1), ('exposer', 1), ('postsecret', 1), ('lurks', 1), ('hissy', 1), ('stapleton', 1), ('conclusion', 1), ('dax', 1), ('supermarkets', 1), ('streamline', 1), ('consistently', 1), ('ageist', 1), ('mcneil', 1), ('atrans', 1), ('printout', 1), ('deferred', 1), ('ayesha', 1), ('reshape', 1), ('snubbed', 1), ('deficient', 1), ('realtor', 1), ('frenzied', 1), ('bündchen', 1), ('italia', 1), ('inadequate', 1), ('merv', 1), ('greenbuild', 1), ('stigmas', 1), ('mcadoo', 1), ('blunder', 1), ('apgar', 1), ('corea', 1), ('reconfirmation', 1), ('adequate', 1), ('barborak', 1), ('clerks', 1), ('molding', 1), ('silencing', 1), ('exploited', 1), ('multicultural', 1), ('sighted', 1), ('lollapalooza', 1), ('cruces', 1), ('61', 1), ('dosage', 1), ('mccabe', 1), ('requirements', 1), ('winwood', 1), ('slovakia', 1), ('bosses…', 1), ('shortened', 1), ('whimsically', 1), ('tottering', 1), ('plank', 1), ('swaying', 1), ('beam', 1), ('summertime', 1), ('weak—they', 1), ('skeptics', 1), ('nader', 1), ('¡que', 1), ('vivan', 1), ('casa', 1), ('savoring', 1), ('wx', 1), ('geeks', 1), ('5×5', 1), ('subduing', 1), ('vanishing', 1), ('slender', 1), ('sht', 1), ('pooping', 1), ('tutus', 1), ('sequins', 1), ('chevron', 1), ('platforms', 1), ('jenni', 1), ('konner', 1), ('carney', 1), ('reneged', 1), ('brunt', 1), ('surrogates', 1), ('underpaid', 1), ('laborers', 1), ('caird', 1), ('plundered', 1), ('turks', 1), ('pcos', 1), ('bum', 1), ('botanical', 1), ('bras', 1), ('dubs', 1), ('golfing', 1), ('rockatansky', 1), ('nux', 1), ('livid', 1), ('cassidy', 1), ('wormhole', 1), ('skulking', 1), ('victorian', 1), ('defensive', 1), ('undoing', 1), ('handiwork', 1), ('poppy', 1), ('clavin', 1), ('fictitious', 1), ('rendezvous', 1), ('unbefitting', 1), ('magnate', 1), ('idlib', 1), ('worships', 1), ('picky', 1), ('sofa', 1), ('abysmally', 1), ('eia', 1), ('factories', 1), ('opposes', 1), ('stageplay', 1), ('unconvincingly', 1), ('tacos', 1), ('faulty', 1), ('homebuilding', 1), ('sprinklers', 1), ('nerdy', 1), ('jubilee', 1), ('deflategate', 1), ('isham', 1), ('woooo', 1), ('unfairly', 1), ('singular', 1), ('vitaminwater', 1), ('somethings', 1), ('nightstand', 1), ('recline', 1), ('ecuador', 1), ('fleece', 1), ('scattergories', 1), ('chartering', 1), ('railroading', 1), ('mistress', 1), ('chicanery', 1), ('munn', 1), ('plugin', 1), ('noir', 1), ('levin', 1), ('carmine', 1), ('appice', 1), ('mccarty', 1), ('shimabukuro', 1), ('incomprehensible', 1), ('foil', 1), ('ae', 1), ('villanova', 1), ('piccolo', 1), ('uttering', 1), ('amarriage', 1), ('chafee', 1), ('disregard', 1), ('aligning', 1), ('rediscovering', 1), ('engraved', 1), ('microaggressions', 1), ('sired', 1), ('tamra', 1), ('housewives', 1), ('effigy', 1), ('aftershock', 1), ('richly', 1), ('telekinetic', 1), ('treetop', 1), ('relying', 1), ('bana', 1), ('surrounds', 1), ('awakes', 1), ('vocalize', 1), ('unscripted', 1), ('sentiment', 1), ('staged', 1), ('export', 1), ('averting', 1), ('isnowflakes', 1), ('unauthorized', 1), ('jian', 1), ('ghomeshi', 1), ('rightfully', 1), ('gauguin', 1), ('fondation', 1), ('beyeler', 1), ('zippori', 1), ('jwoww', 1), ('appliance', 1), ('salvation', 1), ('wrecks', 1), ('cayman', 1), ('smacked', 1), ('201', 1), ('korra', 1), ('sidelines', 1), ('undies', 1), ('panty', 1), ('vicariously', 1), ('suppository', 1), ('dagestan', 1), ('busybody', 1), ('gunshots', 1), ('marshawn', 1), ('pelléas', 1), ('mélisande', 1), ('mika', 1), ('incidence', 1), ('beams', 1), ('lbd', 1), ('1964', 1), ('togo', 1), ('ching', 1), ('chongs', 1), ('treaty', 1), ('kyoto', 1), ('complicit', 1), ('misogynoir', 1), ('rubenesque', 1), ('picassoesque', 1), ('marseille', 1), ('handmade', 1), ('huggers', 1), ('clay', 1), ('aiken', 1), ('bojangles', 1), ('bloc', 1), ('precedent', 1), ('dehydration', 1), ('istripes', 1), ('betelgeuse', 1), ('supernova', 1), ('brainpower', 1), ('sakharov', 1), ('hypothesize', 1), ('overeager', 1), ('simpleton', 1), ('tequila', 1), ('raphaelite', 1), ('contessa', 1), ('clearheaded', 1), ('reactionist', 1), ('morons', 1), ('suborbital', 1), ('propulsion', 1), ('pele', 1), ('hospitalized', 1), ('ruh', 1), ('roh', 1), ('amystery', 1), ('boyband', 1), ('pleshette', 1), ('wrongdoing', 1), ('defect', 1), ('underpants', 1), ('mast', 1), ('showers', 1), ('deceptive', 1), ('molests', 1), ('isouth', 1), ('carjackers', 1), ('zack', 1), ('escalator', 1), ('flyers', 1), ('darn', 1), ('dwindling', 1), ('mentors', 1), ('springing', 1), ('philosophical', 1), ('foulest', 1), ('transnational', 1), ('gladwell', 1), ('foretells', 1), ('mollie', 1), ('spilman', 1), ('criteo', 1), ('immersion', 1), ('socializing', 1), ('240', 1), ('desertion', 1), ('drenched', 1), ('scoggins', 1), ('publicize', 1), ('oblivion', 1), ('granta', 1), ('derided', 1), ('philistines', 1), ('systemic', 1), ('jails', 1), ('crises', 1), ('cheezburger', 1), ('cheeses', 1), ('seeker', 1), ('chik', 1), ('treaters', 1), ('chan', 1), ('blooper', 1), ('jakob', 1), ('baiting', 1), ('zeke', 1), ('corroborate', 1), ('reused', 1), ('anchorman', 1), ('jesuit', 1), ('paraguay', 1), ('peoples', 1), ('plouffe', 1), ('goodfellas', 1), ('fragments', 1), ('beachgoers', 1), ('szep', 1), ('hypocritical', 1), ('evangelicals', 1), ('waffle', 1), ('remnant', 1), ('jamaican', 1), ('blvd', 1), ('suits', 1), ('metzger', 1), ('parting', 1), ('rentboys', 1), ('rentboy', 1), ('tcby', 1), ('amilitary', 1), ('teethmarks', 1), ('battersby', 1), ('catfight', 1), ('heche', 1), ('naval', 1), ('chakra', 1), ('offenses', 1), ('bricks', 1), ('masturbators', 1), ('postmodern', 1), ('gourd', 1), ('bumpy', 1), ('smokes', 1), ('jacking', 1), ('camouflage', 1), ('incinerates', 1), ('rescheduling', 1), ('anytime', 1), ('severus', 1), ('dendy', 1), ('labyrinth', 1), ('whereas', 1), ('recalibrates', 1), ('honky', 1), ('tonkin', 1), ('fraught', 1), ('negatives', 1), ('hydropower', 1), ('tanner', 1), ('deletion', 1), ('insight', 1), ('cautionary', 1), ('diminished', 1), ('bawdy', 1), ('limerick', 1), ('architects', 1), ('2026', 1), ('philippe', 1), ('courtois', 1), ('erratic', 1), ('transmasculine', 1), ('vibe', 1), ('mcauliffe', 1), ('misshapen', 1), ('raisins', 1), ('fertility', 1), ('schlegel', 1), ('hyatt', 1), ('herd', 1), ('ricci', 1), ('shiite', 1), ('redacted', 1), ('ulcerative', 1), ('colitis', 1), ('manufactures', 1), ('flirts', 1), ('mugged', 1), ('enhanced', 1), ('ut', 1), ('trumpland', 1), ('victories', 1), ('billed', 1), ('woodpecker', 1), ('heck', 1), ('probiotic', 1), ('johanns', 1), ('stonewalling', 1), ('istonewall', 1), ('piggies', 1), ('clouds', 1), ('utters', 1), ('beekeepers', 1), ('nuestra', 1), ('palabra', 1), ('areplacement', 1), ('inflating', 1), ('corrupted', 1), ('csi', 1), ('garnering', 1), ('chad', 1), ('complexity', 1), ('foxwoods', 1), ('radish', 1), ('squawking', 1), ('startling', 1), ('harmon', 1), ('harvests', 1), ('amiddle', 1), ('locates', 1), ('lovelorn', 1), ('aches', 1), ('subtitles', 1), ('sia', 1), ('grammatical', 1), ('trivial', 1), ('parotid', 1), ('chiquita', 1), ('immortality', 1), ('credible', 1), ('soapy', 1), ('subsidizing', 1), ('sagan', 1), ('superstition', 1), ('bestows', 1), ('troubles', 1), ('silo', 1), ('liu', 1), ('xiaobo', 1), ('stationed', 1), ('enactors', 1), ('gushing', 1), ('brees', 1), ('dui', 1), ('cyborg', 1), ('ingrained', 1), ('practiced', 1), ('dodging', 1), ('archangels', 1), ('awoke', 1), ('sykes', 1), ('diss', 1), ('sternly', 1), ('dribble', 1), ('ecclesiastic', 1), ('amplifyd', 1), ('asthmatic', 1), ('asthmatics', 1), ('scarier', 1), ('temper', 1), ('loveless', 1), ('offset', 1), ('rehabilitated', 1), ('roseburg', 1), ('neons', 1), ('intolerance', 1), ('affable', 1), ('semite', 1), ('doe', 1), ('amended', 1), ('gefloigel', 1), ('trai', 1), ('byers', 1), ('squashes', 1), ('fraction', 1), ('bloodline', 1), ('oracle', 1), ('raindrop', 1), ('viewership', 1), ('impish', 1), ('brit', 1), ('guarding', 1), ('recruiting', 1), ('incinerating', 1), ('sympathizers', 1), ('folding', 1), ('multitasking', 1), ('movers', 1), ('hormone', 1), ('servicemembers', 1), ('doubling', 1), ('walkover', 1), ('237', 1), ('bloods', 1), ('hokey', 1), ('ronnie', 1), ('amonster', 1), ('devastation', 1), ('vanuatu', 1), ('appointing', 1), ('rodney', 1), ('horribly', 1), ('deregulation', 1), ('disorderly', 1), ('intoxication', 1), ('windy', 1), ('myers', 1), ('numb', 1), ('benched', 1), ('scribbles', 1), ('painkiller', 1), ('scrawling', 1), ('arevenge', 1), ('mornin', 1), ('landrieu', 1), ('576', 1), ('evaluating', 1), ('hb', 1), ('weakest', 1), ('youngest', 1), ('proceed', 1), ('zoologists', 1), ('neurology', 1), ('gunfight', 1), ('swedes', 1), ('overheating', 1), ('burger–eating', 1), ('coloreds', 1), ('continuously', 1), ('manipulating', 1), ('wowing', 1), ('residency', 1), ('starves', 1), ('fedexed', 1), ('summoning', 1), ('paralympic', 1), ('triathlon', 1), ('fark', 1), ('mockery', 1), ('florence', 1), ('barbaric', 1), ('gouges', 1), ('shroud', 1), ('crows', 1), ('megadrought', 1), ('verifying', 1), ('establishes', 1), ('swans', 1), ('necks', 1), ('corgi', 1), ('sørvágsvatn', 1), ('trippy', 1), ('doggie', 1), ('ruff', 1), ('mosel', 1), ('riesling', 1), ('festering', 1), ('roasting', 1), ('roofs', 1), ('fashionistas', 1), ('licks', 1), ('proclaiming', 1), ('endangerment', 1), ('unidentified', 1), ('misconceptions', 1), ('hebrew', 1), ('mockingly', 1), ('misinterpreted', 1), ('sarcasm', 1), ('miscalculation', 1), ('heartbreakingly', 1), ('cornfield', 1), ('marveling', 1), ('downgrade', 1), ('chinaware', 1), ('hadifferent', 1), ('paradox', 1), ('passport', 1), ('descent', 1), ('chainsaw', 1), ('disconnect', 1), ('nfc', 1), ('tarot', 1), ('dade', 1), ('socially', 1), ('freelance', 1), ('careers', 1), ('cartman', 1), ('unpledged', 1), ('wellesley', 1), ('brochure', 1), ('unspoken', 1), ('chamomile', 1), ('dacamented', 1), ('convoy', 1), ('bombed', 1), ('truthers', 1), ('accompanied', 1), ('juniors', 1), ('myung', 1), ('solicitor', 1), ('burwell', 1), ('conservationist', 1), ('nipsey', 1), ('volume', 1), ('couplets', 1), ('nicest', 1), ('woodward', 1), ('tomatoes', 1), ('ferocious', 1), ('spermicide', 1), ('greeter', 1), ('passive', 1), ('libs', 1), ('roils', 1), ('vape', 1), ('audited', 1), ('offensiveness', 1), ('accessory', 1), ('forge', 1), ('excusing', 1), ('testifying', 1), ('amay', 1), ('googlers', 1), ('timed', 1), ('deemphasize', 1), ('motivations', 1), ('volunteering', 1), ('electrician', 1), ('jigsaw', 1), ('reviewer', 1), ('implementation', 1), ('racetrack', 1), ('punt', 1), ('xabraxian', 1), ('fads', 1), ('mull', 1), ('stine', 1), ('housed', 1), ('adoptions', 1), ('humiliate', 1), ('urschel', 1), ('unreported', 1), ('flabbergasted', 1), ('masochistic', 1), ('seaside', 1), ('cottage', 1), ('greatly', 1), ('legeno', 1), ('hiking', 1), ('optimism', 1), ('jonbenét', 1), ('ireporters', 1), ('unified', 1), ('abcs', 1), ('modify', 1), ('redd', 1), ('directive', 1), ('fools', 1), ('bulbs', 1), ('hotlines', 1), ('upn', 1), ('bends', 1), ('burrows', 1), ('abolish', 1), ('squatters', 1), ('emerald', 1), ('playgrounds', 1), ('paste', 1), ('apeshit', 1), ('giver', 1), ('navigate', 1), ('declassifies', 1), ('edgar', 1), ('munster', 1), ('shrivels', 1), ('herculean', 1), ('thresholds', 1), ('traction', 1), ('harshest', 1), ('grandfathers', 1), ('drapes', 1), ('shawl', 1), ('immodest', 1), ('mayim', 1), ('bialik', 1), ('fleeting', 1), ('ministry', 1), ('arealistic', 1), ('cellist', 1), ('classical', 1), ('expressions', 1), ('ambush', 1), ('wissam', 1), ('mana', 1), ('therapists', 1), ('kasparov', 1), ('rezzed', 1), ('blu', 1), ('ispring', 1), ('breakers', 1), ('funk', 1), ('mechanism', 1), ('israelites', 1), ('sinai', 1), ('pharaoh', 1), ('pawns', 1), ('hoodie', 1), ('impart', 1), ('unrewarding', 1), ('captioned', 1), ('charismatic', 1), ('lichen', 1), ('highs', 1), ('lodging', 1), ('643', 1), ('457', 1), ('stump', 1), ('candlelight', 1), ('dissenters', 1), ('detestable', 1), ('bosley', 1), ('morbid', 1), ('karenina', 1), ('fidelity', 1), ('bushnell', 1), ('buzzwords', 1), ('lookin', 1), ('tripled', 1), ('catcaller', 1), ('nicholas', 1), ('flagrantly', 1), ('displaying', 1), ('kidnappers', 1), ('nachos', 1), ('senatorial', 1), ('volatility', 1), ('400th', 1), ('feasts', 1), ('paintball', 1), ('fined', 1), ('175', 1), ('shittiest', 1), ('overhauls', 1), ('persky', 1), ('deputizes', 1), ('isexiest', 1), ('paraphernalia', 1), ('fleshlighthouse', 1), ('texture', 1), ('aspershirt', 1), ('relieves', 1), ('savion', 1), ('marshmallow', 1), ('subprime', 1), ('stipple', 1), ('chixx', 1), ('perdue', 1), ('deport', 1), ('roam', 1), ('tbilisi', 1), ('jars', 1), ('ballgown', 1), ('converted', 1), ('sleater', 1), ('careerlink', 1), ('connects', 1), ('alums', 1), ('cooperate', 1), ('exhibited', 1), ('enacted', 1), ('exercises', 1), ('thugs', 1), ('presentness', 1), ('lund', 1), ('lbj', 1), ('exhumed', 1), ('impropriety', 1), ('dialed', 1), ('lorne', 1), ('spinal', 1), ('nominates', 1), ('disposal', 1), ('daley', 1), ('nurture', 1), ('originate', 1), ('dataclysm', 1), ('dolores', 1), ('huerta', 1), ('newcomers', 1), ('grains', 1), ('animatronic', 1), ('cathedral', 1), ('texters', 1), ('bumping', 1), ('outing', 1), ('unbearably', 1), ('isaved', 1), ('alleviate', 1), ('spoke', 1), ('qualms', 1), ('caging', 1), ('ishattered', 1), ('uglification', 1), ('g7', 1), ('fanatically', 1), ('pegg', 1), ('mack', 1), ('270', 1), ('conspiracies', 1), ('shortens', 1), ('slogan', 1), ('garcía', 1), ('márquez', 1), ('pommel', 1), ('shoutout', 1), ('circulation', 1), ('dishonor', 1), ('gottfried', 1), ('brisket', 1), ('saldiva', 1), ('batshitzania', 1), ('settles', 1), ('concise', 1), ('instructors', 1), ('chauvinist', 1), ('generously', 1), ('slaughters', 1), ('middlemen', 1), ('stuporous', 1), ('adelanto', 1), ('annoyingly', 1), ('malfunctioning', 1), ('pyrotechnics', 1), ('platt', 1), ('bakula', 1), ('khaled', 1), ('vaquita', 1), ('porpoise', 1), ('suge', 1), ('beefs', 1), ('49ers', 1), ('ot', 1), ('tenuous', 1), ('tweak', 1), ('newswoman', 1), ('fielder', 1), ('chewed', 1), ('rinsed', 1), ('tormented', 1), ('whitewashing', 1), ('peasant', 1), ('amc', 1), ('demonic', 1), ('bulging', 1), ('sands', 1), ('wanders', 1), ('wtf', 1), ('wiseau', 1), ('mantle', 1), ('passover', 1), ('clarified', 1), ('getter', 1), ('verbalizing', 1), ('edwards2016', 1), ('remedies', 1), ('00000000001', 1), ('freudian', 1), ('overcrowding', 1), ('libyans', 1), ('bedford', 1), ('ku', 1), ('klux', 1), ('klan', 1), ('plumage', 1), ('resourceful', 1), ('cobble', 1), ('annoyances', 1), ('payer', 1), ('sylville', 1), ('beginners', 1), ('survivalist', 1), ('tanning', 1), ('quantico', 1), ('ode', 1), ('unsettled', 1), ('possessed', 1), ('asean', 1), ('alvah', 1), ('roebuck', 1), ('discourages', 1), ('knocker', 1), ('sicily', 1), ('naples', 1), ('revoking', 1), ('verified', 1), ('deflate', 1), ('intergenerational', 1), ('dings', 1), ('wiser', 1), ('lugar', 1), ('hamstring', 1), ('napkinless', 1), ('embalmings', 1), ('1986', 1), ('exchanges', 1), ('versa', 1), ('bishops', 1), ('predominantly', 1), ('canon', 1), ('5d', 1), ('iv', 1), ('jpso', 1), ('peaches', 1), ('monroee', 1), ('teamlogan', 1), ('microbrewer', 1), ('dalit', 1), ('partnerships', 1), ('gator', 1), ('monaco', 1), ('penthousing', 1), ('pavlovian', 1), ('maxx', 1), ('shoplift', 1), ('concur', 1), ('wgn', 1), ('redirects', 1), ('pools', 1), ('recanting', 1), ('rubs', 1), ('umpqua', 1), ('yearns', 1), ('gems', 1), ('buses', 1), ('positively', 1), ('aching', 1), ('plump', 1), ('boundless', 1), ('skimp', 1), ('landers', 1), ('calmly', 1), ('emptying', 1), ('stitched', 1), ('clinical', 1), ('dunked', 1), ('overhear', 1), ('stink', 1), ('amon', 1), ('surged', 1), ('overpass', 1), ('humanities', 1), ('fourths', 1), ('yauch', 1), ('frees', 1), ('tibet', 1), ('kilauea', 1), ('eavesdropped', 1), ('wooded', 1), ('unsee', 1), ('angles', 1), ('ventures', 1), ('benetton', 1), ('maxine', 1), ('linehan', 1), ('ewen', 1), ('tedx', 1), ('bassnectar', 1), ('cuteness', 1), ('heineken', 1), ('danube', 1), ('cinnabontography', 1), ('lesley', 1), ('kagen', 1), ('embroidery', 1), ('rents', 1), ('stagnant', 1), ('terrence', 1), ('malick', 1), ('freida', 1), ('pinto', 1), ('bodyguards', 1), ('caucasians', 1), ('predictions', 1), ('beelines', 1), ('pinhead', 1), ('boneless', 1), ('weekley', 1), ('newsom', 1), ('contributor', 1), ('gulp', 1), ('alumnus', 1), ('evan', 1), ('brouhaha', 1), ('marni', 1), ('atms', 1), ('sweepers', 1), ('slaughterhouse', 1), ('1993', 1), ('camry', 1), ('barging', 1), ('nostalgically', 1), ('eventually', 1), ('incline', 1), ('marina', 1), ('thwarts', 1), ('rotisseries', 1), ('wack', 1), ('aumf', 1), ('outfoxed', 1), ('sheriffs', 1), ('puzo', 1), ('mcgovern', 1), ('perkins', 1), ('caine', 1), ('aiello', 1), ('dern', 1), ('pong', 1), ('hadaily', 1), ('unreasonable', 1), ('responding', 1), ('erykah', 1), ('badu', 1), ('arsons', 1), ('signaling', 1), ('glaze', 1), ('serf', 1), ('subjugation', 1), ('derived', 1), ('estimated', 1), ('collected', 1), ('granny', 1), ('suffused', 1), ('undertones', 1), ('dyke', 1), ('impromptu', 1), ('1996', 1), ('reintegration', 1), ('tickled', 1), ('amok', 1), ('zee', 1), ('publik', 1), ('ragnar', 1), ('impulsive', 1), ('zoologist', 1), ('tranquilizing', 1), ('asimo', 1), ('tricked', 1), ('d23', 1), ('sanderson', 1), ('inconveniencing', 1), ('riaa', 1), ('flirt', 1), ('struggled', 1), ('seatmates', 1), ('landlines', 1), ('sebastian', 1), ('gorka', 1), ('sour', 1), ('detergent', 1), ('pods', 1), ('raining', 1), ('heirloom', 1), ('costas', 1), ('darcy', 1), ('printable', 1), ('procrastinators', 1), ('furries', 1), ('pinching', 1), ('radiohead', 1), ('explored', 1), ('creepiest', 1), ('cuisine', 1), ('revs', 1), ('denée', 1), ('benton', 1), ('modeled', 1), ('heyday', 1), ('foremost', 1), ('aquaman', 1), ('viagra', 1), ('isicario', 1), ('villeneuve', 1), ('senseless', 1), ('engages', 1), ('budapest', 1), ('soros', 1), ('gush', 1), ('katif', 1), ('disengagement', 1), ('okcupid', 1), ('clicks', 1), ('shingling', 1), ('arnold', 1), ('apprentice', 1), ('déjà', 1), ('seething', 1), ('betraying', 1), ('midwesterners', 1), ('asylums', 1), ('secluded', 1), ('stoners', 1), ('brook', 1), ('jostled', 1), ('liev', 1), ('schreiber', 1), ('flips', 1), ('asiana', 1), ('livestreams', 1), ('neutered', 1), ('statuette', 1), ('zest', 1), ('marcus', 1), ('mariota', 1), ('vespa', 1), ('enchants', 1), ('sparing', 1), ('spirited', 1), ('patrols', 1), ('mohandas', 1), ('uncaring', 1), ('laze', 1), ('janitor', 1), ('briefcases', 1), ('yoda', 1), ('masturbate', 1), ('underutilized', 1), ('biv', 1), ('devoe', 1), ('insights', 1), ('berated', 1), ('craggy', 1), ('ogres', 1), ('gaulle', 1), ('md', 1), ('friendliest', 1), ('\\u200breport', 1), ('amaternal', 1), ('teamnocancer', 1), ('cranky', 1), ('quieted', 1), ('brightly', 1), ('pittsburgh', 1), ('k2', 1), ('emancipation', 1), ('proclamation', 1), ('imani', 1), ('boyette', 1), ('taiwanese', 1), ('sonata', 1), ('colts', 1), ('vixen', 1), ('renegotiate', 1), ('decimating', 1), ('populations', 1), ('lorna', 1), ('meditations', 1), ('blackness', 1), ('wick', 1), ('diffuser', 1), ('oswald', 1), ('rancher', 1), ('wrestle', 1), ('arthur', 1), ('baghdadi', 1), ('salma', 1), ('hayek', 1), ('generate', 1), ('moose', 1), ('anaconda', 1), ('melting', 1), ('wobbles', 1), ('axis', 1), ('roudup', 1), ('ragsdale', 1), ('homan', 1), ('pads', 1), ('evacuees', 1), ('liposuction', 1), ('comparison', 1), ('obstructionist', 1), ('prius', 1), ('rudimentary', 1), ('obstructionism', 1), ('pavel', 1), ('durov', 1), ('deed', 1), ('outpaces', 1), ('hadolphin', 1), ('bangerz', 1), ('epperson', 1), ('unmasked', 1), ('sprouts', 1), ('wrapper', 1), ('regulator', 1), ('petulant', 1), ('manzo', 1), ('mowing', 1), ('murky', 1), ('constable', 1), ('eviction', 1), ('artiste', 1), ('moleskine', 1), ('tammys', 1), ('renaissance', 1), ('sculptures', 1), ('courses', 1), ('undercut', 1), ('jabs', 1), ('hardliners', 1), ('sweetens', 1), ('dunks', 1), ('isense', 1), ('arrhythmically', 1), ('vertical', 1), ('meeker', 1), ('jakrapong', 1), ('kongmalai', 1), ('unhappier', 1), ('banquet', 1), ('devout', 1), ('gardening', 1), ('revenant', 1), ('cialis', 1), ('tally', 1), ('scoring', 1), ('perps', 1), ('plummeting—no', 1), ('wait—skyrocketing—no', 1), ('plummeting', 1), ('wakeup', 1), ('plop', 1), ('manufacture', 1), ('suzy', 1), ('qs', 1), ('bribing', 1), ('wideawakepatriot', 1), ('distract', 1), ('grift', 1), ('divestment', 1), ('locket', 1), ('reclaims', 1), ('doubletree', 1), ('cadillac', 1), ('legislating', 1), ('zell', 1), ('trademarks', 1), ('dreamlike', 1), ('sponsored', 1), ('dangelo', 1), ('protestors', 1), ('hemophiliac', 1), ('generator', 1), ('bouncers', 1), ('depletes', 1), ('hadanish', 1), ('irregularities', 1), ('puddles', 1), ('revulsion', 1), ('appointments', 1), ('coco', 1), ('kylo', 1), ('ren', 1), ('sorta', 1), ('ameasles', 1), ('exempt', 1), ('glowed', 1), ('waverly', 1), ('scampi', 1), ('©', 1), ('brew', 1), ('plotholes', 1), ('pap', 1), ('fudge', 1), ('tastic', 1), ('adria', 1), ('cimino', 1), ('striking', 1), ('fireplace', 1), ('creeps', 1), ('goop', 1), ('ophthalmologist', 1), ('pepperoni', 1), ('clocked', 1), ('137', 1), ('cutscenes', 1), ('congratulations', 1), ('tentatively', 1), ('shanghai', 1), ('netherlands', 1), ('credited', 1), ('storylines', 1), ('unintentionally', 1), ('iseductive', 1), ('worldview', 1), ('llc', 1), ('stricter', 1), ('compiles', 1), ('shortlist', 1), ('transsexual', 1), ('cultivate', 1), ('cleverly', 1), ('alters', 1), ('materialistic', 1), ('dachshund', 1), ('krill', 1), ('convicts', 1), ('tormentor', 1), ('muted', 1), ('preserver', 1), ('panels', 1), ('ubs', 1), ('fiance', 1), ('burke', 1), ('signify', 1), ('cubicle', 1), ('outgrown', 1), ('embalm', 1), ('copper', 1), ('slime', 1), ('cocooned', 1), ('ooze', 1), ('chenoweth', 1), ('estefan', 1), ('webber', 1), ('primates', 1), ('myopia', 1), ('queerbaiting', 1), ('uterine', 1), ('extravagant', 1), ('66', 1), ('pantyhose', 1), ('kmart', 1), ('linger', 1), ('delicately', 1), ('broached', 1), ('supervised', 1), ('careens', 1), ('fatherhood', 1), ('cheyenne', 1), ('cataclysmic', 1), ('jointed', 1), ('headstone', 1), ('undiscovered', 1), ('closely', 1), ('resembling', 1), ('nonvoter', 1), ('euphemism', 1), ('statisticians', 1), ('strolling', 1), ('birchbox', 1), ('amateur', 1), ('prosecutorial', 1), ('manipulation', 1), ('bushed', 1), ('tirelessly', 1), ('mubarak', 1), ('gazing', 1), ('masterson', 1), ('cornell', 1), ('brutalized', 1), ('aspen', 1), ('souter', 1), ('2m', 1), ('nova', 1), ('boobs', 1), ('bouncin', 1), ('slithers', 1), ('debunking', 1), ('quicker', 1), ('huddling', 1), ('scorpions', 1), ('cannonball', 1), ('prescribe', 1), ('ketamine', 1), ('depressant', 1), ('jamal', 1), ('polanski', 1), ('controversies', 1), ('canyon', 1), ('\\u200begyptian', 1), ('\\u200bmummies', 1), ('worshipping', 1), ('polka', 1), ('loeffelmacher', 1), ('thatcher', 1), ('scattered', 1), ('wildebeest', 1), ('snuggle', 1), ('competitor', 1), ('harness', 1), ('macrowave', 1), ('defrost', 1), ('tringle', 1), ('inflates', 1), ('hammerhead', 1), ('diagnoses', 1), ('insecure', 1), ('marcotte', 1), ('respects', 1), ('outlining', 1), ('amanchester', 1), ('leveling', 1), ('istars', 1), ('thinkers', 1), ('denominational', 1), ('faiths', 1), ('clenched', 1), ('rationality', 1), ('isimply', 1), ('unworkable', 1), ('abbi', 1), ('fieri', 1), ('assert', 1), ('embed', 1), ('principle', 1), ('effectiveness', 1), ('catalogue', 1), ('conversational', 1), ('lamprey', 1), ('regurgitating', 1), ('sioux', 1), ('122', 1), ('eyeing', 1), ('koko', 1), ('relocation', 1), ('whipple', 1), ('straightens', 1), ('amelania', 1), ('mermaid', 1), ('yolk', 1), ('goode', 1), ('remington', 1), ('ossoff', 1), ('lossoff', 1), ('maybelline', 1), ('injectable', 1), ('masturbatory', 1), ('climax', 1), ('graveyard', 1), ('sucking', 1), ('marrow', 1), ('caylee', 1), ('disables', 1), ('ophelia', 1), ('hick', 1), ('nobodies', 1), ('streaking', 1), ('punish', 1), ('reign', 1), ('yousafzai', 1), ('molotov', 1), ('shatters', 1), ('domesticating', 1), ('devotees', 1), ('hermits', 1), ('willem', 1), ('dafoe', 1), ('arbitration', 1), ('vitriol', 1), ('mortarboard', 1), ('extramarital', 1), ('agribusiness', 1), ('aatish', 1), ('taseer', 1), ('sanskrit', 1), ('endeavour', 1), ('ünited', 1), ('stätes', 1), ('toughens', 1), ('umlauts', 1), ('straws', 1), ('talents', 1), ('inserting', 1), ('oven', 1), ('insta', 1), ('raciest', 1), ('maldives', 1), ('legislative', 1), ('branches', 1), ('isend', 1), ('165', 1), ('apocalypto', 1), ('federally', 1), ('wetlands', 1), ('wannabe', 1), ('adamant', 1), ('forbearance', 1), ('sealed', 1), ('falsely', 1), ('cons', 1), ('lumberjack', 1), ('hadoing', 1), ('benchmark', 1), ('isignificant', 1), ('asterisk', 1), ('pumped', 1), ('plausible', 1), ('deniability', 1), ('obamaandkids', 1), ('crimean', 1), ('starfucker', 1), ('multidisciplinary', 1), ('roughed', 1), ('stickers', 1), ('chia', 1), ('legit', 1), ('jelly', 1), ('shriveled', 1), ('colorblind', 1), ('isexist', 1), ('rashida', 1), ('rewind', 1), ('breathtaking', 1), ('spiders', 1), ('oat', 1), ('barley', 1), ('mistaking', 1), ('gratuitous', 1), ('mugger', 1), ('mp3', 1), ('weirder', 1), ('norm', 1), ('macdonald', 1), ('disquieting', 1), ('uzo', 1), ('aduba', 1), ('attire', 1), ('ogre', 1), ('unplug', 1), ('continuity', 1), ('farmland', 1), ('somalian', 1), ('exorcism', 1), ('isupergirl', 1), ('misogynistic', 1), ('crucifix', 1), ('heightened', 1), ('rosario', 1), ('educates', 1), ('ucsf', 1), ('benioff', 1), ('rockin', 1), ('animator', 1), ('unsliced', 1), ('shames', 1), ('amexican', 1), ('dedication', 1), ('pillaging', 1), ('shrek', 1), ('shortsighted', 1), ('coldplay', 1), ('wither', 1), ('mpaa', 1), ('dropthecover', 1), ('vol', 1), ('vent', 1), ('visor', 1), ('sperm', 1), ('warcraft', 1), ('blizzcon', 1), ('jettisons', 1), ('airlock', 1), ('dejected', 1), ('sustenance', 1), ('ee', 1), ('argentinian', 1), ('caleb', 1), ('skirmish', 1), ('cubes', 1), ('spec', 1), ('reinvest', 1), ('economies', 1), ('blurb', 1), ('themes', 1), ('christophe', 1), ('michalak', 1), ('oitnb', 1), ('morally', 1), ('corrupting', 1), ('yanking', 1), ('wincing', 1), ('allegories', 1), ('blade', 1), ('2049', 1), ('indecency', 1), ('fisting', 1), ('enjoyment', 1), ('nom', 1), ('funneled', 1), ('notify', 1), ('isteak', 1), ('onions', 1), ('damns', 1), ('requested', 1), ('bury', 1), ('aimlessly', 1), ('armchair', 1), ('blitzed', 1), ('regain', 1), ('champs', 1), ('triumphal', 1), ('canoeing', 1), ('rousing', 1), ('invader', 1), ('acquittal', 1), ('houseplant', 1), ('iceman', 1), ('cometh', 1), ('sparrow', 1), ('hadaddy', 1), ('sharpie', 1), ('newport', 1), ('instagrammed', 1), ('buttocks', 1), ('undulate', 1), ('hypnotically', 1), ('girders', 1), ('594', 1), ('sudafed', 1), ('congestion', 1), ('hors', 1), ('doeuvres', 1), ('scholarships', 1), ('astana', 1), ('xxs', 1), ('orphanage', 1), ('wallpaper', 1), ('recommit', 1), ('steinem', 1), ('leppard', 1), ('busiest', 1), ('overlook', 1), ('newark', 1), ('cedrick', 1), ('chatman', 1), ('municipality', 1), ('giddily', 1), ('isore', 1), ('loserman', 1), ('wedged', 1), ('sociologists', 1), ('emergence', 1), ('windmill', 1), ('toeing', 1), ('rossdale', 1), ('napoleon', 1), ('pieced', 1), ('motorcyclists', 1), ('casualwear', 1), ('plastics', 1), ('nph', 1), ('radcliffe', 1), ('cripple', 1), ('immensity', 1), ('changers', 1), ('ming', 1), ('yuan', 1), ('mainland', 1), ('backpage', 1), ('pimping', 1), ('extending', 1), ('tailgate', 1), ('rulings', 1), ('profumi', 1), ('firenze', 1), ('declassified', 1), ('fingered', 1), ('discussing', 1), ('vibes', 1), ('expelled', 1), ('loads', 1), ('captains', 1), ('lenses', 1), ('canonized', 1), ('jabbar', 1), ('switzerland', 1), ('istate', 1), ('unchallenged', 1), ('induce', 1), ('slapping', 1), ('kemp', 1), ('smartwatch', 1), ('arepealing', 1), ('spur', 1), ('blaring', 1), ('irreplaceable', 1), ('hadrunk', 1), ('predators', 1), ('marlin', 1), ('fundamentally', 1), ('yatseniuk', 1), ('hutcherson', 1), ('gorge', 1), ('prophesied', 1), ('corners', 1), ('decked', 1), ('relabeled', 1), ('timeline', 1), ('zodiac', 1), ('defiantly', 1), ('scone', 1), ('resuscitated', 1), ('collisions', 1), ('gabriella', 1), ('oddsmakers', 1), ('alienation', 1), ('citigroup', 1), ('clique', 1), ('ex–goldman', 1), ('gt', 1), ('conservatism', 1), ('pwc', 1), ('enrique', 1), ('iglesias', 1), ('kournikova', 1), ('selflessly', 1), ('traits', 1), ('dreamily', 1), ('deliberations', 1), ('isyrians', 1), ('goodnight', 1), ('twitch', 1), ('streamer', 1), ('faker', 1), ('ouchless', 1), ('adhesive', 1), ('outlived', 1), ('geist', 1), ('genetics', 1), ('emphatically', 1), ('unplayed', 1), ('sushi', 1), ('rig', 1), ('teri', 1), ('hatcher', 1), ('ischizophrenic', 1), ('helberg', 1), ('guild', 1), ('arefugees', 1), ('2k16', 1), ('hurtful', 1), ('wantonly', 1), ('distracted', 1), ('plumbing', 1), ('skews', 1), ('vaccinations', 1), ('stockpile', 1), ('steroids', 1), ('cinephiles', 1), ('incite', 1), ('rosa', 1), ('translated', 1), ('pathetically', 1), ('comb', 1), ('observes', 1), ('impregnable', 1), ('playplace', 1), ('frein', 1), ('brackets', 1), ('stove', 1), ('mythbusters', 1), ('chiropractor', 1), ('vertebrae', 1), ('tamp', 1), ('conned', 1), ('yin', 1), ('inroads', 1), ('horner', 1), ('midtown', 1), ('entomologists', 1), ('retract', 1), ('clump', 1), ('della', 1), ('robbin', 1), ('reek', 1), ('craftmatic', 1), ('adjustable', 1), ('washer', 1), ('sus', 1), ('freakshow', 1), ('awww', 1), ('frustrations', 1), ('mutilating', 1), ('deadlines', 1), ('romeo', 1), ('juliet', 1), ('ia', 1), ('amorphous', 1), ('indefinable', 1), ('fixes', 1), ('flicker', 1), ('electrocution', 1), ('hscc2015', 1), ('tattletale', 1), ('endurance', 1), ('oxiclean', 1), ('scissors', 1), ('distraught', 1), ('lineups', 1), ('spatula', 1), ('alexandra', 1), ('zissu', 1), ('sónar', 1), ('corresponding', 1), ('shook', 1), ('holtzclaw', 1), ('lopsided', 1), ('ossifies', 1), ('agendas', 1), ('1915', 1), ('electronica', 1), ('botany', 1), ('outperforming', 1), ('fatality', 1), ('angelic', 1), ('contractor', 1), ('jihadists', 1), ('equivalency', 1), ('tel', 1), ('aviv', 1), ('waltz', 1), ('romanticized', 1), ('trumpet', 1), ('cutback', 1), ('farmworker', 1), ('cone', 1), ('deployed', 1), ('hysterically', 1), ('sawed', 1), ('swells', 1), ('locator', 1), ('guidelines', 1), ('canby', 1), ('overlong', 1), ('paced', 1), ('portraying', 1), ('pranksters', 1), ('rename', 1), ('wurst', 1), ('poopgangsta', 1), ('lotion', 1), ('tastings', 1), ('educational', 1), ('outsize', 1), ('owen', 1), ('maxwell', 1), ('2651', 1), ('downgraded', 1), ('ladybug', 1), ('wakening', 1), ('misspeaks', 1), ('ghouta', 1), ('whippoorwill', 1), ('cobb', 1), ('unicef', 1), ('rundown', 1), ('implosion', 1), ('trapeze', 1), ('reassure', 1), ('slushie', 1), ('yutu', 1), ('hadeveloping', 1), ('quinones', 1), ('kennel', 1), ('espionage', 1), ('tonto', 1), ('themeless', 1), ('jermaine', 1), ('dupri', 1), ('nikolai', 1), ('rimsky', 1), ('korsakov', 1), ('inventive', 1), ('orchestrator', 1), ('shareware', 1), ('unbreakable', 1), ('cecily', 1), ('achievements', 1), ('trumping', 1), ('meanwhile', 1), ('mush', 1), ('satin', 1), ('breakdowns', 1), ('isometimes', 1), ('roach', 1), ('infestation', 1), ('prankster', 1), ('fsu', 1), ('dalvin', 1), ('battery', 1), ('graters', 1), ('interstate', 1), ('mooc', 1), ('nawal', 1), ('teleworks', 1), ('kalamazoo', 1), ('mudslides', 1), ('istarboardwill', 1), ('thunk', 1), ('amoosh', 1), ('baroo', 1), ('ebony', 1), ('magazines', 1), ('witty', 1), ('mulling', 1), ('wltz', 1), ('hartford', 1), ('subhuman', 1), ('ousting', 1), ('implicating', 1), ('renounces', 1), ('weathers', 1), ('philharmonic', 1), ('ocallaghan', 1), ('candidly', 1), ('birdman', 1), ('speechwriting', 1), ('unblemished', 1), ('supple', 1), ('crumble', 1), ('aveage', 1), ('boars', 1), ('outlive', 1), ('centennial', 1), ('hadearly', 1), ('diplomas', 1), ('dusk', 1), ('nights', 1), ('enthralling', 1), ('moderates', 1), ('maría', 1), ('tomás', 1), ('emeritus', 1), ('canonizations', 1), ('microscopic', 1), ('petri', 1), ('superiors', 1), ('khans', 1), ('adidas', 1), ('carpenter', 1), ('dwts', 1), ('rumba', 1), ('simulate', 1), ('reapplies', 1), ('carmex', 1), ('intervals', 1), ('trait', 1), ('sufficiency', 1), ('retweeting', 1), ('benito', 1), ('endometrial', 1), ('cartels', 1), ('hydrated', 1), ('earther', 1), ('quintillion', 1), ('isan', 1), ('gaffer', 1), ('jil', 1), ('filmgoers', 1), ('groceries', 1), ('strategically', 1), ('conveyor', 1), ('portends', 1), ('autoplaying', 1), ('sincere', 1), ('miscast', 1), ('boseman', 1), ('dada', 1), ('irregular', 1), ('nemo', 1), ('buoyant', 1), ('counseling', 1), ('daydreaming', 1), ('rounded', 1), ('chechnya', 1), ('pistachio', 1), ('biscotti', 1), ('kirsch', 1), ('cherries', 1), ('billboards', 1), ('recapping', 1), ('sheep', 1), ('poz', 1), ('collaborating', 1), ('raft', 1), ('sisterhood', 1), ('defanged', 1), ('disheartened', 1), ('nikes', 1), ('curses', 1), ('ringleader', 1), ('amrs', 1), ('quitting', 1), ('cassette', 1), ('lieberman', 1), ('overlords', 1), ('colorism', 1), ('stumping', 1), ('preside', 1), ('attenborough', 1), ('courtship', 1), ('logging', 1), ('unwieldy', 1), ('hewn', 1), ('bumgarner', 1), ('fanny', 1), ('satchel', 1), ('stereotypical', 1), ('pizzeria', 1), ('unremarkable', 1), ('resembles', 1), ('burt', 1), ('idaho', 1), ('napaquake', 1), ('napastrong', 1), ('raunchy', 1), ('rehabilitation', 1), ('wheeled', 1), ('deserving', 1), ('burkini', 1), ('junot', 1), ('virulent', 1), ('misogyny', 1), ('isports', 1), ('roadtrip', 1), ('derives', 1), ('diorama', 1), ('axel', 1), ('stuntman', 1), ('fisheries', 1), ('1822', 1), ('menéndez', 1), ('runaways', 1), ('detour', 1), ('om', 1), ('hadisturbing', 1), ('redhead', 1), ('ismile', 1), ('homosexuals', 1), ('confiding', 1), ('loners', 1), ('azores', 1), ('buscemi', 1), ('shiny', 1), ('foo', 1), ('practical', 1), ('argo', 1), ('vile', 1), ('ripa', 1), ('enbridge', 1), ('goodman', 1), ('ocasey', 1), ('bolling', 1), ('capn', 1), ('ruthless', 1), ('kristofferson', 1), ('unfriending', 1), ('simulator', 1), ('heckling', 1), ('chaka', 1), ('collaborates', 1), ('broadcasting', 1), ('nixonian', 1), ('juliette', 1), ('azealia', 1), ('preoccupation', 1), ('manner', 1), ('nofilter', 1), ('hairs', 1), ('etheridge', 1), ('linda', 1), ('wallem', 1), ('engulf', 1), ('isubway', 1), ('facilitated', 1), ('lng', 1), ('terminals', 1), ('posthumous', 1), ('instructional', 1), ('coaching', 1), ('istand', 1), ('rink', 1), ('dooming', 1), ('strangest', 1), ('landscapes', 1), ('freshener', 1), ('referring', 1), ('babysitters', 1), ('slayed', 1), ('illiteracy', 1), ('copied', 1), ('grexit', 1), ('auditors', 1), ('morass', 1), ('theall', 1), ('showoff', 1), ('pallbearer', 1), ('reassigned', 1), ('genocidal', 1), ('slaver', 1), ('ll', 1), ('rollerball', 1), ('atop', 1), ('scampers', 1), ('detecting', 1), ('inanimate', 1), ('guardrail', 1), ('aegean', 1), ('hsn', 1), ('scratching', 1), ('partygoers', 1), ('harshly', 1), ('croutons', 1), ('fps', 1), ('min', 1), ('1850', 1), ('cretaceous', 1), ('hospice', 1), ('minimizing', 1), ('anus', 1), ('\\u200bexplains\\u200b', 1), ('hadotard', 1), ('rocketman', 1), ('pursues', 1), ('rooftops', 1), ('nonstop', 1), ('fetching', 1), ('berkus', 1), ('jeremiah', 1), ('caretaker', 1), ('country—with', 1), ('strings', 1), ('ivana', 1), ('fluidity', 1), ('kacy', 1), ('assing', 1), ('civilizations', 1), ('bumbum', 1), ('inexperience', 1), ('appointees', 1), ('unbelted', 1), ('lewandowski', 1), ('reignites', 1), ('flay', 1), ('southwestern', 1), ('buffering', 1), ('sugary', 1), ('spineless', 1), ('criers', 1), ('norma', 1), ('mafia', 1), ('peddling', 1), ('trumpismo', 1), ('chaps', 1), ('deviation', 1), ('statistician', 1), ('dullard', 1), ('vocational', 1), ('hurts', 1), ('surmise', 1), ('heartache', 1), ('childless', 1), ('vandal', 1), ('phallus', 1), ('microchips', 1), ('neapolitan', 1), ('sullied', 1), ('brookings', 1), ('aground', 1), ('allegation', 1), ('wiretapped', 1), ('blur', 1), ('bts', 1), ('buttercup', 1), ('gallop', 1), ('torched', 1), ('industrious', 1), ('paddy', 1), ('coliseum', 1), ('chekhovian', 1), ('signifier', 1), ('sighting', 1), ('87th', 1), ('holiest', 1), ('ilana', 1), ('glazer', 1), ('harassers', 1), ('lick', 1), ('dusted', 1), ('hyslop', 1), ('niall', 1), ('horan', 1), ('ginuwine', 1), ('examines', 1), ('trumpist', 1), ('amultiple', 1), ('tougher', 1), ('walgreen', 1), ('tamblyn', 1), ('poems', 1), ('pierre', 1), ('hackathons', 1), ('plummers', 1), ('flo', 1), ('unlock', 1), ('aykroyds', 1), ('interacting', 1), ('depicted', 1), ('betty', 1), ('friedan', 1), ('mirjana', 1), ('lucic', 1), ('baroni', 1), ('thang', 1), ('strang', 1), ('souvenir', 1), ('philanthropy', 1), ('ceding', 1), ('jackals', 1), ('hellerman', 1), ('weavers', 1), ('drexel', 1), ('isatirical', 1), ('forgetful', 1), ('roald', 1), ('dahl', 1), ('ugandan', 1), ('pedicure', 1), ('tubs', 1), ('contextless', 1), ('probing', 1), ('humanists', 1), ('obelisk', 1), ('digitalhealth', 1), ('pained', 1), ('servicewomen', 1), ('listed', 1), ('psychiatric', 1), ('medication', 1), ('schoolyard', 1), ('coulier', 1), ('quaaludes', 1), ('quaalude', 1), ('brazenly', 1), ('politwoops', 1), ('existed', 1), ('livened', 1), ('youtuber', 1), ('sealant', 1), ('surround', 1), ('decoys', 1), ('mathis', 1), ('mancini', 1), ('anson', 1), ('rmh', 1), ('whispered', 1), ('untelevised', 1), ('roofer', 1), ('badmouths', 1), ('recanvass', 1), ('quarterly', 1), ('ramble', 1), ('tyrion', 1), ('betray', 1), ('daenerys', 1), ('mucus', 1), ('clank', 1), ('332', 1), ('lime', 1), ('okinawa', 1), ('1972', 1), ('geithner', 1), ('humiliations', 1), ('specials', 1), ('torturous', 1), ('teasers', 1), ('infomercial', 1), ('skeptical', 1), ('doodles', 1), ('violet', 1), ('slush', 1), ('insignia', 1), ('depositions', 1), ('exaggerate', 1), ('croft', 1), ('crofts', 1), ('groove', 1), ('camila', 1), ('cabello', 1), ('scans', 1), ('bundle', 1), ('bronchitis', 1), ('gosselaar', 1), ('imdb', 1), ('stalking', 1), ('awakening', 1), ('999', 1), ('nondisclosure', 1), ('bonafide', 1), ('outlook', 1), ('groans', 1), ('kon', 1), ('tiki', 1), ('mentalist', 1), ('unseat', 1), ('sobering', 1), ('burrell', 1), ('amini', 1), ('satans', 1), ('beanie', 1), ('226', 1), ('saucer', 1), ('pastoral', 1), ('frustrating', 1), ('omniscient', 1), ('rosaries', 1), ('ashtray', 1), ('decathlon', 1), ('pranked', 1), ('muhammed', 1), ('chillax', 1), ('ticketed', 1), ('dismiss', 1), ('cokes', 1), ('fiber', 1), ('optics', 1), ('phasing', 1), ('trinity', 1), ('epidemics', 1), ('ethic', 1), ('nevertheless', 1), ('persisted', 1), ('cryptozoologist', 1), ('blissful', 1), ('zoomed', 1), ('alohahuffpost', 1), ('petsmart', 1), ('enclosures', 1), ('brownstone', 1), ('metz', 1), ('canteen', 1), ('dms', 1), ('parliamentary', 1), ('fork', 1), ('tine', 1), ('mouthfuls', 1), ('bodyguard', 1), ('lovebird', 1), ('posit', 1), ('rallying', 1), ('langston', 1), ('amaranth', 1), ('plunging', 1), ('townsperson', 1), ('cliven', 1), ('caged', 1), ('sass', 1), ('enrollees', 1), ('await', 1), ('flume', 1), ('redstate', 1), ('leon', 1), ('erick', 1), ('erickson', 1), ('allure', 1), ('crossed', 1), ('minson', 1), ('unlovable', 1), ('algeria', 1), ('nearest', 1), ('wheats', 1), ('magna', 1), ('carta', 1), ('manziel', 1), ('“drain', 1), ('swamp”', 1), ('dilute', 1), ('wipe', 1), ('inherently', 1), ('halfheartedly', 1), ('critter', 1), ('medusa', 1), ('nebula', 1), ('prettier', 1), ('namesake', 1), ('blanks', 1), ('ineffectually', 1), ('panders', 1), ('mechanical', 1), ('jumbo', 1), ('reggie', 1), ('atheletes', 1), ('celestial', 1), ('utopia', 1), ('podcaster', 1), ('habitable', 1), ('2060', 1), ('challenger', 1), ('birmingham', 1), ('frontline', 1), ('ispirit', 1), ('starlet', 1), ('shyla', 1), ('stylez', 1), ('avn', 1), ('ishitfaced', 1), ('cleft', 1), ('palate', 1), ('modernity', 1), ('moroccan', 1), ('mustaches', 1), ('tatted', 1), ('setbacks', 1), ('yamaha', 1), ('skis', 1), ('alto', 1), ('saxophones', 1), ('generators', 1), ('scooters', 1), ('altering', 1), ('aspirations', 1), ('scanned', 1), ('medallist', 1), ('violation', 1), ('emmanuelle', 1), ('seigner', 1), ('dial', 1), ('assemblage', 1), ('allay', 1), ('svu', 1), ('carton', 1), ('gunner', 1), ('guerilla', 1), ('mantra', 1), ('letterbox', 1), ('strollers', 1), ('alpert', 1), ('whipped', 1), ('counterterrorists', 1), ('downplaying', 1), ('homeroom', 1), ('nicki', 1), ('minaj', 1), ('resurrect', 1), ('salah', 1), ('abdeslam', 1), ('socialite', 1), ('cunt', 1), ('frugal', 1), ('dewey', 1), ('decimal', 1), ('categorize', 1), ('belushi', 1), ('davenport', 1), ('sbarro', 1), ('unheeded', 1), ('probiotics', 1), ('prebiotics', 1), ('morphed', 1), ('prism', 1), ('misinformation', 1), ('spiritually', 1), ('bowls', 1), ('pickles', 1), ('sensory', 1), ('deprivation', 1), ('expectant', 1), ('thins', 1), ('shortly', 1), ('vietnamese', 1), ('klum', 1), ('huffs', 1), ('hurriedly', 1), ('attractiveness', 1), ('unavoidable', 1), ('outkast', 1), ('constellations', 1), ('lagarde', 1), ('tycoon', 1), ('payout', 1), ('kwanzaa', 1), ('disappoint', 1), ('blogosphere', 1), ('lash', 1), ('arepublican', 1), ('ryancare', 1), ('exonerated', 1), ('defenseless', 1), ('developmental', 1), ('condemnation', 1), ('gettin', 1), ('seizures', 1), ('consultants', 1), ('oilman', 1), ('recesses', 1), ('ammunition', 1), ('marinara', 1), ('riders', 1), ('monopolizing', 1), ('hypocrisies', 1), ('tarp', 1), ('isister', 1), ('romper', 1), ('terrors', 1), ('jarrel', 1), ('insinuated', 1), ('digger', 1), ('biochemical', 1), ('pogge', 1), ('hadone', 1), ('pheromone', 1), ('secretion', 1), ('shoplifting', 1), ('passively', 1), ('unmarried', 1), ('mandolins', 1), ('duca', 1), ('crony', 1), ('hanson', 1), ('nambla', 1), ('halloweiner', 1), ('frankfest', 1), ('relic', 1), ('anspach', 1), ('pursued', 1), ('invisibility', 1), ('wallis', 1), ('haduke', 1), ('burgundy', 1), ('khloé', 1), ('maisie', 1), ('claps', 1), ('rwanda', 1), ('grandmas', 1), ('serengeti', 1), ('unplanned', 1), ('mentioned', 1), ('ulysses', 1), ('trimmer', 1), ('uncommon', 1), ('crafting', 1), ('marketable', 1), ('quinceañera', 1), ('wilmore', 1), ('spaceport', 1), ('tiq', 1), ('liberation', 1), ('bern', 1), ('stab', 1), ('naïve', 1), ('deteriorating', 1), ('histories', 1), ('queso', 1), ('bh', 1), ('xxxxii', 1), ('noaa', 1), ('refunds', 1), ('shep', 1), ('dakotan', 1), ('gigabite', 1), ('dyed', 1), ('endure', 1), ('cuddling', 1), ('substantial', 1), ('lipnicki', 1), ('spaceballs', 1), ('snowiest', 1), ('resorts', 1), ('individualized', 1), ('buttery', 1), ('investigates', 1), ('paranormal', 1), ('phenomena', 1), ('modernization', 1), ('adrenaline', 1), ('gerbil', 1), ('balks', 1), ('coincides', 1), ('fraudsters', 1), ('reap', 1), ('goldie', 1), ('hawn', 1), ('latinx', 1), ('mascot', 1), ('consolidation', 1), ('foreboding', 1), ('entrees', 1), ('535', 1), ('labeouf', 1), ('nissan', 1), ('waterston', 1), ('moloch', 1), ('deloitte', 1), ('accountant', 1), ('audit', 1), ('calculations', 1), ('cannsas', 1), ('shedd', 1), ('doorstops', 1), ('doorblocker', 1), ('appellate', 1), ('gaziantep', 1), ('sarandon', 1), ('gambles', 1), ('staplings', 1), ('amotorcycle', 1), ('yarn', 1), ('comet', 1), ('philae', 1), ('maple', 1), ('debuted', 1), ('paroled', 1), ('gravestones', 1), ('toppled', 1), ('interventions', 1), ('ishort', 1), ('bucking', 1), ('milkshakes', 1), ('halo', 1), ('multiplayer', 1), ('exiles', 1), ('menstruating', 1), ('attach', 1), ('voided', 1), ('watered', 1), ('sunk', 1), ('jamaica', 1), ('hollande', 1), ('valls', 1), ('evacuating', 1), ('surfbort', 1), ('cr', 1), ('aremorseless', 1), ('ozzie', 1), ('guillen', 1), ('morse', 1), ('cared', 1), ('samuel', 1), ('pilsner', 1), ('idly', 1), ('financing', 1), ('nif', 1), ('fracas', 1), ('splurged', 1), ('intimidate', 1), ('pouring', 1), ('caked', 1), ('corroboration', 1), ('reinstate', 1), ('ambulance', 1), ('theoretically', 1), ('pushier', 1), ('accusingly', 1), ('1948', 1), ('istunt', 1), ('decrees', 1), ('drafted', 1), ('hadissent', 1), ('objecting', 1), ('friendships', 1), ('opec', 1), ('builders', 1), ('hindsight', 1), ('ice—and', 1), ('baskets', 1), ('waterspout', 1), ('comrade', 1), ('ducts', 1), ('pelvic', 1), ('supplied', 1), ('razzle', 1), ('blend', 1), ('constructive', 1), ('revelers', 1), ('patti', 1), ('lupone', 1), ('hummingbirds', 1), ('incubators', 1), ('curried', 1), ('odorless', 1), ('directtv', 1), ('injecting', 1), ('furloughs', 1), ('nonessential', 1), ('raffle', 1), ('disgust', 1), ('anachronism', 1), ('inaccuracies', 1), ('chops', 1), ('rescinding', 1), ('keqiang', 1), ('demoralized', 1), ('empowerment', 1), ('overalls', 1), ('macaulay', 1), ('culkin', 1), ('condo', 1), ('bylaw', 1), ('deb', 1), ('fallacy', 1), ('coerced', 1), ('officiants', 1), ('chaplaincy', 1), ('avalanche', 1), ('saliva', 1), ('skillingsbolle', 1), ('referee', 1), ('hochuli', 1), ('vulgaria', 1), ('firstborn', 1), ('elmo', 1), ('puppeteer', 1), ('iskip', 1), ('sportswriter', 1), ('weakened', 1), ('demography', 1), ('demographer', 1), ('brienne', 1), ('amust', 1), ('enforced', 1), ('unload', 1), ('superficial', 1), ('na', 1), ('cheesesteak', 1), ('miracles', 1), ('bb', 1), ('etna', 1), ('iud', 1), ('queerness', 1), ('saget', 1), ('geddes', 1), ('savory', 1), ('loaf', 1), ('burglary', 1), ('rubber', 1), ('hinky', 1), ('skylight', 1), ('yellows', 1), ('heimlich', 1), ('maneuver', 1), ('royalties', 1), ('midwife', 1), ('gooey', 1), ('mace', 1), ('sketched', 1), ('hadick', 1), ('hotcake', 1), ('brisk', 1), ('it\\x99', 1), ('trademarked', 1), ('corbyn', 1), ('fryer', 1), ('spawns', 1), ('devastate', 1), ('airspace', 1), ('stouffer', 1), ('steaks', 1), ('hades', 1), ('moines', 1), ('des', 1), ('perate', 1), ('segregated', 1), ('foils', 1), ('proactive', 1), ('unregistered', 1), ('notifies', 1), ('prettiest', 1), ('onlookers', 1), ('looting', 1), ('wolfs', 1), ('inconsiderate', 1), ('ewok', 1), ('greenhouse', 1), ('gases', 1), ('fart', 1), ('lids', 1), ('twelfth', 1), ('rotate', 1), ('mending', 1), ('ewww', 1), ('bugnado', 1), ('westernization', 1), ('hookup', 1), ('fixer', 1), ('spank', 1), ('drift', 1), ('exasperated', 1), ('flunks', 1), ('developer', 1), ('scholly', 1), ('cto', 1), ('pirollo', 1), ('nonexistent', 1), ('birtherism', 1), ('lobbies', 1), ('rookies', 1), ('repairs', 1), ('carolyn', 1), ('maloney', 1), ('recorder', 1), ('demon', 1), ('mercurial', 1), ('vigils', 1), ('cameltoe', 1), ('unmaking', 1), ('hurl', 1), ('researcher', 1), ('astrology', 1), ('billcosby', 1), ('melo', 1), ('triangle', 1), ('relapse', 1), ('ewan', 1), ('submit', 1), ('hiker', 1), ('linings', 1), ('mediator', 1), ('fetid', 1), ('tanned', 1), ('exquisitely', 1), ('coiffed', 1), ('transformations', 1), ('bratz', 1), ('duration', 1), ('occidental', 1), ('botanist', 1), ('fattening', 1), ('preventable', 1), ('achieving', 1), ('cooperation', 1), ('policymaking', 1), ('overseer', 1), ('bluffs', 1), ('transitional', 1), ('mesquite', 1), ('visine', 1), ('hadumpster', 1), ('nyad', 1), ('anal', 1), ('835', 1), ('arthritis', 1), ('fashionably', 1), ('potemkin', 1), ('villages', 1), ('archbishops', 1), ('droves', 1), ('brass', 1), ('urn', 1), ('galore', 1), ('sniff', 1), ('frames', 1), ('counties', 1), ('corrupt', 1), ('remorse', 1), ('raddatz', 1), ('mvp', 1), ('administrators', 1), ('generational', 1), ('whimpers', 1), ('fisa', 1), ('unhealthily', 1), ('repressing', 1), ('craps', 1), ('trig', 1), ('functions', 1), ('sundown', 1), ('mildly', 1), ('treatable—yet', 1), ('battlefront', 1), ('slicker', 1), ('greased', 1), ('3po', 1), ('peripheral', 1), ('decency', 1), ('dermer', 1), ('protocols', 1), ('leotards', 1), ('cretinous', 1), ('reprobate', 1), ('reclusive', 1), ('bankrolling', 1), ('favre', 1), ('obliges', 1), ('snoozing', 1), ('nratv', 1), ('haderanged', 1), ('doubtful', 1), ('typos', 1), ('amulan', 1), ('dunst', 1), ('125', 1), ('nobannowall', 1), ('horsepower', 1), ('evaluations', 1), ('overemphasize', 1), ('albanians', 1), ('eastwood', 1), ('rotten', 1), ('suppers', 1), ('aiming', 1), ('naderite', 1), ('prophet', 1), ('mists', 1), ('consolidate', 1), ('ishould', 1), ('bahai', 1), ('articulate', 1), ('sponsors', 1), ('brotherly', 1), ('stuffing', 1), ('triangular', 1), ('calms', 1), ('nerves', 1), ('combats', 1), ('msnbc', 1), ('stimpy', 1), ('centauri', 1), ('ag', 1), ('pekingese', 1), ('brink', 1), ('hypochondriac', 1), ('misspelled', 1), ('feisty', 1), ('schnook', 1), ('repeals', 1), ('stepped', 1), ('telecast', 1), ('legoland', 1), ('aussie', 1), ('pictorial', 1), ('paralympian', 1), ('disingenuous', 1), ('receipts', 1), ('gillespie', 1), ('gummis', 1), ('enslaving', 1), ('shondaland', 1), ('homoji', 1), ('shorthand', 1), ('tooba', 1), ('marwat', 1), ('signarama', 1), ('velociraptor', 1), ('jurassic', 1), ('jumpsuit', 1), ('onslaught', 1), ('unscientific', 1), ('unethical', 1), ('hadorian', 1), ('starks', 1), ('slobbery', 1), ('manpower', 1), ('specificity', 1), ('fatty', 1), ('prosecuting', 1), ('defenders', 1), ('melanesian', 1), ('thundered', 1), ('roadside', 1), ('rotary', 1), ('bulleted', 1), ('hearken', 1), ('sherwin', 1), ('triumphantly', 1), ('coyne', 1), ('partisanship', 1), ('straightened', 1), ('grinch', 1), ('pssy', 1), ('hadiary', 1), ('intimately', 1), ('nuanced', 1), ('passions', 1), ('asparagus', 1), ('nudge', 1), ('psyche', 1), ('panasonic', 1), ('bidder', 1), ('kitty', 1), ('sens', 1), ('tracing', 1), ('iamthegoldenstatekiller', 1), ('frocked', 1), ('shine', 1), ('gregory', 1), ('lawler', 1), ('governance', 1), ('downstairs', 1), ('bart', 1), ('–cuba', 1), ('53', 1), ('inventing', 1), ('techniques', 1), ('pallbearers', 1), ('syringe', 1), ('nelly', 1), ('reiterates', 1), ('meldonium', 1), ('microsft', 1), ('bids', 1), ('lightweight', 1), ('linen', 1), ('shag', 1), ('ceremonially', 1), ('lit', 1), ('bloomsday', 1), ('lording', 1), ('submits', 1), ('lucid', 1), ('horizons', 1), ('coins', 1), ('pompeii', 1), ('excavation', 1), ('trayvon', 1), ('cronyist', 1), ('cartel', 1), ('skyline', 1), ('catsuits', 1), ('westbrook', 1), ('beater', 1), ('rebuffs', 1), ('détente', 1), ('reschedules', 1), ('topped', 1), ('pizzas', 1), ('unquenchable', 1), ('paine', 1), ('neocons', 1), ('hallburton', 1), ('malawi', 1), ('horton', 1), ('pardoning', 1), ('elmore', 1), ('succinctly', 1), ('expired', 1), ('gloomy', 1), ('edtech', 1), ('wozniak', 1), ('interviewing', 1), ('jurors', 1), ('relates', 1), ('islanders', 1), ('busier', 1), ('disproven', 1), ('franz', 1), ('ferdinand', 1), ('gavrilo', 1), ('princip', 1), ('ganging', 1), ('overthink', 1), ('magnetic', 1), ('gadget', 1), ('engulfing', 1), ('ankara', 1), ('poolside', 1), ('employ', 1), ('kozol', 1), ('heyer', 1), ('whammys', 1), ('rifle', 1), ('trillions', 1), ('derivatives', 1), ('thones', 1), ('greetings', 1), ('baucus', 1), ('supervillain', 1), ('loophole', 1), ('archaeologist', 1), ('secretarian', 1), ('receptionists', 1), ('pansexual', 1), ('sis', 1), ('102', 1), ('vibrating', 1), ('pager', 1), ('intestinal', 1), ('bruising', 1), ('dose', 1), ('trumpzilla', 1), ('forgiven', 1), ('advertise', 1), ('welterweight', 1), ('sustaining', 1), ('bloodbath', 1), ('semifinals', 1), ('hues', 1), ('acadia', 1), ('dangles', 1), ('transmuting', 1), ('blessing', 1), ('usc', 1), ('verdugo', 1), ('destined', 1), ('idyllic', 1), ('fugoo', 1), ('gellar', 1), ('buffy', 1), ('lettuce', 1), ('urgings', 1), ('callings', 1), ('relocate', 1), ('roadblock', 1), ('outweighs', 1), ('tapping', 1), ('certainty', 1), ('hdtv', 1), ('compatibility', 1), ('partum', 1), ('hinting', 1), ('singlehandedly', 1), ('mounted', 1), ('horns', 1), ('fineo', 1), ('hutsell', 1), ('valerie', 1), ('deadlier', 1), ('cruella', 1), ('ismall', 1), ('depiction', 1), ('reincarnation', 1), ('dislocates', 1), ('blizzards', 1), ('revel', 1), ('fruitvale', 1), ('coyote', 1), ('soloway', 1), ('spectral', 1), ('zoning', 1), ('gunning', 1), ('befriend', 1), ('sleeve', 1), ('reggaetón', 1), ('doorknob', 1), ('falluja', 1), ('smugglers', 1), ('subtember', 1), ('khalifa', 1), ('fetty', 1), ('wap', 1), ('omi', 1), ('amoby', 1), ('gianforte', 1), ('scorching', 1), ('homeopathic', 1), ('usb', 1), ('ports', 1), ('irvin', 1), ('yalom', 1), ('judys', 1), ('wharton—wharton', 1), ('birthers', 1), ('muster', 1), ('140', 1), ('herointown', 1), ('pepperidge', 1), ('milanos', 1), ('vitale', 1), ('bracketological', 1), ('examination', 1), ('anteater', 1), ('dimon', 1), ('relentless', 1), ('tylenol', 1), ('wondrous', 1), ('67', 1), ('carnage', 1), ('serbia', 1), ('overprescribe', 1), ('narcotics', 1), ('mathison', 1), ('collaborations', 1), ('pits', 1), ('diary', 1), ('paws', 1), ('stormed', 1), ('suppression', 1), ('warrants', 1), ('respected', 1), ('rolie', 1), ('neal', 1), ('schon', 1), ('g20', 1), ('encryption', 1), ('rouseff', 1), ('webcam', 1), ('implanted', 1), ('isla', 1), ('grabbies', 1), ('jumpshot', 1), ('allstate', 1), ('pandas', 1), ('ponzi', 1), ('surveying', 1), ('unchecked', 1), ('industrialization', 1), ('barb', 1), ('lubitz', 1), ('stigmatize', 1), ('reprehensible', 1), ('deception', 1), ('stoplights', 1), ('gumption', 1), ('rewarded', 1), ('mindset', 1), ('bankrupts', 1), ('mccrazy', 1), ('gerbils', 1), ('hygienist', 1), ('tricking', 1), ('millionsmarchsf', 1), ('wreak', 1), ('resided', 1), ('buttigieg', 1), ('introverts', 1), ('extroverts', 1), ('bondage', 1), ('1969', 1), ('rossini', 1), ('caramoor', 1), ('casualty', 1), ('assimilate', 1), ('isushi', 1), ('smut', 1), ('filthiest', 1), ('sunblock', 1), ('botox', 1), ('granger', 1), ('hader', 1), ('coppola', 1), ('godfather', 1), ('activate', 1), ('acute', 1), ('page–driven', 1), ('huffy', 1), ('errors', 1), ('chile', 1), ('orville', 1), ('redenbacher', 1), ('fastball', 1), ('isuperbly', 1), ('dousing', 1), ('tosh', 1), ('chuckles', 1), ('kale', 1), ('mollifying', 1), ('adieu', 1), ('vaccinate', 1), ('theroux', 1), ('studded', 1), ('fomo', 1), ('interrogator', 1), ('isong', 1), ('bicyclists', 1), ('helmets', 1), ('suicidal', 1), ('geese', 1), ('jetliner', 1), ('haitians', 1), ('shrug', 1), ('ragnarök', 1), ('tae', 1), ('kwon', 1), ('mismatched', 1), ('lynda', 1), ('heffernan', 1), ('channeled', 1), ('neuroscience', 1), ('falsify', 1), ('weave', 1), ('shaved', 1), ('drudge', 1), ('weinsteins', 1), ('jeeves', 1), ('warts', 1), ('lens', 1), ('showerin', 1), ('194', 1), ('bells', 1), ('haegue', 1), ('leeum', 1), ('seoul', 1), ('unraveled', 1), ('photoshops', 1), ('sneakier', 1), ('wamu', 1), ('chaplev', 1), ('calorie', 1), ('mixers', 1), ('heaviest', 1), ('contradicts', 1), ('deadlocked', 1), ('isomeone', 1), ('knockoff', 1), ('batarang', 1), ('marie', 1), ('torrenting', 1), ('picket', 1), ('counterterrorism', 1), ('leo', 1), ('gugu', 1), ('perverts', 1), ('thankfully', 1), ('kiyoko', 1), ('lamontagne', 1), ('vinyl', 1), ('islamophobe', 1), ('indiscriminately', 1), ('toenail', 1), ('chibok', 1), ('evergreen', 1), ('thrive', 1), ('aloft', 1), ('chronically', 1), ('redwood', 1), ('ncis', 1), ('sideshow', 1), ('eyelashes', 1), ('mites', 1), ('conspiring', 1), ('clingy', 1), ('fuse', 1), ('freelancers', 1), ('workbench', 1), ('hangnail', 1), ('unravels', 1), ('innate', 1), ('fetuses', 1), ('pullups', 1), ('evancho', 1), ('hampton', 1), ('concierge', 1), ('cheeseburgers', 1), ('listerine', 1), ('prolong', 1), ('portugal', 1), ('worldly', 1), ('vices', 1), ('marsh', 1), ('glance', 1), ('stupidest', 1), ('distribute', 1), ('classiest', 1), ('mres', 1), ('alig', 1), ('unlabeled', 1), ('upends', 1), ('microfiber', 1), ('shrugging', 1), ('uproariously', 1), ('downpour', 1), ('ails', 1), ('xx', 1), ('architectural', 1), ('thinnest', 1), ('phrasebook', 1), ('strengthened', 1), ('majors', 1), ('bayer', 1), ('classically', 1), ('knobby', 1), ('fours', 1), ('wkzn', 1), ('randall', 1), ('secedes', 1), ('randalia', 1), ('bestival', 1), ('techno', 1), ('creeping', 1), ('aweism', 1), ('humanist', 1), ('transcendence', 1), ('prospect', 1), ('lieutenant', 1), ('insistent', 1), ('mund', 1), ('crowned', 1), ('objected', 1), ('guessing', 1), ('passersby', 1), ('marshall', 1), ('eisenhower', 1), ('inverted', 1), ('preserved', 1), ('scarily', 1), ('similar', 1), ('eaves', 1), ('sza', 1), ('signage', 1), ('spokesbeast', 1), ('anyways', 1), ('congolese', 1), ('inuit', 1), ('updating', 1), ('kokopellied', 1), ('gummed', 1), ('reinvested', 1), ('blackjack', 1), ('ice–themed', 1), ('smirks', 1), ('celinda', 1), ('ballerina', 1), ('veterinarian', 1), ('horseback', 1), ('venue', 1), ('incidences', 1), ('soaking', 1), ('grumbles', 1), ('isniper', 1), ('unhrc', 1), ('dyllan', 1), ('comprehension', 1), ('intensive', 1), ('expelling', 1), ('risen', 1), ('cowpoke', 1), ('lassoes', 1), ('perched', 1), ('cajun', 1), ('cb', 1), ('curled', 1), ('charmin', 1), ('disposable', 1), ('façade', 1), ('xxxx', 1), ('cues', 1), ('dicks', 1), ('whitfield', 1), ('milly', 1), ('engel', 1), ('zanjeer', 1), ('373', 1), ('boardwalk', 1), ('chumps', 1), ('reboots', 1), ('72nd', 1), ('reconsidered', 1), ('wren', 1), ('reddi', 1), ('wip', 1), ('rift', 1), ('cleanse', 1), ('conventions', 1), ('docents', 1), ('hellscape', 1), ('knuckles', 1), ('colorized', 1), ('herbs', 1), ('legislated', 1), ('pricey', 1), ('scarves', 1), ('adoptee', 1), ('infrequently', 1), ('snail', 1), ('hazmat', 1), ('ghostwriters', 1), ('amark', 1), ('mugshot', 1), ('episcopalians', 1), ('assassins', 1), ('watterson', 1), ('hobbes', 1), ('attendants', 1), ('isubminimum', 1), ('canonizes', 1), ('estrogen', 1), ('oahu', 1), ('shore', 1), ('masseuse', 1), ('tantaros', 1), ('pushy', 1), ('hermit', 1), ('monkey', 1), ('beavan', 1), ('clap', 1), ('ol', 1), ('garroting', 1), ('sailboat', 1), ('professes', 1), ('domenici', 1), ('rib', 1), ('kearney', 1), ('packages', 1), ('detonated', 1), ('enquirer', 1), ('interchangeable', 1), ('starlets', 1), ('kermit', 1), ('shaggy', 1), ('2000s', 1), ('coddled', 1), ('potted', 1), ('magdalene', 1), ('redefines', 1), ('windowless', 1), ('salaam', 1), ('collateral', 1), ('ethan', 1), ('hawke', 1), ('sire', 1), ('homo', 1), ('celbritans', 1), ('timbaland', 1), ('dekkers', 1), ('postballet', 1), ('overfunded', 1), ('woodcrafts', 1), ('catcalls', 1), ('witching', 1), ('restaurateur', 1), ('chang', 1), ('isea', 1), ('harpooning', 1), ('masses', 1), ('veil', 1), ('salaries', 1), ('thirty', 1), ('homeowners', 1), ('proverb', 1), ('medically', 1), ('payroll', 1), ('usps', 1), ('bejewel', 1), ('twinkle', 1), ('tush', 1), ('hezbollah', 1), ('antisocial', 1), ('1939', 1), ('mascara', 1), ('capitalize', 1), ('amilestone', 1), ('branding', 1), ('markell', 1), ('1928', 1), ('kukors', 1), ('seduction', 1), ('visualize', 1), ('heartbeat', 1), ('awfully', 1), ('disinterest', 1), ('lupe', 1), ('romantically', 1), ('garrison', 1), ('keillor', 1), ('roscoe', 1), ('6m', 1), ('jacob', 1), ('ulbricht', 1), ('rechargeable', 1), ('raspberry', 1), ('isittin', 1), ('auditorium', 1), ('curbing', 1), ('hadawn', 1), ('jinping', 1), ('depressive', 1), ('amunsters', 1), ('considerations', 1), ('bluefish', 1), ('saor', 1), ('venetian', 1), ('riley', 1), ('dapl', 1), ('flavorful', 1), ('tresspasser', 1), ('slickers', 1), ('commodities', 1), ('trader', 1), ('barr', 1), ('inserted', 1), ('gobi', 1), ('jerky', 1), ('coronation', 1), ('isuppressed', 1), ('monique', 1), ('flourishing', 1), ('correspondence', 1), ('daemon', 1), ('legos', 1), ('tamer', 1), ('flocking', 1), ('electrifies', 1), ('bicep', 1), ('regimen', 1), ('hq', 1), ('hy', 1), ('genic', 1), ('apportionment', 1), ('zoroastrianism', 1), ('homepod', 1), ('whiffing', 1), ('lunging', 1), ('toad', 1), ('dissent', 1), ('weighty', 1), ('pronged', 1), ('dukes', 1), ('hazzard', 1), ('portray', 1), ('molly', 1), ('darger', 1), ('smelt', 1), ('baptism', 1), ('entendre', 1), ('materialism', 1), ('ghraib', 1), ('punctuation', 1), ('snapcash', 1), ('mcchicken', 1), ('retool', 1), ('malaysian', 1), ('shipments', 1), ('lipinski', 1), ('weir', 1), ('kudlow', 1), ('commentating', 1), ('skating', 1), ('meadow', 1), ('extinguisher', 1), ('deriving', 1), ('embarrassment', 1), ('asp', 1), ('smartness', 1), ('emojisinthewild', 1), ('piketty', 1), ('francais', 1), ('bumbler', 1), ('tripped', 1), ('eruption', 1), ('floppy', 1), ('disks', 1), ('comprehends', 1), ('scrubbing', 1), ('waged', 1), ('prelude', 1), ('preciousness', 1), ('watercolor', 1), ('peaked', 1), ('bocce', 1), ('balled', 1), ('hodor', 1), ('sympathize', 1), ('pettiness', 1), ('nielsens', 1), ('schoolgirl', 1), ('roster', 1), ('drooling', 1), ('disapproves', 1), ('gavels', 1), ('dominion', 1), ('smithereen', 1), ('112th', 1), ('ghostwriter', 1), ('busker', 1), ('gudmunsen', 1), ('scotsman', 1), ('tiniest', 1), ('chamillionaire', 1), ('chagas', 1), ('scroll', 1), ('faking', 1), ('esposito', 1), ('yuletide', 1), ('creflo', 1), ('messaging', 1), ('preached', 1), ('rear', 1), ('cosme', 1), ('masterwork', 1), ('stepdad', 1), ('goatee', 1), ('underwood', 1), ('stitches', 1), ('grotesquely', 1), ('saltless', 1), ('defunct', 1), ('insomniacs', 1), ('competitions', 1), ('receivable', 1), ('grimmie', 1), ('revisit', 1), ('schwartz', 1), ('hunchback', 1), ('royce', 1), ('ornament', 1), ('gre', 1), ('coms', 1), ('brainwashed', 1), ('devastated', 1), ('tenacity', 1), ('caterer', 1), ('lynx', 1), ('startled', 1), ('technicolor', 1), ('motels', 1), ('paleontologists', 1), ('absurd', 1), ('incurable', 1), ('deconstructing', 1), ('gunned', 1), ('possessive', 1), ('firemen', 1), ('charger', 1), ('commish', 1), ('copps', 1), ('centric', 1), ('1987', 1), ('manvendra', 1), ('singh', 1), ('gohil', 1), ('situations', 1), ('roost', 1), ('opener', 1), ('flawlessly', 1), ('hustled', 1), ('ceremonies', 1), ('glossip', 1), ('aunties', 1), ('merritt', 1), ('skateboarder', 1), ('downhill', 1), ('ishut', 1), ('lint', 1), ('cardigan', 1), ('prized', 1), ('bleached', 1), ('cc', 1), ('sabathia', 1), ('arrieta', 1), ('hitter', 1), ('cryosleep', 1), ('bark', 1), ('martens', 1), ('inflamed', 1), ('pulsing', 1), ('designates', 1), ('rica', 1), ('feat', 1), ('shipyard', 1), ('variants', 1), ('multiply', 1), ('breakneck', 1), ('dumbed', 1), ('millard', 1), ('fillmore', 1), ('trebek', 1), ('deftly', 1), ('prolongs', 1), ('agonizing', 1), ('southeast', 1), ('ostensibly', 1), ('heterosexual', 1), ('spared', 1), ('monitoring', 1), ('indira', 1), ('scoop', 1), ('exodus', 1), ('kings', 1), ('uncooperative', 1), ('heartburn', 1), ('ralph', 1), ('soviet', 1), ('shelfie', 1), ('android', 1), ('forearm', 1), ('circuitry', 1), ('contributing', 1), ('forbidding', 1), ('winneshiek', 1), ('conveniently', 1), ('lyudska', 1), ('podoba', 1), ('sexualities', 1), ('delevingne', 1), ('paparazzo', 1), ('dccc', 1), ('iscience', 1), ('shocks', 1), ('tbs', 1), ('hallmarks', 1), ('staggers', 1), ('talkative', 1), ('operators', 1), ('mcpherson', 1), ('bossy', 1), ('tania', 1), ('bruguera', 1), ('petrified', 1), ('births', 1), ('unwatched', 1), ('unblinking', 1), ('pattinson', 1), ('fka', 1), ('twigs', 1), ('marmont', 1), ('compound', 1), ('kellen', 1), ('faceoff', 1), ('supplants', 1), ('ymca', 1), ('loréal', 1), ('uncaged', 1), ('wraps', 1), ('banado', 1), ('norte', 1), ('slum', 1), ('dismal', 1), ('pugs', 1), ('dowd', 1), ('soliders', 1), ('marilinda', 1), ('amiraculous', 1), ('lardface', 1), ('misbuttoned', 1), ('condense', 1), ('kathleen', 1), ('hartnett', 1), ('colton', 1), ('gradually', 1), ('disavowing', 1), ('amandla', 1), ('stenberg', 1), ('hadazed', 1), ('hadeceptive', 1), ('icelandic', 1), ('tester', 1), ('complying', 1), ('muppets', 1), ('iskype', 1), ('pigeons', 1), ('shaq', 1), ('ejected', 1), ('constitutions', 1), ('extenders', 1), ('ispines', 1), ('confirmations', 1), ('doubter', 1), ('branson', 1), ('grimly', 1), ('ironic', 1), ('reissue', 1), ('rumours', 1), ('scripps', 1), ('sanitizer', 1), ('dumbasses', 1), ('isneak', 1), ('lifeline', 1), ('disappearing', 1), ('downed', 1), ('popper', 1), ('leverages', 1), ('nightgown', 1), ('masterfully', 1), ('p51', 1), ('sorted', 1), ('hogwarts', 1), ('kurrencykook', 1), ('slaw', 1), ('uneaten', 1), ('chapecoense', 1), ('piloto', 1), ('boliviano', 1), ('incites', 1), ('allah', 1), ('portman', 1), ('turnaround', 1), ('mitty', 1), ('1927', 1), ('armie', 1), ('housekeeping', 1), ('shutters', 1), ('slater', 1), ('transitions', 1), ('writhing', 1), ('tentacles', 1), ('devouring', 1), ('asexually', 1), ('reproduced', 1), ('sponge', 1), ('dionne', 1), ('warwick', 1), ('skydiving', 1), ('forges', 1), ('dokken', 1), ('constrictive', 1), ('severs', 1), ('jacuzzi', 1), ('clogged', 1), ('142', 1), ('noticeable', 1), ('abductions', 1), ('damned', 1), ('suite', 1), ('cunningly', 1), ('recommendations', 1), ('uninterrupted', 1), ('gatlinburg', 1), ('sicker', 1), ('adjourned', 1), ('outlet', 1), ('omran', 1), ('daqneesh', 1), ('sustained', 1), ('periodically', 1), ('emission', 1), ('gamed', 1), ('raphael', 1), ('menaced', 1), ('tinderbox', 1), ('quarantined', 1), ('reauthorizes', 1), ('nummier', 1), ('grit', 1), ('nj', 1), ('uday', 1), ('nutsack', 1), ('shocker', 1), ('fyre', 1), ('anonymously', 1), ('curdled', 1), ('bolsters', 1), ('slugger', 1), ('steaks™', 1), ('treatments', 1), ('preserving', 1), ('phoenician', 1), ('tyre', 1), ('presumed', 1), ('sparkly', 1), ('isuspicious', 1), ('codepink', 1), ('tantric', 1), ('kam', 1), ('misspoke', 1), ('detaining', 1), ('havegetation', 1), ('idina', 1), ('menzel', 1), ('cafés', 1), ('sully', 1), ('rainfall', 1), ('participation', 1), ('dudley', 1), ('representing', 1), ('relieve', 1), ('trophies', 1), ('cowering', 1), ('arsenic', 1), ('terrific', 1), ('arepulsive', 1), ('rhode', 1), ('facilitates', 1), ('omission', 1), ('quota', 1), ('saddle', 1), ('reabsorb', 1), ('chihuly', 1), ('plagiarizing', 1), ('overboard', 1), ('kickline', 1), ('grapevine', 1), ('731st', 1), ('unpresidential', 1), ('blackwater', 1), ('ichabod', 1), ('headless', 1), ('showtime', 1), ('oversimplifies', 1), ('overstock', 1), ('depleting', 1), ('resource', 1), ('ispongebob', 1), ('squarepants', 1), ('blacklists', 1), ('caesar', 1), ('format', 1), ('spoken', 1), ('algerian', 1), ('griffith', 1), ('outcry', 1), ('gyro', 1), ('jemele', 1), ('nabj', 1), ('announcing', 1), ('ruckeyser', 1), ('hitchhikes', 1), ('reindeer', 1), ('purses', 1), ('felonies', 1), ('baywatch', 1), ('flops', 1), ('potent', 1), ('psychosis', 1), ('duplicity', 1), ('eligible', 1), ('depress', 1), ('sketchbook', 1), ('trailed', 1), ('skyeditor', 1), ('recharge', 1), ('dysphoria', 1), ('intent', 1), ('reruns', 1), ('gerard', 1), ('alessandrini', 1), ('suvs', 1), ('mcgorry', 1), ('alina', 1), ('zagitova', 1), ('courageous', 1), ('swattin', 1), ('derail', 1), ('kung', 1), ('fu', 1), ('legions', 1), ('maci', 1), ('bookout', 1), ('blanchard', 1), ('delegate', 1), ('represented', 1), ('blacklist', 1), ('uterus', 1), ('karzai', 1), ('puig', 1), ('diane', 1), ('keaton', 1), ('phillips', 1), ('hustle', 1), ('jasmine', 1), ('philomena', 1), ('endeavor', 1), ('culminate', 1), ('intercept', 1), ('138', 1), ('retake', 1), ('nimrud', 1), ('caterers', 1), ('sutherland', 1), ('stairwell', 1), ('optimal', 1), ('anchorage', 1), ('crotchless', 1), ('gratuity', 1), ('punctured', 1), ('dreamworks', 1), ('skg', 1), ('jh', 1), ('unprepared', 1), ('pleasures', 1), ('cilla', 1), ('linebacker', 1), ('libations', 1), ('betrayed', 1), ('maytag', 1), ('anthropomorphic', 1), ('giraffe', 1), ('airlifts', 1), ('isunglasses', 1), ('lynde', 1), ('impersonation', 1), ('finest', 1), ('mcdermott', 1), ('comfortably', 1), ('toppling', 1), ('requesting', 1), ('epidural', 1), ('useless', 1), ('inescapable', 1), ('spiral', 1), ('negate', 1), ('overthrow', 1), ('spilled', 1), ('dishing', 1), ('daphne', 1), ('workouts', 1), ('aerial', 1), ('blackhawk', 1), ('defects', 1), ('wee', 1), ('someplace', 1), ('falwell', 1), ('techview', 1), ('linus', 1), ('torvalds', 1), ('linux', 1), ('flasher', 1), ('provence', 1), ('pont', 1), ('du', 1), ('gard', 1), ('cosplay', 1), ('fete', 1), ('tollbooth', 1), ('drying', 1), ('ellison', 1), ('tuscan', 1), ('scourge', 1), ('estranged', 1), ('deploy', 1), ('fkup', 1), ('kritzer', 1), ('teal', 1), ('wicks', 1), ('decomposition', 1), ('providence', 1), ('cianci', 1), ('recited', 1), ('kiddos', 1), ('hadirty', 1), ('directv', 1), ('acquisition', 1), ('leaps', 1), ('impala', 1), ('terabytes', 1), ('ko', 1), ('ish', 1), ('exclusivity', 1), ('authoritarian', 1), ('harward', 1), ('albarn', 1), ('denmark', 1), ('cavs', 1), ('midlife', 1), ('majesty', 1), ('massively', 1), ('disengaged', 1), ('workforce', 1), ('gobbler', 1), ('officemax', 1), ('corona', 1), ('staywokeandvote', 1), ('redid', 1), ('dyson', 1), ('sidney', 1), ('realistically', 1), ('horatio', 1), ('sanz', 1), ('oscarssowhite', 1), ('coped', 1), ('karma', 1), ('turban', 1), ('stupendous', 1), ('buglers', 1), ('underneath', 1), ('midsize', 1), ('urinating', 1), ('clipping', 1), ('theological', 1), ('organized', 1), ('labeled', 1), ('homogenization', 1), ('oddball', 1), ('expends', 1), ('hugged', 1), ('rendering', 1), ('ftc', 1), ('devry', 1), ('bloodshed', 1), ('masterstoke', 1), ('amarooned', 1), ('ishrek', 1), ('reannounces', 1), ('istrength', 1), ('carnegie', 1), ('infallibility', 1), ('invoked', 1), ('uprising', 1), ('grrrl', 1), ('peaks', 1), ('playboys', 1), ('bodymate', 1), ('freshmen', 1), ('lynchings', 1), ('directing', 1), ('joshua', 1), ('beal', 1), ('digesting', 1), ('kodak', 1), ('dragonriders', 1), ('pern', 1), ('unrepentant', 1), ('aread', 1), ('shoddy', 1), ('planetary', 1), ('knifepoint', 1), ('austerity', 1), ('janitors', 1), ('hurrying', 1), ('crucified', 1), ('amonsters', 1), ('tasered', 1), ('retrial', 1), ('cooled', 1), ('pectoral', 1), ('idahoan', 1), ('jennie', 1), ('warmonger', 1), ('mirren', 1), ('mixup', 1), ('valiant', 1), ('checkers', 1), ('businessmen', 1), ('agnostic', 1), ('conflicting', 1), ('redeem', 1), ('vai', 1), ('hush', 1), ('madoff', 1), ('adores', 1), ('totes', 1), ('inclusions', 1), ('performative', 1), ('wokeness', 1), ('planters', 1), ('houseplants', 1), ('heights', 1), ('whacker', 1), ('whaling', 1), ('uneventful', 1), ('airbrushes', 1), ('isome', 1), ('rosamund', 1), ('pike', 1), ('ravishing', 1), ('replaceable', 1), ('blabs', 1), ('pitches', 1), ('fanduel', 1), ('luftwaffle', 1), ('superiority', 1), ('toffee', 1), ('buckets', 1), ('flatbread', 1), ('distributing', 1), ('malnourished', 1), ('showcases', 1), ('glorifying', 1), ('biggie', 1), ('disposing', 1), ('novelists', 1), ('monetary', 1), ('aborted', 1), ('inconsistency', 1), ('essays', 1), ('evo', 1), ('es', 1), ('debtor', 1), ('kayaker', 1), ('overheats', 1), ('punniest', 1), ('piggy', 1), ('endlessly', 1), ('harrington', 1), ('rewarding', 1), ('blades', 1), ('troglodyte', 1), ('hadwell', 1), ('zinnias', 1), ('associate', 1), ('arabs', 1), ('angers', 1), ('onionman77', 1), ('tender', 1), ('boon', 1), ('childlike', 1), ('preparedness', 1), ('autocorrect', 1), ('jillian', 1), ('fag', 1), ('hadyke', 1), ('mayweather', 1), ('diving', 1), ('shabaab', 1), ('fracturing', 1), ('jihadism', 1), ('jogging', 1), ('biathlon', 1), ('calle', 1), ('trademark', 1), ('fireball', 1), ('hoarding', 1), ('lawful', 1), ('midriff', 1), ('altruism', 1), ('tamagotchi', 1), ('informal', 1), ('boogie', 1), ('bernice', 1), ('isexually', 1), ('gump', 1), ('reeva', 1), ('steenkamp', 1), ('arest', 1), ('warranty', 1), ('outlasts', 1), ('ispinal', 1), ('analyze', 1), ('previewing', 1), ('octavia', 1), ('monáe', 1), ('liters', 1), ('handmaids', 1), ('297', 1), ('depressingly', 1), ('iger', 1), ('interviewers', 1), ('isees', 1), ('establishing', 1), ('baio', 1), ('arelentlessly', 1), ('millenial', 1), ('strawberries', 1), ('deets', 1), ('hadoctors', 1), ('unpopped', 1), ('kernels', 1), ('nasim', 1), ('nasr', 1), ('zaeefeh', 1), ('wretchedness', 1), ('shadi', 1), ('gagprojects', 1), ('adelaide', 1), ('lululemon', 1), ('1580s', 1), ('exemption', 1), ('overinflated', 1), ('ailey', 1), ('dubsmash', 1), ('recordings', 1), ('paso', 1), ('jalapeño', 1), ('flapping', 1), ('blacklight', 1), ('barbarian', 1), ('faux', 1), ('restocks', 1), ('rum', 1), ('soybean', 1), ('bromance', 1), ('grinning', 1), ('dwarf', 1), ('demeaning', 1), ('munch', 1), ('crunchiness', 1), ('munchability', 1), ('pokémon', 1), ('comfier', 1), ('pharmacist', 1), ('spraying', 1), ('whoever', 1), ('tattooed', 1), ('permutations', 1), ('recycle', 1), ('pointers', 1), ('excused', 1), ('cocky', 1), ('piracy', 1), ('uniformed', 1), ('intrinsic', 1), ('overuse', 1), ('cleaners', 1), ('superstains', 1), ('whooshsnaps', 1), ('smoky', 1), ('depose', 1), ('mp', 1), ('taro', 1), ('kono', 1), ('tides', 1), ('darth', 1), ('discounts', 1), ('sleeves', 1), ('euthanized', 1), ('gasp', 1), ('galen', 1), ('chummy', 1), ('steves', 1), ('gail', 1), ('saltz', 1), ('inquire', 1), ('turds', 1), ('supplements', 1), ('confirming', 1), ('kofi', 1), ('annan', 1), ('wreath', 1), ('timelapses', 1), ('chen', 1), ('redeems', 1), ('inhabited', 1), ('costumed', 1), ('preference', 1), ('johnsville', 1), ('11717', 1), ('fancyclothes', 1), ('assemblyman', 1), ('discontent', 1), ('misled', 1), ('froot', 1), ('pilots', 1), ('nicknames', 1), ('congregations', 1), ('mates', 1), ('eyelid', 1), ('impersonal', 1), ('racialized', 1), ('pantywaist', 1), ('immersive', 1), ('hadistraction', 1), ('grimace', 1), ('fenimore', 1), ('224', 1), ('posse', 1), ('ordinance', 1), ('ashraf', 1), ('ghani', 1), ('iphonefeatures4politicians', 1), ('schizophrenic', 1), ('ncnoltes', 1), ('absent', 1), ('padded', 1), ('intoxicated', 1), ('establishments', 1), ('acupuncture', 1), ('barracks', 1), ('1861', 1), ('recuses', 1), ('memorization', 1), ('haunts', 1), ('sotheby', 1), ('grandbaby', 1), ('hagel', 1), ('charth', 1), ('petticoats', 1), ('sermon', 1), ('recyclable', 1), ('rotates', 1), ('demonically', 1), ('antique', 1), ('townshend', 1), ('frogmen', 1), ('mower', 1), ('lonesome', 1), ('myroommateisweird', 1), ('roomie', 1), ('devito', 1), ('monteith', 1), ('trolling', 1), ('transport', 1), ('reopened', 1), ('xfl', 1), ('tryout', 1), ('iscrew', 1), ('slager', 1), ('handily', 1), ('joplin', 1), ('helm', 1), ('creatives', 1), ('smallpox', 1), ('vials', 1), ('initiatives', 1), ('cache', 1), ('holland', 1), ('nagel', 1), ('laboriously', 1), ('ios', 1), ('iphones', 1), ('floodgates', 1), ('marsa', 1), ('cartwheel', 1), ('inappropriately', 1), ('youlookdisgusting', 1), ('perfection', 1), ('osha', 1), ('buzzed', 1), ('tilsen', 1), ('reservation', 1), ('nspw2017', 1), ('brownies', 1), ('coogler', 1), ('wakanda', 1), ('surrender', 1), ('612th', 1), ('bracelet', 1), ('pharmacy', 1), ('abuzz', 1), ('mania', 1), ('islangry', 1), ('filibusters', 1), ('corrections', 1), ('refrain', 1), ('chants', 1), ('fawlty', 1), ('deportations', 1), ('mooney', 1), ('banter', 1), ('snatching', 1), ('boynton', 1), ('robinson', 1), ('104', 1), ('effing', 1), ('beacon', 1), ('stormtroopers', 1), ('cowell', 1), ('introverted', 1), ('attorneys', 1), ('cleansed', 1), ('crisp', 1), ('dapperly', 1), ('cate', 1), ('blanchett', 1), ('grover', 1), ('relied', 1), ('electronics', 1), ('antiscience', 1), ('1971', 1), ('fests', 1), ('halfpipe', 1), ('minimums', 1), ('raoul', 1), ('wallenberg', 1), ('prelims', 1), ('cynics', 1), ('realists', 1), ('chime', 1), ('sillier', 1), ('pint', 1), ('jarring', 1), ('memoirs', 1), ('omaha', 1), ('fiercest', 1), ('kobani', 1), ('frenchie', 1), ('meetup', 1), ('participates', 1), ('cashless', 1), ('latte', 1), ('disqualified', 1), ('dominicans', 1), ('occupiers', 1), ('870', 1), ('slaughter', 1), ('noel', 1), ('khrushchev', 1), ('granddaughter', 1), ('fajita', 1), ('evenings', 1), ('energi', 1), ('robed', 1), ('torchlit', 1), ('dinnertime', 1), ('bliss', 1), ('cisgender', 1), ('rehearsed', 1), ('gutsy', 1), ('hijabista', 1), ('burqa', 1), ('fooling', 1), ('cosplays', 1), ('jaime', 1), ('lannister', 1), ('ballistics', 1), ('treatable', 1), ('ultrachurch', 1), ('oberst', 1), ('flier', 1), ('slits', 1), ('toes', 1), ('wrested', 1), ('fantastically', 1), ('binary', 1), ('paralyzing', 1), ('multiplex', 1), ('composers', 1), ('atony', 1), ('meredith', 1), ('vieira', 1), ('501', 1), ('rudd', 1), ('025', 1), ('confetti', 1), ('mooch', 1), ('greed', 1), ('sarawak', 1), ('interpol', 1), ('chyna', 1), ('marcel', 1), ('duchamp', 1), ('mcenroe', 1), ('abolishing', 1), ('cakewalk', 1), ('socioeconomic', 1), ('bracket', 1), ('underrated', 1), ('thermo', 1), ('sensing', 1), ('renames', 1), ('vito', 1), ('corleone', 1), ('lapses', 1), ('iswamp', 1), ('iseriously', 1), ('surfaced', 1), ('notebooks', 1), ('mork', 1), ('enterprise', 1), ('campers', 1), ('37th', 1), ('figurine', 1), ('apex', 1), ('kamikaze', 1), ('superpower', 1), ('favorability', 1), ('isinging', 1), ('ernest', 1), ('magnanimous', 1), ('occupy', 1), ('geun', 1), ('hye', 1), ('sartorial', 1), ('outbreeding', 1), ('intelligentsia', 1), ('bruegger', 1), ('bagels', 1), ('pops', 1), ('1980', 1), ('prioritizing', 1), ('winging', 1), ('clotheslines', 1), ('pulp', 1), ('distributor', 1), ('swims', 1), ('trendy', 1), ('communal', 1), ('septuplets', 1), ('krouse', 1), ('rosenthal', 1), ('authentic', 1), ('scrap', 1), ('dod', 1), ('aboveground', 1), ('lectern', 1), ('bookworm', 1), ('preacher', 1), ('anjem', 1), ('choudary', 1), ('culpo', 1), ('collegiate', 1), ('insignificant', 1), ('stragglers', 1), ('sews', 1), ('deng', 1), ('xiaoping', 1), ('lackluster', 1), ('stache', 1), ('kraft', 1), ('humanly', 1), ('rail', 1), ('panini', 1), ('cop20', 1), ('totalled', 1), ('almond', 1), ('billiards', 1), ('lactose', 1), ('toastables', 1), ('microwavable', 1), ('toasted', 1), ('typhoon', 1), ('meranti', 1), ('tooting', 1), ('educators', 1), ('arming', 1), ('sanctuaries', 1), ('ionceoverheard', 1), ('nastier', 1), ('romances', 1), ('kensington', 1), ('batumi', 1), ('activities', 1), ('burnout', 1), ('fasting', 1), ('pillars', 1), ('exceptions', 1), ('nonchalant', 1), ('wray', 1), ('proctor', 1), ('introversion', 1), ('tugs', 1), ('pant', 1), ('kisser', 1), ('eccentricities', 1), ('crossword', 1), ('literature', 1), ('clemson', 1), ('lsu', 1), ('deepwater', 1), ('instances', 1), ('benefited', 1), ('welding', 1), ('daze', 1), ('matchbox', 1), ('amidnight', 1), ('length', 1), ('knuckle', 1), ('divisive', 1), ('goddam', 1), ('utmost', 1), ('minibar', 1), ('amurphy', 1), ('handicap', 1), ('ameringer', 1), ('mcenery', 1), ('yohe', 1), ('monte', 1), ('carlo', 1), ('racecar', 1), ('elliott', 1), ('cholesterol', 1), ('innuendo', 1), ('chum', 1), ('dope', 1), ('seized', 1), ('packets', 1), ('inert', 1), ('amind', 1), ('cognitive', 1), ('220', 1), ('succubus', 1), ('climbers', 1), ('avalanches', 1), ('mindy', 1), ('kaling', 1), ('ballers', 1), ('nods', 1), ('delisting', 1), ('narrowing', 1), ('1913', 1), ('suffragist', 1), ('creamed', 1), ('enthroned', 1), ('tissues', 1), ('albanian', 1), ('wield', 1), ('lightsabers', 1), ('composer', 1), ('licht', 1), ('upstate', 1), ('ns', 1), ('nd', 1), ('dwf', 1), ('constructionist', 1), ('uniforms', 1), ('autumn', 1), ('transgenderism', 1), ('obeying', 1), ('maness', 1), ('gleeful', 1), ('consists', 1), ('handcar', 1), ('dock', 1), ('rowboat', 1), ('volumes', 1), ('gulls', 1), ('cusp', 1), ('giveaway', 1), ('bribes', 1), ('farts', 1), ('leyco', 1), ('eugenics', 1), ('illegalize', 1), ('tyka', 1), ('juicero', 1), ('juicer', 1), ('sweepstakes', 1), ('wabi', 1), ('sabi', 1), ('imperfection', 1), ('brittle', 1), ('jewess', 1), ('dreamgirl', 1), ('risking', 1), ('discoveries', 1), ('birkenstocks', 1), ('laffy', 1), ('taffy', 1), ('disdains', 1), ('bazooka', 1), ('slickest', 1), ('goon', 1), ('squads', 1), ('hail', 1), ('sacked', 1), ('cakeshop', 1), ('mistrial', 1), ('tampers', 1), ('wales', 1), ('chatroulette', 1), ('aditya', 1), ('vikram', 1), ('sengupta', 1), ('bails', 1), ('donaldson', 1), ('2027', 1), ('enforcing', 1), ('madagascar', 1), ('mdma', 1), ('scaring', 1), ('ispotlight', 1), ('fellowship', 1), ('investigations', 1), ('blackout', 1), ('harvested', 1), ('slack', 1), ('barksdale', 1), ('decompose', 1), ('polly', 1), ('zehnder', 1), ('swader', 1), ('unwinding', 1), ('aptitude', 1), ('unmoved', 1), ('weaning', 1), ('2065', 1), ('miner', 1), ('arresting', 1), ('poorest', 1), ('tasteless', 1), ('ineffectual', 1), ('lifesavers', 1), ('tempurpedic', 1), ('gentrified', 1), ('messenger', 1), ('saber', 1), ('rattling', 1), ('counterproductive', 1), ('walkabout', 1), ('wilderness', 1), ('photoshop', 1), ('not—she', 1), ('docile', 1), ('heathcliff', 1), ('cartoons', 1), ('islants', 1), ('squash', 1), ('unlike', 1), ('lovestruck', 1), ('cones', 1), ('tempting', 1), ('outpacing', 1), ('whichever', 1), ('claude', 1), ('brinegar', 1), ('groundskeeper', 1), ('teaming', 1), ('tronc', 1), ('levinsohn', 1), ('expenditure', 1), ('sleepers', 1), ('moustache', 1), ('populist', 1), ('davos', 1), ('pupil', 1), ('inflatable', 1), ('walnuts', 1), ('sipping', 1), ('snowboard', 1), ('yeltsin', 1), ('africans', 1), ('deductible', 1), ('eulogizes', 1), ('bello', 1), ('carli', 1), ('kurdistan', 1), ('shivers', 1), ('spine', 1), ('nylon', 1), ('spikes', 1), ('cherubs', 1), ('pans', 1), ('spattering', 1), ('uncashed', 1), ('anorexia', 1), ('ritter', 1), ('istorm', 1), ('regardless', 1), ('sparring', 1), ('referendums', 1), ('bellhop', 1), ('melanoma', 1), ('defeating', 1), ('510', 1), ('grape', 1), ('extremism', 1), ('weakens', 1), ('careening', 1), ('sheila', 1), ('areally', 1), ('cauliflower', 1), ('litany', 1), ('perceive', 1), ('appendix', 1), ('avert', 1), ('cairo', 1), ('outweighed', 1), ('2043', 1), ('teleportation', 1), ('stimulus', 1), ('warmth', 1), ('muscle', 1), ('turf', 1), ('gout', 1), ('resurrects', 1), ('galecki', 1), ('straits', 1), ('rc', 1), ('limb', 1), ('rediscovers', 1), ('poehler', 1), ('ike', 1), ('barinholtz', 1), ('discriminating', 1), ('knievel', 1), ('mediums', 1), ('frauds', 1), ('havest', 1), ('technophile', 1), ('comfy', 1), ('navratri', 1), ('hindu', 1), ('bothered', 1), ('mildew', 1), ('browses', 1), ('confiscated', 1), ('jlaw', 1), ('dent', 1), ('diapers', 1), ('iscreen', 1), ('ins', 1), ('haveto', 1), ('gus', 1), ('sant', 1), ('feingold', 1), ('grabbed', 1), ('hyperbole', 1), ('spock', 1), ('machete', 1), ('asbell', 1), ('juiced', 1), ('acquired', 1), ('hatches', 1), ('shalhoub', 1), ('braindead', 1), ('converts', 1), ('conga', 1), ('participant', 1), ('beckons', 1), ('tacit', 1), ('romans', 1), ('beagle', 1), ('tailors', 1), ('syndicate', 1), ('factored', 1), ('romano', 1), ('narrate', 1), ('utero', 1), ('mao', 1), ('childbirth', 1), ('turpan', 1), ('hawks', 1), ('hough', 1), ('endometriosis', 1), ('invests', 1), ('canvasser', 1), ('sterilized', 1), ('observe', 1), ('tiananmen', 1), ('megadonor', 1), ('congeniality', 1), ('articles', 1), ('sherbet', 1), ('dieselgate', 1), ('reefs', 1), ('thom', 1), ('yorke', 1), ('established', 1), ('hadreams', 1), ('hinted', 1), ('milky', 1), ('shimmers', 1), ('robertson', 1), ('vaccination', 1), ('mandates', 1), ('granddaughters', 1), ('emmanuel', 1), ('amused', 1), ('successories', 1), ('shoplifted', 1), ('oysters', 1), ('parsons', 1), ('rockford', 1), ('byblos', 1), ('brims', 1), ('raiding', 1), ('mane', 1), ('jena', 1), ('malone', 1), ('machinery', 1), ('bearable', 1), ('expectation', 1), ('gofundme', 1), ('delightful', 1), ('meth', 1), ('amoment', 1), ('bates', 1), ('keanu', 1), ('reeves', 1), ('deadbeat', 1), ('dependency', 1), ('distraction', 1), ('squeezed', 1), ('casamigos', 1), ('bert', 1), ('berns', 1), ('backyards', 1), ('flapper', 1), ('prefaces', 1), ('ferrante', 1), ('guardian', 1), ('derby', 1), ('déja', 1), ('chihuahua', 1), ('dane', 1), ('endearing', 1), ('moma', 1), ('inexperienced', 1), ('streaker', 1), ('nitrogen', 1), ('adaptations', 1), ('storied', 1), ('ip', 1), ('reenacts', 1), ('promiscuous', 1), ('overreach', 1), ('sonia', 1), ('pursuing', 1), ('gypsy', 1), ('putty', 1), ('beckoning', 1), ('druid', 1), ('morphs', 1), ('hairy', 1), ('snowy', 1), ('forte', 1), ('cessna', 1), ('hardcore', 1), ('pawn', 1), ('193', 1), ('rainstorms', 1), ('pummel', 1), ('geekier', 1), ('amores', 1), ('bureaucratic', 1), ('popemobile', 1), ('motivates', 1), ('willams', 1), ('grandparenting', 1), ('jolson', 1), ('deliberating', 1), ('emmett', 1), ('misappropriation', 1), ('infidel', 1), ('893', 1), ('1930s', 1), ('outsmarted', 1), ('prepping', 1), ('islavery', 1), ('almighty', 1), ('eighty', 1), ('seniority', 1), ('profession', 1), ('hansel', 1), ('gretel', 1), ('greenpeace', 1), ('breeders', 1), ('mastiffeagle', 1), ('fossils', 1), ('ci', 1), ('grudgingly', 1), ('foxes', 1), ('sneakiest', 1), ('ameow', 1), ('nisota', 1), ('stoudemire', 1), ('coated', 1), ('dazzling', 1), ('subscribing', 1), ('improvements', 1), ('stroll', 1), ('brownface', 1), ('lipsticks', 1), ('elks', 1), ('fiennes', 1), ('antonoff', 1), ('peake', 1), ('notifications', 1), ('thalia', 1), ('cassuto', 1), ('brainwashing', 1), ('denier', 1), ('routes', 1), ('2001', 1), ('ising', 1), ('torturing', 1), ('outsourced', 1), ('klepper', 1), ('overstays', 1), ('dollhouse', 1), ('dol', 1), ('processing', 1), ('discounted', 1), ('walletless', 1), ('bedpost', 1), ('lesser', 1), ('viability', 1), ('slashes', 1), ('beachfront', 1), ('clamshell', 1), ('exquisite', 1), ('tis', 1), ('unfamiliar', 1), ('knobs', 1), ('sontag', 1), ('pathological', 1), ('philadelphiatheatreco', 1), ('aligned', 1), ('pointz', 1), ('condos', 1), ('infamy', 1), ('merges', 1), ('genders', 1), ('behaved', 1), ('limo', 1), ('cylindrical', 1), ('venison', 1), ('yoke', 1), ('fronts', 1), ('moneymaking', 1), ('orgy', 1), ('isabel', 1), ('allende', 1), ('bussi', 1), ('prosecuted', 1), ('fullest', 1), ('loot', 1), ('panoramic', 1), ('locust', 1), ('idris', 1), ('elba', 1), ('lager', 1), ('tavern', 1), ('demonstrating', 1), ('disdain', 1), ('sterilization', 1), ('antismoking', 1), ('intervene', 1), ('rerelease', 1), ('toucan', 1), ('kellogg', 1), ('mascots', 1), ('ispeak', 1), ('posture', 1), ('formaldehyde', 1), ('raider', 1), ('pedestrian', 1), ('antacid', 1), ('warpaint', 1), ('wayman', 1), ('inevitably', 1), ('uninhibited', 1), ('choosing', 1), ('essentially', 1), ('mourdock', 1), ('polite', 1), ('indicates', 1), ('poseidon', 1), ('bicycles', 1), ('spaceships', 1), ('warping', 1), ('objection', 1), ('envy', 1), ('jots', 1), ('credentials', 1), ('huh', 1), ('redistribution', 1), ('guerrilla', 1), ('plummet', 1), ('gladness', 1), ('misplaced', 1), ('assignment', 1), ('battering', 1), ('ram', 1), ('heist', 1), ('infringement', 1), ('shakira', 1), ('spinach', 1), ('dreamcatcher', 1), ('rearview', 1), ('slideshow', 1), ('tab', 1), ('savored', 1), ('leisure', 1), ('weakness', 1), ('monaghan', 1), ('zestitos', 1), ('ozone', 1), ('repletion', 1), ('blankly', 1), ('starlight', 1), ('mold', 1), ('dominican', 1), ('jude', 1), ('affluenza', 1), ('tonya', 1), ('curfew', 1), ('eased', 1), ('cushion', 1), ('explainthe90sin4words', 1), ('resurfaces', 1), ('00003', 1), ('iscooter', 1), ('libby', 1), ('topher', 1), ('degas', 1), ('crullers', 1), ('wades', 1), ('comp', 1), ('criteria', 1), ('fussy', 1), ('macbook', 1), ('qualify', 1), ('robotrix', 1), ('cursive', 1), ('doorstop', 1), ('closets', 1), ('crouched', 1), ('mockument', 1), ('greitens', 1), ('overdrive', 1), ('nh', 1), ('the…', 1), ('nonverbal', 1), ('and—holy', 1), ('cow—tony', 1), ('award–nominated', 1), ('conductor—really', 1), ('wow—calypso', 1), ('rescuing', 1), ('quiznos', 1), ('tripping', 1), ('devised', 1), ('relativity', 1), ('invent', 1), ('jaded', 1), ('seismologist', 1), ('richter', 1), ('fabled', 1), ('quadriplegic', 1), ('fraggle', 1), ('istrange', 1), ('overprivileged', 1), ('groggy', 1), ('vegans', 1), ('satanists', 1), ('scapegoats', 1), ('dated', 1), ('94th', 1), ('adjudicatory', 1), ('tendon', 1), ('inedibles', 1), ('thewrap', 1), ('crowns', 1), ('loathing', 1), ('riverdale', 1), ('reinhart', 1), ('insensitive', 1), ('lilith', 1), ('sweaty', 1), ('transcanada', 1), ('painstaking', 1), ('critiquing', 1), ('safire', 1), ('whoppers', 1), ('generals', 1), ('southerners', 1), ('fireflies', 1), ('salvage', 1), ('leathery', 1), ('istealing', 1), ('serenade', 1), ('udpate', 1), ('mollusks', 1), ('misophonia', 1), ('snowed', 1), ('wonk', 1), ('shtick', 1), ('thirtysomething', 1), ('breathalyzer', 1), ('selene', 1), ('chin', 1), ('mastered', 1), ('usurp', 1), ('cutoff', 1), ('tracker', 1), ('bausch', 1), ('lomb', 1), ('aviator', 1), ('contacts', 1), ('blazing', 1), ('strengthening', 1), ('misbehavior', 1), ('foxtrot', 1), ('hydra', 1), ('concealing', 1), ('transformers', 1), ('comprehend', 1), ('wilbur', 1), ('overrides', 1), ('scalding', 1), ('opium', 1), ('composes', 1), ('tums', 1), ('luge', 1), ('thug', 1), ('viola', 1), ('aztec', 1), ('regulators', 1), ('counterpart', 1), ('punishable', 1), ('catcall', 1), ('buchanan', 1), ('starched', 1), ('multitask', 1), ('mastering', 1), ('freeze', 1), ('nothingness', 1), ('hadummies', 1), ('dsl', 1), ('brushed', 1), ('cosmic', 1), ('handsome', 1), ('quantitative', 1), ('indy', 1), ('sail', 1), ('fearmongers', 1), ('warmongers', 1), ('mongering', 1), ('powher', 1), ('brinkley', 1), ('babylon', 1), ('539', 1), ('jab', 1), ('patted', 1), ('sealy', 1), ('transgressions', 1), ('presenters', 1), ('rhinoceros', 1), ('escorted', 1), ('bouquet', 1), ('iftar', 1), ('ecosystem', 1), ('evasion', 1), ('hurling', 1), ('tantrum', 1), ('snuck', 1), ('parallels', 1), ('thandie', 1), ('repulsive', 1), ('treed', 1), ('coon', 1), ('seminar', 1), ('kamau', 1), ('amade', 1), ('anticipation', 1), ('snowboarder', 1), ('quayle', 1), ('patriarch', 1), ('admitted', 1), ('yolo', 1), ('cristiano', 1), ('ronaldo', 1), ('cheered', 1), ('sizzle', 1), ('sherpa', 1), ('yogi', 1), ('becker', 1), ('profiteering', 1), ('haaz', 1), ('sleiman', 1), ('dishonest', 1), ('reshapes', 1), ('graffitied', 1), ('zawahiri', 1), ('tedtalk', 1), ('fritz', 1), ('violators', 1), ('iskanks', 1), ('marble', 1), ('statuettes', 1), ('dowager', 1), ('cortege', 1), ('infatuated', 1), ('newscasts', 1), ('slurps', 1), ('twitching', 1), ('gad', 1), ('pipelines', 1), ('bbqs', 1), ('wu', 1), ('tang', 1), ('clan', 1), ('rza', 1), ('dams', 1), ('dildos', 1), ('warmest', 1), ('coretta', 1), ('urinary', 1), ('hailed', 1), ('cig', 1), ('vapers', 1), ('fedotowsky', 1), ('manno', 1), ('conundrum', 1), ('wienermobile', 1), ('wienermobiles', 1), ('wapo', 1), ('rezaian', 1), ('gyrocopter', 1), ('technologies', 1), ('specializes', 1), ('caricaturist', 1), ('forgiving', 1), ('awesomely', 1), ('surreal', 1), ('broil', 1), ('meats', 1), ('exploded', 1), ('reactors', 1), ('amacho', 1), ('bicentennial', 1), ('awestruck', 1), ('hallucinatory', 1), ('bocelli', 1), ('overselling', 1), ('justifiable', 1), ('copeland', 1), ('filament', 1), ('coughing', 1), ('juke', 1), ('bowed', 1), ('rationing', 1), ('parish', 1), ('amoved', 1), ('stupidity', 1), ('faves', 1), ('dredging', 1), ('catcher', 1), ('rye', 1), ('rants', 1), ('sneeze', 1), ('pirate', 1), ('ignite', 1), ('contentedly', 1), ('fumbling', 1), ('inarticulate', 1), ('hitchens', 1), ('cures', 1), ('quench', 1), ('rethinking', 1), ('loyalties', 1), ('airtime', 1), ('teleported', 1), ('vulture', 1), ('cater', 1), ('normalize', 1), ('uphill', 1), ('aryan', 1), ('notions', 1), ('indicate', 1), ('alps', 1), ('arkansans', 1), ('benevolent', 1), ('possessor', 1), ('puncture', 1), ('forgoes', 1), ('exclamation', 1), ('retracts', 1), ('catalonia', 1), ('revises', 1), ('arelatively', 1), ('readjustments', 1), ('favorable', 1), ('creditors', 1), ('malnutrition', 1), ('mortified', 1), ('tampax', 1), ('stiles', 1), ('preston', 1), ('paypal', 1), ('toothpicks', 1), ('testers', 1), ('cocksuckers', 1), ('wednesdays', 1), ('regionals', 1), ('\\u200bgleefully', 1), ('\\u200bmocked', 1), ('ramblings', 1), ('shittier', 1), ('accommodations', 1), ('convulsing', 1), ('recusal', 1), ('forwarded', 1), ('pansies', 1), ('acclimate', 1), ('pawprint', 1), ('flopped', 1), ('consist', 1), ('twinkles', 1), ('righteous', 1), ('landfill', 1), ('estrada', 1), ('festivus', 1), ('moranis', 1), ('lifeguarding', 1), ('gethard', 1), ('backstreet', 1), ('methodist', 1), ('deciding', 1), ('submitting', 1), ('scoops', 1), ('nicknamed', 1), ('sifting', 1), ('gavel', 1), ('israelis', 1), ('flintstones', 1), ('defraud', 1), ('rapport', 1), ('drumsticks', 1), ('gunmen', 1), ('kidnap', 1), ('litterer', 1), ('servicepeople', 1), ('foolhardy', 1), ('bearing', 1), ('caustic', 1), ('bolivia', 1), ('reenactor', 1), ('buzzing', 1), ('stiffed', 1), ('parker', 1), ('1982', 1), ('roske', 1), ('scowls', 1), ('leotard', 1), ('choreographing', 1), ('pea', 1), ('conservationists', 1), ('debunks', 1), ('bethenny', 1), ('frankel', 1), ('currys', 1), ('76er', 1), ('jahlil', 1), ('okafor', 1), ('regrow', 1), ('sharper', 1), ('overflowing', 1), ('zendaya', 1), ('monuments', 1), ('librarians', 1), ('bookish', 1), ('acronym', 1), ('skeptic', 1), ('plaque', 1), ('bes', 1), ('embryos', 1), ('lingers', 1), ('elliptical', 1), ('ciro', 1), ('guerra', 1), ('colombian', 1), ('indulgent', 1), ('dahlia', 1), ('neurosis', 1), ('btch', 1), ('vod', 1), ('thus', 1), ('jayne', 1), ('krentz', 1), ('voté', 1), ('coax', 1), ('peninsula', 1), ('hobnobbing', 1), ('givers', 1), ('gamson', 1), ('alaina', 1), ('percival', 1), ('aubrey', 1), ('isad', 1), ('kurt', 1), ('rumble', 1), ('wwe', 1), ('wrestletalk', 1), ('kindergartner', 1), ('homework', 1), ('bombshell', 1), ('hub', 1), ('hofner', 1), ('wrestlers', 1), ('summerslam', 1), ('fitbit', 1), ('inactive', 1), ('nyquil', 1), ('bake', 1), ('gifted', 1), ('kabat', 1), ('zinn', 1), ('asymmetrical', 1), ('fonda', 1), ('1937', 1), ('chit', 1), ('dearbetsy', 1), ('stomachs', 1), ('aleutian', 1), ('gingerbread', 1), ('timeless', 1), ('reenergized', 1), ('theodore', 1), ('bigfoot', 1), ('unveiling', 1), ('discourage', 1), ('applying', 1), ('ucla', 1), ('bruin', 1), ('osteoporosis', 1), ('freyda', 1), ('deeds', 1), ('prayed', 1), ('christening', 1), ('voldemort', 1), ('unspeakably', 1), ('praia', 1), ('iracema', 1), ('menopause', 1), ('ideology', 1), ('oriented', 1), ('hadraining', 1), ('swamp', 1), ('steering', 1), ('spins', 1), ('demonstrator', 1), ('oxfam', 1), ('bobsledder', 1), ('nadezhda', 1), ('sergeeva', 1), ('province', 1), ('verbal', 1), ('communicates', 1), ('aplogize', 1), ('hamster', 1), ('shoebox', 1), ('typically', 1), ('flynt', 1), ('handsy', 1), ('snapchatting', 1), ('antoni', 1), ('porowski', 1), ('congrats', 1), ('norwood', 1), ('joyfully', 1), ('230', 1), ('bulk', 1), ('sisi', 1), ('bombers', 1), ('benadryl', 1), ('dart', 1), ('fritos', 1), ('revamped', 1), ('wpa', 1), ('disassembling', 1), ('reassembling', 1), ('californian', 1), ('breeze', 1), ('billionnaire', 1), ('epley', 1), ('segue', 1), ('cuckolded', 1), ('fumble', 1), ('touchdown', 1), ('promptly', 1), ('penalized', 1), ('mailed', 1), ('renouncing', 1), ('sadiq', 1), ('lydia', 1), ('polgreen', 1), ('defining', 1), ('asexuals', 1), ('easton', 1), ('gaveling', 1), ('festive', 1), ('aresist', 1), ('spicey', 1), ('tariff', 1), ('aretribution', 1), ('spinster', 1), ('counteroffensive', 1), ('rotation', 1), ('nipple', 1), ('deposed', 1), ('hitless', 1), ('clusters', 1), ('forged', 1), ('complicates', 1), ('designation', 1), ('ministers', 1), ('sweatiest', 1), ('marv', 1), ('colonoscopy', 1), ('uncanny', 1), ('clamoring', 1), ('narco', 1), ('paulson', 1), ('inactivity', 1), ('arbor', 1), ('offsets', 1), ('woodworking', 1), ('tier', 1), ('amarcomentum', 1), ('reece', 1), ('duchovny', 1), ('miniseries', 1), ('segway', 1), ('dyer', 1), ('zoetrope', 1), ('tiptoeing', 1), ('funnels', 1), ('sexiness', 1), ('rigorous', 1), ('mattis', 1), ('nondiscrimination', 1), ('supernatural', 1), ('vested', 1), ('serbian', 1), ('hoya', 1), ('customizes', 1), ('gallstone', 1), ('bridesmaid', 1), ('landon', 1), ('unasked', 1), ('premise', 1), ('baps', 1), ('214', 1), ('bolivian', 1), ('whimsical', 1), ('shuddering', 1), ('astrid', 1), ('menks', 1), ('riddled', 1), ('captivated', 1), ('ave', 1), ('feng', 1), ('shui', 1), ('cooked', 1), ('screws', 1), ('unjustified', 1), ('asthma', 1), ('airwaves', 1), ('crackle', 1), ('geddy', 1), ('earbud', 1), ('ned', 1), ('flanders', 1), ('synesthesia', 1), ('orthodox', 1), ('tainted', 1), ('ishared', 1), ('legislator', 1), ('femur', 1), ('mouthwatering', 1), ('crest', 1), ('spacing', 1), ('snakepit', 1), ('obedience', 1), ('oneal', 1), ('rattles', 1), ('vowing', 1), ('scanner', 1), ('exclude', 1), ('modest', 1), ('pushups', 1), ('conceal', 1), ('flaccid', 1), ('khakis', 1), ('amoderates', 1), ('audrey', 1), ('hepburn', 1), ('liberating', 1), ('marshal', 1), ('orson', 1), ('isilence', 1), ('ignatians', 1), ('cautions', 1), ('aint', 1), ('tuxedo', 1), ('pinocchio', 1), ('massages', 1), ('requirement', 1), ('maitre', 1), ('everlast', 1), ('textbooks', 1), ('rekindle', 1), ('accessibility', 1), ('fakebook', 1)])\n"
          ],
          "name": "stdout"
        },
        {
          "output_type": "display_data",
          "data": {
            "image/png": "[encoded data removed]",
            "text/plain": [
              "<Figure size 432x288 with 1 Axes>"
            ]
          },
          "metadata": {
            "tags": [],
            "needs_background": "light"
          }
        },
        {
          "output_type": "display_data",
          "data": {
            "image/png": "[encoded data removed]",
            "text/plain": [
              "<Figure size 432x288 with 1 Axes>"
            ]
          },
          "metadata": {
            "tags": [],
            "needs_background": "light"
          }
        }
      ]
    },
    {
      "cell_type": "markdown",
      "metadata": {
        "id": "N0e0OqY-y2gB"
      },
      "source": [
        "# That all for now\r\n",
        "\r\n",
        "### Results : Model Accuracy Training : 83%\r\n",
        "###           Model Accracy Validation:76 %"
      ]
    },
    {
      "cell_type": "code",
      "metadata": {
        "id": "Orzd-7ykO5ig"
      },
      "source": [
        ""
      ],
      "execution_count": null,
      "outputs": []
    }
  ]
}
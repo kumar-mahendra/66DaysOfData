{
 "cells": [
  {
   "cell_type": "markdown",
   "metadata": {},
   "source": [
    "\n",
    "# Probability distributions, random variables\n",
    "---\n",
    "\n",
    "This notebook illustrates the following concepts using simple scripts and functions from `Scipy` and `Numpy` packages.\n",
    "\n",
    "- Random variables\n",
    "- Law of the large number\n",
    "- Expected value\n",
    "- Discrete probability distributions\n",
    "- Concitinuous probability distributions\n",
    "- Moments, variance, and other properties of probability distributions"
   ]
  },
  {
   "cell_type": "markdown",
   "metadata": {},
   "source": [
    "* What is Probability??? \n",
    "\n",
    "  **likely something is to happen**\n",
    "  **value ranges from 0 to 1, nearing to 0 less probability and nearing to 1 it is greater possibility of likely to happen**\n",
    "\n",
    "* Experiment – are the uncertain situations, which could have multiple outcomes. Whether it rains on a daily basis is an experiment.\n",
    "* Outcome is the result of a single trial. So, if it rains today, the outcome of today’s trial from the experiment is “It rained”\n",
    "* Event is one or more outcome from an experiment. “It rained” is one of the possible event for this experiment.\n",
    "* Probability is a measure of how likely an event is. So, if it is 60% chance that it will rain tomorrow, the probability of Outcome “it rained” for tomorrow is 0.6\n",
    "\n",
    "- Why it is needed ??\n",
    "\n",
    "- What is Random Variable ?\n",
    "\n",
    "- A random variable, usually written X, is a variable whose possible values are numerical outcomes of a random phenomenon. There are two types of random variables, discrete and continuous.\n",
    "\n",
    "X = outcome of a coin toss / values that could be considered while tossing a coin\n",
    "\n",
    "Possible Outcomes:\n",
    "\n",
    "1 if heads\n",
    "0 if tails"
   ]
  },
  {
   "cell_type": "code",
   "execution_count": 1,
   "metadata": {},
   "outputs": [],
   "source": [
    "import random\n",
    "import numpy as np\n",
    "import matplotlib.pyplot as plt\n",
    "%matplotlib inline"
   ]
  },
  {
   "cell_type": "markdown",
   "metadata": {},
   "source": [
    "## Throwing dice many times (illustrating the _Law of large numbers_)\n",
    "When we throw dice a large number of times, the average reaches 3.5 which is the expected value."
   ]
  },
  {
   "cell_type": "code",
   "execution_count": 2,
   "metadata": {},
   "outputs": [],
   "source": [
    "dice = [x for x in range(1,7)]"
   ]
  },
  {
   "cell_type": "code",
   "execution_count": 3,
   "metadata": {},
   "outputs": [
    {
     "name": "stdout",
     "output_type": "stream",
     "text": [
      "A fair dice has 6 faces: [1, 2, 3, 4, 5, 6]\n"
     ]
    }
   ],
   "source": [
    "print(\"A fair dice has 6 faces:\",dice)"
   ]
  },
  {
   "cell_type": "code",
   "execution_count": 4,
   "metadata": {},
   "outputs": [],
   "source": [
    "def throw_dice(n=10):\n",
    "    \"\"\"\n",
    "    Throw a (fair) die n number of times and returns the result in an array\n",
    "    \"\"\"\n",
    "    r = []\n",
    "    for _ in range(n):\n",
    "        r.append(random.choice(dice))\n",
    "    return np.array(r)"
   ]
  },
  {
   "cell_type": "code",
   "execution_count": 5,
   "metadata": {},
   "outputs": [
    {
     "data": {
      "text/plain": [
       "array([3, 3, 1, 6, 3, 6, 5, 3, 4, 1])"
      ]
     },
     "execution_count": 5,
     "metadata": {},
     "output_type": "execute_result"
    }
   ],
   "source": [
    "throw_dice(10)"
   ]
  },
  {
   "cell_type": "code",
   "execution_count": 6,
   "metadata": {},
   "outputs": [
    {
     "data": {
      "text/plain": [
       "array([2, 4, 4, 5, 3])"
      ]
     },
     "execution_count": 6,
     "metadata": {},
     "output_type": "execute_result"
    }
   ],
   "source": [
    "throw_dice(5)"
   ]
  },
  {
   "cell_type": "code",
   "execution_count": 7,
   "metadata": {},
   "outputs": [
    {
     "name": "stdout",
     "output_type": "stream",
     "text": [
      "Average of 1 dice throws: 2.0\n",
      "Average of 5 dice throws: 4.4\n",
      "Average of 10 dice throws: 2.9\n",
      "Average of 50 dice throws: 3.54\n",
      "Average of 100 dice throws: 3.39\n",
      "Average of 500 dice throws: 3.48\n",
      "Average of 1000 dice throws: 3.54\n",
      "Average of 5000 dice throws: 3.52\n",
      "Average of 10000 dice throws: 3.5\n"
     ]
    }
   ],
   "source": [
    "for i in [1,5,10,50,100,500,1000,5000,10000]:    \n",
    "    print(\"Average of {} dice throws: {}\".format(i,round(throw_dice(i).mean(),2)))"
   ]
  },
  {
   "cell_type": "markdown",
   "metadata": {},
   "source": [
    "---"
   ]
  },
  {
   "cell_type": "code",
   "execution_count": 8,
   "metadata": {},
   "outputs": [
    {
     "ename": "NameError",
     "evalue": "name 'E' is not defined",
     "output_type": "error",
     "traceback": [
      "\u001b[1;31m---------------------------------------------------------------------------\u001b[0m",
      "\u001b[1;31mNameError\u001b[0m                                 Traceback (most recent call last)",
      "\u001b[1;32m<ipython-input-8-6aa243b639ae>\u001b[0m in \u001b[0;36m<module>\u001b[1;34m\u001b[0m\n\u001b[1;32m----> 1\u001b[1;33m \u001b[0mE\u001b[0m\u001b[1;33m[\u001b[0m\u001b[0mx\u001b[0m\u001b[1;33m]\u001b[0m\u001b[1;33m\u001b[0m\u001b[1;33m\u001b[0m\u001b[0m\n\u001b[0m",
      "\u001b[1;31mNameError\u001b[0m: name 'E' is not defined"
     ]
    }
   ],
   "source": [
    "E[x]"
   ]
  },
  {
   "cell_type": "markdown",
   "metadata": {},
   "source": [
    "## Expected value of a function\n",
    "\n",
    "__Expected value or mean__: the weighted average of the possible values, using their probabilities as their weights; or the continuous analog thereof.\n",
    "\n",
    "Let $X$ be a random variable with a finite number of finite outcomes $x_1$,$x_2$,$x_3$,... occurring with probabilities $p_1$,$p_2$,$p_3$,... respectively. The expectation of $X$ is, then, defined as\n",
    "\n",
    "$$ E[X]=\\sum_{i=1}^{k}x_{i}\\,p_{i}=x_{1}p_{1}+x_{2}p_{2}+\\cdots +x_{k}p_{k} $$\n",
    "\n",
    "Since, all the probabilities $p_1$, $p_2$, $p_3$, add up to 1, $p_1+p_2+p_3+...=1$, it is the **weighted average**.\n",
    "\n",
    "For, continuous probability distributions, with a density function (PDF) of $f(x)$, the expected value is given by,\n",
    "\n",
    "$$ {\\displaystyle \\operatorname {E} [X]=\\int _{\\mathbb {R} }xf(x)\\,dx.}$$"
   ]
  },
  {
   "cell_type": "markdown",
   "metadata": {},
   "source": [
    "---"
   ]
  },
  {
   "cell_type": "markdown",
   "metadata": {},
   "source": [
    "## Discrete and Continuous Distributions\n",
    "\n",
    "Probability distributions are generally divided into two classes.\n",
    "\n",
    "A __discrete probability distribution__ (applicable to the scenarios where the set of possible outcomes is discrete, such as a coin toss or a roll of dice) can be encoded by a discrete list of the probabilities of the outcomes, known as a [probability mass function](https://en.wikipedia.org/wiki/Probability_mass_function). \n",
    "\n",
    "On the other hand, a __continuous probability distribution__ (applicable to the scenarios where the set of possible outcomes can take on values in a continuous range (e.g. real numbers), such as the temperature on a given day) is typically described by probability density functions (with the probability of any individual outcome actually being 0). Such distributions are generally described with the help of [probability density functions](https://en.wikipedia.org/wiki/Probability_density_function).\n"
   ]
  },
  {
   "cell_type": "markdown",
   "metadata": {},
   "source": [
    "* PDF\n",
    "![image.png](https://i.stack.imgur.com/H93iO.png)"
   ]
  },
  {
   "attachments": {
    "image.png": {
     "image/png": "[encoded data removed]"
    }
   },
   "cell_type": "markdown",
   "metadata": {},
   "source": [
    "\n",
    "![image.png](attachment:image.png)"
   ]
  },
  {
   "cell_type": "markdown",
   "metadata": {},
   "source": [
    "### Some Essential Terminologies\n",
    "\n",
    "* __Mode__: for a discrete random variable, the value with highest probability (the location at which the probability mass function has its peak); for a continuous random variable, a location at which the probability density function has a local peak.\n",
    "* __Support__: the smallest closed set whose complement has probability zero.\n",
    "* __Head__: the range of values where the pmf or pdf is relatively high.\n",
    "* __Tail__: the complement of the head within the support; the large set of values where the pmf or pdf is relatively low.\n",
    "* __Expected value or mean__: the weighted average of the possible values, using their probabilities as their weights; or the continuous analog thereof.\n",
    "* __Median__: the value such that the set of values less than the median, and the set greater than the median, each have proba\n",
    "bilities no greater than one-half.\n",
    "* __Variance__: the second moment of the pmf or pdf about the mean; an important measure of the dispersion of the distribution.\n",
    "* __Standard deviation__: the square root of the variance, and hence another measure of dispersion.\n",
    "\n",
    "* __Symmetry__: a property of some distributions in which the portion of the distribution to the left of a specific value is a mirror image of the portion to its right.\n",
    "* __Skewness__: a measure of the extent to which a pmf or pdf \"leans\" to one side of its mean. The third standardized moment of the distribution.\n",
    "* __Kurtosis__: a measure of the \"fatness\" of the tails of a pmf or pdf. The fourth standardized moment of the distribution.\n",
    "\n",
    "![kurtosis](https://anotherbloodybullshitblog.files.wordpress.com/2016/01/normal-not-always-the-norm.gif?w=809)"
   ]
  },
  {
   "cell_type": "markdown",
   "metadata": {},
   "source": [
    "### Quick mathematical definitions of mean, variance, skewness, and kurtosis with respect to a PDF $P(x)$\n",
    "\n",
    "$$\\text{1st raw moment } \\mathbf{Mean\\ (1st\\ moment):} \\int x.P(x).dx$$\n",
    "\n",
    "$$\\text{Centralized 2nd moment } \\mathbf{Variance\\ (2nd\\ moment):} \\int (x-\\mu)^2.P(x).dx$$\n",
    "\n",
    "$$\\text{Pearson's 3rd moment (Standardized) }\\mathbf{Skew\\ (3rd\\ moment):} \\int\\left ( \\frac{x-\\mu}{\\sigma} \\right )^3.P(x).dx$$\n",
    "\n",
    "$$\\text{Pearson's 4th moment (Standardized)  }\\mathbf{Kurtosis\\ (4th\\ moment):} \\int\\left ( \\frac{x-\\mu}{\\sigma} \\right )^4.P(x).dx$$"
   ]
  },
  {
   "cell_type": "markdown",
   "metadata": {},
   "source": [
    "---"
   ]
  },
  {
   "cell_type": "markdown",
   "metadata": {},
   "source": [
    "## Central Tendancy\n",
    "\n",
    "* Measure of Central Tendency - Mode, Mean and Median\n",
    "* Measure of dispersion - SD, Variance\n",
    "* Measure of Skewness "
   ]
  },
  {
   "cell_type": "markdown",
   "metadata": {},
   "source": [
    "## Bernoulii distribution\n",
    "\n",
    "The Bernoulli distribution, named after Swiss mathematician [Jacob Bernoulli](https://en.wikipedia.org/wiki/Jacob_Bernoulli), is the probability distribution of a random variable which takes the value 1 with probability $p$ and the value 0 with probability $q = 1 − p$ — i.e., the probability distribution of any single experiment that asks a ___yes–no question___; the question results in a boolean-valued outcome, a single bit of information whose value is success/yes/true/one with probability $p$ and failure/no/false/zero with probability $q$. \n",
    "\n",
    "It can be used to represent a coin toss where 1 and 0 would represent \"head\" and \"tail\" (or vice versa), respectively. In particular, unfair coins would have $p ≠ 0.5$.\n",
    "\n",
    "![coin](https://raw.githubusercontent.com/tirthajyoti/Stats-Maths-with-Python/master/images/coin_toss.PNG)\n",
    "\n",
    "The probability mass function $f$ of this distribution, over possible outcomes $k$, is\n",
    "\n",
    "$${\\displaystyle f(k;p)={\\begin{cases}p&{\\text{if }}k=1,\\\\[6pt]1-p&{\\text{if }}k=0.\\end{cases}}}$$"
   ]
  },
  {
   "cell_type": "code",
   "execution_count": null,
   "metadata": {},
   "outputs": [],
   "source": [
    "from scipy.stats import bernoulli\n",
    "import numpy as np"
   ]
  },
  {
   "cell_type": "markdown",
   "metadata": {},
   "source": [
    "### Generate random variates"
   ]
  },
  {
   "cell_type": "code",
   "execution_count": null,
   "metadata": {},
   "outputs": [],
   "source": [
    "# p=0.5 i.e. fair coin\n",
    "bernoulli.rvs(p=0.5,size=20)"
   ]
  },
  {
   "cell_type": "markdown",
   "metadata": {},
   "source": [
    "### Loaded coin towards tail, p=0.2 for head"
   ]
  },
  {
   "cell_type": "code",
   "execution_count": null,
   "metadata": {},
   "outputs": [],
   "source": [
    "# p=0.2 i.e. more tails (0) than heads(1)\n",
    "bernoulli.rvs(p=0.2,size=20)"
   ]
  },
  {
   "cell_type": "markdown",
   "metadata": {},
   "source": [
    "### Loaded coin towards head, p=0.8 for head"
   ]
  },
  {
   "cell_type": "code",
   "execution_count": null,
   "metadata": {},
   "outputs": [],
   "source": [
    "# p=0.8 i.e. more heads (1) than tails (0)\n",
    "bernoulli.rvs(p=0.8,size=20)"
   ]
  },
  {
   "cell_type": "markdown",
   "metadata": {},
   "source": [
    "### Note, a single run or even a small number of runs may not produce the expected distribution of 1's and 0's. \n",
    "For example, if you assign $p=0.5$, you may not get half 1's and half 0's every time you evaluate the function. Experiment with $N$ number of trials to see how the probability distribution gradually centers around 0.5."
   ]
  },
  {
   "cell_type": "code",
   "execution_count": null,
   "metadata": {
    "scrolled": false
   },
   "outputs": [],
   "source": [
    "N_trials = [10,20,50,100,200,500,1000,2000,5000] # Number of trials\n",
    "pr=0.5 # Fair coin toss probability\n",
    "av = [] # Empty list to store the average of the random variates\n",
    "\n",
    "# Generate 10 variates every time and take the average. That should be # of 1's i.e. 0.5 for a fair coin.\n",
    "for i in N_trials:\n",
    "    for n in range(1,i+1):\n",
    "        av.append(np.mean(bernoulli.rvs(p=pr,size=10)))\n",
    "    if (i==10):\n",
    "        #print(av)\n",
    "        plt.title(\"Distribution with {} trials of 10 coin tosses\".format(i))\n",
    "        plt.hist(av,bins=10,edgecolor='k',color='orange')\n",
    "        plt.xlim(0.0,1.0)\n",
    "        plt.xticks([0.1*i for i in range(11)])\n",
    "        plt.grid(True)\n",
    "        plt.show()\n",
    "    else:\n",
    "        #print(av)\n",
    "        plt.title(\"Distribution with {} trials of 10 coin tosses\".format(i))\n",
    "        plt.hist(av,bins=25,edgecolor='k',color='orange')\n",
    "        plt.xlim(0.0,1.0)\n",
    "        plt.xticks([0.1*i for i in range(11)])\n",
    "        plt.grid(True)\n",
    "        plt.show()"
   ]
  },
  {
   "cell_type": "markdown",
   "metadata": {},
   "source": [
    "### Mean, variance, skew, and kurtosis\n",
    "Use `bernoulli.stats()` method"
   ]
  },
  {
   "cell_type": "code",
   "execution_count": null,
   "metadata": {},
   "outputs": [],
   "source": [
    "print(\"A fair coin is spinning...\\n\"+\"-\"*30)\n",
    "pr=0.5 # Fair coin toss probability\n",
    "mean, var, skew, kurt = bernoulli.stats(p=pr, moments='mvsk')\n",
    "print(\"Mean:\",mean)\n",
    "print(\"Variance:\",var)\n",
    "print(\"Skew:\",skew)\n",
    "print(\"Kurtosis:\",kurt)"
   ]
  },
  {
   "cell_type": "code",
   "execution_count": null,
   "metadata": {},
   "outputs": [],
   "source": [
    "print(\"\\nNow a biased coin is spinning...\\n\"+\"-\"*35)\n",
    "pr=0.2 # Biased coin toss probability\n",
    "mean, var, skew, kurt = bernoulli.stats(p=pr, moments='mvsk')\n",
    "print(\"Mean:\",mean)\n",
    "print(\"Variance:\",var)\n",
    "print(\"Skew:\",skew)\n",
    "print(\"Kurtosis:\",kurt)"
   ]
  },
  {
   "cell_type": "markdown",
   "metadata": {},
   "source": [
    "### Probability mass function (PMF) and cumulative distribution function (CDF)"
   ]
  },
  {
   "cell_type": "code",
   "execution_count": null,
   "metadata": {},
   "outputs": [],
   "source": [
    "rv = bernoulli(0.6)\n",
    "x=0.0\n",
    "print(\"Probability mass function for {}: {}\".format(x,rv.pmf(x)))\n",
    "x=0.3\n",
    "print(\"Probability mass function for {}: {}\".format(x,rv.pmf(x)))\n",
    "x=1.0\n",
    "print(\"Probability mass function for {}: {}\".format(x,rv.pmf(x)))\n",
    "x=1.2\n",
    "print(\"Probability mass function for {}: {}\".format(x,rv.pmf(x)))"
   ]
  },
  {
   "cell_type": "code",
   "execution_count": null,
   "metadata": {},
   "outputs": [],
   "source": [
    "print(\"CDF for x < 0:\",rv.cdf(-2))\n",
    "print(\"CDF for 0< x <1:\",rv.cdf(0.75))\n",
    "print(\"CDF for x >1:\",rv.cdf(2))"
   ]
  },
  {
   "cell_type": "markdown",
   "metadata": {},
   "source": [
    "---"
   ]
  },
  {
   "cell_type": "markdown",
   "metadata": {},
   "source": [
    "## Binomial distribution\n",
    "\n",
    "The binomial distribution with parameters $n$ and $p$ is the discrete probability distribution of the **number of successes in a sequence of $n$ independent experiments, each asking a _yes–no question_,** and each with its own boolean-valued outcome: a random variable containing single bit of information: success/yes/true/one (with probability $p$) or failure/no/false/zero (with probability $q = 1 − p$). A single success/failure experiment is also called a _Bernoulli trial_ or _Bernoulli experiment_ and a sequence of outcomes is called a _Bernoulli process_. \n",
    "\n",
    "For a single trial, i.e., n = 1, the binomial distribution is a **Bernoulli distribution**. The binomial distribution is the basis for the popular [binomial test](https://en.wikipedia.org/wiki/Binomial_test) of [statistical significance](https://en.wikipedia.org/wiki/Statistical_significance).\n",
    "\n",
    "The binomial distribution is frequently used to model the number of successes in a sample of size n drawn with replacement from a population of size N. If the sampling is carried out without replacement, the draws are not independent and so the resulting distribution is a __[hypergeometric distribution](https://en.wikipedia.org/wiki/Hypergeometric_distribution)__, not a binomial one. However, for N much larger than n, the binomial distribution remains a good approximation, and is widely used.\n",
    "\n",
    "In general, if the random variable $X$ follows the binomial distribution with parameters n ∈ ℕ and p ∈ [0,1], we write X ~ B(n, p). The probability of getting exactly $k$ successes in $n$ trials is given by the probability mass function:\n",
    "\n",
    "$${\\Pr(k;n,p)=\\Pr(X=k)={n \\choose k}p^{k}(1-p)^{n-k}}$$\n",
    "\n",
    "for k = 0, 1, 2, ..., n, where\n",
    "\n",
    "$${\\displaystyle {\\binom {n}{k}}={\\frac {n!}{k!(n-k)!}}}$$\n",
    "\n",
    "![head_tail](https://wp-media.patheos.com/blogs/sites/308/2018/03/Probability-Tree-Diagram-coin-toss-1.jpg)\n"
   ]
  },
  {
   "cell_type": "markdown",
   "metadata": {},
   "source": [
    "---"
   ]
  },
  {
   "cell_type": "markdown",
   "metadata": {},
   "source": [
    "**Mean, variance, skew, and kurtosis**\n",
    "$$\\textbf{Mean} = n.p,\\ \\textbf{Variance}= n.p(1 - p), \\textbf{skewness}= \\frac{1-2p}{\\sqrt{n.p(1-p)}}, \\ \\textbf{kurtosis}= \\frac{1-6p(1-p)}{n.p(1-p)}$$\n",
    "\n",
    " \n",
    "Use binom.stats() method"
   ]
  },
  {
   "cell_type": "markdown",
   "metadata": {},
   "source": [
    "## Generate random variates\n",
    "8 coins are flipped (or 1 coin is flipped 8 times), each with probability of success (1) of 0.25. This trial/experiment is repeated for 10 times."
   ]
  },
  {
   "cell_type": "code",
   "execution_count": null,
   "metadata": {},
   "outputs": [],
   "source": [
    "from scipy.stats import binom\n",
    "import numpy as np\n",
    "k=binom.rvs(8,0.75,size=10)\n",
    "print(\"Number of success for each trial:\",k)\n",
    "print(\"Average of the success:\", np.mean(k))"
   ]
  },
  {
   "cell_type": "code",
   "execution_count": null,
   "metadata": {},
   "outputs": [],
   "source": [
    "print(\"A fair coin (p=0.5) is spinning 5 times\\n\"+\"-\"*35)\n",
    "pr=0.5 # Fair coin toss probability\n",
    "n=5\n",
    "mean, var, skew, kurt = binom.stats(n=n,p=pr, moments='mvsk')\n",
    "print(\"Mean:\",mean)\n",
    "print(\"Variance:\",var)\n",
    "print(\"Skew:\",skew)\n",
    "print(\"Kurtosis:\",kurt)"
   ]
  },
  {
   "cell_type": "code",
   "execution_count": null,
   "metadata": {},
   "outputs": [],
   "source": [
    "print(\"\\nNow a biased coin (p=0.7) is spinning 5 times...\\n\"+\"-\"*45)\n",
    "pr=0.7 # Biased coin toss probability\n",
    "n=5\n",
    "mean, var, skew, kurt = binom.stats(n=n,p=pr, moments='mvsk')\n",
    "print(\"Mean:\",mean)\n",
    "print(\"Variance:\",var)\n",
    "print(\"Skew:\",skew)\n",
    "print(\"Kurtosis:\",kurt)"
   ]
  },
  {
   "cell_type": "code",
   "execution_count": null,
   "metadata": {},
   "outputs": [],
   "source": [
    "## Vizualizing PMF \n",
    "import matplotlib.pyplot as plt\n",
    "%matplotlib inline\n",
    "\n",
    "n=40\n",
    "pr=0.5\n",
    "rv = binom(n,pr)\n",
    "x=np.arange(0,41,1)\n",
    "pmf1 = rv.pmf(x)\n",
    "#print(pmf1)\n",
    "\n",
    "n=40\n",
    "pr=0.15\n",
    "rv = binom(n,pr)\n",
    "x=np.arange(0,41,1)\n",
    "pmf2 = rv.pmf(x)\n",
    "#print(pmf2)\n",
    "\n",
    "n=50\n",
    "pr=0.6\n",
    "rv = binom(n,pr)\n",
    "x=np.arange(0,41,1)\n",
    "pmf3 = rv.pmf(x)\n",
    "#print(pmf3)\n",
    "\n",
    "plt.figure(figsize=(12,6))\n",
    "plt.title(\"Probability mass function: $\\\\binom{n}{k}\\, p^k (1-p)^{n-k}$\\n\",fontsize=20)\n",
    "plt.scatter(x,pmf1)\n",
    "plt.scatter(x,pmf2)\n",
    "plt.scatter(x,pmf3,c='k')\n",
    "plt.legend([\"$n=40, p=0.5$\",\"$n=40, p=0.3$\",\"$n=50, p=0.6$\"],fontsize=15)\n",
    "plt.xlabel(\"Number of successful trials ($k$)\",fontsize=15)\n",
    "plt.ylabel(\"Probability of success\",fontsize=15)\n",
    "plt.xticks(fontsize=15)\n",
    "plt.yticks(fontsize=15)\n",
    "plt.grid(True)\n",
    "plt.show()"
   ]
  },
  {
   "cell_type": "markdown",
   "metadata": {},
   "source": [
    "### Visualize the cumulative distrubition function (cdf)\n",
    "\n",
    "Cumulative distribution function for binomial distribution can also be represented in terms of the [regularized incomplete beta function](https://en.wikipedia.org/wiki/Regularized_incomplete_beta_function), as follows\n",
    "\n",
    "$${\\displaystyle {\\begin{aligned}F(k;n,p)&=\\Pr(X\\leq k)\\\\&=I_{1-p}(n-k,k+1)\\\\&=(n-k){n \\choose k}\\int _{0}^{1-p}t^{n-k-1}(1-t)^{k}\\,dt.\\end{aligned}}}$$"
   ]
  },
  {
   "cell_type": "code",
   "execution_count": null,
   "metadata": {},
   "outputs": [],
   "source": [
    "n=40\n",
    "pr=0.5\n",
    "rv = binom(n,pr)\n",
    "x=np.arange(0,41,1)\n",
    "cdf1 = rv.cdf(x)\n",
    "\n",
    "n=40\n",
    "pr=0.3\n",
    "rv = binom(n,pr)\n",
    "x=np.arange(0,41,1)\n",
    "cdf2 = rv.cdf(x)\n",
    "\n",
    "n=50\n",
    "pr=0.6\n",
    "rv = binom(n,pr)\n",
    "x=np.arange(0,41,1)\n",
    "cdf3 = rv.cdf(x)\n",
    "\n",
    "plt.figure(figsize=(12,6))\n",
    "plt.title(\"Cumulative distribution function: $I_{1-p}(n - k, 1 + k)$\\n\",fontsize=20)\n",
    "plt.scatter(x,cdf1)\n",
    "plt.scatter(x,cdf2)\n",
    "plt.scatter(x,cdf3,c='k')\n",
    "plt.legend([\"$n=40, p=0.5$\",\"$n=40, p=0.3$\",\"$n=50, p=0.6$\"],fontsize=15)\n",
    "plt.xlabel(\"Number of successful trials\",fontsize=15)\n",
    "plt.ylabel(\"Cumulative probability of success\",fontsize=15)\n",
    "plt.xticks(fontsize=15)\n",
    "plt.yticks(fontsize=15)\n",
    "plt.grid(True)\n",
    "plt.show()"
   ]
  },
  {
   "cell_type": "markdown",
   "metadata": {},
   "source": [
    "### Interval that contains a specific percentage of distribution\n",
    "Use `binom.interval` method"
   ]
  },
  {
   "cell_type": "code",
   "execution_count": null,
   "metadata": {},
   "outputs": [],
   "source": [
    "n=40\n",
    "pr=0.3\n",
    "percent=25\n",
    "interval = binom.interval(percent/100,n,pr,loc=0)\n",
    "print(\"Interval that contains {} percent of distribution with an experiment with {} trials and {} success probability  is: {}\"\n",
    "      .format(percent,n,pr,interval))"
   ]
  },
  {
   "cell_type": "markdown",
   "metadata": {},
   "source": [
    "## Poisson Distribution\n",
    "\n",
    "The Poisson distribution (named after French mathematician Siméon Denis Poisson), is a discrete probability distribution that **expresses the probability of a given number of events occurring in a fixed interval of time or space if these events occur with a known constant rate and independently of the time since the last event.** The Poisson distribution can also be used for the number of events in other specified intervals such as distance, area or volume.\n",
    "\n",
    "For instance, an individual keeping track of the amount of mail they receive each day may notice that they receive an average number of 4 letters per day. If receiving any particular piece of mail does not affect the arrival times of future pieces of mail, i.e., if pieces of mail from a wide range of sources arrive independently of one another, then a reasonable assumption is that the number of pieces of mail received in a day obeys a Poisson distribution. Other examples, that may follow a Poisson distribution, include\n",
    "\n",
    "* number of phone calls received by a call center per hour \n",
    "* number of decay events per second from a radioactive source\n",
    "* The number of meteors greater than 1 meter diameter that strike Earth in a year\n",
    "* The number of patients arriving in an emergency room between 10 and 11 pm\n",
    "\n",
    "**Poisson distribution is a limiting case of a Binomial Distribution where the number of trials is sufficiently bigger than the number of successes one is asking about i.e. $n>>1>>p$**\n",
    "\n",
    "An event can occur 0, 1, 2, … times in an interval. The average number of events in an interval is designated $\\lambda$. This is the event rate, also called the rate parameter. The probability of observing k events in an interval is given by the equation\n",
    "\n",
    "${P(k{\\text{ events in interval}})=e^{-\\lambda }{\\frac {\\lambda ^{k}}{k!}}}$\n",
    "\n",
    "where,\n",
    "\n",
    "${\\lambda}$ is the average number of events per interval\n",
    "\n",
    "e is the number 2.71828... (Euler's number) the base of the natural logarithms\n",
    "\n",
    "k takes values 0, 1, 2, …\n",
    "k! = k × (k − 1) × (k − 2) × … × 2 × 1 is the factorial of k."
   ]
  },
  {
   "attachments": {
    "image.png": {
     "image/png": "[encoded data removed]"
    }
   },
   "cell_type": "markdown",
   "metadata": {},
   "source": [
    "![image.png](attachment:image.png)"
   ]
  },
  {
   "cell_type": "markdown",
   "metadata": {},
   "source": [
    "- The average number of major storms in your city is 2 per year. What is the probability that exactly 3 storms will hit your city next year\n",
    "* ${\\lambda}$ = 2\n",
    "* k = 3 \n",
    "\n",
    "${P(k{\\text{ events in interval}})=e^{-2 }{\\frac {2 ^{3}}{3!}}}$ = 0.180\n",
    "\n",
    "\n",
    "- The probability of 3 storms happening next year is 0.180, or 18%\n"
   ]
  },
  {
   "cell_type": "code",
   "execution_count": null,
   "metadata": {},
   "outputs": [],
   "source": [
    "from scipy.stats import poisson\n",
    "la=0.5\n",
    "rv = poisson(la)\n",
    "x=np.arange(0,11,1)\n",
    "pmf1 = rv.pmf(x)\n",
    "\n",
    "la=1\n",
    "rv = poisson(la)\n",
    "x=np.arange(0,11,1)\n",
    "pmf2 = rv.pmf(x)\n",
    "\n",
    "la=5\n",
    "rv = poisson(la)\n",
    "x=np.arange(0,11,1)\n",
    "pmf3 = rv.pmf(x)\n",
    "\n",
    "plt.figure(figsize=(9,6))\n",
    "plt.title(\"Probability mass function: $e^{-\\lambda}{(\\lambda^k/k!)}$\\n\",fontsize=20)\n",
    "plt.scatter(x,pmf1,s=100)\n",
    "plt.scatter(x,pmf2,s=100)\n",
    "plt.scatter(x,pmf3,c='k',s=100)\n",
    "plt.legend([\"$\\lambda=0.5$\",\"$\\lambda=1$\",\"$\\lambda=5$\"],fontsize=15)\n",
    "plt.xlabel(\"Number of occurences ($k$)\",fontsize=15)\n",
    "plt.ylabel(\"$Pr(X=k)$\",fontsize=15)\n",
    "plt.xticks(fontsize=15)\n",
    "plt.yticks(fontsize=15)\n",
    "plt.grid(True)\n",
    "plt.show()"
   ]
  },
  {
   "cell_type": "code",
   "execution_count": null,
   "metadata": {},
   "outputs": [],
   "source": [
    "la=0.5\n",
    "rv = poisson(la)\n",
    "x=np.arange(0,11,1)\n",
    "cdf1 = rv.cdf(x)\n",
    "\n",
    "la=2\n",
    "rv = poisson(la)\n",
    "x=np.arange(0,11,1)\n",
    "cdf2 = rv.cdf(x)\n",
    "\n",
    "la=5\n",
    "rv = poisson(la)\n",
    "x=np.arange(0,11,1)\n",
    "cdf3 = rv.cdf(x)\n",
    "\n",
    "plt.figure(figsize=(9,6))\n",
    "plt.title(\"Cumulative distribution function\\n\",fontsize=20)\n",
    "plt.scatter(x,cdf1,s=100)\n",
    "plt.scatter(x,cdf2,s=100)\n",
    "plt.scatter(x,cdf3,c='k',s=100)\n",
    "plt.legend([\"$\\lambda=0.5$\",\"$\\lambda=2$\",\"$\\lambda=5$\"],fontsize=15)\n",
    "plt.xlabel(\"Number of occurences ($k$)\",fontsize=15)\n",
    "plt.ylabel(\"Cumulative distribution function\",fontsize=15)\n",
    "plt.xticks(fontsize=15)\n",
    "plt.yticks(fontsize=15)\n",
    "plt.grid(True)\n",
    "plt.show()"
   ]
  },
  {
   "cell_type": "markdown",
   "metadata": {},
   "source": [
    "### Moments - mean, variance, skew, and kurtosis\n",
    "Various moments of a Poisson distributed random variable $X$ are as follows:\n",
    "\n",
    "$$ \\textbf{Mean}=\\lambda,\\ \\textbf{Variance}=\\lambda,\\ \\textbf{skewness}=\\frac {1}{\\sqrt{\\lambda}},\\ \\textbf{kurtosis}=\\frac{1}{\\lambda}$$"
   ]
  },
  {
   "cell_type": "markdown",
   "metadata": {},
   "source": [
    "---"
   ]
  },
  {
   "cell_type": "markdown",
   "metadata": {},
   "source": [
    "## Uniform (continuous) distribution\n",
    "\n",
    "This is the distribution of the likelihood of uniformly randomly selecting an item out of a finite collection.\n",
    "\n",
    "We are mostly familiar with the discontinuous version of this distribution. For example, in case of throwing a fair dice, the probability distribution of a single throw is given by: \n",
    "\n",
    "$$ \\left \\{ \\frac{1}{6},\\ \\frac{1}{6}, \\ \\frac{1}{6},\\ \\frac{1}{6},\\ \\frac{1}{6},\\ \\frac{1}{6} \\right \\} $$\n",
    "\n",
    "![dice](https://raw.githubusercontent.com/tirthajyoti/Stats-Maths-with-Python/master/images/dice.PNG)\n",
    "\n",
    "For the continuous case, the PDF looks deceptively simple, but the concept is subtle,\n",
    "\n",
    "$$ f(x)={\\begin{cases}{\\frac {1}{b-a}}&\\mathrm {for} \\ a\\leq x\\leq b,\\\\[8pt]0&\\mathrm {for} \\ x<a\\ \\mathrm {or} \\ x>b\\end{cases}} $$\n",
    "\n",
    "![uniform](https://raw.githubusercontent.com/tirthajyoti/Stats-Maths-with-Python/master/images/uniform_dist.PNG)"
   ]
  },
  {
   "cell_type": "markdown",
   "metadata": {},
   "source": [
    "---"
   ]
  },
  {
   "cell_type": "markdown",
   "metadata": {},
   "source": [
    "## Normal (Gaussian) distribution\n",
    "\n",
    "In probability theory, the normal (or Gaussian or Gauss or Laplace–Gauss) distribution is a very common continuous probability distribution. Normal distributions are important in statistics and are often used in the natural and social sciences to represent real-valued random variables whose distributions are not known. A random variable with a Gaussian distribution is said to be normally distributed and is called a normal deviate.\n",
    "\n",
    "\n",
    "Physical quantities that are expected to be the sum of many independent processes (such as measurement errors) often have distributions that are nearly normal. Moreover, many results and methods (such as propagation of uncertainty and least squares parameter fitting) can be derived analytically in explicit form when the relevant variables are normally distributed.\n",
    "\n",
    "### PDF and CDF\n",
    "\n",
    "The probability density function (PDF) is given by,\n",
    "$$ f(x\\mid \\mu ,\\sigma ^{2})={\\frac {1}{\\sqrt {2\\pi \\sigma ^{2}}}}e^{-{\\frac {(x-\\mu )^{2}}{2\\sigma ^{2}}}} $$\n",
    "where,\n",
    "- $\\mu$ is the mean or expectation of the distribution (and also its median and mode),\n",
    "- $\\sigma$ is the standard deviation, and $\\sigma^2$ is the variance.\n",
    "\n",
    "Cumulative distribution function (CDF) is given by,\n",
    "$$\\frac{1}{2}\\left [ 1+\\text{erf} \\left ( \\frac{x-\\mu}{\\sigma\\sqrt{2}}\\right ) \\right ]$$\n",
    "\n",
    "![normal](https://raw.githubusercontent.com/tirthajyoti/Stats-Maths-with-Python/master/images/normal.PNG)\n",
    "\n",
    "Scipy Stats page: https://docs.scipy.org/doc/scipy/reference/generated/scipy.stats.norm.html#scipy.stats.norm"
   ]
  },
  {
   "cell_type": "code",
   "execution_count": 1,
   "metadata": {},
   "outputs": [],
   "source": [
    "from scipy.stats import norm"
   ]
  },
  {
   "cell_type": "code",
   "execution_count": 11,
   "metadata": {},
   "outputs": [
    {
     "name": "stdout",
     "output_type": "stream",
     "text": [
      "[-3.         -2.93939394 -2.87878788 -2.81818182 -2.75757576 -2.6969697\n",
      " -2.63636364 -2.57575758 -2.51515152 -2.45454545 -2.39393939 -2.33333333\n",
      " -2.27272727 -2.21212121 -2.15151515 -2.09090909 -2.03030303 -1.96969697\n",
      " -1.90909091 -1.84848485 -1.78787879 -1.72727273 -1.66666667 -1.60606061\n",
      " -1.54545455 -1.48484848 -1.42424242 -1.36363636 -1.3030303  -1.24242424\n",
      " -1.18181818 -1.12121212 -1.06060606 -1.         -0.93939394 -0.87878788\n",
      " -0.81818182 -0.75757576 -0.6969697  -0.63636364 -0.57575758 -0.51515152\n",
      " -0.45454545 -0.39393939 -0.33333333 -0.27272727 -0.21212121 -0.15151515\n",
      " -0.09090909 -0.03030303  0.03030303  0.09090909  0.15151515  0.21212121\n",
      "  0.27272727  0.33333333  0.39393939  0.45454545  0.51515152  0.57575758\n",
      "  0.63636364  0.6969697   0.75757576  0.81818182  0.87878788  0.93939394\n",
      "  1.          1.06060606  1.12121212  1.18181818  1.24242424  1.3030303\n",
      "  1.36363636  1.42424242  1.48484848  1.54545455  1.60606061  1.66666667\n",
      "  1.72727273  1.78787879  1.84848485  1.90909091  1.96969697  2.03030303\n",
      "  2.09090909  2.15151515  2.21212121  2.27272727  2.33333333  2.39393939\n",
      "  2.45454545  2.51515152  2.57575758  2.63636364  2.6969697   2.75757576\n",
      "  2.81818182  2.87878788  2.93939394  3.        ]\n"
     ]
    },
    {
     "data": {
      "text/plain": [
       "Text(0, 0.5, 'Probability Density')"
      ]
     },
     "execution_count": 11,
     "metadata": {},
     "output_type": "execute_result"
    },
    {
     "data": {
      "image/png": "[encoded data removed]",
      "text/plain": [
       "<Figure size 720x360 with 1 Axes>"
      ]
     },
     "metadata": {
      "needs_background": "light"
     },
     "output_type": "display_data"
    }
   ],
   "source": [
    "import numpy as np\n",
    "import matplotlib.pyplot as plt\n",
    "%matplotlib inline\n",
    "x = np.linspace(-3, 3, num = 100)\n",
    "print(x)\n",
    "constant = 1.0 / np.sqrt(2*np.pi)\n",
    "pdf_normal_distribution = constant * np.exp((-x**2) / 2.0)\n",
    "\n",
    "fig, ax = plt.subplots(figsize=(10, 5));\n",
    "ax.plot(x, pdf_normal_distribution);\n",
    "ax.set_ylim(0);\n",
    "ax.set_title('Normal Distribution', size = 20);\n",
    "ax.set_ylabel('Probability Density', size = 20)"
   ]
  },
  {
   "cell_type": "markdown",
   "metadata": {},
   "source": [
    "### Derive the familiar 68-95-99.7 rule from the basic definition"
   ]
  },
  {
   "cell_type": "code",
   "execution_count": 12,
   "metadata": {},
   "outputs": [],
   "source": [
    "import scipy\n",
    "import numpy as np"
   ]
  },
  {
   "cell_type": "code",
   "execution_count": 14,
   "metadata": {},
   "outputs": [],
   "source": [
    "def normalProbabilityDensity(x):\n",
    "    constant = 1.0 / np.sqrt(2*np.pi)\n",
    "    return(constant * np.exp((-x**2) / 2.0) )# Integrate PDF from -1 to 1\n",
    "\n",
    "def integrate_normal(num_sigma):\n",
    "    result, _ = scipy.integrate.quad(normalProbabilityDensity, -num_sigma, num_sigma)\n",
    "    return round(result,3)"
   ]
  },
  {
   "cell_type": "code",
   "execution_count": 15,
   "metadata": {},
   "outputs": [
    {
     "name": "stdout",
     "output_type": "stream",
     "text": [
      "The percentage of data present within 1 standard deviation: 0.683\n",
      "The percentage of data present within 2 standard deviations: 0.954\n",
      "The percentage of data present within 3 standard deviations: 0.997\n"
     ]
    }
   ],
   "source": [
    "print(\"The percentage of data present within 1 standard deviation:\",integrate_normal(1))\n",
    "print(\"The percentage of data present within 2 standard deviations:\",integrate_normal(2))\n",
    "print(\"The percentage of data present within 3 standard deviations:\",integrate_normal(3))"
   ]
  },
  {
   "cell_type": "markdown",
   "metadata": {},
   "source": [
    "![sd](https://miro.medium.com/max/31500/1*IZ2II2HYKeoMrdLU5jW6Dw.png)"
   ]
  },
  {
   "cell_type": "markdown",
   "metadata": {},
   "source": [
    "## Random variable generation using `Numpy.random` module\n",
    "Numpy offers an amazing module called `Numpy.random`, which has all the important probability distributions built-in for generation. We will check it out for,\n",
    "\n",
    "- Normal\n",
    "- Uniform\n",
    "- Binomial\n",
    "- Chi-square\n",
    "- Poisson\n",
    "- F-distribution and Student's t-distribution"
   ]
  },
  {
   "cell_type": "markdown",
   "metadata": {},
   "source": [
    "### Generate normally distributed numbers with various mean and std.dev\n",
    "In `numpy.random.normal` method, the `loc` argument is the mean, adnd the `scale` argument is the std.dev"
   ]
  },
  {
   "cell_type": "code",
   "execution_count": null,
   "metadata": {},
   "outputs": [],
   "source": [
    "import numpy as np\n",
    "a1 = np.random.normal(loc=0,scale=np.sqrt(0.2),size=100000)\n",
    "a2 = np.random.normal(loc=0,scale=1.0,size=100000) \n",
    "a3 = np.random.normal(loc=0,scale=np.sqrt(5),size=100000)\n",
    "a4 = np.random.normal(loc=-2,scale=np.sqrt(0.5),size=100000)"
   ]
  },
  {
   "cell_type": "code",
   "execution_count": null,
   "metadata": {
    "scrolled": true
   },
   "outputs": [],
   "source": [
    "import matplotlib.pyplot as plt\n",
    "# %matplotlib inline\n",
    "plt.figure(figsize=(8,5))\n",
    "plt.hist(a1,density=True,bins=100,color='blue',alpha=0.9)\n",
    "plt.hist(a2,density=True,bins=100,color='red',alpha=0.9)\n",
    "plt.hist(a3,density=True,bins=100,color='orange',alpha=0.9)\n",
    "plt.hist(a4,density=True,bins=100,color='green',alpha=0.9)\n",
    "plt.xlim(-7,7)\n",
    "plt.show()"
   ]
  },
  {
   "cell_type": "markdown",
   "metadata": {},
   "source": [
    "### Generate dice throws and average them to show the emergence of Normality as per the Central Limit Theorem\n",
    "We can use either `np.random.uniform` or `np.random.randint` to generate dice throws uniformly randomly"
   ]
  },
  {
   "cell_type": "code",
   "execution_count": null,
   "metadata": {},
   "outputs": [],
   "source": [
    "np.random.uniform(low=1.0,high=7.0,size=10)"
   ]
  },
  {
   "cell_type": "code",
   "execution_count": null,
   "metadata": {},
   "outputs": [],
   "source": [
    "def dice_throws(num_sample):\n",
    "    int_throws = np.vectorize(int)\n",
    "    throws = int_throws(np.random.uniform(low=1.0,high=7.0,size=num_sample))\n",
    "    return throws"
   ]
  },
  {
   "cell_type": "code",
   "execution_count": null,
   "metadata": {},
   "outputs": [],
   "source": [
    "dice_throws(5)"
   ]
  },
  {
   "cell_type": "code",
   "execution_count": null,
   "metadata": {},
   "outputs": [],
   "source": [
    "np.random.randint(1,7,5)"
   ]
  },
  {
   "cell_type": "code",
   "execution_count": null,
   "metadata": {},
   "outputs": [],
   "source": [
    "def average_throws(num_throws=5,num_experiment=100):\n",
    "    averages = []\n",
    "    for i in range(num_experiment):\n",
    "        a = dice_throws(num_throws)\n",
    "        av = a.mean()\n",
    "        averages.append(av)\n",
    "    return np.array(averages)"
   ]
  },
  {
   "cell_type": "code",
   "execution_count": null,
   "metadata": {
    "scrolled": false
   },
   "outputs": [],
   "source": [
    "for i in [50,100,500,1000,5000,10000,50000,100000]:\n",
    "    plt.hist(average_throws(num_throws=20,num_experiment=i),bins=25,edgecolor='k',color='orange')\n",
    "    plt.title(f\"Averaging with 20 throws and repeating it for {i} times\")\n",
    "    plt.show()"
   ]
  },
  {
   "cell_type": "markdown",
   "metadata": {},
   "source": [
    "# Central Limit Theorem\n",
    " * CLT is a statistical theory stating that given a sufficiently large sample size from a population with a finite level of variance, the mean of all samples from the same population will be approximately equal to the mean of the population.\n",
    " * The central limit theorem (CLT) states that the distribution of sample means approximates a normal distribution as the sample size gets larger.\n",
    "* Sample sizes equal to or greater than 30 are considered sufficient for the CLT to hold.\n",
    "* A key aspect of CLT is that the average of the sample means and standard deviations will equal the population mean and standard deviation.\n",
    "* A sufficiently large sample size can predict the characteristics of a population accurately.\n",
    "\n",
    "** The Central Limit Theorem is used to help us understand the following facts regardless of whether the population distribution is normal or not:\n",
    "1. the mean of the sample means is the same as the population mean\n",
    "2. the standard deviation of the sample means is always equal to the standard error.\n",
    "3. the distribution of sample means will become increasingly more normal as the sample size increases.**"
   ]
  },
  {
   "cell_type": "code",
   "execution_count": null,
   "metadata": {},
   "outputs": [],
   "source": [
    "f = plt.figure(figsize=(18, 10))\n",
    " \n",
    "def plotHist(nr, N, n_, mean, var0, x0):\n",
    "    ''' plots the RVs'''\n",
    "    x = np.zeros((N))\n",
    "    sp = f.add_subplot(3, 2, n_ )\n",
    "    \n",
    "    for i in range(N):    \n",
    "        for j in range(nr):\n",
    "            x[i] += np.random.random() \n",
    "        x[i] *= 1/nr\n",
    "    plt.hist(x, 100, normed=True, color='#348ABD', label=\" %d RVs\"%(nr));\n",
    "    plt.setp(sp.get_yticklabels(), visible=False)\n",
    "    \n",
    "    variance = var0/nr                     \n",
    "    fac = 1/np.sqrt(2*np.pi*variance)\n",
    "    dist = fac*np.exp(-(x0-mean)**2/(2*variance))\n",
    "    plt.plot(x0,dist,color='#A60628',linewidth=3,label='CLT',alpha=0.8)\n",
    "    plt.xlabel('r')\n",
    "    plt.xlim([0, 1])\n",
    "    leg = plt.legend(loc=\"upper left\")\n",
    "    leg.get_frame().set_alpha(0.1)\n",
    "\n",
    "    \n",
    "N = 10000   # number of samples taken\n",
    "nr = ([1, 2, 4, 8, 16, 32])\n",
    "\n",
    "mean, var0 = 0.5, 1.0/12  # mean and variance of uniform distribution in range 0, 1\n",
    "x0 = np.linspace(0, 1, 128)\n",
    "\n",
    "for i in range(np.size(nr)):\n",
    "    plotHist(nr[i], N, i+1, mean, var0, x0)\n",
    "\n",
    "plt.suptitle(\"Addition of uniform random variables (RVs) converge to a Gaussian distribution (CLT)\",fontsize=20);"
   ]
  },
  {
   "cell_type": "markdown",
   "metadata": {},
   "source": [
    "# Conditional Probability: \n",
    "\n",
    "Conditional probability is the probability of one event occurring with some relationship to one or more other events. For example:\n",
    "\n",
    "Event A is that it is raining outside, and it has a 0.3 (30%) chance of raining today.\n",
    "Event B is that you will need to go outside, and that has a probability of 0.5 (50%).\n",
    "A conditional probability would look at these two events in relationship with one another, such as the probability that it is both raining and you will need to go outside.\n",
    "\n",
    "P(B|A) = P(A and B) / P(A)\n",
    "which you can also rewrite as:\n",
    "P(B|A) = P(A∩B) / P(A)"
   ]
  },
  {
   "cell_type": "markdown",
   "metadata": {},
   "source": [
    "In a group of 100 sports car buyers, 40 bought alarm systems, 30 purchased bucket seats, and 20 purchased an alarm system and bucket seats. If a car buyer chosen at random bought an alarm system, what is the probability they also bought bucket seats?\n",
    "\n",
    "**Figure out P(A). It’s given in the question as 40%, or 0.4.**\n",
    "\n",
    "Figure out P(A∩B). This is the intersection of A and B: both happening together. It’s given in the question 20 out of 100 buyers, or 0.2.\n",
    "\n",
    "Insert your answers into the formula:\n",
    "P(B|A) = P(A∩B) / P(A) = 0.2 / 0.4 = 0.5.\n",
    "\n",
    "The probability that a buyer bought bucket seats, given that they purchased an alarm system, is 50%."
   ]
  },
  {
   "cell_type": "markdown",
   "metadata": {},
   "source": [
    "# Inference and Descriptive Statistics\n",
    "**Descriptive statistics** is the term given to the analysis of data that helps describe, show or summarize data in a meaningful way such that, for example, patterns might emerge from the data. Descriptive statistics do not, however, allow us to make conclusions beyond the data we have analysed or reach conclusions regarding any hypotheses we might have made. They are simply a way to describe our data.\n",
    "\n",
    "* Measure of Central Tendency - Mode, Mean and Mode\n",
    "* Measure of dispersion - SD, Variance\n",
    "* Measure of Skewness \n",
    "\n",
    "**Inferential statistics** makes inferences about the population based on random sample data taken from a population.\n",
    "We use a smaller set of random data compiled from a population to extend and make conclusions or generalize about the population.\n",
    "* Population - Entire dataset  \n",
    "  \n",
    "* Sample - portion of a dataset\n",
    "\n",
    "The most common methodologies in inferential statistics are hypothesis tests, t and z statistics, confidence intervals, and regression analysis. Interestingly, these inferential methods can produce similar summary values as descriptive statistics, such as the mean and standard deviation. \n",
    "\n",
    "* https://statisticsbyjim.com/basics/descriptive-inferential-statistics/"
   ]
  },
  {
   "cell_type": "code",
   "execution_count": null,
   "metadata": {},
   "outputs": [],
   "source": [
    "import pandas as pd\n",
    "import matplotlib.pyplot \n",
    "movies = pd.read_csv('http://bit.ly/imdbratings')"
   ]
  },
  {
   "cell_type": "code",
   "execution_count": null,
   "metadata": {},
   "outputs": [],
   "source": [
    "movies.head()"
   ]
  },
  {
   "cell_type": "code",
   "execution_count": null,
   "metadata": {},
   "outputs": [],
   "source": [
    "movies.describe()"
   ]
  },
  {
   "cell_type": "code",
   "execution_count": null,
   "metadata": {},
   "outputs": [],
   "source": [
    "movies.content_rating.value_counts().plot(kind='barh')"
   ]
  },
  {
   "cell_type": "code",
   "execution_count": null,
   "metadata": {},
   "outputs": [],
   "source": [
    "movies.describe(include='all')"
   ]
  },
  {
   "cell_type": "markdown",
   "metadata": {},
   "source": [
    " "
   ]
  },
  {
   "cell_type": "markdown",
   "metadata": {},
   "source": [
    "**What are the similarities between descriptive and inferential statistics?**\n",
    "Both descriptive and inferential statistics rely on the same set of data. Descriptive statistics rely solely on this set of data, whilst inferential statistics also rely on this data in order to make generalisations about a larger population.\n",
    "\n",
    "**What are the strengths of using descriptive statistics to examine a distribution of scores?**\n",
    "Other than the clarity with which descriptive statistics can clarify large volumes of data, there are no uncertainties about the values you get (other than only measurement error, etc.).\n",
    "\n",
    "**What are the limitations of descriptive statistics?**\n",
    "Descriptive statistics are limited in so much that they only allow you to make summations about the people or objects that you have actually measured. You cannot use the data you have collected to generalize to other people or objects (i.e., using data from a sample to infer the properties/parameters of a population). For example, if you tested a drug to beat cancer and it worked in your patients, you cannot claim that it would work in other cancer patients only relying on descriptive statistics (but inferential statistics would give you this opportunity)."
   ]
  },
  {
   "cell_type": "markdown",
   "metadata": {},
   "source": [
    "Differential inferential statistics techniques are\n",
    "* Z Statistics\n",
    "* Hypothesis testing\n",
    "* T Statistics\n",
    "* Normal distribution\n",
    "* Central Limit Theorem\n",
    "* Confidence Interval\n",
    "* ANOVA\n",
    "* R²\n",
    "* Regression"
   ]
  },
  {
   "cell_type": "markdown",
   "metadata": {},
   "source": [
    "#  Z Statistics\n",
    "\n",
    "* Z statistics uses z score\n",
    "* Z Score tells how many standard deviation above or below a datapoint is from the population mean.\n",
    "* Z score is also known as standard score as it can be placed on a normal distribution curve.\n",
    "* Z scores range from -3 standard deviation to +3 standard deviation. A negative value for Z score implies data point is below the mean and a positive value for Z score implies data point is above the mean\n",
    "* Z score tells the probability of a data point occurring on normal distribution curve\n",
    "* Helps compare two scores from different normal distribution\n",
    "* Useful when comparing data points from two different sets of data"
   ]
  },
  {
   "cell_type": "markdown",
   "metadata": {},
   "source": [
    "\n",
    "<img src=\"https://miro.medium.com/max/1509/1*inhHtAxquPq5Kx8ikTCKGA.png\" width=\"500\">"
   ]
  },
  {
   "cell_type": "markdown",
   "metadata": {},
   "source": [
    "Formula for Z score = (Observation — Mean)/Standard Deviation\n",
    "\n",
    "z = (X — μ) / σ   - for entire population\n",
    "\n",
    "z = [(x-μ)/ s/ sqrt (no. of samples)] - for sample population\n",
    "\n",
    "s - standard deviation of the samples"
   ]
  },
  {
   "cell_type": "markdown",
   "metadata": {},
   "source": [
    " ## What is hypothesis testing ?\n",
    "Hypothesis testing is a statistical method that is used in making statistical decisions using experimental data. Hypothesis Testing is basically an assumption that we make about the population parameter.\n",
    "\n",
    "Hypothesis testing is an essential procedure in statistics. A hypothesis test evaluates two mutually exclusive statements about a population to determine which statement is best supported by the sample data. When we say that a finding is statistically significant, it’s thanks to a hypothesis test.\n",
    "\n",
    "The basic of hypothesis is normalisation and standard normalisation. all our hypothesis is revolve around basic of these 2 terms. let’s see these.\n"
   ]
  },
  {
   "cell_type": "markdown",
   "metadata": {},
   "source": [
    "![norm](https://miro.medium.com/max/328/1*U-cR-vP8pYUmLUDwCPv23A.png)\n",
    "![sd](https://miro.medium.com/max/328/1*2vTwIrqdELKJY-tpheO7GA.jpeg)"
   ]
  },
  {
   "cell_type": "markdown",
   "metadata": {},
   "source": [
    "**Normalization**\n",
    "<img src=\"https://miro.medium.com/max/427/1*gBnxoTRwo9sDovvegHfm6g.png\" width=\"200\">"
   ]
  },
  {
   "cell_type": "markdown",
   "metadata": {},
   "source": [
    "**Standard Normalization**\n",
    "\n",
    "x_new = (X — μ) / σ"
   ]
  },
  {
   "cell_type": "markdown",
   "metadata": {},
   "source": [
    "## Steps for performing Hypothesis testing\n",
    "* Step 1: we first state the null hypothesis, which is the accepted fact currently\n",
    "* Step 2: we state the alternate hypothesis that we are trying to prove if it is right or wrong\n",
    "* Step 3: select a significance level denoted by α, usually it is .05 but we can select .02 or .01 whichever seems right for our testing\n",
    "* Step 4: Find the right test, could be z statistics, or t statistics, we will assign this to p value\n",
    "* Step 5: Compare p value with α and decide if we need to reject the null hypothesis or support null hypothesis"
   ]
  },
  {
   "cell_type": "markdown",
   "metadata": {},
   "source": [
    "## Null Hypothesis Vs Alternative Hypotheis\n",
    "<img src = https://miro.medium.com/max/720/1*fEPOHXPQO_ZNJC4UQDXmqw.png width=\"400\">"
   ]
  },
  {
   "cell_type": "markdown",
   "metadata": {},
   "source": [
    "Null Hypothesis is usually the accepted or know fact or a default position like there is no relationship between dependent and independent variable.\n",
    "\n",
    "Null Hypothesis is usually the hypothesis that the experiment is trying to disapprove and is currently an accepted fact. It is the status quo and hence includes only equality operator.\n",
    "\n",
    "Alternate hypothesis is the hypothesis that we are trying to prove with our experiment or survey.\n",
    "It can be stated with an inequality operator, less than or greater than operator\n",
    "Null and alternate hypothesis should always be mutually exclusive."
   ]
  },
  {
   "cell_type": "markdown",
   "metadata": {},
   "source": [
    "## Step 1 & 2\n",
    "* Media time has any impact on a student’s CAT score. Here we want to investigate if a student spending less media time will increase their CAT score.\n",
    "* Assumption that media time has no impact on student’s CAT score and that becomes our null hypothesis.\n",
    "* Alternate hypothesis will be, media time has an impact on the student’s CAT score."
   ]
  },
  {
   "cell_type": "markdown",
   "metadata": {},
   "source": [
    "# Step 3 \n",
    "* **Confidence level (C)** is the percentage of time a statistical result would be correct if you took numerous random sample. It is represented by C\n",
    "* **Level of significance(α)**: Refers to the degree of significance in which we accept or reject the null-hypothesis. \n",
    "\n",
    "\n",
    "* **α=1-C**\n",
    "\n",
    "**Critical regions describe the entire area of values that indicate you reject the null hypothesis.**\n",
    "\n",
    "100% accuracy is not possible for accepting or rejecting a hypothesis, so we therefore select a level of significance that is usually 5%."
   ]
  },
  {
   "cell_type": "markdown",
   "metadata": {},
   "source": [
    "**One tailed test** :- A test of a statistical hypothesis , where the region of rejection is on only one side of the sampling distribution , is called a one-tailed test.\n",
    "Example :- a college has ≥ 4000 student \n",
    "\n",
    "**Two-tailed test** :- A two-tailed test is a statistical test in which the critical area of a distribution is two-sided and tests whether a sample is greater than or less than a certain range of values. If the sample being tested falls into either of the critical areas, the alternative hypothesis is accepted instead of the null hypothesis.\n",
    "Example : a college != 4000 student \n",
    "<img src=\"https://miro.medium.com/max/1125/1*Fwmazvo993cH6q79bpfeIw.jpeg\" width = 500>"
   ]
  },
  {
   "cell_type": "markdown",
   "metadata": {},
   "source": [
    "# Step - 4 \n",
    "**Z- Test** \n",
    "This test is only appropriate when you know the true mean and standard deviation of the population.\n",
    "<img src= https://miro.medium.com/max/421/1*K8QeUa6X28OXashLRNidRQ.png>"
   ]
  },
  {
   "cell_type": "markdown",
   "metadata": {},
   "source": [
    "* **Hypothesis Tests When You Don’t Know Your Population Parameters**\n",
    "\n",
    "The Student’s t-distribution is similar to the normal distribution, except it is more spread out and wider in appearance, and has thicker tails. The differences between the t-distribution and the normal distribution are more exaggerated when there are fewer data points, and therefore fewer degrees of freedom.\n",
    "\n",
    "**Degrees of Freedom** \n",
    "\n",
    "Degrees of freedom is a combination of how much data you have and how many parameters you need to estimate. It indicates how much independent information goes into a parameter estimate.\n",
    "The mean of 1,2,3,4 and 5 is 3, and it is based on 5 values. So, we know that the values must sum to 15 based on the equation for the mean.\n",
    "So with 4 values and mean - we will be able to estimate the 5 value.. So degree of freedom in this case is 4 \n",
    "\n",
    "<img src =\"https://miro.medium.com/max/380/1*fMUfx6aKyMdbUPjdt730Lg.png\">"
   ]
  },
  {
   "cell_type": "markdown",
   "metadata": {},
   "source": [
    "![img](https://d2vlcm61l7u1fs.cloudfront.net/media%2Fff7%2Fff710579-dd39-49c4-8580-118446bbe94d%2FphphDS8aa.png)"
   ]
  },
  {
   "cell_type": "code",
   "execution_count": null,
   "metadata": {},
   "outputs": [],
   "source": []
  },
  {
   "cell_type": "markdown",
   "metadata": {},
   "source": [
    "## Step - 4 P- Value\n",
    " * The P value, or calculated probability, is the probability of finding the observed\n",
    "* If your P value is less than the chosen significance level then you reject the null hypothesis i.e. accept that your sample gives reasonable evidence to support the alternative hypothesis. It does NOT imply a “meaningful” or “important” difference; that is for you to decide when considering the real-world relevance of your result."
   ]
  },
  {
   "cell_type": "markdown",
   "metadata": {},
   "source": [
    "<img src =\"https://miro.medium.com/max/2144/1*DFY4kAjpNkHVlHvAYwQPQg.png\">"
   ]
  },
  {
   "cell_type": "code",
   "execution_count": null,
   "metadata": {},
   "outputs": [],
   "source": [
    "df.bp_before.mean()"
   ]
  },
  {
   "cell_type": "code",
   "execution_count": null,
   "metadata": {},
   "outputs": [],
   "source": [
    "import pandas as pd\n",
    "from scipy import stats\n",
    "from statsmodels.stats import weightstats as stests\n",
    "df = pd.read_csv('blood_pressure.csv')\n",
    "ztest ,pval = stests.ztest(df['bp_before'], x2=None, value=130)\n",
    "print(float(pval))\n",
    "if pval<0.05:\n",
    "    print(\"reject null hypothesis\")\n",
    "else:\n",
    "    print(\"accept null hypothesis\")"
   ]
  },
  {
   "cell_type": "markdown",
   "metadata": {},
   "source": [
    "<img src=\"https://miro.medium.com/max/1138/1*4c72kKs77I7nJmGtYq3dkw.png\">."
   ]
  },
  {
   "cell_type": "markdown",
   "metadata": {},
   "source": [
    "# Hypothesis Testing for Categorical variables\n",
    "Chi-square test is used for categorical data and it can be used to estimate how closely the distribution of a categorical variable matches an expected distribution (the goodness-of-fit test), or to estimate whether two categorical variables are independent of one another (the test of independence).\n",
    "\n",
    "<img src = \"https://miro.medium.com/max/455/1*Ah06mmtq_lVz3sI3GrQnKg.png\">\n",
    "\n",
    "degree of freedom (df) = (rows−1)(columns−1)"
   ]
  },
  {
   "cell_type": "code",
   "execution_count": null,
   "metadata": {},
   "outputs": [],
   "source": [
    "df_chi = pd.read_csv('chi-test.csv')\n",
    "df_chi"
   ]
  },
  {
   "cell_type": "code",
   "execution_count": null,
   "metadata": {},
   "outputs": [],
   "source": [
    "contingency_table=pd.crosstab(df_chi[\"Gender\"],df_chi[\"Like Shopping?\"])\n",
    "contingency_table"
   ]
  },
  {
   "cell_type": "code",
   "execution_count": null,
   "metadata": {},
   "outputs": [],
   "source": [
    "from scipy import stats\n",
    "contingency_table=pd.crosstab(df_chi[\"Gender\"],df_chi[\"Like Shopping?\"])\n",
    "print('contingency_table :-\\n',contingency_table)\n",
    "#Observed Values\n",
    "Observed_Values = contingency_table.values \n",
    "print(\"Observed Values :-\\n\",Observed_Values)\n",
    "b=stats.chi2_contingency(contingency_table)\n",
    "Expected_Values = b[3]\n",
    "print(\"Expected Values :-\\n\",Expected_Values)\n",
    "no_of_rows=len(contingency_table.iloc[0:2,0])\n",
    "no_of_columns=len(contingency_table.iloc[0,0:2])\n",
    "ddof=(no_of_rows-1)*(no_of_columns-1)\n",
    "print(\"Degree of Freedom:-\",ddof)\n",
    "alpha = 0.05\n",
    "from scipy.stats import chi2\n",
    "chi_square=sum([(o-e)**2./e for o,e in zip(Observed_Values,Expected_Values)])\n",
    "chi_square_statistic=chi_square[0]+chi_square[1]\n",
    "print(\"chi-square statistic:-\",chi_square_statistic)\n",
    "critical_value=chi2.ppf(q=1-alpha,df=ddof)\n",
    "print('critical_value:',critical_value)\n",
    "#p-value\n",
    "p_value=1-chi2.cdf(x=chi_square_statistic,df=ddof)\n",
    "print('p-value:',p_value)\n",
    "print('Significance level: ',alpha)\n",
    "print('Degree of Freedom: ',ddof)\n",
    "print('chi-square statistic:',chi_square_statistic)\n",
    "print('critical_value:',critical_value)\n",
    "print('p-value:',p_value)\n",
    "if chi_square_statistic>=critical_value:\n",
    "    print(\"Reject H0,There is a relationship between 2 categorical variables\")\n",
    "else:\n",
    "    print(\"Retain H0,There is no relationship between 2 categorical variables\")\n",
    "    \n",
    "if p_value<=alpha:\n",
    "    print(\"Reject H0,There is a relationship between 2 categorical variables\")\n",
    "else:\n",
    "    print(\"Retain H0,There is no relationship between 2 categorical variables\")"
   ]
  },
  {
   "cell_type": "markdown",
   "metadata": {},
   "source": [
    "Expected Cell Frequency = (Row Total * Column Total) / N"
   ]
  },
  {
   "cell_type": "code",
   "execution_count": null,
   "metadata": {},
   "outputs": [],
   "source": [
    "(5*5)/9"
   ]
  },
  {
   "cell_type": "code",
   "execution_count": null,
   "metadata": {},
   "outputs": [],
   "source": [
    "contingency_table"
   ]
  },
  {
   "cell_type": "code",
   "execution_count": null,
   "metadata": {},
   "outputs": [],
   "source": [
    "20/9"
   ]
  },
  {
   "cell_type": "code",
   "execution_count": null,
   "metadata": {},
   "outputs": [],
   "source": []
  },
  {
   "cell_type": "code",
   "execution_count": null,
   "metadata": {},
   "outputs": [],
   "source": [
    "Row total = 2+3 \n",
    "Col total = 4\n",
    "5*4 / = 20/9\n",
    "\n",
    "Row total = 5 \n",
    "Col total = 5 \n",
    "25/9"
   ]
  },
  {
   "cell_type": "markdown",
   "metadata": {},
   "source": [
    "<img src = \"https://miro.medium.com/max/1298/1*AkhRx0c5ROtVQaFexaUhSQ.png\">"
   ]
  }
 ],
 "metadata": {
  "kernelspec": {
   "display_name": "Python 3",
   "language": "python",
   "name": "python3"
  },
  "language_info": {
   "codemirror_mode": {
    "name": "ipython",
    "version": 3
   },
   "file_extension": ".py",
   "mimetype": "text/x-python",
   "name": "python",
   "nbconvert_exporter": "python",
   "pygments_lexer": "ipython3",
   "version": "3.7.6"
  }
 },
 "nbformat": 4,
 "nbformat_minor": 4
}
